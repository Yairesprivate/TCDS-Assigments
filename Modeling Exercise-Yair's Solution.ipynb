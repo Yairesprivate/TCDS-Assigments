{
 "cells": [
  {
   "cell_type": "markdown",
   "id": "05bb7c4c-452a-408f-ac26-b184f1e10862",
   "metadata": {},
   "source": [
    "# Modeling exercise"
   ]
  },
  {
   "cell_type": "markdown",
   "id": "38dbae80-7f28-4596-945e-a0784e384e4c",
   "metadata": {},
   "source": [
    "## General Instructions"
   ]
  },
  {
   "cell_type": "markdown",
   "id": "a5650156-42a5-4fb7-b74a-dec08bafd6c1",
   "metadata": {},
   "source": [
    "* Submission date: 25.4.2022\n",
    "* Submission Method: Link to your solution notebook in [this sheet](https://docs.google.com/spreadsheets/d/1fTmjiVxzw_rM1hdh16enwUTtxzlHSJIiw41dJS2LKp0/edit?usp=sharing)."
   ]
  },
  {
   "cell_type": "code",
   "execution_count": 1,
   "id": "e6850603-524a-4afc-a7a1-cba3eeeea1ec",
   "metadata": {},
   "outputs": [],
   "source": [
    "%load_ext autoreload\n",
    "%autoreload 2"
   ]
  },
  {
   "cell_type": "code",
   "execution_count": 2,
   "id": "5e136158-e12c-4d15-9c47-3cd726054a71",
   "metadata": {},
   "outputs": [],
   "source": [
    "import sys; sys.path.append('../Modles and Modeling/src')\n",
    "import numpy as np\n",
    "import plotly_express as px"
   ]
  },
  {
   "cell_type": "code",
   "execution_count": 3,
   "id": "12b87137",
   "metadata": {},
   "outputs": [],
   "source": [
    "import pandas as pd\n",
    "import numpy as np\n",
    "import ipywidgets as widgets\n",
    "from sklearn.metrics import accuracy_score\n",
    "from sklearn.neighbors import KNeighborsClassifier"
   ]
  },
  {
   "cell_type": "code",
   "execution_count": 4,
   "id": "70259b3c",
   "metadata": {},
   "outputs": [],
   "source": [
    "from datasets import make_circles_dataframe, make_moons_dataframe\n"
   ]
  },
  {
   "cell_type": "markdown",
   "id": "513df470-6d24-4611-9fe8-61c25397763a",
   "metadata": {},
   "source": [
    "## Fitting and Overfiting "
   ]
  },
  {
   "cell_type": "markdown",
   "id": "2d1e502f-4b12-4bf1-a981-7135b36e0830",
   "metadata": {},
   "source": [
    "The goal of the following exercise is to:\n",
    "* Observe overfitting due to insuffient data\n",
    "* Observe Overfitting due to overly complex model\n",
    "* Identify the overfitting point by looking at Train vs Test error dynamic\n",
    "* Observe how noise levels effect the needed data samples and model capacity"
   ]
  },
  {
   "cell_type": "markdown",
   "id": "c80b1cdc-fcfb-4ac7-841c-a5a534d569cd",
   "metadata": {},
   "source": [
    "To do so, you'll code an experiment in the first part, and analyze the experiment result in the second part."
   ]
  },
  {
   "cell_type": "markdown",
   "id": "95f343cc-0b25-4302-ab24-fc290c07b6ee",
   "metadata": {},
   "source": [
    "### Building an experiment"
   ]
  },
  {
   "cell_type": "markdown",
   "id": "0e2a17e0-fb6f-479c-98bb-e5a6fc81e1ad",
   "metadata": {},
   "source": [
    "Code:\n",
    "\n",
    "1. Create data of size N with noise level of magnitude NL from datasets DS_NAME. \n",
    "1. Split it to training and validation data (no need for test set), use 80%-20%. \n",
    "1. Use Logistic regression and Choose one complex model of your choice: [KNN](https://scikit-learn.org/stable/modules/generated/sklearn.neighbors.KNeighborsClassifier.html), [SVM with RBF kernel](https://scikit-learn.org/stable/modules/svm.html) with different `gamma` values or [Random forest classifier](https://scikit-learn.org/stable/modules/generated/sklearn.ensemble.RandomForestClassifier.html) with differnt number of `min_samples_split`. \n",
    "1. Train on the train set for different hyper parameter values. compute:\n",
    "   1. Classification accuracy on the training set (TRE)\n",
    "   1. Classification accuracy on the validation set (TESTE)\n",
    "   1. The difference beteen the two above (E_DIFF)\n",
    "1. Save DS_NAME, N, NL, CLF_NAME, K, TRE, TESTE, E_DIFF and the regularization/hyper param (K, gamma or min_samples_split and regularization value for the linear regression classifier)\n",
    "\n",
    "Repeat for:\n",
    "* DS_NAME in Moons, Circles\n",
    "* N (number of samples) in [5, 10, 50, 100, 1000, 10000]\n",
    "* NL (noise level) in [0, 0.1, 0.2, 0.3, 0.4, 0.5]\n",
    "* For the complex model: 10 Values of hyper parameter of the complex model you've chosen.\n",
    "* For the linear model: 5 values of ridge (l2) regularization - [0.001, 0.01, 0.1, 1, 10, 100, 1000]"
   ]
  },
  {
   "cell_type": "markdown",
   "id": "ed7e0146-9c7a-4cf1-a83e-da9a11bcc796",
   "metadata": {},
   "source": [
    "### Analysing the expermient results"
   ]
  },
  {
   "cell_type": "markdown",
   "id": "e8bf7262-12b1-4417-acd2-eb8365b04b11",
   "metadata": {},
   "source": [
    "## Tips and Hints"
   ]
  },
  {
   "cell_type": "markdown",
   "id": "aca4522e-a8e9-4476-90ac-d1a2679085f4",
   "metadata": {},
   "source": [
    "For buliding the experiment:\n",
    "\n",
    "* Start with one dataframe holding all the data for both datastes with different noise level. Use the `make_<dataset_name>_dataframe()` functions below, and add two columns, dataset_name and noise_level, before appending the new dataset to the rest of the datasets. Use `df = pd.DataFrame()` to start with an empty dataframe and using a loop, add data to it using `df = df.append(<the needed df here>)`. Verify that you have 10k samples for each dataset type and noise level by a proper `.value_counts()`. You can modify the \n",
    "* When you'll need an N samples data with a specific noise level, use `query()` and `head(n)` to get the needed dataset. \n",
    "* Use sklearn `train_test_split()` method to split the data with `test_size` and `random_state` parameters set correctly to ensure you are always splitting the data the same why for a given fold `k`. Read [the docs](https://scikit-learn.org/stable/modules/generated/sklearn.model_selection.train_test_split.html) if needed. \n",
    "* You can also not create your own data splitter, and instead use `model_selection.cross_validate()` from sklearn. You'll need to ask for the train erros as well as the test errors, see [here](https://scikit-learn.org/stable/modules/generated/sklearn.model_selection.cross_validate.html).\n",
    "* Use prints in proper location to ensure the progress of the experiment. "
   ]
  },
  {
   "cell_type": "markdown",
   "id": "b4f130c6-62ba-4490-983d-1d63470dc615",
   "metadata": {},
   "source": [
    "**If you get stuck, and need refernce, scroll to the end of the notebook to see more hints!**"
   ]
  },
  {
   "cell_type": "markdown",
   "id": "ad8ffe8f-8c0b-4dc3-9cc2-9c3dc02852d7",
   "metadata": {},
   "source": [
    "## Moons dataset"
   ]
  },
  {
   "cell_type": "code",
   "execution_count": 5,
   "id": "7a6b4c61-454e-4887-963f-61d5ec6bc19f",
   "metadata": {},
   "outputs": [],
   "source": [
    "from sklearn.datasets import make_moons\n"
   ]
  },
  {
   "cell_type": "code",
   "execution_count": 6,
   "id": "7392ae8f-32a7-4c77-a5be-34043ecd09ec",
   "metadata": {},
   "outputs": [
    {
     "data": {
      "text/html": [
       "<div>\n",
       "<style scoped>\n",
       "    .dataframe tbody tr th:only-of-type {\n",
       "        vertical-align: middle;\n",
       "    }\n",
       "\n",
       "    .dataframe tbody tr th {\n",
       "        vertical-align: top;\n",
       "    }\n",
       "\n",
       "    .dataframe thead th {\n",
       "        text-align: right;\n",
       "    }\n",
       "</style>\n",
       "<table border=\"1\" class=\"dataframe\">\n",
       "  <thead>\n",
       "    <tr style=\"text-align: right;\">\n",
       "      <th></th>\n",
       "      <th>x</th>\n",
       "      <th>y</th>\n",
       "      <th>label</th>\n",
       "    </tr>\n",
       "  </thead>\n",
       "  <tbody>\n",
       "    <tr>\n",
       "      <th>0</th>\n",
       "      <td>0.522253</td>\n",
       "      <td>0.887367</td>\n",
       "      <td>A</td>\n",
       "    </tr>\n",
       "    <tr>\n",
       "      <th>1</th>\n",
       "      <td>-0.797071</td>\n",
       "      <td>0.897803</td>\n",
       "      <td>A</td>\n",
       "    </tr>\n",
       "    <tr>\n",
       "      <th>2</th>\n",
       "      <td>-0.523298</td>\n",
       "      <td>0.861566</td>\n",
       "      <td>A</td>\n",
       "    </tr>\n",
       "    <tr>\n",
       "      <th>3</th>\n",
       "      <td>0.874433</td>\n",
       "      <td>0.510847</td>\n",
       "      <td>A</td>\n",
       "    </tr>\n",
       "    <tr>\n",
       "      <th>4</th>\n",
       "      <td>-0.900683</td>\n",
       "      <td>0.261604</td>\n",
       "      <td>A</td>\n",
       "    </tr>\n",
       "  </tbody>\n",
       "</table>\n",
       "</div>"
      ],
      "text/plain": [
       "          x         y label\n",
       "0  0.522253  0.887367     A\n",
       "1 -0.797071  0.897803     A\n",
       "2 -0.523298  0.861566     A\n",
       "3  0.874433  0.510847     A\n",
       "4 -0.900683  0.261604     A"
      ]
     },
     "execution_count": 6,
     "metadata": {},
     "output_type": "execute_result"
    }
   ],
   "source": [
    "moons_df = make_moons_dataframe(n_samples=1000, noise_level=0.1)\n",
    "moons_df.head()"
   ]
  },
  {
   "cell_type": "code",
   "execution_count": 7,
   "id": "48c4d95c-3cad-4596-a8b3-29d67aa9859c",
   "metadata": {},
   "outputs": [
    {
     "data": {
      "application/vnd.jupyter.widget-view+json": {
       "model_id": "c17567079d304ef49d4b49efc9ff0857",
       "version_major": 2,
       "version_minor": 0
      },
      "text/plain": [
       "interactive(children=(FloatSlider(value=0.0, description='noise_level', max=0.5, step=0.05), Output()), _dom_c…"
      ]
     },
     "metadata": {},
     "output_type": "display_data"
    }
   ],
   "source": [
    "@widgets.interact\n",
    "def plot_noisy_moons(noise_level = widgets.FloatSlider(value=0, min=0, max=0.5, step=0.05)):\n",
    "    moons_df = make_moons_dataframe(n_samples=1000, noise_level=noise_level)\n",
    "    return px.scatter(moons_df, x='x', y='y', color = 'label')"
   ]
  },
  {
   "cell_type": "markdown",
   "id": "a3299f00-00b8-4703-8568-35de2913a487",
   "metadata": {},
   "source": [
    "## Circles Dataset"
   ]
  },
  {
   "cell_type": "code",
   "execution_count": 8,
   "id": "14b1498d-60e1-429e-a122-f120f5ed5720",
   "metadata": {},
   "outputs": [
    {
     "data": {
      "text/html": [
       "<div>\n",
       "<style scoped>\n",
       "    .dataframe tbody tr th:only-of-type {\n",
       "        vertical-align: middle;\n",
       "    }\n",
       "\n",
       "    .dataframe tbody tr th {\n",
       "        vertical-align: top;\n",
       "    }\n",
       "\n",
       "    .dataframe thead th {\n",
       "        text-align: right;\n",
       "    }\n",
       "</style>\n",
       "<table border=\"1\" class=\"dataframe\">\n",
       "  <thead>\n",
       "    <tr style=\"text-align: right;\">\n",
       "      <th></th>\n",
       "      <th>x</th>\n",
       "      <th>y</th>\n",
       "      <th>label</th>\n",
       "    </tr>\n",
       "  </thead>\n",
       "  <tbody>\n",
       "    <tr>\n",
       "      <th>0</th>\n",
       "      <td>0.522253</td>\n",
       "      <td>0.887367</td>\n",
       "      <td>A</td>\n",
       "    </tr>\n",
       "    <tr>\n",
       "      <th>1</th>\n",
       "      <td>-0.797071</td>\n",
       "      <td>0.897803</td>\n",
       "      <td>A</td>\n",
       "    </tr>\n",
       "    <tr>\n",
       "      <th>2</th>\n",
       "      <td>-0.523298</td>\n",
       "      <td>0.861566</td>\n",
       "      <td>A</td>\n",
       "    </tr>\n",
       "    <tr>\n",
       "      <th>3</th>\n",
       "      <td>0.874433</td>\n",
       "      <td>0.510847</td>\n",
       "      <td>A</td>\n",
       "    </tr>\n",
       "    <tr>\n",
       "      <th>4</th>\n",
       "      <td>-0.900683</td>\n",
       "      <td>0.261604</td>\n",
       "      <td>A</td>\n",
       "    </tr>\n",
       "  </tbody>\n",
       "</table>\n",
       "</div>"
      ],
      "text/plain": [
       "          x         y label\n",
       "0  0.522253  0.887367     A\n",
       "1 -0.797071  0.897803     A\n",
       "2 -0.523298  0.861566     A\n",
       "3  0.874433  0.510847     A\n",
       "4 -0.900683  0.261604     A"
      ]
     },
     "execution_count": 8,
     "metadata": {},
     "output_type": "execute_result"
    }
   ],
   "source": [
    "circles_df = make_circles_dataframe(n_samples=500, noise_level=0)\n",
    "moons_df.head()"
   ]
  },
  {
   "cell_type": "code",
   "execution_count": 11,
   "id": "52ef522a-e381-42e1-b321-31b3d2f3b0de",
   "metadata": {},
   "outputs": [
    {
     "data": {
      "application/vnd.jupyter.widget-view+json": {
       "model_id": "4d126bcea4344199bbb425d175971f58",
       "version_major": 2,
       "version_minor": 0
      },
      "text/plain": [
       "interactive(children=(FloatSlider(value=0.0, description='noise_level', max=0.5, step=0.05), Output()), _dom_c…"
      ]
     },
     "metadata": {},
     "output_type": "display_data"
    }
   ],
   "source": [
    "@widgets.interact\n",
    "def plot_noisy_circles(noise_level = widgets.FloatSlider(value=0, min=0, max=0.5, step=0.05)):\n",
    "    df = make_circles_dataframe(1000, noise_level)\n",
    "    return px.scatter(df, x='x', y='y', color = 'label')"
   ]
  },
  {
   "cell_type": "markdown",
   "id": "68124026-b4bc-4022-81ee-158175f9e732",
   "metadata": {},
   "source": [
    "## Appendix"
   ]
  },
  {
   "cell_type": "markdown",
   "id": "ac7c6e0b-b513-4bb7-b39e-ae3baa5b3e68",
   "metadata": {},
   "source": [
    "### More hints!"
   ]
  },
  {
   "cell_type": "markdown",
   "id": "c2ad0ce4-d598-4e30-ab43-dd9a064d8dd8",
   "metadata": {},
   "source": [
    "If you'll build the datasets dataframe correctly, you'll have **one** dataframe that has dataset_name and noise_level colmuns, as well as the regular x,y,label colmns. To unsure you've appended everything correctly, groupby the proper colmuns and look at the size:"
   ]
  },
  {
   "cell_type": "code",
   "execution_count": 10,
   "id": "4b5d99fc-102f-4b04-8962-1e85e8909cee",
   "metadata": {},
   "outputs": [],
   "source": [
    "# Use proper groupby statement to ensure the datasets dataframe contains data as expected. You should see the following result:"
   ]
  },
  {
   "cell_type": "markdown",
   "id": "8f9e1094-232b-46f2-ba89-856e14fab58b",
   "metadata": {},
   "source": [
    "Your "
   ]
  },
  {
   "cell_type": "markdown",
   "id": "fc58ae49-7d87-462b-b681-61536ae4bca8",
   "metadata": {},
   "source": [
    "You experiment code should look something like that:"
   ]
  },
  {
   "cell_type": "code",
   "execution_count": 12,
   "id": "9541c48a",
   "metadata": {},
   "outputs": [],
   "source": [
    "def make_modeling_exercise_dataframe():\n",
    "    df = pd.DataFrame()\n",
    "    noise_levels = [0, 0.1, 0.2, 0.3, 0.4, 0.5]\n",
    "    for x in noise_levels:\n",
    "        df_circles = make_circles_dataframe(n_samples=10000, noise_level=x) \n",
    "        df_circles['dataset_name'] = 'circles'\n",
    "        df_circles['noise_level'] =  x\n",
    "        df = pd.concat([df, df_circles])    \n",
    "        df_moons = make_moons_dataframe(n_samples=10000, noise_level=x)\n",
    "        df_moons['dataset_name'] = 'moons'\n",
    "        df_moons['noise_level'] =  x\n",
    "        df = pd.concat([df, df_moons]) \n",
    "    return df\n",
    "        \n",
    "df = make_modeling_exercise_dataframe()    "
   ]
  },
  {
   "cell_type": "code",
   "execution_count": 13,
   "id": "b767fed0",
   "metadata": {},
   "outputs": [
    {
     "data": {
      "text/plain": [
       "dataset_name  noise_level\n",
       "circles       0.0            10000\n",
       "              0.1            10000\n",
       "              0.2            10000\n",
       "              0.3            10000\n",
       "              0.4            10000\n",
       "              0.5            10000\n",
       "moons         0.0            10000\n",
       "              0.1            10000\n",
       "              0.2            10000\n",
       "              0.3            10000\n",
       "              0.4            10000\n",
       "              0.5            10000\n",
       "dtype: int64"
      ]
     },
     "execution_count": 13,
     "metadata": {},
     "output_type": "execute_result"
    }
   ],
   "source": [
    "df.groupby(['dataset_name', 'noise_level']).size()\n"
   ]
  },
  {
   "cell_type": "markdown",
   "id": "7497591c",
   "metadata": {},
   "source": [
    "I have struggled to much on the dataset generation part, therefore i have copied from another student's work"
   ]
  },
  {
   "cell_type": "code",
   "execution_count": 14,
   "id": "6b6dca06-01af-437e-8eb1-d559cdb96741",
   "metadata": {},
   "outputs": [],
   "source": [
    "from sklearn.datasets import make_circles\n",
    "from sklearn.datasets import make_moons"
   ]
  },
  {
   "cell_type": "code",
   "execution_count": 15,
   "id": "0797333a",
   "metadata": {},
   "outputs": [],
   "source": [
    "def make_circles_dataframe(n_samples, noise_level):\n",
    "    points, label = make_circles(n_samples=n_samples, noise=noise_level)\n",
    "    circles_df = pd.DataFrame(points, columns=['x','y'])\n",
    "    circles_df['label'] = label\n",
    "    circles_df.label = circles_df.label.map({0:'A', 1:'B'})\n",
    "    return circles_df"
   ]
  },
  {
   "cell_type": "code",
   "execution_count": 16,
   "id": "d739d4dd",
   "metadata": {},
   "outputs": [],
   "source": [
    "def make_moons_dataframe(n_samples, noise_level):\n",
    "    points, label = make_moons(n_samples=n_samples, noise=noise_level)\n",
    "    moons_df = pd.DataFrame(points, columns=['x','y'])\n",
    "    moons_df['label'] = label\n",
    "    moons_df.label = moons_df.label.map({0:'A', 1:'B'})\n",
    "    return moons_df\n"
   ]
  },
  {
   "cell_type": "code",
   "execution_count": 17,
   "id": "427c79ea",
   "metadata": {
    "scrolled": true
   },
   "outputs": [
    {
     "data": {
      "text/html": [
       "<div>\n",
       "<style scoped>\n",
       "    .dataframe tbody tr th:only-of-type {\n",
       "        vertical-align: middle;\n",
       "    }\n",
       "\n",
       "    .dataframe tbody tr th {\n",
       "        vertical-align: top;\n",
       "    }\n",
       "\n",
       "    .dataframe thead th {\n",
       "        text-align: right;\n",
       "    }\n",
       "</style>\n",
       "<table border=\"1\" class=\"dataframe\">\n",
       "  <thead>\n",
       "    <tr style=\"text-align: right;\">\n",
       "      <th></th>\n",
       "      <th>x</th>\n",
       "      <th>y</th>\n",
       "      <th>label</th>\n",
       "    </tr>\n",
       "  </thead>\n",
       "  <tbody>\n",
       "    <tr>\n",
       "      <th>0</th>\n",
       "      <td>1.000000</td>\n",
       "      <td>0.000000e+00</td>\n",
       "      <td>A</td>\n",
       "    </tr>\n",
       "    <tr>\n",
       "      <th>1</th>\n",
       "      <td>-0.400000</td>\n",
       "      <td>6.928203e-01</td>\n",
       "      <td>B</td>\n",
       "    </tr>\n",
       "    <tr>\n",
       "      <th>2</th>\n",
       "      <td>0.800000</td>\n",
       "      <td>0.000000e+00</td>\n",
       "      <td>B</td>\n",
       "    </tr>\n",
       "    <tr>\n",
       "      <th>3</th>\n",
       "      <td>-1.000000</td>\n",
       "      <td>1.224647e-16</td>\n",
       "      <td>A</td>\n",
       "    </tr>\n",
       "    <tr>\n",
       "      <th>4</th>\n",
       "      <td>-0.400000</td>\n",
       "      <td>-6.928203e-01</td>\n",
       "      <td>B</td>\n",
       "    </tr>\n",
       "    <tr>\n",
       "      <th>...</th>\n",
       "      <td>...</td>\n",
       "      <td>...</td>\n",
       "      <td>...</td>\n",
       "    </tr>\n",
       "    <tr>\n",
       "      <th>9995</th>\n",
       "      <td>2.278680</td>\n",
       "      <td>-6.989045e-01</td>\n",
       "      <td>B</td>\n",
       "    </tr>\n",
       "    <tr>\n",
       "      <th>9996</th>\n",
       "      <td>-1.756340</td>\n",
       "      <td>-2.119362e-01</td>\n",
       "      <td>A</td>\n",
       "    </tr>\n",
       "    <tr>\n",
       "      <th>9997</th>\n",
       "      <td>0.695706</td>\n",
       "      <td>1.376782e+00</td>\n",
       "      <td>A</td>\n",
       "    </tr>\n",
       "    <tr>\n",
       "      <th>9998</th>\n",
       "      <td>-0.166062</td>\n",
       "      <td>1.097600e+00</td>\n",
       "      <td>B</td>\n",
       "    </tr>\n",
       "    <tr>\n",
       "      <th>9999</th>\n",
       "      <td>-1.035257</td>\n",
       "      <td>1.096361e+00</td>\n",
       "      <td>A</td>\n",
       "    </tr>\n",
       "  </tbody>\n",
       "</table>\n",
       "<p>133980 rows × 3 columns</p>\n",
       "</div>"
      ],
      "text/plain": [
       "             x             y label\n",
       "0     1.000000  0.000000e+00     A\n",
       "1    -0.400000  6.928203e-01     B\n",
       "2     0.800000  0.000000e+00     B\n",
       "3    -1.000000  1.224647e-16     A\n",
       "4    -0.400000 -6.928203e-01     B\n",
       "...        ...           ...   ...\n",
       "9995  2.278680 -6.989045e-01     B\n",
       "9996 -1.756340 -2.119362e-01     A\n",
       "9997  0.695706  1.376782e+00     A\n",
       "9998 -0.166062  1.097600e+00     B\n",
       "9999 -1.035257  1.096361e+00     A\n",
       "\n",
       "[133980 rows x 3 columns]"
      ]
     },
     "execution_count": 17,
     "metadata": {},
     "output_type": "execute_result"
    }
   ],
   "source": [
    "fulldataset = pd.DataFrame()\n",
    "N = [5,10,50,100,1000,10000]\n",
    "Noise = [x/10 for x in range(0,6,1)]\n",
    "for i in N:\n",
    "    for j in Noise:\n",
    "        circles_df = make_circles_dataframe(n_samples=i, noise_level=j)\n",
    "        noise_df = make_moons_dataframe(n_samples=i, noise_level=j)\n",
    "        fulldataset = fulldataset.append([circles_df,noise_df])\n",
    "fulldataset"
   ]
  },
  {
   "cell_type": "code",
   "execution_count": 26,
   "id": "a8aefbda",
   "metadata": {},
   "outputs": [],
   "source": [
    "from sklearn.linear_model import LogisticRegression\n",
    "from sklearn.neighbors import KNeighborsClassifier\n",
    "from sklearn.model_selection import train_test_split\n",
    "from sklearn.metrics import accuracy_score"
   ]
  },
  {
   "cell_type": "code",
   "execution_count": 27,
   "id": "937a4e7d",
   "metadata": {},
   "outputs": [
    {
     "name": "stdout",
     "output_type": "stream",
     "text": [
      "Working on circles\n"
     ]
    },
    {
     "ename": "NameError",
     "evalue": "name 'datasets' is not defined",
     "output_type": "error",
     "traceback": [
      "\u001b[1;31m---------------------------------------------------------------------------\u001b[0m",
      "\u001b[1;31mNameError\u001b[0m                                 Traceback (most recent call last)",
      "\u001b[1;32m~\\AppData\\Local\\Temp/ipykernel_1368/2140309297.py\u001b[0m in \u001b[0;36m<module>\u001b[1;34m\u001b[0m\n\u001b[0;32m     11\u001b[0m     \u001b[1;32mfor\u001b[0m \u001b[0mn\u001b[0m \u001b[1;32min\u001b[0m \u001b[0mn_samples\u001b[0m\u001b[1;33m:\u001b[0m\u001b[1;33m\u001b[0m\u001b[1;33m\u001b[0m\u001b[0m\n\u001b[0;32m     12\u001b[0m         \u001b[1;32mfor\u001b[0m \u001b[0mnl\u001b[0m \u001b[1;32min\u001b[0m \u001b[0mnoise_levels\u001b[0m\u001b[1;33m:\u001b[0m\u001b[1;33m\u001b[0m\u001b[1;33m\u001b[0m\u001b[0m\n\u001b[1;32m---> 13\u001b[1;33m             \u001b[0mds\u001b[0m \u001b[1;33m=\u001b[0m \u001b[0mdatasets\u001b[0m\u001b[1;33m.\u001b[0m\u001b[0mquery\u001b[0m\u001b[1;33m(\u001b[0m\u001b[1;34m'dataset_name==@ds_type & noise_level==@nl'\u001b[0m\u001b[1;33m)\u001b[0m\u001b[1;33m.\u001b[0m\u001b[0msample\u001b[0m\u001b[1;33m(\u001b[0m\u001b[0mn\u001b[0m\u001b[1;33m,\u001b[0m \u001b[0mrandom_state\u001b[0m\u001b[1;33m=\u001b[0m\u001b[1;36m23\u001b[0m\u001b[1;33m)\u001b[0m\u001b[1;33m\u001b[0m\u001b[1;33m\u001b[0m\u001b[0m\n\u001b[0m\u001b[0;32m     14\u001b[0m             \u001b[0mprint\u001b[0m\u001b[1;33m(\u001b[0m\u001b[1;34mf'Starting {k_folds}-fold cross validation for {ds_type} datasets with {n} samples and noise level {nl}. Going to train {clf_types} classifiers.'\u001b[0m\u001b[1;33m)\u001b[0m\u001b[1;33m\u001b[0m\u001b[1;33m\u001b[0m\u001b[0m\n\u001b[0;32m     15\u001b[0m             \u001b[1;32mfor\u001b[0m \u001b[0mk\u001b[0m \u001b[1;32min\u001b[0m \u001b[0mrange\u001b[0m\u001b[1;33m(\u001b[0m\u001b[1;36m1\u001b[0m\u001b[1;33m,\u001b[0m\u001b[0mk_folds\u001b[0m\u001b[1;33m+\u001b[0m\u001b[1;36m1\u001b[0m\u001b[1;33m)\u001b[0m\u001b[1;33m:\u001b[0m\u001b[1;33m\u001b[0m\u001b[1;33m\u001b[0m\u001b[0m\n",
      "\u001b[1;31mNameError\u001b[0m: name 'datasets' is not defined"
     ]
    }
   ],
   "source": [
    "dataset_type = ['Moons','Circles']\n",
    "fulldataset = pd.DataFrame()\n",
    "N = [5,10,50,100,1000,10000]\n",
    "class_type = ['log_reg','KNN']\n",
    "KNN = [x for x in range(1,20,2)]\n",
    "Noise = [x/10 for x in range(0,6,1)]\n",
    "L2params = [0.01, 0.1, 1, 10, 100]\n",
    "results = pd.DataFrame()\n",
    "for i in N:\n",
    "    for j in Noise:\n",
    "        for ctype in dataset_type:\n",
    "            if ctype == 'Moons':\n",
    "                workdf = make_circles_dataframe(n_samples=i, noise_level=j)\n",
    "            elif ctype == 'Circles':\n",
    "                workdf = make_moons_dataframe(n_samples=i, noise_level=j)\n",
    "            x_train,x_test,y_train,y_test= train_test_split(workdf[['x','y']] , workdf['label'] , test_size=0.2 , random_state=42)\n",
    "            for cltype in class_type:\n",
    "                if(cltype == 'log_reg'):\n",
    "                    for pen in L2params:\n",
    "                        logregfit = LogisticRegression(penalty = 'l2' , C = pen)\n",
    "                        logregfit.fit(x_train,y_train)\n",
    "                        y_pred = logregfit.predict(x_test)\n",
    "                        train_acc = accuracy_score(logregfit.predict(x_train),y_train)\n",
    "                        test_acc = accuracy_score(y_test,y_pred)\n",
    "                        locres = pd.DataFrame({'Dataset' : [ctype] , 'Samples' : i , 'Noise' : j , 'Hyper_Parameter' : False , 'Regularization_Parameter' : pen , 'Class' : ['Logistic Regression'] , 'Train_Accuracy' : [train_acc] , 'Test_Accuracy' : [test_acc] })\n",
    "                        results = results.append(locres)\n",
    "                if(cltype == 'KNN'):\n",
    "                    for k in KNN:\n",
    "                        if(len(x_train) < k):\n",
    "                            continue\n",
    "                        knnfit = KNeighborsClassifier(n_neighbors=k)\n",
    "                        knnfit.fit(x_train,y_train)\n",
    "                        y_pred = knnfit.predict(x_test)\n",
    "                        train_acc = accuracy_score(knnfit.predict(x_train),y_train)\n",
    "                        test_acc = accuracy_score(y_test,y_pred)\n",
    "                        locres = pd.DataFrame({'Dataset' : [ctype] , 'Samples' : i , 'Noise' : j , 'Hyper_Parameter' : k , 'Regularization_Parameter' : False , 'Class' : ['KNN'] , 'Train_Accuracy' : [train_acc] , 'Test_Accuracy' : [test_acc] })\n",
    "                        results = results.append(locres)                "
   ]
  },
  {
   "cell_type": "code",
   "execution_count": 20,
   "id": "bb7c7fd9",
   "metadata": {},
   "outputs": [
    {
     "data": {
      "text/html": [
       "<div>\n",
       "<style scoped>\n",
       "    .dataframe tbody tr th:only-of-type {\n",
       "        vertical-align: middle;\n",
       "    }\n",
       "\n",
       "    .dataframe tbody tr th {\n",
       "        vertical-align: top;\n",
       "    }\n",
       "\n",
       "    .dataframe thead th {\n",
       "        text-align: right;\n",
       "    }\n",
       "</style>\n",
       "<table border=\"1\" class=\"dataframe\">\n",
       "  <thead>\n",
       "    <tr style=\"text-align: right;\">\n",
       "      <th></th>\n",
       "      <th>Dataset</th>\n",
       "      <th>Samples</th>\n",
       "      <th>Noise</th>\n",
       "      <th>Hyper_Parameter</th>\n",
       "      <th>Regularization_Parameter</th>\n",
       "      <th>Class</th>\n",
       "      <th>Train_Accuracy</th>\n",
       "      <th>Test_Accuracy</th>\n",
       "      <th>Accuracy_Difference</th>\n",
       "    </tr>\n",
       "  </thead>\n",
       "  <tbody>\n",
       "    <tr>\n",
       "      <th>0</th>\n",
       "      <td>Moons</td>\n",
       "      <td>5</td>\n",
       "      <td>0.0</td>\n",
       "      <td>False</td>\n",
       "      <td>0.01</td>\n",
       "      <td>Logistic Regression</td>\n",
       "      <td>0.750000</td>\n",
       "      <td>0.0000</td>\n",
       "      <td>0.750000</td>\n",
       "    </tr>\n",
       "    <tr>\n",
       "      <th>0</th>\n",
       "      <td>Moons</td>\n",
       "      <td>5</td>\n",
       "      <td>0.0</td>\n",
       "      <td>False</td>\n",
       "      <td>0.10</td>\n",
       "      <td>Logistic Regression</td>\n",
       "      <td>0.750000</td>\n",
       "      <td>0.0000</td>\n",
       "      <td>0.750000</td>\n",
       "    </tr>\n",
       "    <tr>\n",
       "      <th>0</th>\n",
       "      <td>Moons</td>\n",
       "      <td>5</td>\n",
       "      <td>0.0</td>\n",
       "      <td>False</td>\n",
       "      <td>1.00</td>\n",
       "      <td>Logistic Regression</td>\n",
       "      <td>0.750000</td>\n",
       "      <td>0.0000</td>\n",
       "      <td>0.750000</td>\n",
       "    </tr>\n",
       "    <tr>\n",
       "      <th>0</th>\n",
       "      <td>Moons</td>\n",
       "      <td>5</td>\n",
       "      <td>0.0</td>\n",
       "      <td>False</td>\n",
       "      <td>10.00</td>\n",
       "      <td>Logistic Regression</td>\n",
       "      <td>1.000000</td>\n",
       "      <td>0.0000</td>\n",
       "      <td>1.000000</td>\n",
       "    </tr>\n",
       "    <tr>\n",
       "      <th>0</th>\n",
       "      <td>Moons</td>\n",
       "      <td>5</td>\n",
       "      <td>0.0</td>\n",
       "      <td>False</td>\n",
       "      <td>100.00</td>\n",
       "      <td>Logistic Regression</td>\n",
       "      <td>1.000000</td>\n",
       "      <td>0.0000</td>\n",
       "      <td>1.000000</td>\n",
       "    </tr>\n",
       "    <tr>\n",
       "      <th>...</th>\n",
       "      <td>...</td>\n",
       "      <td>...</td>\n",
       "      <td>...</td>\n",
       "      <td>...</td>\n",
       "      <td>...</td>\n",
       "      <td>...</td>\n",
       "      <td>...</td>\n",
       "      <td>...</td>\n",
       "      <td>...</td>\n",
       "    </tr>\n",
       "    <tr>\n",
       "      <th>0</th>\n",
       "      <td>Circles</td>\n",
       "      <td>10000</td>\n",
       "      <td>0.5</td>\n",
       "      <td>11</td>\n",
       "      <td>0.00</td>\n",
       "      <td>KNN</td>\n",
       "      <td>0.833375</td>\n",
       "      <td>0.8135</td>\n",
       "      <td>0.019875</td>\n",
       "    </tr>\n",
       "    <tr>\n",
       "      <th>0</th>\n",
       "      <td>Circles</td>\n",
       "      <td>10000</td>\n",
       "      <td>0.5</td>\n",
       "      <td>13</td>\n",
       "      <td>0.00</td>\n",
       "      <td>KNN</td>\n",
       "      <td>0.832500</td>\n",
       "      <td>0.8145</td>\n",
       "      <td>0.018000</td>\n",
       "    </tr>\n",
       "    <tr>\n",
       "      <th>0</th>\n",
       "      <td>Circles</td>\n",
       "      <td>10000</td>\n",
       "      <td>0.5</td>\n",
       "      <td>15</td>\n",
       "      <td>0.00</td>\n",
       "      <td>KNN</td>\n",
       "      <td>0.832500</td>\n",
       "      <td>0.8185</td>\n",
       "      <td>0.014000</td>\n",
       "    </tr>\n",
       "    <tr>\n",
       "      <th>0</th>\n",
       "      <td>Circles</td>\n",
       "      <td>10000</td>\n",
       "      <td>0.5</td>\n",
       "      <td>17</td>\n",
       "      <td>0.00</td>\n",
       "      <td>KNN</td>\n",
       "      <td>0.831125</td>\n",
       "      <td>0.8160</td>\n",
       "      <td>0.015125</td>\n",
       "    </tr>\n",
       "    <tr>\n",
       "      <th>0</th>\n",
       "      <td>Circles</td>\n",
       "      <td>10000</td>\n",
       "      <td>0.5</td>\n",
       "      <td>19</td>\n",
       "      <td>0.00</td>\n",
       "      <td>KNN</td>\n",
       "      <td>0.832625</td>\n",
       "      <td>0.8195</td>\n",
       "      <td>0.013125</td>\n",
       "    </tr>\n",
       "  </tbody>\n",
       "</table>\n",
       "<p>912 rows × 9 columns</p>\n",
       "</div>"
      ],
      "text/plain": [
       "    Dataset  Samples  Noise Hyper_Parameter  Regularization_Parameter  \\\n",
       "0     Moons        5    0.0           False                      0.01   \n",
       "0     Moons        5    0.0           False                      0.10   \n",
       "0     Moons        5    0.0           False                      1.00   \n",
       "0     Moons        5    0.0           False                     10.00   \n",
       "0     Moons        5    0.0           False                    100.00   \n",
       "..      ...      ...    ...             ...                       ...   \n",
       "0   Circles    10000    0.5              11                      0.00   \n",
       "0   Circles    10000    0.5              13                      0.00   \n",
       "0   Circles    10000    0.5              15                      0.00   \n",
       "0   Circles    10000    0.5              17                      0.00   \n",
       "0   Circles    10000    0.5              19                      0.00   \n",
       "\n",
       "                  Class  Train_Accuracy  Test_Accuracy  Accuracy_Difference  \n",
       "0   Logistic Regression        0.750000         0.0000             0.750000  \n",
       "0   Logistic Regression        0.750000         0.0000             0.750000  \n",
       "0   Logistic Regression        0.750000         0.0000             0.750000  \n",
       "0   Logistic Regression        1.000000         0.0000             1.000000  \n",
       "0   Logistic Regression        1.000000         0.0000             1.000000  \n",
       "..                  ...             ...            ...                  ...  \n",
       "0                   KNN        0.833375         0.8135             0.019875  \n",
       "0                   KNN        0.832500         0.8145             0.018000  \n",
       "0                   KNN        0.832500         0.8185             0.014000  \n",
       "0                   KNN        0.831125         0.8160             0.015125  \n",
       "0                   KNN        0.832625         0.8195             0.013125  \n",
       "\n",
       "[912 rows x 9 columns]"
      ]
     },
     "execution_count": 20,
     "metadata": {},
     "output_type": "execute_result"
    }
   ],
   "source": [
    "results['Accuracy_Difference'] = results['Train_Accuracy'] - results['Test_Accuracy'] \n",
    "results"
   ]
  },
  {
   "cell_type": "code",
   "execution_count": 21,
   "id": "e1e6637f",
   "metadata": {},
   "outputs": [],
   "source": [
    "results.to_csv('results.csv' , index=True)"
   ]
  },
  {
   "cell_type": "code",
   "execution_count": 22,
   "id": "65448025",
   "metadata": {},
   "outputs": [],
   "source": [
    "import plotly.graph_objects as go\n",
    "from plotly.subplots import make_subplots"
   ]
  },
  {
   "cell_type": "markdown",
   "id": "8c757d2e-c9dc-4ca8-ad10-1b5b0b518681",
   "metadata": {},
   "source": [
    "### Question 1 - Manual Classification"
   ]
  },
  {
   "cell_type": "code",
   "execution_count": 23,
   "id": "6d3762a7",
   "metadata": {
    "scrolled": false
   },
   "outputs": [
    {
     "data": {
      "application/vnd.plotly.v1+json": {
       "config": {
        "plotlyServerURL": "https://plot.ly"
       },
       "data": [
        {
         "hovertemplate": "Class=Logistic Regression<br>Test_Accuracy=%{x}<br>Accuracy_Difference=%{y}<br>Samples=%{marker.size}<extra></extra>",
         "legendgroup": "Logistic Regression",
         "marker": {
          "color": "#636efa",
          "size": [
           5,
           5,
           5,
           5,
           5,
           5,
           5,
           5,
           5,
           5,
           5,
           5,
           5,
           5,
           5,
           5,
           5,
           5,
           5,
           5,
           5,
           5,
           5,
           5,
           5,
           5,
           5,
           5,
           5,
           5,
           10,
           10,
           10,
           10,
           10,
           10,
           10,
           10,
           10,
           10,
           10,
           10,
           10,
           10,
           10,
           10,
           10,
           10,
           10,
           10,
           10,
           10,
           10,
           10,
           10,
           10,
           10,
           10,
           10,
           10,
           50,
           50,
           50,
           50,
           50,
           50,
           50,
           50,
           50,
           50,
           50,
           50,
           50,
           50,
           50,
           50,
           50,
           50,
           50,
           50,
           50,
           50,
           50,
           50,
           50,
           50,
           50,
           50,
           50,
           50,
           100,
           100,
           100,
           100,
           100,
           100,
           100,
           100,
           100,
           100,
           100,
           100,
           100,
           100,
           100,
           100,
           100,
           100,
           100,
           100,
           100,
           100,
           100,
           100,
           100,
           100,
           100,
           100,
           100,
           100,
           1000,
           1000,
           1000,
           1000,
           1000,
           1000,
           1000,
           1000,
           1000,
           1000,
           1000,
           1000,
           1000,
           1000,
           1000,
           1000,
           1000,
           1000,
           1000,
           1000,
           1000,
           1000,
           1000,
           1000,
           1000,
           1000,
           1000,
           1000,
           1000,
           1000,
           10000,
           10000,
           10000,
           10000,
           10000,
           10000,
           10000,
           10000,
           10000,
           10000,
           10000,
           10000,
           10000,
           10000,
           10000,
           10000,
           10000,
           10000,
           10000,
           10000,
           10000,
           10000,
           10000,
           10000,
           10000,
           10000,
           10000,
           10000,
           10000,
           10000
          ],
          "sizemode": "area",
          "sizeref": 25,
          "symbol": "circle"
         },
         "mode": "markers",
         "name": "Logistic Regression",
         "orientation": "v",
         "showlegend": true,
         "type": "scatter",
         "x": [
          0,
          0,
          0,
          0,
          0,
          0,
          0,
          0,
          0,
          0,
          0,
          0,
          0,
          0,
          0,
          0,
          0,
          0,
          0,
          0,
          0,
          0,
          0,
          0,
          0,
          0,
          0,
          0,
          0,
          0,
          0,
          0,
          0,
          0,
          0,
          0.5,
          0.5,
          0.5,
          0.5,
          0.5,
          0.5,
          0.5,
          0.5,
          0.5,
          0.5,
          0.5,
          0.5,
          0.5,
          0.5,
          0.5,
          0,
          0,
          0,
          0,
          0,
          0.5,
          0.5,
          0.5,
          0.5,
          0.5,
          0.3,
          0.3,
          0.3,
          0.3,
          0.3,
          0.4,
          0.4,
          0.5,
          0.5,
          0.5,
          0.4,
          0.4,
          0.4,
          0.4,
          0.4,
          0.3,
          0.3,
          0.3,
          0.3,
          0.3,
          0.4,
          0.4,
          0.4,
          0.4,
          0.4,
          0.4,
          0.4,
          0.3,
          0.3,
          0.3,
          0.4,
          0.4,
          0.4,
          0.4,
          0.4,
          0.45,
          0.25,
          0.25,
          0.25,
          0.25,
          0.45,
          0.45,
          0.4,
          0.4,
          0.4,
          0.4,
          0.4,
          0.4,
          0.4,
          0.4,
          0.65,
          0.6,
          0.6,
          0.6,
          0.6,
          0.3,
          0.3,
          0.3,
          0.3,
          0.3,
          0.45,
          0.44,
          0.43,
          0.425,
          0.425,
          0.48,
          0.46,
          0.45,
          0.45,
          0.45,
          0.405,
          0.42,
          0.42,
          0.425,
          0.425,
          0.41,
          0.41,
          0.41,
          0.41,
          0.41,
          0.46,
          0.425,
          0.425,
          0.43,
          0.43,
          0.47,
          0.455,
          0.46,
          0.465,
          0.465,
          0.5665,
          0.564,
          0.553,
          0.5515,
          0.5515,
          0.5105,
          0.5105,
          0.5085,
          0.5085,
          0.5085,
          0.449,
          0.4535,
          0.4535,
          0.4535,
          0.4535,
          0.471,
          0.474,
          0.474,
          0.474,
          0.474,
          0.4615,
          0.463,
          0.464,
          0.464,
          0.464,
          0.479,
          0.4795,
          0.479,
          0.479,
          0.479
         ],
         "xaxis": "x",
         "y": [
          0.75,
          0.75,
          0.75,
          1,
          1,
          0.75,
          0.75,
          0.75,
          1,
          1,
          0.75,
          0.75,
          0.75,
          1,
          1,
          0.75,
          0.75,
          0.75,
          1,
          1,
          0.75,
          0.75,
          0.75,
          1,
          1,
          0.75,
          0.75,
          0.75,
          0.75,
          1,
          0.625,
          0.625,
          0.625,
          0.625,
          0.625,
          0,
          0,
          0,
          0,
          0,
          0,
          0,
          0,
          0,
          0,
          -0.125,
          -0.125,
          -0.125,
          0,
          0,
          0.5,
          0.5,
          0.5,
          0.5,
          0.5,
          0,
          0,
          0,
          0,
          0,
          0.25000000000000006,
          0.25000000000000006,
          0.25000000000000006,
          0.25000000000000006,
          0.25000000000000006,
          0.125,
          0.125,
          0.07499999999999996,
          0.025000000000000022,
          0.025000000000000022,
          0.125,
          0.19999999999999996,
          0.15000000000000002,
          0.15000000000000002,
          0.15000000000000002,
          0.25000000000000006,
          0.25000000000000006,
          0.25000000000000006,
          0.27499999999999997,
          0.27499999999999997,
          0.125,
          0.125,
          0.125,
          0.125,
          0.125,
          0.125,
          0.275,
          0.37500000000000006,
          0.39999999999999997,
          0.39999999999999997,
          0.125,
          0.125,
          0.125,
          0.125,
          0.125,
          0.062499999999999944,
          0.30000000000000004,
          0.3375,
          0.3375,
          0.35,
          0.062499999999999944,
          0.10000000000000003,
          0.16249999999999998,
          0.16249999999999998,
          0.16249999999999998,
          0.125,
          0.125,
          0.125,
          0.125,
          0.125,
          -0.2,
          -0.14999999999999997,
          -0.14999999999999997,
          -0.14999999999999997,
          -0.14999999999999997,
          0.25000000000000006,
          0.25000000000000006,
          0.25000000000000006,
          0.25000000000000006,
          0.25000000000000006,
          0.062499999999999944,
          0.1275,
          0.13000000000000006,
          0.13500000000000006,
          0.13374999999999998,
          0.04375000000000007,
          0.062499999999999944,
          0.06624999999999998,
          0.06624999999999998,
          0.06624999999999998,
          0.10499999999999998,
          0.08749999999999997,
          0.08875000000000005,
          0.08375000000000005,
          0.08375000000000005,
          0.11249999999999999,
          0.11249999999999999,
          0.11249999999999999,
          0.11249999999999999,
          0.11249999999999999,
          0.03875000000000001,
          0.065,
          0.06125000000000003,
          0.05375000000000002,
          0.05249999999999999,
          0.06625000000000003,
          0.08249999999999996,
          0.07249999999999995,
          0.06749999999999995,
          0.06749999999999995,
          0.016874999999999973,
          0.020875000000000088,
          0.025624999999999898,
          0.026874999999999982,
          0.02675000000000005,
          0.014375000000000027,
          0.010000000000000009,
          0.011750000000000038,
          0.011624999999999996,
          0.011624999999999996,
          0.03387499999999999,
          0.03325,
          0.03375,
          0.03387499999999999,
          0.03387499999999999,
          0.028000000000000025,
          0.025875000000000037,
          0.025875000000000037,
          0.025875000000000037,
          0.025875000000000037,
          0.024249999999999994,
          0.02362499999999995,
          0.02262499999999995,
          0.02262499999999995,
          0.02262499999999995,
          0.015375000000000028,
          0.01375000000000004,
          0.01425000000000004,
          0.01425000000000004,
          0.01425000000000004
         ],
         "yaxis": "y"
        },
        {
         "hovertemplate": "Class=KNN<br>Test_Accuracy=%{x}<br>Accuracy_Difference=%{y}<br>Samples=%{marker.size}<extra></extra>",
         "legendgroup": "KNN",
         "marker": {
          "color": "#EF553B",
          "size": [
           5,
           5,
           5,
           5,
           5,
           5,
           5,
           5,
           5,
           5,
           5,
           5,
           10,
           10,
           10,
           10,
           10,
           10,
           10,
           10,
           10,
           10,
           10,
           10,
           10,
           10,
           10,
           10,
           10,
           10,
           10,
           10,
           10,
           10,
           10,
           10,
           50,
           50,
           50,
           50,
           50,
           50,
           50,
           50,
           50,
           50,
           50,
           50,
           50,
           50,
           50,
           50,
           50,
           50,
           50,
           50,
           50,
           50,
           50,
           50,
           50,
           50,
           50,
           50,
           50,
           50,
           50,
           50,
           50,
           50,
           50,
           50,
           50,
           50,
           50,
           50,
           50,
           50,
           50,
           50,
           50,
           50,
           50,
           50,
           50,
           50,
           50,
           50,
           50,
           50,
           50,
           50,
           50,
           50,
           50,
           50,
           100,
           100,
           100,
           100,
           100,
           100,
           100,
           100,
           100,
           100,
           100,
           100,
           100,
           100,
           100,
           100,
           100,
           100,
           100,
           100,
           100,
           100,
           100,
           100,
           100,
           100,
           100,
           100,
           100,
           100,
           100,
           100,
           100,
           100,
           100,
           100,
           100,
           100,
           100,
           100,
           100,
           100,
           100,
           100,
           100,
           100,
           100,
           100,
           100,
           100,
           100,
           100,
           100,
           100,
           100,
           100,
           100,
           100,
           100,
           100,
           1000,
           1000,
           1000,
           1000,
           1000,
           1000,
           1000,
           1000,
           1000,
           1000,
           1000,
           1000,
           1000,
           1000,
           1000,
           1000,
           1000,
           1000,
           1000,
           1000,
           1000,
           1000,
           1000,
           1000,
           1000,
           1000,
           1000,
           1000,
           1000,
           1000,
           1000,
           1000,
           1000,
           1000,
           1000,
           1000,
           1000,
           1000,
           1000,
           1000,
           1000,
           1000,
           1000,
           1000,
           1000,
           1000,
           1000,
           1000,
           1000,
           1000,
           1000,
           1000,
           1000,
           1000,
           1000,
           1000,
           1000,
           1000,
           1000,
           1000,
           10000,
           10000,
           10000,
           10000,
           10000,
           10000,
           10000,
           10000,
           10000,
           10000,
           10000,
           10000,
           10000,
           10000,
           10000,
           10000,
           10000,
           10000,
           10000,
           10000,
           10000,
           10000,
           10000,
           10000,
           10000,
           10000,
           10000,
           10000,
           10000,
           10000,
           10000,
           10000,
           10000,
           10000,
           10000,
           10000,
           10000,
           10000,
           10000,
           10000,
           10000,
           10000,
           10000,
           10000,
           10000,
           10000,
           10000,
           10000,
           10000,
           10000,
           10000,
           10000,
           10000,
           10000,
           10000,
           10000,
           10000,
           10000,
           10000,
           10000
          ],
          "sizemode": "area",
          "sizeref": 25,
          "symbol": "circle"
         },
         "mode": "markers",
         "name": "KNN",
         "orientation": "v",
         "showlegend": true,
         "type": "scatter",
         "x": [
          0,
          0,
          0,
          0,
          0,
          0,
          0,
          0,
          0,
          0,
          0,
          0,
          0,
          0.5,
          0.5,
          0.5,
          0.5,
          0.5,
          0.5,
          0.5,
          0,
          0,
          0.5,
          0.5,
          0,
          0,
          0.5,
          0.5,
          0.5,
          0.5,
          0.5,
          0.5,
          0.5,
          0.5,
          1,
          0.5,
          0,
          0.8,
          0.1,
          0.3,
          0.2,
          0.3,
          0.3,
          0.3,
          0.4,
          0.3,
          0.6,
          0.7,
          0.4,
          0.4,
          0.4,
          0.3,
          0.3,
          0.4,
          0.4,
          0.5,
          0.6,
          0.6,
          0.6,
          0.5,
          0.5,
          0.5,
          0.5,
          0.5,
          0.5,
          0.2,
          0.5,
          0.4,
          0.3,
          0.3,
          0.4,
          0.4,
          0.4,
          0.4,
          0.3,
          0.4,
          0.6,
          0.5,
          0.5,
          0.3,
          0.5,
          0.5,
          0.6,
          0.4,
          0.3,
          0.3,
          0.5,
          0.5,
          0.4,
          0.5,
          0.4,
          0.4,
          0.4,
          0.4,
          0.4,
          0.4,
          1,
          1,
          0.85,
          0.9,
          0.9,
          0.55,
          0.5,
          0.35,
          0.3,
          0.4,
          0.55,
          0.5,
          0.55,
          0.5,
          0.55,
          0.55,
          0.55,
          0.45,
          0.5,
          0.5,
          0.4,
          0.3,
          0.3,
          0.3,
          0.3,
          0.2,
          0.3,
          0.2,
          0.4,
          0.45,
          0.55,
          0.5,
          0.5,
          0.45,
          0.5,
          0.45,
          0.45,
          0.25,
          0.25,
          0.4,
          0.5,
          0.65,
          0.7,
          0.6,
          0.45,
          0.4,
          0.45,
          0.5,
          0.5,
          0.5,
          0.35,
          0.5,
          0.4,
          0.35,
          0.35,
          0.45,
          0.45,
          0.4,
          0.45,
          0.5,
          1,
          1,
          1,
          1,
          1,
          1,
          1,
          1,
          1,
          1,
          0.75,
          0.78,
          0.78,
          0.8,
          0.825,
          0.82,
          0.815,
          0.805,
          0.815,
          0.815,
          0.64,
          0.695,
          0.68,
          0.71,
          0.7,
          0.705,
          0.705,
          0.72,
          0.72,
          0.705,
          0.465,
          0.475,
          0.53,
          0.54,
          0.54,
          0.54,
          0.57,
          0.555,
          0.54,
          0.545,
          0.54,
          0.52,
          0.545,
          0.55,
          0.57,
          0.605,
          0.605,
          0.63,
          0.575,
          0.58,
          0.48,
          0.51,
          0.485,
          0.49,
          0.52,
          0.515,
          0.51,
          0.525,
          0.545,
          0.565,
          1,
          1,
          1,
          1,
          1,
          1,
          1,
          1,
          1,
          1,
          0.781,
          0.8175,
          0.827,
          0.833,
          0.83,
          0.831,
          0.833,
          0.837,
          0.84,
          0.8395,
          0.6095,
          0.6275,
          0.642,
          0.662,
          0.662,
          0.673,
          0.6725,
          0.6825,
          0.685,
          0.685,
          0.548,
          0.553,
          0.5875,
          0.584,
          0.596,
          0.602,
          0.6145,
          0.611,
          0.6115,
          0.606,
          0.5385,
          0.549,
          0.548,
          0.5515,
          0.557,
          0.5645,
          0.5625,
          0.5725,
          0.591,
          0.578,
          0.5165,
          0.5215,
          0.5375,
          0.521,
          0.522,
          0.5305,
          0.5245,
          0.5285,
          0.535,
          0.535
         ],
         "xaxis": "x",
         "y": [
          1,
          0.75,
          1,
          0.75,
          1,
          0.75,
          1,
          0.75,
          1,
          0.75,
          1,
          0.5,
          1,
          0,
          0,
          0,
          0.5,
          0.125,
          0.125,
          -0.125,
          1,
          0.375,
          0,
          0,
          1,
          0.375,
          -0.125,
          0,
          0.5,
          0,
          0,
          0,
          0.5,
          -0.125,
          -0.5,
          0,
          1,
          0.1499999999999999,
          0.55,
          0.25000000000000006,
          0.37499999999999994,
          0.25000000000000006,
          0.25000000000000006,
          0.25000000000000006,
          0.125,
          0.25000000000000006,
          0.4,
          -0.02499999999999991,
          0.275,
          0.22499999999999998,
          0.17499999999999993,
          0.3,
          0.3,
          0.15000000000000002,
          0.15000000000000002,
          0.025000000000000022,
          0.4,
          0.125,
          0,
          0.125,
          0.050000000000000044,
          0.050000000000000044,
          0.125,
          0.07499999999999996,
          0.025000000000000022,
          0.425,
          0.5,
          0.375,
          0.37500000000000006,
          0.425,
          0.22499999999999998,
          0.17499999999999993,
          0.15000000000000002,
          0.09999999999999998,
          0.2,
          0.17499999999999993,
          0.4,
          0.35,
          0.30000000000000004,
          0.35000000000000003,
          0.17500000000000004,
          0.125,
          -0.09999999999999998,
          0.125,
          0.3,
          0.27499999999999997,
          0.5,
          0.19999999999999996,
          0.275,
          0.19999999999999996,
          0.32499999999999996,
          0.29999999999999993,
          0.29999999999999993,
          0.32499999999999996,
          0.25,
          0.275,
          0,
          -0.012499999999999956,
          0.07500000000000007,
          0.0625,
          0.0625,
          0.08749999999999991,
          0,
          0.1875,
          0.25000000000000006,
          0.1875,
          0.44999999999999996,
          0.3375,
          0.26249999999999996,
          0.2875,
          0.1875,
          0.125,
          0.125,
          0.18749999999999994,
          0.11250000000000004,
          0.07499999999999996,
          0.6,
          0.4875,
          0.35000000000000003,
          0.425,
          0.37500000000000006,
          0.43749999999999994,
          0.28750000000000003,
          0.43749999999999994,
          0.1875,
          0.16250000000000003,
          0.44999999999999996,
          0.2875,
          0.275,
          0.24999999999999994,
          0.15000000000000002,
          0.175,
          0.1375,
          0.3125,
          0.38749999999999996,
          0.23749999999999993,
          0.5,
          0.13749999999999996,
          0.025000000000000022,
          0.08750000000000002,
          0.175,
          0.21250000000000002,
          0.1375,
          0.0625,
          0.050000000000000044,
          0.03749999999999998,
          0.65,
          0.17500000000000004,
          0.29999999999999993,
          0.36250000000000004,
          0.36250000000000004,
          0.2,
          0.14999999999999997,
          0.1875,
          0.12499999999999994,
          0.03749999999999998,
          0,
          0,
          0,
          0,
          0,
          0,
          0,
          0,
          0,
          0,
          0.25,
          0.09749999999999992,
          0.08374999999999999,
          0.04499999999999993,
          0.020000000000000018,
          0.02375000000000005,
          0.026250000000000107,
          0.039999999999999925,
          0.03125,
          0.025000000000000022,
          0.36,
          0.10000000000000009,
          0.07374999999999998,
          0.015000000000000013,
          0.02750000000000008,
          0.016249999999999987,
          0.003750000000000031,
          -0.012499999999999956,
          -0.01749999999999996,
          -0.0012499999999999734,
          0.5349999999999999,
          0.28625,
          0.18125000000000002,
          0.13624999999999998,
          0.11124999999999996,
          0.10249999999999992,
          0.06375000000000008,
          0.08374999999999999,
          0.07999999999999996,
          0.07624999999999993,
          0.45999999999999996,
          0.235,
          0.13124999999999998,
          0.09249999999999992,
          0.05875000000000008,
          0.026249999999999996,
          0.02124999999999999,
          -0.01375000000000004,
          0.040000000000000036,
          0.03125,
          0.52,
          0.26249999999999996,
          0.23125000000000007,
          0.1975,
          0.14500000000000002,
          0.16000000000000003,
          0.14625,
          0.11624999999999996,
          0.0824999999999999,
          0.05875000000000008,
          0,
          0,
          0,
          0,
          0,
          0,
          0,
          0,
          0,
          0,
          0.21899999999999997,
          0.07087500000000002,
          0.040000000000000036,
          0.027375000000000038,
          0.029000000000000026,
          0.025375000000000036,
          0.02487500000000009,
          0.01937500000000003,
          0.014875000000000083,
          0.014375000000000027,
          0.39049999999999996,
          0.17137500000000006,
          0.110375,
          0.07537499999999997,
          0.061124999999999985,
          0.0462499999999999,
          0.044499999999999984,
          0.033499999999999974,
          0.027124999999999955,
          0.026874999999999982,
          0.45199999999999996,
          0.21475,
          0.12775000000000003,
          0.11175000000000002,
          0.08600000000000008,
          0.07562500000000005,
          0.05674999999999997,
          0.052000000000000046,
          0.04249999999999998,
          0.043625000000000025,
          0.4615,
          0.21099999999999997,
          0.15537499999999993,
          0.12950000000000006,
          0.1077499999999999,
          0.08612500000000001,
          0.08150000000000002,
          0.07074999999999998,
          0.04600000000000004,
          0.05025000000000002,
          0.48350000000000004,
          0.2396250000000001,
          0.16649999999999998,
          0.15337499999999993,
          0.13012499999999994,
          0.11462499999999998,
          0.10675000000000001,
          0.09662500000000007,
          0.08587499999999992,
          0.08550000000000002
         ],
         "yaxis": "y"
        }
       ],
       "layout": {
        "legend": {
         "itemsizing": "constant",
         "title": {
          "text": "Class"
         },
         "tracegroupgap": 0
        },
        "margin": {
         "t": 60
        },
        "template": {
         "data": {
          "bar": [
           {
            "error_x": {
             "color": "#2a3f5f"
            },
            "error_y": {
             "color": "#2a3f5f"
            },
            "marker": {
             "line": {
              "color": "#E5ECF6",
              "width": 0.5
             },
             "pattern": {
              "fillmode": "overlay",
              "size": 10,
              "solidity": 0.2
             }
            },
            "type": "bar"
           }
          ],
          "barpolar": [
           {
            "marker": {
             "line": {
              "color": "#E5ECF6",
              "width": 0.5
             },
             "pattern": {
              "fillmode": "overlay",
              "size": 10,
              "solidity": 0.2
             }
            },
            "type": "barpolar"
           }
          ],
          "carpet": [
           {
            "aaxis": {
             "endlinecolor": "#2a3f5f",
             "gridcolor": "white",
             "linecolor": "white",
             "minorgridcolor": "white",
             "startlinecolor": "#2a3f5f"
            },
            "baxis": {
             "endlinecolor": "#2a3f5f",
             "gridcolor": "white",
             "linecolor": "white",
             "minorgridcolor": "white",
             "startlinecolor": "#2a3f5f"
            },
            "type": "carpet"
           }
          ],
          "choropleth": [
           {
            "colorbar": {
             "outlinewidth": 0,
             "ticks": ""
            },
            "type": "choropleth"
           }
          ],
          "contour": [
           {
            "colorbar": {
             "outlinewidth": 0,
             "ticks": ""
            },
            "colorscale": [
             [
              0,
              "#0d0887"
             ],
             [
              0.1111111111111111,
              "#46039f"
             ],
             [
              0.2222222222222222,
              "#7201a8"
             ],
             [
              0.3333333333333333,
              "#9c179e"
             ],
             [
              0.4444444444444444,
              "#bd3786"
             ],
             [
              0.5555555555555556,
              "#d8576b"
             ],
             [
              0.6666666666666666,
              "#ed7953"
             ],
             [
              0.7777777777777778,
              "#fb9f3a"
             ],
             [
              0.8888888888888888,
              "#fdca26"
             ],
             [
              1,
              "#f0f921"
             ]
            ],
            "type": "contour"
           }
          ],
          "contourcarpet": [
           {
            "colorbar": {
             "outlinewidth": 0,
             "ticks": ""
            },
            "type": "contourcarpet"
           }
          ],
          "heatmap": [
           {
            "colorbar": {
             "outlinewidth": 0,
             "ticks": ""
            },
            "colorscale": [
             [
              0,
              "#0d0887"
             ],
             [
              0.1111111111111111,
              "#46039f"
             ],
             [
              0.2222222222222222,
              "#7201a8"
             ],
             [
              0.3333333333333333,
              "#9c179e"
             ],
             [
              0.4444444444444444,
              "#bd3786"
             ],
             [
              0.5555555555555556,
              "#d8576b"
             ],
             [
              0.6666666666666666,
              "#ed7953"
             ],
             [
              0.7777777777777778,
              "#fb9f3a"
             ],
             [
              0.8888888888888888,
              "#fdca26"
             ],
             [
              1,
              "#f0f921"
             ]
            ],
            "type": "heatmap"
           }
          ],
          "heatmapgl": [
           {
            "colorbar": {
             "outlinewidth": 0,
             "ticks": ""
            },
            "colorscale": [
             [
              0,
              "#0d0887"
             ],
             [
              0.1111111111111111,
              "#46039f"
             ],
             [
              0.2222222222222222,
              "#7201a8"
             ],
             [
              0.3333333333333333,
              "#9c179e"
             ],
             [
              0.4444444444444444,
              "#bd3786"
             ],
             [
              0.5555555555555556,
              "#d8576b"
             ],
             [
              0.6666666666666666,
              "#ed7953"
             ],
             [
              0.7777777777777778,
              "#fb9f3a"
             ],
             [
              0.8888888888888888,
              "#fdca26"
             ],
             [
              1,
              "#f0f921"
             ]
            ],
            "type": "heatmapgl"
           }
          ],
          "histogram": [
           {
            "marker": {
             "pattern": {
              "fillmode": "overlay",
              "size": 10,
              "solidity": 0.2
             }
            },
            "type": "histogram"
           }
          ],
          "histogram2d": [
           {
            "colorbar": {
             "outlinewidth": 0,
             "ticks": ""
            },
            "colorscale": [
             [
              0,
              "#0d0887"
             ],
             [
              0.1111111111111111,
              "#46039f"
             ],
             [
              0.2222222222222222,
              "#7201a8"
             ],
             [
              0.3333333333333333,
              "#9c179e"
             ],
             [
              0.4444444444444444,
              "#bd3786"
             ],
             [
              0.5555555555555556,
              "#d8576b"
             ],
             [
              0.6666666666666666,
              "#ed7953"
             ],
             [
              0.7777777777777778,
              "#fb9f3a"
             ],
             [
              0.8888888888888888,
              "#fdca26"
             ],
             [
              1,
              "#f0f921"
             ]
            ],
            "type": "histogram2d"
           }
          ],
          "histogram2dcontour": [
           {
            "colorbar": {
             "outlinewidth": 0,
             "ticks": ""
            },
            "colorscale": [
             [
              0,
              "#0d0887"
             ],
             [
              0.1111111111111111,
              "#46039f"
             ],
             [
              0.2222222222222222,
              "#7201a8"
             ],
             [
              0.3333333333333333,
              "#9c179e"
             ],
             [
              0.4444444444444444,
              "#bd3786"
             ],
             [
              0.5555555555555556,
              "#d8576b"
             ],
             [
              0.6666666666666666,
              "#ed7953"
             ],
             [
              0.7777777777777778,
              "#fb9f3a"
             ],
             [
              0.8888888888888888,
              "#fdca26"
             ],
             [
              1,
              "#f0f921"
             ]
            ],
            "type": "histogram2dcontour"
           }
          ],
          "mesh3d": [
           {
            "colorbar": {
             "outlinewidth": 0,
             "ticks": ""
            },
            "type": "mesh3d"
           }
          ],
          "parcoords": [
           {
            "line": {
             "colorbar": {
              "outlinewidth": 0,
              "ticks": ""
             }
            },
            "type": "parcoords"
           }
          ],
          "pie": [
           {
            "automargin": true,
            "type": "pie"
           }
          ],
          "scatter": [
           {
            "marker": {
             "colorbar": {
              "outlinewidth": 0,
              "ticks": ""
             }
            },
            "type": "scatter"
           }
          ],
          "scatter3d": [
           {
            "line": {
             "colorbar": {
              "outlinewidth": 0,
              "ticks": ""
             }
            },
            "marker": {
             "colorbar": {
              "outlinewidth": 0,
              "ticks": ""
             }
            },
            "type": "scatter3d"
           }
          ],
          "scattercarpet": [
           {
            "marker": {
             "colorbar": {
              "outlinewidth": 0,
              "ticks": ""
             }
            },
            "type": "scattercarpet"
           }
          ],
          "scattergeo": [
           {
            "marker": {
             "colorbar": {
              "outlinewidth": 0,
              "ticks": ""
             }
            },
            "type": "scattergeo"
           }
          ],
          "scattergl": [
           {
            "marker": {
             "colorbar": {
              "outlinewidth": 0,
              "ticks": ""
             }
            },
            "type": "scattergl"
           }
          ],
          "scattermapbox": [
           {
            "marker": {
             "colorbar": {
              "outlinewidth": 0,
              "ticks": ""
             }
            },
            "type": "scattermapbox"
           }
          ],
          "scatterpolar": [
           {
            "marker": {
             "colorbar": {
              "outlinewidth": 0,
              "ticks": ""
             }
            },
            "type": "scatterpolar"
           }
          ],
          "scatterpolargl": [
           {
            "marker": {
             "colorbar": {
              "outlinewidth": 0,
              "ticks": ""
             }
            },
            "type": "scatterpolargl"
           }
          ],
          "scatterternary": [
           {
            "marker": {
             "colorbar": {
              "outlinewidth": 0,
              "ticks": ""
             }
            },
            "type": "scatterternary"
           }
          ],
          "surface": [
           {
            "colorbar": {
             "outlinewidth": 0,
             "ticks": ""
            },
            "colorscale": [
             [
              0,
              "#0d0887"
             ],
             [
              0.1111111111111111,
              "#46039f"
             ],
             [
              0.2222222222222222,
              "#7201a8"
             ],
             [
              0.3333333333333333,
              "#9c179e"
             ],
             [
              0.4444444444444444,
              "#bd3786"
             ],
             [
              0.5555555555555556,
              "#d8576b"
             ],
             [
              0.6666666666666666,
              "#ed7953"
             ],
             [
              0.7777777777777778,
              "#fb9f3a"
             ],
             [
              0.8888888888888888,
              "#fdca26"
             ],
             [
              1,
              "#f0f921"
             ]
            ],
            "type": "surface"
           }
          ],
          "table": [
           {
            "cells": {
             "fill": {
              "color": "#EBF0F8"
             },
             "line": {
              "color": "white"
             }
            },
            "header": {
             "fill": {
              "color": "#C8D4E3"
             },
             "line": {
              "color": "white"
             }
            },
            "type": "table"
           }
          ]
         },
         "layout": {
          "annotationdefaults": {
           "arrowcolor": "#2a3f5f",
           "arrowhead": 0,
           "arrowwidth": 1
          },
          "autotypenumbers": "strict",
          "coloraxis": {
           "colorbar": {
            "outlinewidth": 0,
            "ticks": ""
           }
          },
          "colorscale": {
           "diverging": [
            [
             0,
             "#8e0152"
            ],
            [
             0.1,
             "#c51b7d"
            ],
            [
             0.2,
             "#de77ae"
            ],
            [
             0.3,
             "#f1b6da"
            ],
            [
             0.4,
             "#fde0ef"
            ],
            [
             0.5,
             "#f7f7f7"
            ],
            [
             0.6,
             "#e6f5d0"
            ],
            [
             0.7,
             "#b8e186"
            ],
            [
             0.8,
             "#7fbc41"
            ],
            [
             0.9,
             "#4d9221"
            ],
            [
             1,
             "#276419"
            ]
           ],
           "sequential": [
            [
             0,
             "#0d0887"
            ],
            [
             0.1111111111111111,
             "#46039f"
            ],
            [
             0.2222222222222222,
             "#7201a8"
            ],
            [
             0.3333333333333333,
             "#9c179e"
            ],
            [
             0.4444444444444444,
             "#bd3786"
            ],
            [
             0.5555555555555556,
             "#d8576b"
            ],
            [
             0.6666666666666666,
             "#ed7953"
            ],
            [
             0.7777777777777778,
             "#fb9f3a"
            ],
            [
             0.8888888888888888,
             "#fdca26"
            ],
            [
             1,
             "#f0f921"
            ]
           ],
           "sequentialminus": [
            [
             0,
             "#0d0887"
            ],
            [
             0.1111111111111111,
             "#46039f"
            ],
            [
             0.2222222222222222,
             "#7201a8"
            ],
            [
             0.3333333333333333,
             "#9c179e"
            ],
            [
             0.4444444444444444,
             "#bd3786"
            ],
            [
             0.5555555555555556,
             "#d8576b"
            ],
            [
             0.6666666666666666,
             "#ed7953"
            ],
            [
             0.7777777777777778,
             "#fb9f3a"
            ],
            [
             0.8888888888888888,
             "#fdca26"
            ],
            [
             1,
             "#f0f921"
            ]
           ]
          },
          "colorway": [
           "#636efa",
           "#EF553B",
           "#00cc96",
           "#ab63fa",
           "#FFA15A",
           "#19d3f3",
           "#FF6692",
           "#B6E880",
           "#FF97FF",
           "#FECB52"
          ],
          "font": {
           "color": "#2a3f5f"
          },
          "geo": {
           "bgcolor": "white",
           "lakecolor": "white",
           "landcolor": "#E5ECF6",
           "showlakes": true,
           "showland": true,
           "subunitcolor": "white"
          },
          "hoverlabel": {
           "align": "left"
          },
          "hovermode": "closest",
          "mapbox": {
           "style": "light"
          },
          "paper_bgcolor": "white",
          "plot_bgcolor": "#E5ECF6",
          "polar": {
           "angularaxis": {
            "gridcolor": "white",
            "linecolor": "white",
            "ticks": ""
           },
           "bgcolor": "#E5ECF6",
           "radialaxis": {
            "gridcolor": "white",
            "linecolor": "white",
            "ticks": ""
           }
          },
          "scene": {
           "xaxis": {
            "backgroundcolor": "#E5ECF6",
            "gridcolor": "white",
            "gridwidth": 2,
            "linecolor": "white",
            "showbackground": true,
            "ticks": "",
            "zerolinecolor": "white"
           },
           "yaxis": {
            "backgroundcolor": "#E5ECF6",
            "gridcolor": "white",
            "gridwidth": 2,
            "linecolor": "white",
            "showbackground": true,
            "ticks": "",
            "zerolinecolor": "white"
           },
           "zaxis": {
            "backgroundcolor": "#E5ECF6",
            "gridcolor": "white",
            "gridwidth": 2,
            "linecolor": "white",
            "showbackground": true,
            "ticks": "",
            "zerolinecolor": "white"
           }
          },
          "shapedefaults": {
           "line": {
            "color": "#2a3f5f"
           }
          },
          "ternary": {
           "aaxis": {
            "gridcolor": "white",
            "linecolor": "white",
            "ticks": ""
           },
           "baxis": {
            "gridcolor": "white",
            "linecolor": "white",
            "ticks": ""
           },
           "bgcolor": "#E5ECF6",
           "caxis": {
            "gridcolor": "white",
            "linecolor": "white",
            "ticks": ""
           }
          },
          "title": {
           "x": 0.05
          },
          "xaxis": {
           "automargin": true,
           "gridcolor": "white",
           "linecolor": "white",
           "ticks": "",
           "title": {
            "standoff": 15
           },
           "zerolinecolor": "white",
           "zerolinewidth": 2
          },
          "yaxis": {
           "automargin": true,
           "gridcolor": "white",
           "linecolor": "white",
           "ticks": "",
           "title": {
            "standoff": 15
           },
           "zerolinecolor": "white",
           "zerolinewidth": 2
          }
         }
        },
        "xaxis": {
         "anchor": "y",
         "domain": [
          0,
          1
         ],
         "title": {
          "text": "Test_Accuracy"
         }
        },
        "yaxis": {
         "anchor": "x",
         "domain": [
          0,
          1
         ],
         "title": {
          "text": "Accuracy_Difference"
         }
        }
       }
      },
      "text/html": [
       "<div>                            <div id=\"8e2bb072-eb33-47a0-ad00-1a61b2c9830b\" class=\"plotly-graph-div\" style=\"height:525px; width:100%;\"></div>            <script type=\"text/javascript\">                require([\"plotly\"], function(Plotly) {                    window.PLOTLYENV=window.PLOTLYENV || {};                                    if (document.getElementById(\"8e2bb072-eb33-47a0-ad00-1a61b2c9830b\")) {                    Plotly.newPlot(                        \"8e2bb072-eb33-47a0-ad00-1a61b2c9830b\",                        [{\"hovertemplate\":\"Class=Logistic Regression<br>Test_Accuracy=%{x}<br>Accuracy_Difference=%{y}<br>Samples=%{marker.size}<extra></extra>\",\"legendgroup\":\"Logistic Regression\",\"marker\":{\"color\":\"#636efa\",\"size\":[5,5,5,5,5,5,5,5,5,5,5,5,5,5,5,5,5,5,5,5,5,5,5,5,5,5,5,5,5,5,10,10,10,10,10,10,10,10,10,10,10,10,10,10,10,10,10,10,10,10,10,10,10,10,10,10,10,10,10,10,50,50,50,50,50,50,50,50,50,50,50,50,50,50,50,50,50,50,50,50,50,50,50,50,50,50,50,50,50,50,100,100,100,100,100,100,100,100,100,100,100,100,100,100,100,100,100,100,100,100,100,100,100,100,100,100,100,100,100,100,1000,1000,1000,1000,1000,1000,1000,1000,1000,1000,1000,1000,1000,1000,1000,1000,1000,1000,1000,1000,1000,1000,1000,1000,1000,1000,1000,1000,1000,1000,10000,10000,10000,10000,10000,10000,10000,10000,10000,10000,10000,10000,10000,10000,10000,10000,10000,10000,10000,10000,10000,10000,10000,10000,10000,10000,10000,10000,10000,10000],\"sizemode\":\"area\",\"sizeref\":25.0,\"symbol\":\"circle\"},\"mode\":\"markers\",\"name\":\"Logistic Regression\",\"orientation\":\"v\",\"showlegend\":true,\"x\":[0.0,0.0,0.0,0.0,0.0,0.0,0.0,0.0,0.0,0.0,0.0,0.0,0.0,0.0,0.0,0.0,0.0,0.0,0.0,0.0,0.0,0.0,0.0,0.0,0.0,0.0,0.0,0.0,0.0,0.0,0.0,0.0,0.0,0.0,0.0,0.5,0.5,0.5,0.5,0.5,0.5,0.5,0.5,0.5,0.5,0.5,0.5,0.5,0.5,0.5,0.0,0.0,0.0,0.0,0.0,0.5,0.5,0.5,0.5,0.5,0.3,0.3,0.3,0.3,0.3,0.4,0.4,0.5,0.5,0.5,0.4,0.4,0.4,0.4,0.4,0.3,0.3,0.3,0.3,0.3,0.4,0.4,0.4,0.4,0.4,0.4,0.4,0.3,0.3,0.3,0.4,0.4,0.4,0.4,0.4,0.45,0.25,0.25,0.25,0.25,0.45,0.45,0.4,0.4,0.4,0.4,0.4,0.4,0.4,0.4,0.65,0.6,0.6,0.6,0.6,0.3,0.3,0.3,0.3,0.3,0.45,0.44,0.43,0.425,0.425,0.48,0.46,0.45,0.45,0.45,0.405,0.42,0.42,0.425,0.425,0.41,0.41,0.41,0.41,0.41,0.46,0.425,0.425,0.43,0.43,0.47,0.455,0.46,0.465,0.465,0.5665,0.564,0.553,0.5515,0.5515,0.5105,0.5105,0.5085,0.5085,0.5085,0.449,0.4535,0.4535,0.4535,0.4535,0.471,0.474,0.474,0.474,0.474,0.4615,0.463,0.464,0.464,0.464,0.479,0.4795,0.479,0.479,0.479],\"xaxis\":\"x\",\"y\":[0.75,0.75,0.75,1.0,1.0,0.75,0.75,0.75,1.0,1.0,0.75,0.75,0.75,1.0,1.0,0.75,0.75,0.75,1.0,1.0,0.75,0.75,0.75,1.0,1.0,0.75,0.75,0.75,0.75,1.0,0.625,0.625,0.625,0.625,0.625,0.0,0.0,0.0,0.0,0.0,0.0,0.0,0.0,0.0,0.0,-0.125,-0.125,-0.125,0.0,0.0,0.5,0.5,0.5,0.5,0.5,0.0,0.0,0.0,0.0,0.0,0.25000000000000006,0.25000000000000006,0.25000000000000006,0.25000000000000006,0.25000000000000006,0.125,0.125,0.07499999999999996,0.025000000000000022,0.025000000000000022,0.125,0.19999999999999996,0.15000000000000002,0.15000000000000002,0.15000000000000002,0.25000000000000006,0.25000000000000006,0.25000000000000006,0.27499999999999997,0.27499999999999997,0.125,0.125,0.125,0.125,0.125,0.125,0.275,0.37500000000000006,0.39999999999999997,0.39999999999999997,0.125,0.125,0.125,0.125,0.125,0.062499999999999944,0.30000000000000004,0.3375,0.3375,0.35,0.062499999999999944,0.10000000000000003,0.16249999999999998,0.16249999999999998,0.16249999999999998,0.125,0.125,0.125,0.125,0.125,-0.2,-0.14999999999999997,-0.14999999999999997,-0.14999999999999997,-0.14999999999999997,0.25000000000000006,0.25000000000000006,0.25000000000000006,0.25000000000000006,0.25000000000000006,0.062499999999999944,0.1275,0.13000000000000006,0.13500000000000006,0.13374999999999998,0.04375000000000007,0.062499999999999944,0.06624999999999998,0.06624999999999998,0.06624999999999998,0.10499999999999998,0.08749999999999997,0.08875000000000005,0.08375000000000005,0.08375000000000005,0.11249999999999999,0.11249999999999999,0.11249999999999999,0.11249999999999999,0.11249999999999999,0.03875000000000001,0.065,0.06125000000000003,0.05375000000000002,0.05249999999999999,0.06625000000000003,0.08249999999999996,0.07249999999999995,0.06749999999999995,0.06749999999999995,0.016874999999999973,0.020875000000000088,0.025624999999999898,0.026874999999999982,0.02675000000000005,0.014375000000000027,0.010000000000000009,0.011750000000000038,0.011624999999999996,0.011624999999999996,0.03387499999999999,0.03325,0.03375,0.03387499999999999,0.03387499999999999,0.028000000000000025,0.025875000000000037,0.025875000000000037,0.025875000000000037,0.025875000000000037,0.024249999999999994,0.02362499999999995,0.02262499999999995,0.02262499999999995,0.02262499999999995,0.015375000000000028,0.01375000000000004,0.01425000000000004,0.01425000000000004,0.01425000000000004],\"yaxis\":\"y\",\"type\":\"scatter\"},{\"hovertemplate\":\"Class=KNN<br>Test_Accuracy=%{x}<br>Accuracy_Difference=%{y}<br>Samples=%{marker.size}<extra></extra>\",\"legendgroup\":\"KNN\",\"marker\":{\"color\":\"#EF553B\",\"size\":[5,5,5,5,5,5,5,5,5,5,5,5,10,10,10,10,10,10,10,10,10,10,10,10,10,10,10,10,10,10,10,10,10,10,10,10,50,50,50,50,50,50,50,50,50,50,50,50,50,50,50,50,50,50,50,50,50,50,50,50,50,50,50,50,50,50,50,50,50,50,50,50,50,50,50,50,50,50,50,50,50,50,50,50,50,50,50,50,50,50,50,50,50,50,50,50,100,100,100,100,100,100,100,100,100,100,100,100,100,100,100,100,100,100,100,100,100,100,100,100,100,100,100,100,100,100,100,100,100,100,100,100,100,100,100,100,100,100,100,100,100,100,100,100,100,100,100,100,100,100,100,100,100,100,100,100,1000,1000,1000,1000,1000,1000,1000,1000,1000,1000,1000,1000,1000,1000,1000,1000,1000,1000,1000,1000,1000,1000,1000,1000,1000,1000,1000,1000,1000,1000,1000,1000,1000,1000,1000,1000,1000,1000,1000,1000,1000,1000,1000,1000,1000,1000,1000,1000,1000,1000,1000,1000,1000,1000,1000,1000,1000,1000,1000,1000,10000,10000,10000,10000,10000,10000,10000,10000,10000,10000,10000,10000,10000,10000,10000,10000,10000,10000,10000,10000,10000,10000,10000,10000,10000,10000,10000,10000,10000,10000,10000,10000,10000,10000,10000,10000,10000,10000,10000,10000,10000,10000,10000,10000,10000,10000,10000,10000,10000,10000,10000,10000,10000,10000,10000,10000,10000,10000,10000,10000],\"sizemode\":\"area\",\"sizeref\":25.0,\"symbol\":\"circle\"},\"mode\":\"markers\",\"name\":\"KNN\",\"orientation\":\"v\",\"showlegend\":true,\"x\":[0.0,0.0,0.0,0.0,0.0,0.0,0.0,0.0,0.0,0.0,0.0,0.0,0.0,0.5,0.5,0.5,0.5,0.5,0.5,0.5,0.0,0.0,0.5,0.5,0.0,0.0,0.5,0.5,0.5,0.5,0.5,0.5,0.5,0.5,1.0,0.5,0.0,0.8,0.1,0.3,0.2,0.3,0.3,0.3,0.4,0.3,0.6,0.7,0.4,0.4,0.4,0.3,0.3,0.4,0.4,0.5,0.6,0.6,0.6,0.5,0.5,0.5,0.5,0.5,0.5,0.2,0.5,0.4,0.3,0.3,0.4,0.4,0.4,0.4,0.3,0.4,0.6,0.5,0.5,0.3,0.5,0.5,0.6,0.4,0.3,0.3,0.5,0.5,0.4,0.5,0.4,0.4,0.4,0.4,0.4,0.4,1.0,1.0,0.85,0.9,0.9,0.55,0.5,0.35,0.3,0.4,0.55,0.5,0.55,0.5,0.55,0.55,0.55,0.45,0.5,0.5,0.4,0.3,0.3,0.3,0.3,0.2,0.3,0.2,0.4,0.45,0.55,0.5,0.5,0.45,0.5,0.45,0.45,0.25,0.25,0.4,0.5,0.65,0.7,0.6,0.45,0.4,0.45,0.5,0.5,0.5,0.35,0.5,0.4,0.35,0.35,0.45,0.45,0.4,0.45,0.5,1.0,1.0,1.0,1.0,1.0,1.0,1.0,1.0,1.0,1.0,0.75,0.78,0.78,0.8,0.825,0.82,0.815,0.805,0.815,0.815,0.64,0.695,0.68,0.71,0.7,0.705,0.705,0.72,0.72,0.705,0.465,0.475,0.53,0.54,0.54,0.54,0.57,0.555,0.54,0.545,0.54,0.52,0.545,0.55,0.57,0.605,0.605,0.63,0.575,0.58,0.48,0.51,0.485,0.49,0.52,0.515,0.51,0.525,0.545,0.565,1.0,1.0,1.0,1.0,1.0,1.0,1.0,1.0,1.0,1.0,0.781,0.8175,0.827,0.833,0.83,0.831,0.833,0.837,0.84,0.8395,0.6095,0.6275,0.642,0.662,0.662,0.673,0.6725,0.6825,0.685,0.685,0.548,0.553,0.5875,0.584,0.596,0.602,0.6145,0.611,0.6115,0.606,0.5385,0.549,0.548,0.5515,0.557,0.5645,0.5625,0.5725,0.591,0.578,0.5165,0.5215,0.5375,0.521,0.522,0.5305,0.5245,0.5285,0.535,0.535],\"xaxis\":\"x\",\"y\":[1.0,0.75,1.0,0.75,1.0,0.75,1.0,0.75,1.0,0.75,1.0,0.5,1.0,0.0,0.0,0.0,0.5,0.125,0.125,-0.125,1.0,0.375,0.0,0.0,1.0,0.375,-0.125,0.0,0.5,0.0,0.0,0.0,0.5,-0.125,-0.5,0.0,1.0,0.1499999999999999,0.55,0.25000000000000006,0.37499999999999994,0.25000000000000006,0.25000000000000006,0.25000000000000006,0.125,0.25000000000000006,0.4,-0.02499999999999991,0.275,0.22499999999999998,0.17499999999999993,0.3,0.3,0.15000000000000002,0.15000000000000002,0.025000000000000022,0.4,0.125,0.0,0.125,0.050000000000000044,0.050000000000000044,0.125,0.07499999999999996,0.025000000000000022,0.425,0.5,0.375,0.37500000000000006,0.425,0.22499999999999998,0.17499999999999993,0.15000000000000002,0.09999999999999998,0.2,0.17499999999999993,0.4,0.35,0.30000000000000004,0.35000000000000003,0.17500000000000004,0.125,-0.09999999999999998,0.125,0.3,0.27499999999999997,0.5,0.19999999999999996,0.275,0.19999999999999996,0.32499999999999996,0.29999999999999993,0.29999999999999993,0.32499999999999996,0.25,0.275,0.0,-0.012499999999999956,0.07500000000000007,0.0625,0.0625,0.08749999999999991,0.0,0.1875,0.25000000000000006,0.1875,0.44999999999999996,0.3375,0.26249999999999996,0.2875,0.1875,0.125,0.125,0.18749999999999994,0.11250000000000004,0.07499999999999996,0.6,0.4875,0.35000000000000003,0.425,0.37500000000000006,0.43749999999999994,0.28750000000000003,0.43749999999999994,0.1875,0.16250000000000003,0.44999999999999996,0.2875,0.275,0.24999999999999994,0.15000000000000002,0.175,0.1375,0.3125,0.38749999999999996,0.23749999999999993,0.5,0.13749999999999996,0.025000000000000022,0.08750000000000002,0.175,0.21250000000000002,0.1375,0.0625,0.050000000000000044,0.03749999999999998,0.65,0.17500000000000004,0.29999999999999993,0.36250000000000004,0.36250000000000004,0.2,0.14999999999999997,0.1875,0.12499999999999994,0.03749999999999998,0.0,0.0,0.0,0.0,0.0,0.0,0.0,0.0,0.0,0.0,0.25,0.09749999999999992,0.08374999999999999,0.04499999999999993,0.020000000000000018,0.02375000000000005,0.026250000000000107,0.039999999999999925,0.03125,0.025000000000000022,0.36,0.10000000000000009,0.07374999999999998,0.015000000000000013,0.02750000000000008,0.016249999999999987,0.003750000000000031,-0.012499999999999956,-0.01749999999999996,-0.0012499999999999734,0.5349999999999999,0.28625,0.18125000000000002,0.13624999999999998,0.11124999999999996,0.10249999999999992,0.06375000000000008,0.08374999999999999,0.07999999999999996,0.07624999999999993,0.45999999999999996,0.235,0.13124999999999998,0.09249999999999992,0.05875000000000008,0.026249999999999996,0.02124999999999999,-0.01375000000000004,0.040000000000000036,0.03125,0.52,0.26249999999999996,0.23125000000000007,0.1975,0.14500000000000002,0.16000000000000003,0.14625,0.11624999999999996,0.0824999999999999,0.05875000000000008,0.0,0.0,0.0,0.0,0.0,0.0,0.0,0.0,0.0,0.0,0.21899999999999997,0.07087500000000002,0.040000000000000036,0.027375000000000038,0.029000000000000026,0.025375000000000036,0.02487500000000009,0.01937500000000003,0.014875000000000083,0.014375000000000027,0.39049999999999996,0.17137500000000006,0.110375,0.07537499999999997,0.061124999999999985,0.0462499999999999,0.044499999999999984,0.033499999999999974,0.027124999999999955,0.026874999999999982,0.45199999999999996,0.21475,0.12775000000000003,0.11175000000000002,0.08600000000000008,0.07562500000000005,0.05674999999999997,0.052000000000000046,0.04249999999999998,0.043625000000000025,0.4615,0.21099999999999997,0.15537499999999993,0.12950000000000006,0.1077499999999999,0.08612500000000001,0.08150000000000002,0.07074999999999998,0.04600000000000004,0.05025000000000002,0.48350000000000004,0.2396250000000001,0.16649999999999998,0.15337499999999993,0.13012499999999994,0.11462499999999998,0.10675000000000001,0.09662500000000007,0.08587499999999992,0.08550000000000002],\"yaxis\":\"y\",\"type\":\"scatter\"}],                        {\"template\":{\"data\":{\"bar\":[{\"error_x\":{\"color\":\"#2a3f5f\"},\"error_y\":{\"color\":\"#2a3f5f\"},\"marker\":{\"line\":{\"color\":\"#E5ECF6\",\"width\":0.5},\"pattern\":{\"fillmode\":\"overlay\",\"size\":10,\"solidity\":0.2}},\"type\":\"bar\"}],\"barpolar\":[{\"marker\":{\"line\":{\"color\":\"#E5ECF6\",\"width\":0.5},\"pattern\":{\"fillmode\":\"overlay\",\"size\":10,\"solidity\":0.2}},\"type\":\"barpolar\"}],\"carpet\":[{\"aaxis\":{\"endlinecolor\":\"#2a3f5f\",\"gridcolor\":\"white\",\"linecolor\":\"white\",\"minorgridcolor\":\"white\",\"startlinecolor\":\"#2a3f5f\"},\"baxis\":{\"endlinecolor\":\"#2a3f5f\",\"gridcolor\":\"white\",\"linecolor\":\"white\",\"minorgridcolor\":\"white\",\"startlinecolor\":\"#2a3f5f\"},\"type\":\"carpet\"}],\"choropleth\":[{\"colorbar\":{\"outlinewidth\":0,\"ticks\":\"\"},\"type\":\"choropleth\"}],\"contour\":[{\"colorbar\":{\"outlinewidth\":0,\"ticks\":\"\"},\"colorscale\":[[0.0,\"#0d0887\"],[0.1111111111111111,\"#46039f\"],[0.2222222222222222,\"#7201a8\"],[0.3333333333333333,\"#9c179e\"],[0.4444444444444444,\"#bd3786\"],[0.5555555555555556,\"#d8576b\"],[0.6666666666666666,\"#ed7953\"],[0.7777777777777778,\"#fb9f3a\"],[0.8888888888888888,\"#fdca26\"],[1.0,\"#f0f921\"]],\"type\":\"contour\"}],\"contourcarpet\":[{\"colorbar\":{\"outlinewidth\":0,\"ticks\":\"\"},\"type\":\"contourcarpet\"}],\"heatmap\":[{\"colorbar\":{\"outlinewidth\":0,\"ticks\":\"\"},\"colorscale\":[[0.0,\"#0d0887\"],[0.1111111111111111,\"#46039f\"],[0.2222222222222222,\"#7201a8\"],[0.3333333333333333,\"#9c179e\"],[0.4444444444444444,\"#bd3786\"],[0.5555555555555556,\"#d8576b\"],[0.6666666666666666,\"#ed7953\"],[0.7777777777777778,\"#fb9f3a\"],[0.8888888888888888,\"#fdca26\"],[1.0,\"#f0f921\"]],\"type\":\"heatmap\"}],\"heatmapgl\":[{\"colorbar\":{\"outlinewidth\":0,\"ticks\":\"\"},\"colorscale\":[[0.0,\"#0d0887\"],[0.1111111111111111,\"#46039f\"],[0.2222222222222222,\"#7201a8\"],[0.3333333333333333,\"#9c179e\"],[0.4444444444444444,\"#bd3786\"],[0.5555555555555556,\"#d8576b\"],[0.6666666666666666,\"#ed7953\"],[0.7777777777777778,\"#fb9f3a\"],[0.8888888888888888,\"#fdca26\"],[1.0,\"#f0f921\"]],\"type\":\"heatmapgl\"}],\"histogram\":[{\"marker\":{\"pattern\":{\"fillmode\":\"overlay\",\"size\":10,\"solidity\":0.2}},\"type\":\"histogram\"}],\"histogram2d\":[{\"colorbar\":{\"outlinewidth\":0,\"ticks\":\"\"},\"colorscale\":[[0.0,\"#0d0887\"],[0.1111111111111111,\"#46039f\"],[0.2222222222222222,\"#7201a8\"],[0.3333333333333333,\"#9c179e\"],[0.4444444444444444,\"#bd3786\"],[0.5555555555555556,\"#d8576b\"],[0.6666666666666666,\"#ed7953\"],[0.7777777777777778,\"#fb9f3a\"],[0.8888888888888888,\"#fdca26\"],[1.0,\"#f0f921\"]],\"type\":\"histogram2d\"}],\"histogram2dcontour\":[{\"colorbar\":{\"outlinewidth\":0,\"ticks\":\"\"},\"colorscale\":[[0.0,\"#0d0887\"],[0.1111111111111111,\"#46039f\"],[0.2222222222222222,\"#7201a8\"],[0.3333333333333333,\"#9c179e\"],[0.4444444444444444,\"#bd3786\"],[0.5555555555555556,\"#d8576b\"],[0.6666666666666666,\"#ed7953\"],[0.7777777777777778,\"#fb9f3a\"],[0.8888888888888888,\"#fdca26\"],[1.0,\"#f0f921\"]],\"type\":\"histogram2dcontour\"}],\"mesh3d\":[{\"colorbar\":{\"outlinewidth\":0,\"ticks\":\"\"},\"type\":\"mesh3d\"}],\"parcoords\":[{\"line\":{\"colorbar\":{\"outlinewidth\":0,\"ticks\":\"\"}},\"type\":\"parcoords\"}],\"pie\":[{\"automargin\":true,\"type\":\"pie\"}],\"scatter\":[{\"marker\":{\"colorbar\":{\"outlinewidth\":0,\"ticks\":\"\"}},\"type\":\"scatter\"}],\"scatter3d\":[{\"line\":{\"colorbar\":{\"outlinewidth\":0,\"ticks\":\"\"}},\"marker\":{\"colorbar\":{\"outlinewidth\":0,\"ticks\":\"\"}},\"type\":\"scatter3d\"}],\"scattercarpet\":[{\"marker\":{\"colorbar\":{\"outlinewidth\":0,\"ticks\":\"\"}},\"type\":\"scattercarpet\"}],\"scattergeo\":[{\"marker\":{\"colorbar\":{\"outlinewidth\":0,\"ticks\":\"\"}},\"type\":\"scattergeo\"}],\"scattergl\":[{\"marker\":{\"colorbar\":{\"outlinewidth\":0,\"ticks\":\"\"}},\"type\":\"scattergl\"}],\"scattermapbox\":[{\"marker\":{\"colorbar\":{\"outlinewidth\":0,\"ticks\":\"\"}},\"type\":\"scattermapbox\"}],\"scatterpolar\":[{\"marker\":{\"colorbar\":{\"outlinewidth\":0,\"ticks\":\"\"}},\"type\":\"scatterpolar\"}],\"scatterpolargl\":[{\"marker\":{\"colorbar\":{\"outlinewidth\":0,\"ticks\":\"\"}},\"type\":\"scatterpolargl\"}],\"scatterternary\":[{\"marker\":{\"colorbar\":{\"outlinewidth\":0,\"ticks\":\"\"}},\"type\":\"scatterternary\"}],\"surface\":[{\"colorbar\":{\"outlinewidth\":0,\"ticks\":\"\"},\"colorscale\":[[0.0,\"#0d0887\"],[0.1111111111111111,\"#46039f\"],[0.2222222222222222,\"#7201a8\"],[0.3333333333333333,\"#9c179e\"],[0.4444444444444444,\"#bd3786\"],[0.5555555555555556,\"#d8576b\"],[0.6666666666666666,\"#ed7953\"],[0.7777777777777778,\"#fb9f3a\"],[0.8888888888888888,\"#fdca26\"],[1.0,\"#f0f921\"]],\"type\":\"surface\"}],\"table\":[{\"cells\":{\"fill\":{\"color\":\"#EBF0F8\"},\"line\":{\"color\":\"white\"}},\"header\":{\"fill\":{\"color\":\"#C8D4E3\"},\"line\":{\"color\":\"white\"}},\"type\":\"table\"}]},\"layout\":{\"annotationdefaults\":{\"arrowcolor\":\"#2a3f5f\",\"arrowhead\":0,\"arrowwidth\":1},\"autotypenumbers\":\"strict\",\"coloraxis\":{\"colorbar\":{\"outlinewidth\":0,\"ticks\":\"\"}},\"colorscale\":{\"diverging\":[[0,\"#8e0152\"],[0.1,\"#c51b7d\"],[0.2,\"#de77ae\"],[0.3,\"#f1b6da\"],[0.4,\"#fde0ef\"],[0.5,\"#f7f7f7\"],[0.6,\"#e6f5d0\"],[0.7,\"#b8e186\"],[0.8,\"#7fbc41\"],[0.9,\"#4d9221\"],[1,\"#276419\"]],\"sequential\":[[0.0,\"#0d0887\"],[0.1111111111111111,\"#46039f\"],[0.2222222222222222,\"#7201a8\"],[0.3333333333333333,\"#9c179e\"],[0.4444444444444444,\"#bd3786\"],[0.5555555555555556,\"#d8576b\"],[0.6666666666666666,\"#ed7953\"],[0.7777777777777778,\"#fb9f3a\"],[0.8888888888888888,\"#fdca26\"],[1.0,\"#f0f921\"]],\"sequentialminus\":[[0.0,\"#0d0887\"],[0.1111111111111111,\"#46039f\"],[0.2222222222222222,\"#7201a8\"],[0.3333333333333333,\"#9c179e\"],[0.4444444444444444,\"#bd3786\"],[0.5555555555555556,\"#d8576b\"],[0.6666666666666666,\"#ed7953\"],[0.7777777777777778,\"#fb9f3a\"],[0.8888888888888888,\"#fdca26\"],[1.0,\"#f0f921\"]]},\"colorway\":[\"#636efa\",\"#EF553B\",\"#00cc96\",\"#ab63fa\",\"#FFA15A\",\"#19d3f3\",\"#FF6692\",\"#B6E880\",\"#FF97FF\",\"#FECB52\"],\"font\":{\"color\":\"#2a3f5f\"},\"geo\":{\"bgcolor\":\"white\",\"lakecolor\":\"white\",\"landcolor\":\"#E5ECF6\",\"showlakes\":true,\"showland\":true,\"subunitcolor\":\"white\"},\"hoverlabel\":{\"align\":\"left\"},\"hovermode\":\"closest\",\"mapbox\":{\"style\":\"light\"},\"paper_bgcolor\":\"white\",\"plot_bgcolor\":\"#E5ECF6\",\"polar\":{\"angularaxis\":{\"gridcolor\":\"white\",\"linecolor\":\"white\",\"ticks\":\"\"},\"bgcolor\":\"#E5ECF6\",\"radialaxis\":{\"gridcolor\":\"white\",\"linecolor\":\"white\",\"ticks\":\"\"}},\"scene\":{\"xaxis\":{\"backgroundcolor\":\"#E5ECF6\",\"gridcolor\":\"white\",\"gridwidth\":2,\"linecolor\":\"white\",\"showbackground\":true,\"ticks\":\"\",\"zerolinecolor\":\"white\"},\"yaxis\":{\"backgroundcolor\":\"#E5ECF6\",\"gridcolor\":\"white\",\"gridwidth\":2,\"linecolor\":\"white\",\"showbackground\":true,\"ticks\":\"\",\"zerolinecolor\":\"white\"},\"zaxis\":{\"backgroundcolor\":\"#E5ECF6\",\"gridcolor\":\"white\",\"gridwidth\":2,\"linecolor\":\"white\",\"showbackground\":true,\"ticks\":\"\",\"zerolinecolor\":\"white\"}},\"shapedefaults\":{\"line\":{\"color\":\"#2a3f5f\"}},\"ternary\":{\"aaxis\":{\"gridcolor\":\"white\",\"linecolor\":\"white\",\"ticks\":\"\"},\"baxis\":{\"gridcolor\":\"white\",\"linecolor\":\"white\",\"ticks\":\"\"},\"bgcolor\":\"#E5ECF6\",\"caxis\":{\"gridcolor\":\"white\",\"linecolor\":\"white\",\"ticks\":\"\"}},\"title\":{\"x\":0.05},\"xaxis\":{\"automargin\":true,\"gridcolor\":\"white\",\"linecolor\":\"white\",\"ticks\":\"\",\"title\":{\"standoff\":15},\"zerolinecolor\":\"white\",\"zerolinewidth\":2},\"yaxis\":{\"automargin\":true,\"gridcolor\":\"white\",\"linecolor\":\"white\",\"ticks\":\"\",\"title\":{\"standoff\":15},\"zerolinecolor\":\"white\",\"zerolinewidth\":2}}},\"xaxis\":{\"anchor\":\"y\",\"domain\":[0.0,1.0],\"title\":{\"text\":\"Test_Accuracy\"}},\"yaxis\":{\"anchor\":\"x\",\"domain\":[0.0,1.0],\"title\":{\"text\":\"Accuracy_Difference\"}},\"legend\":{\"title\":{\"text\":\"Class\"},\"tracegroupgap\":0,\"itemsizing\":\"constant\"},\"margin\":{\"t\":60}},                        {\"responsive\": true}                    ).then(function(){\n",
       "                            \n",
       "var gd = document.getElementById('8e2bb072-eb33-47a0-ad00-1a61b2c9830b');\n",
       "var x = new MutationObserver(function (mutations, observer) {{\n",
       "        var display = window.getComputedStyle(gd).display;\n",
       "        if (!display || display === 'none') {{\n",
       "            console.log([gd, 'removed!']);\n",
       "            Plotly.purge(gd);\n",
       "            observer.disconnect();\n",
       "        }}\n",
       "}});\n",
       "\n",
       "// Listen for the removal of the full notebook cells\n",
       "var notebookContainer = gd.closest('#notebook-container');\n",
       "if (notebookContainer) {{\n",
       "    x.observe(notebookContainer, {childList: true});\n",
       "}}\n",
       "\n",
       "// Listen for the clearing of the current output cell\n",
       "var outputEl = gd.closest('.output');\n",
       "if (outputEl) {{\n",
       "    x.observe(outputEl, {childList: true});\n",
       "}}\n",
       "\n",
       "                        })                };                });            </script>        </div>"
      ]
     },
     "metadata": {},
     "output_type": "display_data"
    }
   ],
   "source": [
    "moons = results.query(\"Dataset == 'Moons'\")\n",
    "px.scatter(moons,x='Test_Accuracy',y='Accuracy_Difference',color='Class' , size='Samples')"
   ]
  },
  {
   "cell_type": "markdown",
   "id": "2d1f422a",
   "metadata": {},
   "source": [
    "We can see that KNN is not at dense as LOGIT, therefore i think it has las chance to be an overfitting model"
   ]
  },
  {
   "cell_type": "markdown",
   "id": "b78f8a40",
   "metadata": {},
   "source": [
    "# Q2"
   ]
  },
  {
   "cell_type": "code",
   "execution_count": 24,
   "id": "5ec907ac",
   "metadata": {
    "scrolled": false
   },
   "outputs": [
    {
     "data": {
      "application/vnd.plotly.v1+json": {
       "config": {
        "plotlyServerURL": "https://plot.ly"
       },
       "data": [
        {
         "hovertemplate": "Class=Logistic Regression<br>Test_Accuracy=%{x}<br>Accuracy_Difference=%{y}<br>Samples=%{marker.size}<extra></extra>",
         "legendgroup": "Logistic Regression",
         "marker": {
          "color": "#636efa",
          "size": [
           5,
           5,
           5,
           5,
           5,
           5,
           5,
           5,
           5,
           5,
           5,
           5,
           5,
           5,
           5,
           5,
           5,
           5,
           5,
           5,
           5,
           5,
           5,
           5,
           5,
           5,
           5,
           5,
           5,
           5,
           10,
           10,
           10,
           10,
           10,
           10,
           10,
           10,
           10,
           10,
           10,
           10,
           10,
           10,
           10,
           10,
           10,
           10,
           10,
           10,
           10,
           10,
           10,
           10,
           10,
           10,
           10,
           10,
           10,
           10,
           50,
           50,
           50,
           50,
           50,
           50,
           50,
           50,
           50,
           50,
           50,
           50,
           50,
           50,
           50,
           50,
           50,
           50,
           50,
           50,
           50,
           50,
           50,
           50,
           50,
           50,
           50,
           50,
           50,
           50,
           100,
           100,
           100,
           100,
           100,
           100,
           100,
           100,
           100,
           100,
           100,
           100,
           100,
           100,
           100,
           100,
           100,
           100,
           100,
           100,
           100,
           100,
           100,
           100,
           100,
           100,
           100,
           100,
           100,
           100,
           1000,
           1000,
           1000,
           1000,
           1000,
           1000,
           1000,
           1000,
           1000,
           1000,
           1000,
           1000,
           1000,
           1000,
           1000,
           1000,
           1000,
           1000,
           1000,
           1000,
           1000,
           1000,
           1000,
           1000,
           1000,
           1000,
           1000,
           1000,
           1000,
           1000,
           10000,
           10000,
           10000,
           10000,
           10000,
           10000,
           10000,
           10000,
           10000,
           10000,
           10000,
           10000,
           10000,
           10000,
           10000,
           10000,
           10000,
           10000,
           10000,
           10000,
           10000,
           10000,
           10000,
           10000,
           10000,
           10000,
           10000,
           10000,
           10000,
           10000
          ],
          "sizemode": "area",
          "sizeref": 25,
          "symbol": "circle"
         },
         "mode": "markers",
         "name": "Logistic Regression",
         "orientation": "v",
         "showlegend": true,
         "type": "scatter",
         "x": [
          0,
          0,
          0,
          0,
          0,
          0,
          0,
          0,
          0,
          0,
          1,
          1,
          1,
          1,
          1,
          1,
          1,
          1,
          0,
          0,
          1,
          1,
          1,
          1,
          1,
          1,
          1,
          1,
          1,
          1,
          0,
          0,
          0,
          0,
          0,
          1,
          1,
          1,
          0,
          0,
          0,
          0,
          0,
          0,
          0.5,
          0,
          0,
          0.5,
          0.5,
          0,
          1,
          1,
          1,
          1,
          1,
          0.5,
          0.5,
          0.5,
          0.5,
          0.5,
          0.3,
          1,
          1,
          1,
          1,
          0.7,
          0.7,
          0.7,
          0.8,
          0.8,
          0.7,
          0.7,
          0.8,
          0.8,
          0.8,
          1,
          1,
          1,
          1,
          1,
          0.7,
          0.8,
          0.9,
          1,
          1,
          1,
          1,
          1,
          1,
          1,
          0.75,
          0.85,
          0.85,
          0.85,
          0.85,
          0.8,
          0.8,
          0.85,
          0.85,
          0.8,
          0.8,
          0.8,
          0.8,
          0.8,
          0.8,
          0.7,
          0.7,
          0.7,
          0.7,
          0.7,
          0.65,
          0.75,
          0.7,
          0.6,
          0.6,
          0.9,
          0.85,
          0.8,
          0.8,
          0.8,
          0.815,
          0.86,
          0.87,
          0.88,
          0.885,
          0.805,
          0.865,
          0.875,
          0.88,
          0.88,
          0.84,
          0.87,
          0.88,
          0.885,
          0.885,
          0.83,
          0.845,
          0.865,
          0.865,
          0.865,
          0.785,
          0.815,
          0.81,
          0.815,
          0.815,
          0.775,
          0.795,
          0.795,
          0.795,
          0.795,
          0.8765,
          0.8925,
          0.898,
          0.898,
          0.898,
          0.864,
          0.879,
          0.879,
          0.8785,
          0.8785,
          0.8655,
          0.8765,
          0.878,
          0.8775,
          0.8775,
          0.8395,
          0.8465,
          0.846,
          0.8465,
          0.8465,
          0.8245,
          0.8265,
          0.828,
          0.8285,
          0.8285,
          0.8125,
          0.8135,
          0.813,
          0.813,
          0.813
         ],
         "xaxis": "x",
         "y": [
          0.75,
          0.75,
          0.75,
          0.75,
          1,
          0.75,
          0.75,
          1,
          1,
          1,
          -0.5,
          -0.5,
          -0.5,
          -0.5,
          -0.5,
          -0.25,
          -0.25,
          -0.25,
          1,
          1,
          -0.25,
          -0.25,
          -0.25,
          0,
          0,
          -0.5,
          -0.5,
          -0.25,
          -0.25,
          -0.25,
          0.625,
          0.625,
          1,
          1,
          1,
          -0.25,
          -0.25,
          -0.25,
          0.75,
          0.75,
          0.625,
          0.625,
          0.875,
          1,
          0.5,
          0.625,
          0.625,
          0.5,
          0.5,
          1,
          -0.375,
          -0.375,
          -0.375,
          -0.25,
          -0.25,
          0.25,
          0.25,
          0.25,
          0.25,
          0.25,
          0.25000000000000006,
          -0.25,
          -0.17500000000000004,
          -0.15000000000000002,
          -0.15000000000000002,
          0.050000000000000044,
          0.10000000000000009,
          0.15000000000000002,
          0.04999999999999993,
          0.04999999999999993,
          0.07500000000000007,
          0.15000000000000002,
          0.04999999999999993,
          0.09999999999999998,
          0.09999999999999998,
          -0.30000000000000004,
          -0.275,
          -0.22499999999999998,
          -0.22499999999999998,
          -0.22499999999999998,
          0.050000000000000044,
          0.02499999999999991,
          -0.07500000000000007,
          -0.125,
          -0.15000000000000002,
          -0.22499999999999998,
          -0.22499999999999998,
          -0.22499999999999998,
          -0.125,
          -0.125,
          0.03749999999999998,
          -0.03749999999999998,
          0.012500000000000067,
          0.03749999999999998,
          0.03749999999999998,
          0.012499999999999956,
          0.02499999999999991,
          -0.012499999999999956,
          0,
          0.04999999999999993,
          -0.025000000000000022,
          -0.012500000000000067,
          0.03749999999999998,
          0.0625,
          0.07499999999999996,
          0.10000000000000009,
          0.11250000000000004,
          0.11250000000000004,
          0.11250000000000004,
          0.11250000000000004,
          0.13749999999999996,
          0.07499999999999996,
          0.125,
          0.22499999999999998,
          0.22499999999999998,
          -0.15000000000000002,
          -0.08750000000000002,
          0.012499999999999956,
          0,
          0,
          0.008750000000000036,
          0.011249999999999982,
          0.022499999999999964,
          0.015000000000000013,
          0.010000000000000009,
          0.012499999999999956,
          0,
          0.0024999999999999467,
          -0.0025000000000000577,
          -0.0025000000000000577,
          -0.022499999999999964,
          -0.011249999999999982,
          -0.012499999999999956,
          -0.018750000000000044,
          -0.01749999999999996,
          -0.010000000000000009,
          0.0050000000000000044,
          -0.012499999999999956,
          -0.012499999999999956,
          -0.012499999999999956,
          0.03125,
          0.016250000000000098,
          0.018749999999999933,
          0.01375000000000004,
          0.01375000000000004,
          0.030000000000000027,
          0.007499999999999951,
          0.008749999999999925,
          0.010000000000000009,
          0.010000000000000009,
          -0.007624999999999993,
          -0.0034999999999999476,
          -0.00550000000000006,
          -0.004875000000000074,
          -0.004875000000000074,
          0.0045000000000000595,
          0.006249999999999978,
          0.006125000000000047,
          0.0068750000000000755,
          0.0068750000000000755,
          -0.003750000000000031,
          -0.005499999999999949,
          -0.00649999999999995,
          -0.006124999999999936,
          -0.006249999999999978,
          0.007499999999999951,
          0.005249999999999977,
          0.005750000000000033,
          0.005249999999999977,
          0.005249999999999977,
          0.007750000000000035,
          0.009624999999999995,
          0.009500000000000064,
          0.00924999999999998,
          0.009124999999999939,
          -0.0044999999999999485,
          -0.0050000000000000044,
          -0.004249999999999976,
          -0.004249999999999976,
          -0.004249999999999976
         ],
         "yaxis": "y"
        },
        {
         "hovertemplate": "Class=KNN<br>Test_Accuracy=%{x}<br>Accuracy_Difference=%{y}<br>Samples=%{marker.size}<extra></extra>",
         "legendgroup": "KNN",
         "marker": {
          "color": "#EF553B",
          "size": [
           5,
           5,
           5,
           5,
           5,
           5,
           5,
           5,
           5,
           5,
           5,
           5,
           10,
           10,
           10,
           10,
           10,
           10,
           10,
           10,
           10,
           10,
           10,
           10,
           10,
           10,
           10,
           10,
           10,
           10,
           10,
           10,
           10,
           10,
           10,
           10,
           50,
           50,
           50,
           50,
           50,
           50,
           50,
           50,
           50,
           50,
           50,
           50,
           50,
           50,
           50,
           50,
           50,
           50,
           50,
           50,
           50,
           50,
           50,
           50,
           50,
           50,
           50,
           50,
           50,
           50,
           50,
           50,
           50,
           50,
           50,
           50,
           50,
           50,
           50,
           50,
           50,
           50,
           50,
           50,
           50,
           50,
           50,
           50,
           50,
           50,
           50,
           50,
           50,
           50,
           50,
           50,
           50,
           50,
           50,
           50,
           100,
           100,
           100,
           100,
           100,
           100,
           100,
           100,
           100,
           100,
           100,
           100,
           100,
           100,
           100,
           100,
           100,
           100,
           100,
           100,
           100,
           100,
           100,
           100,
           100,
           100,
           100,
           100,
           100,
           100,
           100,
           100,
           100,
           100,
           100,
           100,
           100,
           100,
           100,
           100,
           100,
           100,
           100,
           100,
           100,
           100,
           100,
           100,
           100,
           100,
           100,
           100,
           100,
           100,
           100,
           100,
           100,
           100,
           100,
           100,
           1000,
           1000,
           1000,
           1000,
           1000,
           1000,
           1000,
           1000,
           1000,
           1000,
           1000,
           1000,
           1000,
           1000,
           1000,
           1000,
           1000,
           1000,
           1000,
           1000,
           1000,
           1000,
           1000,
           1000,
           1000,
           1000,
           1000,
           1000,
           1000,
           1000,
           1000,
           1000,
           1000,
           1000,
           1000,
           1000,
           1000,
           1000,
           1000,
           1000,
           1000,
           1000,
           1000,
           1000,
           1000,
           1000,
           1000,
           1000,
           1000,
           1000,
           1000,
           1000,
           1000,
           1000,
           1000,
           1000,
           1000,
           1000,
           1000,
           1000,
           10000,
           10000,
           10000,
           10000,
           10000,
           10000,
           10000,
           10000,
           10000,
           10000,
           10000,
           10000,
           10000,
           10000,
           10000,
           10000,
           10000,
           10000,
           10000,
           10000,
           10000,
           10000,
           10000,
           10000,
           10000,
           10000,
           10000,
           10000,
           10000,
           10000,
           10000,
           10000,
           10000,
           10000,
           10000,
           10000,
           10000,
           10000,
           10000,
           10000,
           10000,
           10000,
           10000,
           10000,
           10000,
           10000,
           10000,
           10000,
           10000,
           10000,
           10000,
           10000,
           10000,
           10000,
           10000,
           10000,
           10000,
           10000,
           10000,
           10000
          ],
          "sizemode": "area",
          "sizeref": 25,
          "symbol": "circle"
         },
         "mode": "markers",
         "name": "KNN",
         "orientation": "v",
         "showlegend": true,
         "type": "scatter",
         "x": [
          0,
          0,
          0,
          0,
          0,
          1,
          0,
          1,
          0,
          1,
          1,
          1,
          0,
          0,
          0,
          0,
          1,
          0,
          0.5,
          1,
          0.5,
          0,
          0,
          0,
          0.5,
          0.5,
          0.5,
          0,
          0,
          1,
          1,
          1,
          0.5,
          0.5,
          0.5,
          0.5,
          1,
          1,
          1,
          1,
          1,
          1,
          1,
          1,
          1,
          1,
          1,
          1,
          1,
          1,
          1,
          1,
          1,
          0.9,
          0.8,
          0.8,
          0.9,
          0.9,
          0.8,
          0.8,
          0.8,
          0.8,
          0.8,
          0.8,
          0.7,
          0.7,
          0.9,
          0.9,
          0.9,
          0.9,
          0.9,
          1,
          1,
          1,
          1,
          1,
          1,
          0.7,
          0.8,
          1,
          1,
          1,
          0.8,
          0.9,
          0.8,
          0.8,
          0.9,
          0.9,
          0.9,
          1,
          1,
          1,
          1,
          1,
          1,
          1,
          1,
          1,
          1,
          1,
          1,
          1,
          1,
          0.95,
          0.9,
          0.9,
          1,
          1,
          1,
          1,
          1,
          1,
          1,
          1,
          1,
          1,
          0.9,
          0.95,
          0.95,
          0.95,
          0.95,
          0.95,
          0.9,
          0.85,
          0.85,
          0.85,
          0.75,
          0.85,
          0.85,
          0.85,
          0.85,
          0.85,
          0.85,
          0.75,
          0.8,
          0.75,
          0.75,
          0.75,
          0.75,
          0.75,
          0.75,
          0.7,
          0.7,
          0.7,
          0.7,
          0.6,
          0.75,
          0.7,
          0.8,
          0.8,
          0.75,
          0.8,
          0.85,
          0.85,
          0.8,
          0.75,
          1,
          1,
          1,
          1,
          1,
          1,
          1,
          1,
          1,
          1,
          1,
          1,
          1,
          1,
          1,
          1,
          1,
          1,
          1,
          1,
          0.94,
          0.96,
          0.975,
          0.965,
          0.97,
          0.965,
          0.985,
          0.985,
          0.98,
          0.98,
          0.87,
          0.89,
          0.895,
          0.91,
          0.925,
          0.93,
          0.93,
          0.93,
          0.93,
          0.925,
          0.805,
          0.805,
          0.835,
          0.835,
          0.85,
          0.83,
          0.84,
          0.805,
          0.82,
          0.835,
          0.705,
          0.735,
          0.755,
          0.765,
          0.74,
          0.76,
          0.78,
          0.77,
          0.75,
          0.785,
          1,
          1,
          1,
          1,
          1,
          1,
          1,
          1,
          1,
          1,
          1,
          1,
          1,
          1,
          1,
          0.9995,
          0.9995,
          0.9995,
          1,
          1,
          0.9605,
          0.9665,
          0.97,
          0.9725,
          0.974,
          0.9745,
          0.973,
          0.9735,
          0.975,
          0.9765,
          0.8725,
          0.8975,
          0.907,
          0.907,
          0.913,
          0.912,
          0.91,
          0.9105,
          0.908,
          0.9095,
          0.807,
          0.8375,
          0.847,
          0.8515,
          0.854,
          0.854,
          0.855,
          0.857,
          0.854,
          0.8585,
          0.7645,
          0.793,
          0.807,
          0.8105,
          0.809,
          0.8135,
          0.8145,
          0.8185,
          0.816,
          0.8195
         ],
         "xaxis": "x",
         "y": [
          1,
          0.75,
          1,
          0.75,
          1,
          -0.5,
          1,
          -0.25,
          1,
          -0.5,
          0,
          -0.5,
          1,
          0.875,
          0.875,
          0.625,
          0,
          0.75,
          0.25,
          -0.375,
          0.5,
          0.875,
          0.875,
          0.625,
          0.5,
          0.5,
          0.375,
          0.625,
          1,
          -0.375,
          -0.375,
          -0.625,
          0.5,
          0.25,
          0.25,
          0.375,
          0,
          0,
          0,
          0,
          0,
          -0.07499999999999996,
          -0.07499999999999996,
          -0.125,
          -0.15000000000000002,
          -0.15000000000000002,
          0,
          0,
          0,
          0,
          -0.025000000000000022,
          -0.050000000000000044,
          -0.09999999999999998,
          -0.025000000000000022,
          0.04999999999999993,
          0,
          0.09999999999999998,
          0.07499999999999996,
          0.17499999999999993,
          0.1499999999999999,
          0.09999999999999998,
          0.09999999999999998,
          0.09999999999999998,
          0.07499999999999996,
          0.15000000000000002,
          0.125,
          0.09999999999999998,
          -0.025000000000000022,
          -0.07500000000000007,
          -0.050000000000000044,
          -0.050000000000000044,
          -0.22499999999999998,
          -0.17500000000000004,
          -0.15000000000000002,
          -0.19999999999999996,
          -0.19999999999999996,
          0,
          0.15000000000000002,
          0.02499999999999991,
          -0.19999999999999996,
          -0.15000000000000002,
          -0.125,
          0.09999999999999998,
          -0.025000000000000022,
          0.07499999999999996,
          0.02499999999999991,
          0.09999999999999998,
          -0.050000000000000044,
          -0.025000000000000022,
          -0.15000000000000002,
          -0.22499999999999998,
          -0.22499999999999998,
          -0.17500000000000004,
          -0.15000000000000002,
          -0.15000000000000002,
          -0.19999999999999996,
          0,
          0,
          0,
          0,
          0,
          0,
          0,
          0.050000000000000044,
          0.08750000000000002,
          0.08750000000000002,
          0,
          0,
          0,
          0,
          0,
          0,
          -0.012499999999999956,
          -0.012499999999999956,
          -0.012499999999999956,
          -0.012499999999999956,
          0.09999999999999998,
          0.03750000000000009,
          0.025000000000000022,
          0.012500000000000067,
          0.012500000000000067,
          0.012500000000000067,
          0.04999999999999993,
          0.09999999999999998,
          0.09999999999999998,
          0.11250000000000004,
          0.25,
          0.0625,
          0.07500000000000007,
          0.050000000000000044,
          0.050000000000000044,
          0.03749999999999998,
          0.050000000000000044,
          0.11250000000000004,
          0.0625,
          0.11250000000000004,
          0.25,
          0.21250000000000002,
          0.22499999999999998,
          0.1875,
          0.15000000000000002,
          0.2250000000000001,
          0.2250000000000001,
          0.25,
          0.2250000000000001,
          0.30000000000000004,
          0.25,
          0.15000000000000002,
          0.03749999999999998,
          0.012499999999999956,
          0.0625,
          0.02499999999999991,
          -0.04999999999999993,
          -0.04999999999999993,
          0.02499999999999991,
          0.07499999999999996,
          0,
          0,
          0,
          0,
          0,
          0,
          0,
          0,
          0,
          0,
          0,
          -0.0024999999999999467,
          -0.0012499999999999734,
          -0.0024999999999999467,
          -0.0012499999999999734,
          -0.0012499999999999734,
          -0.0024999999999999467,
          -0.0024999999999999467,
          -0.0024999999999999467,
          -0.0024999999999999467,
          0.06000000000000005,
          0.020000000000000018,
          0.008750000000000036,
          0.015000000000000013,
          0.011249999999999982,
          0.016249999999999987,
          0,
          -0.0024999999999999467,
          0.0025000000000000577,
          0.0012499999999999734,
          0.13,
          0.043749999999999956,
          0.02749999999999997,
          0.008749999999999925,
          -0.008750000000000036,
          -0.012500000000000067,
          -0.016250000000000098,
          -0.010000000000000009,
          -0.007500000000000062,
          -0.0025000000000000577,
          0.19499999999999995,
          0.07999999999999996,
          0.03750000000000009,
          0.025000000000000022,
          0.011249999999999982,
          0.04125000000000001,
          0.026249999999999996,
          0.05999999999999994,
          0.04125000000000001,
          0.01750000000000007,
          0.29500000000000004,
          0.14,
          0.10124999999999995,
          0.07750000000000001,
          0.09250000000000003,
          0.06874999999999998,
          0.04999999999999993,
          0.06125000000000003,
          0.07874999999999999,
          0.03249999999999997,
          0,
          0,
          0,
          0,
          0,
          0,
          0,
          0,
          0,
          0,
          0,
          -0.00012500000000004174,
          -0.00024999999999997247,
          -0.00012500000000004174,
          -0.00012500000000004174,
          0.00024999999999997247,
          0.00012499999999993072,
          0.00012499999999993072,
          -0.00024999999999997247,
          -0.00024999999999997247,
          0.03949999999999998,
          0.010624999999999996,
          0.003875000000000073,
          -0.0008750000000000702,
          -0.00275000000000003,
          -0.003375000000000017,
          -0.001375000000000015,
          -0.0022500000000000853,
          -0.0034999999999999476,
          -0.00550000000000006,
          0.12749999999999995,
          0.03575000000000006,
          0.019124999999999948,
          0.01849999999999996,
          0.009499999999999953,
          0.009874999999999967,
          0.01100000000000001,
          0.011249999999999982,
          0.01287499999999997,
          0.009624999999999995,
          0.19299999999999995,
          0.0645,
          0.04237500000000005,
          0.030749999999999944,
          0.025375000000000036,
          0.023625000000000007,
          0.021375000000000033,
          0.018625000000000003,
          0.021750000000000047,
          0.015499999999999958,
          0.23550000000000004,
          0.08449999999999991,
          0.04699999999999993,
          0.033499999999999974,
          0.0276249999999999,
          0.019874999999999976,
          0.018000000000000016,
          0.014000000000000012,
          0.015125000000000055,
          0.013124999999999942
         ],
         "yaxis": "y"
        }
       ],
       "layout": {
        "legend": {
         "itemsizing": "constant",
         "title": {
          "text": "Class"
         },
         "tracegroupgap": 0
        },
        "margin": {
         "t": 60
        },
        "template": {
         "data": {
          "bar": [
           {
            "error_x": {
             "color": "#2a3f5f"
            },
            "error_y": {
             "color": "#2a3f5f"
            },
            "marker": {
             "line": {
              "color": "#E5ECF6",
              "width": 0.5
             },
             "pattern": {
              "fillmode": "overlay",
              "size": 10,
              "solidity": 0.2
             }
            },
            "type": "bar"
           }
          ],
          "barpolar": [
           {
            "marker": {
             "line": {
              "color": "#E5ECF6",
              "width": 0.5
             },
             "pattern": {
              "fillmode": "overlay",
              "size": 10,
              "solidity": 0.2
             }
            },
            "type": "barpolar"
           }
          ],
          "carpet": [
           {
            "aaxis": {
             "endlinecolor": "#2a3f5f",
             "gridcolor": "white",
             "linecolor": "white",
             "minorgridcolor": "white",
             "startlinecolor": "#2a3f5f"
            },
            "baxis": {
             "endlinecolor": "#2a3f5f",
             "gridcolor": "white",
             "linecolor": "white",
             "minorgridcolor": "white",
             "startlinecolor": "#2a3f5f"
            },
            "type": "carpet"
           }
          ],
          "choropleth": [
           {
            "colorbar": {
             "outlinewidth": 0,
             "ticks": ""
            },
            "type": "choropleth"
           }
          ],
          "contour": [
           {
            "colorbar": {
             "outlinewidth": 0,
             "ticks": ""
            },
            "colorscale": [
             [
              0,
              "#0d0887"
             ],
             [
              0.1111111111111111,
              "#46039f"
             ],
             [
              0.2222222222222222,
              "#7201a8"
             ],
             [
              0.3333333333333333,
              "#9c179e"
             ],
             [
              0.4444444444444444,
              "#bd3786"
             ],
             [
              0.5555555555555556,
              "#d8576b"
             ],
             [
              0.6666666666666666,
              "#ed7953"
             ],
             [
              0.7777777777777778,
              "#fb9f3a"
             ],
             [
              0.8888888888888888,
              "#fdca26"
             ],
             [
              1,
              "#f0f921"
             ]
            ],
            "type": "contour"
           }
          ],
          "contourcarpet": [
           {
            "colorbar": {
             "outlinewidth": 0,
             "ticks": ""
            },
            "type": "contourcarpet"
           }
          ],
          "heatmap": [
           {
            "colorbar": {
             "outlinewidth": 0,
             "ticks": ""
            },
            "colorscale": [
             [
              0,
              "#0d0887"
             ],
             [
              0.1111111111111111,
              "#46039f"
             ],
             [
              0.2222222222222222,
              "#7201a8"
             ],
             [
              0.3333333333333333,
              "#9c179e"
             ],
             [
              0.4444444444444444,
              "#bd3786"
             ],
             [
              0.5555555555555556,
              "#d8576b"
             ],
             [
              0.6666666666666666,
              "#ed7953"
             ],
             [
              0.7777777777777778,
              "#fb9f3a"
             ],
             [
              0.8888888888888888,
              "#fdca26"
             ],
             [
              1,
              "#f0f921"
             ]
            ],
            "type": "heatmap"
           }
          ],
          "heatmapgl": [
           {
            "colorbar": {
             "outlinewidth": 0,
             "ticks": ""
            },
            "colorscale": [
             [
              0,
              "#0d0887"
             ],
             [
              0.1111111111111111,
              "#46039f"
             ],
             [
              0.2222222222222222,
              "#7201a8"
             ],
             [
              0.3333333333333333,
              "#9c179e"
             ],
             [
              0.4444444444444444,
              "#bd3786"
             ],
             [
              0.5555555555555556,
              "#d8576b"
             ],
             [
              0.6666666666666666,
              "#ed7953"
             ],
             [
              0.7777777777777778,
              "#fb9f3a"
             ],
             [
              0.8888888888888888,
              "#fdca26"
             ],
             [
              1,
              "#f0f921"
             ]
            ],
            "type": "heatmapgl"
           }
          ],
          "histogram": [
           {
            "marker": {
             "pattern": {
              "fillmode": "overlay",
              "size": 10,
              "solidity": 0.2
             }
            },
            "type": "histogram"
           }
          ],
          "histogram2d": [
           {
            "colorbar": {
             "outlinewidth": 0,
             "ticks": ""
            },
            "colorscale": [
             [
              0,
              "#0d0887"
             ],
             [
              0.1111111111111111,
              "#46039f"
             ],
             [
              0.2222222222222222,
              "#7201a8"
             ],
             [
              0.3333333333333333,
              "#9c179e"
             ],
             [
              0.4444444444444444,
              "#bd3786"
             ],
             [
              0.5555555555555556,
              "#d8576b"
             ],
             [
              0.6666666666666666,
              "#ed7953"
             ],
             [
              0.7777777777777778,
              "#fb9f3a"
             ],
             [
              0.8888888888888888,
              "#fdca26"
             ],
             [
              1,
              "#f0f921"
             ]
            ],
            "type": "histogram2d"
           }
          ],
          "histogram2dcontour": [
           {
            "colorbar": {
             "outlinewidth": 0,
             "ticks": ""
            },
            "colorscale": [
             [
              0,
              "#0d0887"
             ],
             [
              0.1111111111111111,
              "#46039f"
             ],
             [
              0.2222222222222222,
              "#7201a8"
             ],
             [
              0.3333333333333333,
              "#9c179e"
             ],
             [
              0.4444444444444444,
              "#bd3786"
             ],
             [
              0.5555555555555556,
              "#d8576b"
             ],
             [
              0.6666666666666666,
              "#ed7953"
             ],
             [
              0.7777777777777778,
              "#fb9f3a"
             ],
             [
              0.8888888888888888,
              "#fdca26"
             ],
             [
              1,
              "#f0f921"
             ]
            ],
            "type": "histogram2dcontour"
           }
          ],
          "mesh3d": [
           {
            "colorbar": {
             "outlinewidth": 0,
             "ticks": ""
            },
            "type": "mesh3d"
           }
          ],
          "parcoords": [
           {
            "line": {
             "colorbar": {
              "outlinewidth": 0,
              "ticks": ""
             }
            },
            "type": "parcoords"
           }
          ],
          "pie": [
           {
            "automargin": true,
            "type": "pie"
           }
          ],
          "scatter": [
           {
            "marker": {
             "colorbar": {
              "outlinewidth": 0,
              "ticks": ""
             }
            },
            "type": "scatter"
           }
          ],
          "scatter3d": [
           {
            "line": {
             "colorbar": {
              "outlinewidth": 0,
              "ticks": ""
             }
            },
            "marker": {
             "colorbar": {
              "outlinewidth": 0,
              "ticks": ""
             }
            },
            "type": "scatter3d"
           }
          ],
          "scattercarpet": [
           {
            "marker": {
             "colorbar": {
              "outlinewidth": 0,
              "ticks": ""
             }
            },
            "type": "scattercarpet"
           }
          ],
          "scattergeo": [
           {
            "marker": {
             "colorbar": {
              "outlinewidth": 0,
              "ticks": ""
             }
            },
            "type": "scattergeo"
           }
          ],
          "scattergl": [
           {
            "marker": {
             "colorbar": {
              "outlinewidth": 0,
              "ticks": ""
             }
            },
            "type": "scattergl"
           }
          ],
          "scattermapbox": [
           {
            "marker": {
             "colorbar": {
              "outlinewidth": 0,
              "ticks": ""
             }
            },
            "type": "scattermapbox"
           }
          ],
          "scatterpolar": [
           {
            "marker": {
             "colorbar": {
              "outlinewidth": 0,
              "ticks": ""
             }
            },
            "type": "scatterpolar"
           }
          ],
          "scatterpolargl": [
           {
            "marker": {
             "colorbar": {
              "outlinewidth": 0,
              "ticks": ""
             }
            },
            "type": "scatterpolargl"
           }
          ],
          "scatterternary": [
           {
            "marker": {
             "colorbar": {
              "outlinewidth": 0,
              "ticks": ""
             }
            },
            "type": "scatterternary"
           }
          ],
          "surface": [
           {
            "colorbar": {
             "outlinewidth": 0,
             "ticks": ""
            },
            "colorscale": [
             [
              0,
              "#0d0887"
             ],
             [
              0.1111111111111111,
              "#46039f"
             ],
             [
              0.2222222222222222,
              "#7201a8"
             ],
             [
              0.3333333333333333,
              "#9c179e"
             ],
             [
              0.4444444444444444,
              "#bd3786"
             ],
             [
              0.5555555555555556,
              "#d8576b"
             ],
             [
              0.6666666666666666,
              "#ed7953"
             ],
             [
              0.7777777777777778,
              "#fb9f3a"
             ],
             [
              0.8888888888888888,
              "#fdca26"
             ],
             [
              1,
              "#f0f921"
             ]
            ],
            "type": "surface"
           }
          ],
          "table": [
           {
            "cells": {
             "fill": {
              "color": "#EBF0F8"
             },
             "line": {
              "color": "white"
             }
            },
            "header": {
             "fill": {
              "color": "#C8D4E3"
             },
             "line": {
              "color": "white"
             }
            },
            "type": "table"
           }
          ]
         },
         "layout": {
          "annotationdefaults": {
           "arrowcolor": "#2a3f5f",
           "arrowhead": 0,
           "arrowwidth": 1
          },
          "autotypenumbers": "strict",
          "coloraxis": {
           "colorbar": {
            "outlinewidth": 0,
            "ticks": ""
           }
          },
          "colorscale": {
           "diverging": [
            [
             0,
             "#8e0152"
            ],
            [
             0.1,
             "#c51b7d"
            ],
            [
             0.2,
             "#de77ae"
            ],
            [
             0.3,
             "#f1b6da"
            ],
            [
             0.4,
             "#fde0ef"
            ],
            [
             0.5,
             "#f7f7f7"
            ],
            [
             0.6,
             "#e6f5d0"
            ],
            [
             0.7,
             "#b8e186"
            ],
            [
             0.8,
             "#7fbc41"
            ],
            [
             0.9,
             "#4d9221"
            ],
            [
             1,
             "#276419"
            ]
           ],
           "sequential": [
            [
             0,
             "#0d0887"
            ],
            [
             0.1111111111111111,
             "#46039f"
            ],
            [
             0.2222222222222222,
             "#7201a8"
            ],
            [
             0.3333333333333333,
             "#9c179e"
            ],
            [
             0.4444444444444444,
             "#bd3786"
            ],
            [
             0.5555555555555556,
             "#d8576b"
            ],
            [
             0.6666666666666666,
             "#ed7953"
            ],
            [
             0.7777777777777778,
             "#fb9f3a"
            ],
            [
             0.8888888888888888,
             "#fdca26"
            ],
            [
             1,
             "#f0f921"
            ]
           ],
           "sequentialminus": [
            [
             0,
             "#0d0887"
            ],
            [
             0.1111111111111111,
             "#46039f"
            ],
            [
             0.2222222222222222,
             "#7201a8"
            ],
            [
             0.3333333333333333,
             "#9c179e"
            ],
            [
             0.4444444444444444,
             "#bd3786"
            ],
            [
             0.5555555555555556,
             "#d8576b"
            ],
            [
             0.6666666666666666,
             "#ed7953"
            ],
            [
             0.7777777777777778,
             "#fb9f3a"
            ],
            [
             0.8888888888888888,
             "#fdca26"
            ],
            [
             1,
             "#f0f921"
            ]
           ]
          },
          "colorway": [
           "#636efa",
           "#EF553B",
           "#00cc96",
           "#ab63fa",
           "#FFA15A",
           "#19d3f3",
           "#FF6692",
           "#B6E880",
           "#FF97FF",
           "#FECB52"
          ],
          "font": {
           "color": "#2a3f5f"
          },
          "geo": {
           "bgcolor": "white",
           "lakecolor": "white",
           "landcolor": "#E5ECF6",
           "showlakes": true,
           "showland": true,
           "subunitcolor": "white"
          },
          "hoverlabel": {
           "align": "left"
          },
          "hovermode": "closest",
          "mapbox": {
           "style": "light"
          },
          "paper_bgcolor": "white",
          "plot_bgcolor": "#E5ECF6",
          "polar": {
           "angularaxis": {
            "gridcolor": "white",
            "linecolor": "white",
            "ticks": ""
           },
           "bgcolor": "#E5ECF6",
           "radialaxis": {
            "gridcolor": "white",
            "linecolor": "white",
            "ticks": ""
           }
          },
          "scene": {
           "xaxis": {
            "backgroundcolor": "#E5ECF6",
            "gridcolor": "white",
            "gridwidth": 2,
            "linecolor": "white",
            "showbackground": true,
            "ticks": "",
            "zerolinecolor": "white"
           },
           "yaxis": {
            "backgroundcolor": "#E5ECF6",
            "gridcolor": "white",
            "gridwidth": 2,
            "linecolor": "white",
            "showbackground": true,
            "ticks": "",
            "zerolinecolor": "white"
           },
           "zaxis": {
            "backgroundcolor": "#E5ECF6",
            "gridcolor": "white",
            "gridwidth": 2,
            "linecolor": "white",
            "showbackground": true,
            "ticks": "",
            "zerolinecolor": "white"
           }
          },
          "shapedefaults": {
           "line": {
            "color": "#2a3f5f"
           }
          },
          "ternary": {
           "aaxis": {
            "gridcolor": "white",
            "linecolor": "white",
            "ticks": ""
           },
           "baxis": {
            "gridcolor": "white",
            "linecolor": "white",
            "ticks": ""
           },
           "bgcolor": "#E5ECF6",
           "caxis": {
            "gridcolor": "white",
            "linecolor": "white",
            "ticks": ""
           }
          },
          "title": {
           "x": 0.05
          },
          "xaxis": {
           "automargin": true,
           "gridcolor": "white",
           "linecolor": "white",
           "ticks": "",
           "title": {
            "standoff": 15
           },
           "zerolinecolor": "white",
           "zerolinewidth": 2
          },
          "yaxis": {
           "automargin": true,
           "gridcolor": "white",
           "linecolor": "white",
           "ticks": "",
           "title": {
            "standoff": 15
           },
           "zerolinecolor": "white",
           "zerolinewidth": 2
          }
         }
        },
        "xaxis": {
         "anchor": "y",
         "domain": [
          0,
          1
         ],
         "title": {
          "text": "Test_Accuracy"
         }
        },
        "yaxis": {
         "anchor": "x",
         "domain": [
          0,
          1
         ],
         "title": {
          "text": "Accuracy_Difference"
         }
        }
       }
      },
      "text/html": [
       "<div>                            <div id=\"3e5eede2-3460-4d14-b8a4-560cd92ce334\" class=\"plotly-graph-div\" style=\"height:525px; width:100%;\"></div>            <script type=\"text/javascript\">                require([\"plotly\"], function(Plotly) {                    window.PLOTLYENV=window.PLOTLYENV || {};                                    if (document.getElementById(\"3e5eede2-3460-4d14-b8a4-560cd92ce334\")) {                    Plotly.newPlot(                        \"3e5eede2-3460-4d14-b8a4-560cd92ce334\",                        [{\"hovertemplate\":\"Class=Logistic Regression<br>Test_Accuracy=%{x}<br>Accuracy_Difference=%{y}<br>Samples=%{marker.size}<extra></extra>\",\"legendgroup\":\"Logistic Regression\",\"marker\":{\"color\":\"#636efa\",\"size\":[5,5,5,5,5,5,5,5,5,5,5,5,5,5,5,5,5,5,5,5,5,5,5,5,5,5,5,5,5,5,10,10,10,10,10,10,10,10,10,10,10,10,10,10,10,10,10,10,10,10,10,10,10,10,10,10,10,10,10,10,50,50,50,50,50,50,50,50,50,50,50,50,50,50,50,50,50,50,50,50,50,50,50,50,50,50,50,50,50,50,100,100,100,100,100,100,100,100,100,100,100,100,100,100,100,100,100,100,100,100,100,100,100,100,100,100,100,100,100,100,1000,1000,1000,1000,1000,1000,1000,1000,1000,1000,1000,1000,1000,1000,1000,1000,1000,1000,1000,1000,1000,1000,1000,1000,1000,1000,1000,1000,1000,1000,10000,10000,10000,10000,10000,10000,10000,10000,10000,10000,10000,10000,10000,10000,10000,10000,10000,10000,10000,10000,10000,10000,10000,10000,10000,10000,10000,10000,10000,10000],\"sizemode\":\"area\",\"sizeref\":25.0,\"symbol\":\"circle\"},\"mode\":\"markers\",\"name\":\"Logistic Regression\",\"orientation\":\"v\",\"showlegend\":true,\"x\":[0.0,0.0,0.0,0.0,0.0,0.0,0.0,0.0,0.0,0.0,1.0,1.0,1.0,1.0,1.0,1.0,1.0,1.0,0.0,0.0,1.0,1.0,1.0,1.0,1.0,1.0,1.0,1.0,1.0,1.0,0.0,0.0,0.0,0.0,0.0,1.0,1.0,1.0,0.0,0.0,0.0,0.0,0.0,0.0,0.5,0.0,0.0,0.5,0.5,0.0,1.0,1.0,1.0,1.0,1.0,0.5,0.5,0.5,0.5,0.5,0.3,1.0,1.0,1.0,1.0,0.7,0.7,0.7,0.8,0.8,0.7,0.7,0.8,0.8,0.8,1.0,1.0,1.0,1.0,1.0,0.7,0.8,0.9,1.0,1.0,1.0,1.0,1.0,1.0,1.0,0.75,0.85,0.85,0.85,0.85,0.8,0.8,0.85,0.85,0.8,0.8,0.8,0.8,0.8,0.8,0.7,0.7,0.7,0.7,0.7,0.65,0.75,0.7,0.6,0.6,0.9,0.85,0.8,0.8,0.8,0.815,0.86,0.87,0.88,0.885,0.805,0.865,0.875,0.88,0.88,0.84,0.87,0.88,0.885,0.885,0.83,0.845,0.865,0.865,0.865,0.785,0.815,0.81,0.815,0.815,0.775,0.795,0.795,0.795,0.795,0.8765,0.8925,0.898,0.898,0.898,0.864,0.879,0.879,0.8785,0.8785,0.8655,0.8765,0.878,0.8775,0.8775,0.8395,0.8465,0.846,0.8465,0.8465,0.8245,0.8265,0.828,0.8285,0.8285,0.8125,0.8135,0.813,0.813,0.813],\"xaxis\":\"x\",\"y\":[0.75,0.75,0.75,0.75,1.0,0.75,0.75,1.0,1.0,1.0,-0.5,-0.5,-0.5,-0.5,-0.5,-0.25,-0.25,-0.25,1.0,1.0,-0.25,-0.25,-0.25,0.0,0.0,-0.5,-0.5,-0.25,-0.25,-0.25,0.625,0.625,1.0,1.0,1.0,-0.25,-0.25,-0.25,0.75,0.75,0.625,0.625,0.875,1.0,0.5,0.625,0.625,0.5,0.5,1.0,-0.375,-0.375,-0.375,-0.25,-0.25,0.25,0.25,0.25,0.25,0.25,0.25000000000000006,-0.25,-0.17500000000000004,-0.15000000000000002,-0.15000000000000002,0.050000000000000044,0.10000000000000009,0.15000000000000002,0.04999999999999993,0.04999999999999993,0.07500000000000007,0.15000000000000002,0.04999999999999993,0.09999999999999998,0.09999999999999998,-0.30000000000000004,-0.275,-0.22499999999999998,-0.22499999999999998,-0.22499999999999998,0.050000000000000044,0.02499999999999991,-0.07500000000000007,-0.125,-0.15000000000000002,-0.22499999999999998,-0.22499999999999998,-0.22499999999999998,-0.125,-0.125,0.03749999999999998,-0.03749999999999998,0.012500000000000067,0.03749999999999998,0.03749999999999998,0.012499999999999956,0.02499999999999991,-0.012499999999999956,0.0,0.04999999999999993,-0.025000000000000022,-0.012500000000000067,0.03749999999999998,0.0625,0.07499999999999996,0.10000000000000009,0.11250000000000004,0.11250000000000004,0.11250000000000004,0.11250000000000004,0.13749999999999996,0.07499999999999996,0.125,0.22499999999999998,0.22499999999999998,-0.15000000000000002,-0.08750000000000002,0.012499999999999956,0.0,0.0,0.008750000000000036,0.011249999999999982,0.022499999999999964,0.015000000000000013,0.010000000000000009,0.012499999999999956,0.0,0.0024999999999999467,-0.0025000000000000577,-0.0025000000000000577,-0.022499999999999964,-0.011249999999999982,-0.012499999999999956,-0.018750000000000044,-0.01749999999999996,-0.010000000000000009,0.0050000000000000044,-0.012499999999999956,-0.012499999999999956,-0.012499999999999956,0.03125,0.016250000000000098,0.018749999999999933,0.01375000000000004,0.01375000000000004,0.030000000000000027,0.007499999999999951,0.008749999999999925,0.010000000000000009,0.010000000000000009,-0.007624999999999993,-0.0034999999999999476,-0.00550000000000006,-0.004875000000000074,-0.004875000000000074,0.0045000000000000595,0.006249999999999978,0.006125000000000047,0.0068750000000000755,0.0068750000000000755,-0.003750000000000031,-0.005499999999999949,-0.00649999999999995,-0.006124999999999936,-0.006249999999999978,0.007499999999999951,0.005249999999999977,0.005750000000000033,0.005249999999999977,0.005249999999999977,0.007750000000000035,0.009624999999999995,0.009500000000000064,0.00924999999999998,0.009124999999999939,-0.0044999999999999485,-0.0050000000000000044,-0.004249999999999976,-0.004249999999999976,-0.004249999999999976],\"yaxis\":\"y\",\"type\":\"scatter\"},{\"hovertemplate\":\"Class=KNN<br>Test_Accuracy=%{x}<br>Accuracy_Difference=%{y}<br>Samples=%{marker.size}<extra></extra>\",\"legendgroup\":\"KNN\",\"marker\":{\"color\":\"#EF553B\",\"size\":[5,5,5,5,5,5,5,5,5,5,5,5,10,10,10,10,10,10,10,10,10,10,10,10,10,10,10,10,10,10,10,10,10,10,10,10,50,50,50,50,50,50,50,50,50,50,50,50,50,50,50,50,50,50,50,50,50,50,50,50,50,50,50,50,50,50,50,50,50,50,50,50,50,50,50,50,50,50,50,50,50,50,50,50,50,50,50,50,50,50,50,50,50,50,50,50,100,100,100,100,100,100,100,100,100,100,100,100,100,100,100,100,100,100,100,100,100,100,100,100,100,100,100,100,100,100,100,100,100,100,100,100,100,100,100,100,100,100,100,100,100,100,100,100,100,100,100,100,100,100,100,100,100,100,100,100,1000,1000,1000,1000,1000,1000,1000,1000,1000,1000,1000,1000,1000,1000,1000,1000,1000,1000,1000,1000,1000,1000,1000,1000,1000,1000,1000,1000,1000,1000,1000,1000,1000,1000,1000,1000,1000,1000,1000,1000,1000,1000,1000,1000,1000,1000,1000,1000,1000,1000,1000,1000,1000,1000,1000,1000,1000,1000,1000,1000,10000,10000,10000,10000,10000,10000,10000,10000,10000,10000,10000,10000,10000,10000,10000,10000,10000,10000,10000,10000,10000,10000,10000,10000,10000,10000,10000,10000,10000,10000,10000,10000,10000,10000,10000,10000,10000,10000,10000,10000,10000,10000,10000,10000,10000,10000,10000,10000,10000,10000,10000,10000,10000,10000,10000,10000,10000,10000,10000,10000],\"sizemode\":\"area\",\"sizeref\":25.0,\"symbol\":\"circle\"},\"mode\":\"markers\",\"name\":\"KNN\",\"orientation\":\"v\",\"showlegend\":true,\"x\":[0.0,0.0,0.0,0.0,0.0,1.0,0.0,1.0,0.0,1.0,1.0,1.0,0.0,0.0,0.0,0.0,1.0,0.0,0.5,1.0,0.5,0.0,0.0,0.0,0.5,0.5,0.5,0.0,0.0,1.0,1.0,1.0,0.5,0.5,0.5,0.5,1.0,1.0,1.0,1.0,1.0,1.0,1.0,1.0,1.0,1.0,1.0,1.0,1.0,1.0,1.0,1.0,1.0,0.9,0.8,0.8,0.9,0.9,0.8,0.8,0.8,0.8,0.8,0.8,0.7,0.7,0.9,0.9,0.9,0.9,0.9,1.0,1.0,1.0,1.0,1.0,1.0,0.7,0.8,1.0,1.0,1.0,0.8,0.9,0.8,0.8,0.9,0.9,0.9,1.0,1.0,1.0,1.0,1.0,1.0,1.0,1.0,1.0,1.0,1.0,1.0,1.0,1.0,0.95,0.9,0.9,1.0,1.0,1.0,1.0,1.0,1.0,1.0,1.0,1.0,1.0,0.9,0.95,0.95,0.95,0.95,0.95,0.9,0.85,0.85,0.85,0.75,0.85,0.85,0.85,0.85,0.85,0.85,0.75,0.8,0.75,0.75,0.75,0.75,0.75,0.75,0.7,0.7,0.7,0.7,0.6,0.75,0.7,0.8,0.8,0.75,0.8,0.85,0.85,0.8,0.75,1.0,1.0,1.0,1.0,1.0,1.0,1.0,1.0,1.0,1.0,1.0,1.0,1.0,1.0,1.0,1.0,1.0,1.0,1.0,1.0,0.94,0.96,0.975,0.965,0.97,0.965,0.985,0.985,0.98,0.98,0.87,0.89,0.895,0.91,0.925,0.93,0.93,0.93,0.93,0.925,0.805,0.805,0.835,0.835,0.85,0.83,0.84,0.805,0.82,0.835,0.705,0.735,0.755,0.765,0.74,0.76,0.78,0.77,0.75,0.785,1.0,1.0,1.0,1.0,1.0,1.0,1.0,1.0,1.0,1.0,1.0,1.0,1.0,1.0,1.0,0.9995,0.9995,0.9995,1.0,1.0,0.9605,0.9665,0.97,0.9725,0.974,0.9745,0.973,0.9735,0.975,0.9765,0.8725,0.8975,0.907,0.907,0.913,0.912,0.91,0.9105,0.908,0.9095,0.807,0.8375,0.847,0.8515,0.854,0.854,0.855,0.857,0.854,0.8585,0.7645,0.793,0.807,0.8105,0.809,0.8135,0.8145,0.8185,0.816,0.8195],\"xaxis\":\"x\",\"y\":[1.0,0.75,1.0,0.75,1.0,-0.5,1.0,-0.25,1.0,-0.5,0.0,-0.5,1.0,0.875,0.875,0.625,0.0,0.75,0.25,-0.375,0.5,0.875,0.875,0.625,0.5,0.5,0.375,0.625,1.0,-0.375,-0.375,-0.625,0.5,0.25,0.25,0.375,0.0,0.0,0.0,0.0,0.0,-0.07499999999999996,-0.07499999999999996,-0.125,-0.15000000000000002,-0.15000000000000002,0.0,0.0,0.0,0.0,-0.025000000000000022,-0.050000000000000044,-0.09999999999999998,-0.025000000000000022,0.04999999999999993,0.0,0.09999999999999998,0.07499999999999996,0.17499999999999993,0.1499999999999999,0.09999999999999998,0.09999999999999998,0.09999999999999998,0.07499999999999996,0.15000000000000002,0.125,0.09999999999999998,-0.025000000000000022,-0.07500000000000007,-0.050000000000000044,-0.050000000000000044,-0.22499999999999998,-0.17500000000000004,-0.15000000000000002,-0.19999999999999996,-0.19999999999999996,0.0,0.15000000000000002,0.02499999999999991,-0.19999999999999996,-0.15000000000000002,-0.125,0.09999999999999998,-0.025000000000000022,0.07499999999999996,0.02499999999999991,0.09999999999999998,-0.050000000000000044,-0.025000000000000022,-0.15000000000000002,-0.22499999999999998,-0.22499999999999998,-0.17500000000000004,-0.15000000000000002,-0.15000000000000002,-0.19999999999999996,0.0,0.0,0.0,0.0,0.0,0.0,0.0,0.050000000000000044,0.08750000000000002,0.08750000000000002,0.0,0.0,0.0,0.0,0.0,0.0,-0.012499999999999956,-0.012499999999999956,-0.012499999999999956,-0.012499999999999956,0.09999999999999998,0.03750000000000009,0.025000000000000022,0.012500000000000067,0.012500000000000067,0.012500000000000067,0.04999999999999993,0.09999999999999998,0.09999999999999998,0.11250000000000004,0.25,0.0625,0.07500000000000007,0.050000000000000044,0.050000000000000044,0.03749999999999998,0.050000000000000044,0.11250000000000004,0.0625,0.11250000000000004,0.25,0.21250000000000002,0.22499999999999998,0.1875,0.15000000000000002,0.2250000000000001,0.2250000000000001,0.25,0.2250000000000001,0.30000000000000004,0.25,0.15000000000000002,0.03749999999999998,0.012499999999999956,0.0625,0.02499999999999991,-0.04999999999999993,-0.04999999999999993,0.02499999999999991,0.07499999999999996,0.0,0.0,0.0,0.0,0.0,0.0,0.0,0.0,0.0,0.0,0.0,-0.0024999999999999467,-0.0012499999999999734,-0.0024999999999999467,-0.0012499999999999734,-0.0012499999999999734,-0.0024999999999999467,-0.0024999999999999467,-0.0024999999999999467,-0.0024999999999999467,0.06000000000000005,0.020000000000000018,0.008750000000000036,0.015000000000000013,0.011249999999999982,0.016249999999999987,0.0,-0.0024999999999999467,0.0025000000000000577,0.0012499999999999734,0.13,0.043749999999999956,0.02749999999999997,0.008749999999999925,-0.008750000000000036,-0.012500000000000067,-0.016250000000000098,-0.010000000000000009,-0.007500000000000062,-0.0025000000000000577,0.19499999999999995,0.07999999999999996,0.03750000000000009,0.025000000000000022,0.011249999999999982,0.04125000000000001,0.026249999999999996,0.05999999999999994,0.04125000000000001,0.01750000000000007,0.29500000000000004,0.14,0.10124999999999995,0.07750000000000001,0.09250000000000003,0.06874999999999998,0.04999999999999993,0.06125000000000003,0.07874999999999999,0.03249999999999997,0.0,0.0,0.0,0.0,0.0,0.0,0.0,0.0,0.0,0.0,0.0,-0.00012500000000004174,-0.00024999999999997247,-0.00012500000000004174,-0.00012500000000004174,0.00024999999999997247,0.00012499999999993072,0.00012499999999993072,-0.00024999999999997247,-0.00024999999999997247,0.03949999999999998,0.010624999999999996,0.003875000000000073,-0.0008750000000000702,-0.00275000000000003,-0.003375000000000017,-0.001375000000000015,-0.0022500000000000853,-0.0034999999999999476,-0.00550000000000006,0.12749999999999995,0.03575000000000006,0.019124999999999948,0.01849999999999996,0.009499999999999953,0.009874999999999967,0.01100000000000001,0.011249999999999982,0.01287499999999997,0.009624999999999995,0.19299999999999995,0.0645,0.04237500000000005,0.030749999999999944,0.025375000000000036,0.023625000000000007,0.021375000000000033,0.018625000000000003,0.021750000000000047,0.015499999999999958,0.23550000000000004,0.08449999999999991,0.04699999999999993,0.033499999999999974,0.0276249999999999,0.019874999999999976,0.018000000000000016,0.014000000000000012,0.015125000000000055,0.013124999999999942],\"yaxis\":\"y\",\"type\":\"scatter\"}],                        {\"template\":{\"data\":{\"bar\":[{\"error_x\":{\"color\":\"#2a3f5f\"},\"error_y\":{\"color\":\"#2a3f5f\"},\"marker\":{\"line\":{\"color\":\"#E5ECF6\",\"width\":0.5},\"pattern\":{\"fillmode\":\"overlay\",\"size\":10,\"solidity\":0.2}},\"type\":\"bar\"}],\"barpolar\":[{\"marker\":{\"line\":{\"color\":\"#E5ECF6\",\"width\":0.5},\"pattern\":{\"fillmode\":\"overlay\",\"size\":10,\"solidity\":0.2}},\"type\":\"barpolar\"}],\"carpet\":[{\"aaxis\":{\"endlinecolor\":\"#2a3f5f\",\"gridcolor\":\"white\",\"linecolor\":\"white\",\"minorgridcolor\":\"white\",\"startlinecolor\":\"#2a3f5f\"},\"baxis\":{\"endlinecolor\":\"#2a3f5f\",\"gridcolor\":\"white\",\"linecolor\":\"white\",\"minorgridcolor\":\"white\",\"startlinecolor\":\"#2a3f5f\"},\"type\":\"carpet\"}],\"choropleth\":[{\"colorbar\":{\"outlinewidth\":0,\"ticks\":\"\"},\"type\":\"choropleth\"}],\"contour\":[{\"colorbar\":{\"outlinewidth\":0,\"ticks\":\"\"},\"colorscale\":[[0.0,\"#0d0887\"],[0.1111111111111111,\"#46039f\"],[0.2222222222222222,\"#7201a8\"],[0.3333333333333333,\"#9c179e\"],[0.4444444444444444,\"#bd3786\"],[0.5555555555555556,\"#d8576b\"],[0.6666666666666666,\"#ed7953\"],[0.7777777777777778,\"#fb9f3a\"],[0.8888888888888888,\"#fdca26\"],[1.0,\"#f0f921\"]],\"type\":\"contour\"}],\"contourcarpet\":[{\"colorbar\":{\"outlinewidth\":0,\"ticks\":\"\"},\"type\":\"contourcarpet\"}],\"heatmap\":[{\"colorbar\":{\"outlinewidth\":0,\"ticks\":\"\"},\"colorscale\":[[0.0,\"#0d0887\"],[0.1111111111111111,\"#46039f\"],[0.2222222222222222,\"#7201a8\"],[0.3333333333333333,\"#9c179e\"],[0.4444444444444444,\"#bd3786\"],[0.5555555555555556,\"#d8576b\"],[0.6666666666666666,\"#ed7953\"],[0.7777777777777778,\"#fb9f3a\"],[0.8888888888888888,\"#fdca26\"],[1.0,\"#f0f921\"]],\"type\":\"heatmap\"}],\"heatmapgl\":[{\"colorbar\":{\"outlinewidth\":0,\"ticks\":\"\"},\"colorscale\":[[0.0,\"#0d0887\"],[0.1111111111111111,\"#46039f\"],[0.2222222222222222,\"#7201a8\"],[0.3333333333333333,\"#9c179e\"],[0.4444444444444444,\"#bd3786\"],[0.5555555555555556,\"#d8576b\"],[0.6666666666666666,\"#ed7953\"],[0.7777777777777778,\"#fb9f3a\"],[0.8888888888888888,\"#fdca26\"],[1.0,\"#f0f921\"]],\"type\":\"heatmapgl\"}],\"histogram\":[{\"marker\":{\"pattern\":{\"fillmode\":\"overlay\",\"size\":10,\"solidity\":0.2}},\"type\":\"histogram\"}],\"histogram2d\":[{\"colorbar\":{\"outlinewidth\":0,\"ticks\":\"\"},\"colorscale\":[[0.0,\"#0d0887\"],[0.1111111111111111,\"#46039f\"],[0.2222222222222222,\"#7201a8\"],[0.3333333333333333,\"#9c179e\"],[0.4444444444444444,\"#bd3786\"],[0.5555555555555556,\"#d8576b\"],[0.6666666666666666,\"#ed7953\"],[0.7777777777777778,\"#fb9f3a\"],[0.8888888888888888,\"#fdca26\"],[1.0,\"#f0f921\"]],\"type\":\"histogram2d\"}],\"histogram2dcontour\":[{\"colorbar\":{\"outlinewidth\":0,\"ticks\":\"\"},\"colorscale\":[[0.0,\"#0d0887\"],[0.1111111111111111,\"#46039f\"],[0.2222222222222222,\"#7201a8\"],[0.3333333333333333,\"#9c179e\"],[0.4444444444444444,\"#bd3786\"],[0.5555555555555556,\"#d8576b\"],[0.6666666666666666,\"#ed7953\"],[0.7777777777777778,\"#fb9f3a\"],[0.8888888888888888,\"#fdca26\"],[1.0,\"#f0f921\"]],\"type\":\"histogram2dcontour\"}],\"mesh3d\":[{\"colorbar\":{\"outlinewidth\":0,\"ticks\":\"\"},\"type\":\"mesh3d\"}],\"parcoords\":[{\"line\":{\"colorbar\":{\"outlinewidth\":0,\"ticks\":\"\"}},\"type\":\"parcoords\"}],\"pie\":[{\"automargin\":true,\"type\":\"pie\"}],\"scatter\":[{\"marker\":{\"colorbar\":{\"outlinewidth\":0,\"ticks\":\"\"}},\"type\":\"scatter\"}],\"scatter3d\":[{\"line\":{\"colorbar\":{\"outlinewidth\":0,\"ticks\":\"\"}},\"marker\":{\"colorbar\":{\"outlinewidth\":0,\"ticks\":\"\"}},\"type\":\"scatter3d\"}],\"scattercarpet\":[{\"marker\":{\"colorbar\":{\"outlinewidth\":0,\"ticks\":\"\"}},\"type\":\"scattercarpet\"}],\"scattergeo\":[{\"marker\":{\"colorbar\":{\"outlinewidth\":0,\"ticks\":\"\"}},\"type\":\"scattergeo\"}],\"scattergl\":[{\"marker\":{\"colorbar\":{\"outlinewidth\":0,\"ticks\":\"\"}},\"type\":\"scattergl\"}],\"scattermapbox\":[{\"marker\":{\"colorbar\":{\"outlinewidth\":0,\"ticks\":\"\"}},\"type\":\"scattermapbox\"}],\"scatterpolar\":[{\"marker\":{\"colorbar\":{\"outlinewidth\":0,\"ticks\":\"\"}},\"type\":\"scatterpolar\"}],\"scatterpolargl\":[{\"marker\":{\"colorbar\":{\"outlinewidth\":0,\"ticks\":\"\"}},\"type\":\"scatterpolargl\"}],\"scatterternary\":[{\"marker\":{\"colorbar\":{\"outlinewidth\":0,\"ticks\":\"\"}},\"type\":\"scatterternary\"}],\"surface\":[{\"colorbar\":{\"outlinewidth\":0,\"ticks\":\"\"},\"colorscale\":[[0.0,\"#0d0887\"],[0.1111111111111111,\"#46039f\"],[0.2222222222222222,\"#7201a8\"],[0.3333333333333333,\"#9c179e\"],[0.4444444444444444,\"#bd3786\"],[0.5555555555555556,\"#d8576b\"],[0.6666666666666666,\"#ed7953\"],[0.7777777777777778,\"#fb9f3a\"],[0.8888888888888888,\"#fdca26\"],[1.0,\"#f0f921\"]],\"type\":\"surface\"}],\"table\":[{\"cells\":{\"fill\":{\"color\":\"#EBF0F8\"},\"line\":{\"color\":\"white\"}},\"header\":{\"fill\":{\"color\":\"#C8D4E3\"},\"line\":{\"color\":\"white\"}},\"type\":\"table\"}]},\"layout\":{\"annotationdefaults\":{\"arrowcolor\":\"#2a3f5f\",\"arrowhead\":0,\"arrowwidth\":1},\"autotypenumbers\":\"strict\",\"coloraxis\":{\"colorbar\":{\"outlinewidth\":0,\"ticks\":\"\"}},\"colorscale\":{\"diverging\":[[0,\"#8e0152\"],[0.1,\"#c51b7d\"],[0.2,\"#de77ae\"],[0.3,\"#f1b6da\"],[0.4,\"#fde0ef\"],[0.5,\"#f7f7f7\"],[0.6,\"#e6f5d0\"],[0.7,\"#b8e186\"],[0.8,\"#7fbc41\"],[0.9,\"#4d9221\"],[1,\"#276419\"]],\"sequential\":[[0.0,\"#0d0887\"],[0.1111111111111111,\"#46039f\"],[0.2222222222222222,\"#7201a8\"],[0.3333333333333333,\"#9c179e\"],[0.4444444444444444,\"#bd3786\"],[0.5555555555555556,\"#d8576b\"],[0.6666666666666666,\"#ed7953\"],[0.7777777777777778,\"#fb9f3a\"],[0.8888888888888888,\"#fdca26\"],[1.0,\"#f0f921\"]],\"sequentialminus\":[[0.0,\"#0d0887\"],[0.1111111111111111,\"#46039f\"],[0.2222222222222222,\"#7201a8\"],[0.3333333333333333,\"#9c179e\"],[0.4444444444444444,\"#bd3786\"],[0.5555555555555556,\"#d8576b\"],[0.6666666666666666,\"#ed7953\"],[0.7777777777777778,\"#fb9f3a\"],[0.8888888888888888,\"#fdca26\"],[1.0,\"#f0f921\"]]},\"colorway\":[\"#636efa\",\"#EF553B\",\"#00cc96\",\"#ab63fa\",\"#FFA15A\",\"#19d3f3\",\"#FF6692\",\"#B6E880\",\"#FF97FF\",\"#FECB52\"],\"font\":{\"color\":\"#2a3f5f\"},\"geo\":{\"bgcolor\":\"white\",\"lakecolor\":\"white\",\"landcolor\":\"#E5ECF6\",\"showlakes\":true,\"showland\":true,\"subunitcolor\":\"white\"},\"hoverlabel\":{\"align\":\"left\"},\"hovermode\":\"closest\",\"mapbox\":{\"style\":\"light\"},\"paper_bgcolor\":\"white\",\"plot_bgcolor\":\"#E5ECF6\",\"polar\":{\"angularaxis\":{\"gridcolor\":\"white\",\"linecolor\":\"white\",\"ticks\":\"\"},\"bgcolor\":\"#E5ECF6\",\"radialaxis\":{\"gridcolor\":\"white\",\"linecolor\":\"white\",\"ticks\":\"\"}},\"scene\":{\"xaxis\":{\"backgroundcolor\":\"#E5ECF6\",\"gridcolor\":\"white\",\"gridwidth\":2,\"linecolor\":\"white\",\"showbackground\":true,\"ticks\":\"\",\"zerolinecolor\":\"white\"},\"yaxis\":{\"backgroundcolor\":\"#E5ECF6\",\"gridcolor\":\"white\",\"gridwidth\":2,\"linecolor\":\"white\",\"showbackground\":true,\"ticks\":\"\",\"zerolinecolor\":\"white\"},\"zaxis\":{\"backgroundcolor\":\"#E5ECF6\",\"gridcolor\":\"white\",\"gridwidth\":2,\"linecolor\":\"white\",\"showbackground\":true,\"ticks\":\"\",\"zerolinecolor\":\"white\"}},\"shapedefaults\":{\"line\":{\"color\":\"#2a3f5f\"}},\"ternary\":{\"aaxis\":{\"gridcolor\":\"white\",\"linecolor\":\"white\",\"ticks\":\"\"},\"baxis\":{\"gridcolor\":\"white\",\"linecolor\":\"white\",\"ticks\":\"\"},\"bgcolor\":\"#E5ECF6\",\"caxis\":{\"gridcolor\":\"white\",\"linecolor\":\"white\",\"ticks\":\"\"}},\"title\":{\"x\":0.05},\"xaxis\":{\"automargin\":true,\"gridcolor\":\"white\",\"linecolor\":\"white\",\"ticks\":\"\",\"title\":{\"standoff\":15},\"zerolinecolor\":\"white\",\"zerolinewidth\":2},\"yaxis\":{\"automargin\":true,\"gridcolor\":\"white\",\"linecolor\":\"white\",\"ticks\":\"\",\"title\":{\"standoff\":15},\"zerolinecolor\":\"white\",\"zerolinewidth\":2}}},\"xaxis\":{\"anchor\":\"y\",\"domain\":[0.0,1.0],\"title\":{\"text\":\"Test_Accuracy\"}},\"yaxis\":{\"anchor\":\"x\",\"domain\":[0.0,1.0],\"title\":{\"text\":\"Accuracy_Difference\"}},\"legend\":{\"title\":{\"text\":\"Class\"},\"tracegroupgap\":0,\"itemsizing\":\"constant\"},\"margin\":{\"t\":60}},                        {\"responsive\": true}                    ).then(function(){\n",
       "                            \n",
       "var gd = document.getElementById('3e5eede2-3460-4d14-b8a4-560cd92ce334');\n",
       "var x = new MutationObserver(function (mutations, observer) {{\n",
       "        var display = window.getComputedStyle(gd).display;\n",
       "        if (!display || display === 'none') {{\n",
       "            console.log([gd, 'removed!']);\n",
       "            Plotly.purge(gd);\n",
       "            observer.disconnect();\n",
       "        }}\n",
       "}});\n",
       "\n",
       "// Listen for the removal of the full notebook cells\n",
       "var notebookContainer = gd.closest('#notebook-container');\n",
       "if (notebookContainer) {{\n",
       "    x.observe(notebookContainer, {childList: true});\n",
       "}}\n",
       "\n",
       "// Listen for the clearing of the current output cell\n",
       "var outputEl = gd.closest('.output');\n",
       "if (outputEl) {{\n",
       "    x.observe(outputEl, {childList: true});\n",
       "}}\n",
       "\n",
       "                        })                };                });            </script>        </div>"
      ]
     },
     "metadata": {},
     "output_type": "display_data"
    }
   ],
   "source": [
    "circles = results.query(\"Dataset == 'Circles'\")\n",
    "px.scatter(circles,x='Test_Accuracy',y='Accuracy_Difference',color='Class', size='Samples')"
   ]
  },
  {
   "cell_type": "code",
   "execution_count": 22,
   "id": "4eec983e",
   "metadata": {
    "scrolled": true
   },
   "outputs": [
    {
     "data": {
      "text/plain": [
       "Samples  Class              \n",
       "5        KNN                    0.458333\n",
       "         Logistic Regression    0.683333\n",
       "10       KNN                    0.510417\n",
       "         Logistic Regression    0.420833\n",
       "50       KNN                    0.327917\n",
       "         Logistic Regression    0.243333\n",
       "100      KNN                    0.220417\n",
       "         Logistic Regression    0.208333\n",
       "1000     KNN                    0.097146\n",
       "         Logistic Regression    0.044083\n",
       "10000    KNN                    0.103369\n",
       "         Logistic Regression    0.006933\n",
       "Name: Accuracy_Difference, dtype: float64"
      ]
     },
     "execution_count": 22,
     "metadata": {},
     "output_type": "execute_result"
    }
   ],
   "source": [
    "moons.groupby(['Samples','Class'])['Accuracy_Difference'].mean()\n"
   ]
  },
  {
   "cell_type": "code",
   "execution_count": 23,
   "id": "968b6861",
   "metadata": {
    "scrolled": true
   },
   "outputs": [
    {
     "data": {
      "text/plain": [
       "Samples  Class              \n",
       "5        KNN                    0.666667\n",
       "         Logistic Regression    0.391667\n",
       "10       KNN                    0.270833\n",
       "         Logistic Regression    0.225000\n",
       "50       KNN                    0.102917\n",
       "         Logistic Regression    0.131667\n",
       "100      KNN                    0.049167\n",
       "         Logistic Regression    0.040417\n",
       "1000     KNN                    0.014854\n",
       "         Logistic Regression   -0.002542\n",
       "10000    KNN                    0.026019\n",
       "         Logistic Regression    0.000437\n",
       "Name: Accuracy_Difference, dtype: float64"
      ]
     },
     "execution_count": 23,
     "metadata": {},
     "output_type": "execute_result"
    }
   ],
   "source": [
    "circles.groupby(['Samples','Class'])['Accuracy_Difference'].mean()\n"
   ]
  },
  {
   "cell_type": "markdown",
   "id": "fd22868f",
   "metadata": {},
   "source": [
    "It seems that KNN values are more stable than logistic regression but that is due to small sampeles, on a large dataset i will choose the regression"
   ]
  },
  {
   "cell_type": "markdown",
   "id": "b8da6aad",
   "metadata": {},
   "source": [
    "# Q3"
   ]
  },
  {
   "cell_type": "code",
   "execution_count": 24,
   "id": "7aad9d0e",
   "metadata": {},
   "outputs": [
    {
     "data": {
      "text/plain": [
       "Regularization_Parameter\n",
       "0.01      0.296569\n",
       "0.10      0.295750\n",
       "1.00      0.323222\n",
       "10.00     0.324569\n",
       "100.00    0.324569\n",
       "Name: Test_Accuracy, dtype: float64"
      ]
     },
     "execution_count": 24,
     "metadata": {},
     "output_type": "execute_result"
    }
   ],
   "source": [
    "moons.query(\"Class == 'Logistic Regression'\").groupby('Regularization_Parameter')['Test_Accuracy'].mean()\n"
   ]
  },
  {
   "cell_type": "code",
   "execution_count": 25,
   "id": "be0b84e7",
   "metadata": {},
   "outputs": [
    {
     "data": {
      "text/plain": [
       "Regularization_Parameter\n",
       "0.01      0.277681\n",
       "0.10      0.287052\n",
       "1.00      0.254674\n",
       "10.00     0.260358\n",
       "100.00    0.259278\n",
       "Name: Accuracy_Difference, dtype: float64"
      ]
     },
     "execution_count": 25,
     "metadata": {},
     "output_type": "execute_result"
    }
   ],
   "source": [
    "moons.query(\"Class == 'Logistic Regression'\").groupby('Regularization_Parameter')['Accuracy_Difference'].mean()\n"
   ]
  },
  {
   "cell_type": "code",
   "execution_count": 26,
   "id": "4d697798",
   "metadata": {},
   "outputs": [
    {
     "data": {
      "text/plain": [
       "Regularization_Parameter\n",
       "0.01      0.639778\n",
       "0.10      0.684000\n",
       "1.00      0.694208\n",
       "10.00     0.715222\n",
       "100.00    0.716611\n",
       "Name: Test_Accuracy, dtype: float64"
      ]
     },
     "execution_count": 26,
     "metadata": {},
     "output_type": "execute_result"
    }
   ],
   "source": [
    "circles.query(\"Class == 'Logistic Regression'\").groupby('Regularization_Parameter')['Test_Accuracy'].mean()\n"
   ]
  },
  {
   "cell_type": "code",
   "execution_count": 27,
   "id": "de7bbc90",
   "metadata": {},
   "outputs": [
    {
     "data": {
      "text/plain": [
       "Regularization_Parameter\n",
       "0.01      0.139417\n",
       "0.10      0.121069\n",
       "1.00      0.138267\n",
       "10.00     0.125458\n",
       "100.00    0.131326\n",
       "Name: Accuracy_Difference, dtype: float64"
      ]
     },
     "execution_count": 27,
     "metadata": {},
     "output_type": "execute_result"
    }
   ],
   "source": [
    "circles.query(\"Class == 'Logistic Regression'\").groupby('Regularization_Parameter')['Accuracy_Difference'].mean()\n"
   ]
  },
  {
   "cell_type": "markdown",
   "id": "79581abe",
   "metadata": {},
   "source": [
    "# Q4"
   ]
  },
  {
   "cell_type": "code",
   "execution_count": 28,
   "id": "e0f95346",
   "metadata": {},
   "outputs": [
    {
     "data": {
      "application/vnd.plotly.v1+json": {
       "config": {
        "plotlyServerURL": "https://plot.ly"
       },
       "data": [
        {
         "mode": "markers",
         "name": "Train",
         "type": "scatter",
         "x": [
          5,
          10,
          50,
          100,
          1000,
          10000
         ],
         "xaxis": "x",
         "y": [
          0.75,
          0.75,
          0.825,
          0.775,
          0.78,
          0.783375
         ],
         "yaxis": "y"
        },
        {
         "mode": "markers",
         "name": "Test",
         "type": "scatter",
         "x": [
          5,
          10,
          50,
          100,
          1000,
          10000
         ],
         "xaxis": "x2",
         "y": [
          0,
          0,
          0.5,
          0.7,
          0.51,
          0.5575
         ],
         "yaxis": "y2"
        },
        {
         "mode": "markers",
         "name": "Difference",
         "type": "scatter",
         "x": [
          5,
          10,
          50,
          100,
          1000,
          10000
         ],
         "xaxis": "x3",
         "y": [
          0.75,
          0.75,
          0.32499999999999996,
          0.07500000000000007,
          0.27,
          0.22587500000000005
         ],
         "yaxis": "y3"
        }
       ],
       "layout": {
        "annotations": [
         {
          "font": {
           "size": 16
          },
          "showarrow": false,
          "text": "N vs Train Accuracy",
          "x": 0.14444444444444446,
          "xanchor": "center",
          "xref": "paper",
          "y": 1,
          "yanchor": "bottom",
          "yref": "paper"
         },
         {
          "font": {
           "size": 16
          },
          "showarrow": false,
          "text": "N vs Test Accuracy",
          "x": 0.5,
          "xanchor": "center",
          "xref": "paper",
          "y": 1,
          "yanchor": "bottom",
          "yref": "paper"
         },
         {
          "font": {
           "size": 16
          },
          "showarrow": false,
          "text": "N vs Accuracy Difference",
          "x": 0.8555555555555556,
          "xanchor": "center",
          "xref": "paper",
          "y": 1,
          "yanchor": "bottom",
          "yref": "paper"
         }
        ],
        "template": {
         "data": {
          "bar": [
           {
            "error_x": {
             "color": "#2a3f5f"
            },
            "error_y": {
             "color": "#2a3f5f"
            },
            "marker": {
             "line": {
              "color": "#E5ECF6",
              "width": 0.5
             },
             "pattern": {
              "fillmode": "overlay",
              "size": 10,
              "solidity": 0.2
             }
            },
            "type": "bar"
           }
          ],
          "barpolar": [
           {
            "marker": {
             "line": {
              "color": "#E5ECF6",
              "width": 0.5
             },
             "pattern": {
              "fillmode": "overlay",
              "size": 10,
              "solidity": 0.2
             }
            },
            "type": "barpolar"
           }
          ],
          "carpet": [
           {
            "aaxis": {
             "endlinecolor": "#2a3f5f",
             "gridcolor": "white",
             "linecolor": "white",
             "minorgridcolor": "white",
             "startlinecolor": "#2a3f5f"
            },
            "baxis": {
             "endlinecolor": "#2a3f5f",
             "gridcolor": "white",
             "linecolor": "white",
             "minorgridcolor": "white",
             "startlinecolor": "#2a3f5f"
            },
            "type": "carpet"
           }
          ],
          "choropleth": [
           {
            "colorbar": {
             "outlinewidth": 0,
             "ticks": ""
            },
            "type": "choropleth"
           }
          ],
          "contour": [
           {
            "colorbar": {
             "outlinewidth": 0,
             "ticks": ""
            },
            "colorscale": [
             [
              0,
              "#0d0887"
             ],
             [
              0.1111111111111111,
              "#46039f"
             ],
             [
              0.2222222222222222,
              "#7201a8"
             ],
             [
              0.3333333333333333,
              "#9c179e"
             ],
             [
              0.4444444444444444,
              "#bd3786"
             ],
             [
              0.5555555555555556,
              "#d8576b"
             ],
             [
              0.6666666666666666,
              "#ed7953"
             ],
             [
              0.7777777777777778,
              "#fb9f3a"
             ],
             [
              0.8888888888888888,
              "#fdca26"
             ],
             [
              1,
              "#f0f921"
             ]
            ],
            "type": "contour"
           }
          ],
          "contourcarpet": [
           {
            "colorbar": {
             "outlinewidth": 0,
             "ticks": ""
            },
            "type": "contourcarpet"
           }
          ],
          "heatmap": [
           {
            "colorbar": {
             "outlinewidth": 0,
             "ticks": ""
            },
            "colorscale": [
             [
              0,
              "#0d0887"
             ],
             [
              0.1111111111111111,
              "#46039f"
             ],
             [
              0.2222222222222222,
              "#7201a8"
             ],
             [
              0.3333333333333333,
              "#9c179e"
             ],
             [
              0.4444444444444444,
              "#bd3786"
             ],
             [
              0.5555555555555556,
              "#d8576b"
             ],
             [
              0.6666666666666666,
              "#ed7953"
             ],
             [
              0.7777777777777778,
              "#fb9f3a"
             ],
             [
              0.8888888888888888,
              "#fdca26"
             ],
             [
              1,
              "#f0f921"
             ]
            ],
            "type": "heatmap"
           }
          ],
          "heatmapgl": [
           {
            "colorbar": {
             "outlinewidth": 0,
             "ticks": ""
            },
            "colorscale": [
             [
              0,
              "#0d0887"
             ],
             [
              0.1111111111111111,
              "#46039f"
             ],
             [
              0.2222222222222222,
              "#7201a8"
             ],
             [
              0.3333333333333333,
              "#9c179e"
             ],
             [
              0.4444444444444444,
              "#bd3786"
             ],
             [
              0.5555555555555556,
              "#d8576b"
             ],
             [
              0.6666666666666666,
              "#ed7953"
             ],
             [
              0.7777777777777778,
              "#fb9f3a"
             ],
             [
              0.8888888888888888,
              "#fdca26"
             ],
             [
              1,
              "#f0f921"
             ]
            ],
            "type": "heatmapgl"
           }
          ],
          "histogram": [
           {
            "marker": {
             "pattern": {
              "fillmode": "overlay",
              "size": 10,
              "solidity": 0.2
             }
            },
            "type": "histogram"
           }
          ],
          "histogram2d": [
           {
            "colorbar": {
             "outlinewidth": 0,
             "ticks": ""
            },
            "colorscale": [
             [
              0,
              "#0d0887"
             ],
             [
              0.1111111111111111,
              "#46039f"
             ],
             [
              0.2222222222222222,
              "#7201a8"
             ],
             [
              0.3333333333333333,
              "#9c179e"
             ],
             [
              0.4444444444444444,
              "#bd3786"
             ],
             [
              0.5555555555555556,
              "#d8576b"
             ],
             [
              0.6666666666666666,
              "#ed7953"
             ],
             [
              0.7777777777777778,
              "#fb9f3a"
             ],
             [
              0.8888888888888888,
              "#fdca26"
             ],
             [
              1,
              "#f0f921"
             ]
            ],
            "type": "histogram2d"
           }
          ],
          "histogram2dcontour": [
           {
            "colorbar": {
             "outlinewidth": 0,
             "ticks": ""
            },
            "colorscale": [
             [
              0,
              "#0d0887"
             ],
             [
              0.1111111111111111,
              "#46039f"
             ],
             [
              0.2222222222222222,
              "#7201a8"
             ],
             [
              0.3333333333333333,
              "#9c179e"
             ],
             [
              0.4444444444444444,
              "#bd3786"
             ],
             [
              0.5555555555555556,
              "#d8576b"
             ],
             [
              0.6666666666666666,
              "#ed7953"
             ],
             [
              0.7777777777777778,
              "#fb9f3a"
             ],
             [
              0.8888888888888888,
              "#fdca26"
             ],
             [
              1,
              "#f0f921"
             ]
            ],
            "type": "histogram2dcontour"
           }
          ],
          "mesh3d": [
           {
            "colorbar": {
             "outlinewidth": 0,
             "ticks": ""
            },
            "type": "mesh3d"
           }
          ],
          "parcoords": [
           {
            "line": {
             "colorbar": {
              "outlinewidth": 0,
              "ticks": ""
             }
            },
            "type": "parcoords"
           }
          ],
          "pie": [
           {
            "automargin": true,
            "type": "pie"
           }
          ],
          "scatter": [
           {
            "marker": {
             "colorbar": {
              "outlinewidth": 0,
              "ticks": ""
             }
            },
            "type": "scatter"
           }
          ],
          "scatter3d": [
           {
            "line": {
             "colorbar": {
              "outlinewidth": 0,
              "ticks": ""
             }
            },
            "marker": {
             "colorbar": {
              "outlinewidth": 0,
              "ticks": ""
             }
            },
            "type": "scatter3d"
           }
          ],
          "scattercarpet": [
           {
            "marker": {
             "colorbar": {
              "outlinewidth": 0,
              "ticks": ""
             }
            },
            "type": "scattercarpet"
           }
          ],
          "scattergeo": [
           {
            "marker": {
             "colorbar": {
              "outlinewidth": 0,
              "ticks": ""
             }
            },
            "type": "scattergeo"
           }
          ],
          "scattergl": [
           {
            "marker": {
             "colorbar": {
              "outlinewidth": 0,
              "ticks": ""
             }
            },
            "type": "scattergl"
           }
          ],
          "scattermapbox": [
           {
            "marker": {
             "colorbar": {
              "outlinewidth": 0,
              "ticks": ""
             }
            },
            "type": "scattermapbox"
           }
          ],
          "scatterpolar": [
           {
            "marker": {
             "colorbar": {
              "outlinewidth": 0,
              "ticks": ""
             }
            },
            "type": "scatterpolar"
           }
          ],
          "scatterpolargl": [
           {
            "marker": {
             "colorbar": {
              "outlinewidth": 0,
              "ticks": ""
             }
            },
            "type": "scatterpolargl"
           }
          ],
          "scatterternary": [
           {
            "marker": {
             "colorbar": {
              "outlinewidth": 0,
              "ticks": ""
             }
            },
            "type": "scatterternary"
           }
          ],
          "surface": [
           {
            "colorbar": {
             "outlinewidth": 0,
             "ticks": ""
            },
            "colorscale": [
             [
              0,
              "#0d0887"
             ],
             [
              0.1111111111111111,
              "#46039f"
             ],
             [
              0.2222222222222222,
              "#7201a8"
             ],
             [
              0.3333333333333333,
              "#9c179e"
             ],
             [
              0.4444444444444444,
              "#bd3786"
             ],
             [
              0.5555555555555556,
              "#d8576b"
             ],
             [
              0.6666666666666666,
              "#ed7953"
             ],
             [
              0.7777777777777778,
              "#fb9f3a"
             ],
             [
              0.8888888888888888,
              "#fdca26"
             ],
             [
              1,
              "#f0f921"
             ]
            ],
            "type": "surface"
           }
          ],
          "table": [
           {
            "cells": {
             "fill": {
              "color": "#EBF0F8"
             },
             "line": {
              "color": "white"
             }
            },
            "header": {
             "fill": {
              "color": "#C8D4E3"
             },
             "line": {
              "color": "white"
             }
            },
            "type": "table"
           }
          ]
         },
         "layout": {
          "annotationdefaults": {
           "arrowcolor": "#2a3f5f",
           "arrowhead": 0,
           "arrowwidth": 1
          },
          "autotypenumbers": "strict",
          "coloraxis": {
           "colorbar": {
            "outlinewidth": 0,
            "ticks": ""
           }
          },
          "colorscale": {
           "diverging": [
            [
             0,
             "#8e0152"
            ],
            [
             0.1,
             "#c51b7d"
            ],
            [
             0.2,
             "#de77ae"
            ],
            [
             0.3,
             "#f1b6da"
            ],
            [
             0.4,
             "#fde0ef"
            ],
            [
             0.5,
             "#f7f7f7"
            ],
            [
             0.6,
             "#e6f5d0"
            ],
            [
             0.7,
             "#b8e186"
            ],
            [
             0.8,
             "#7fbc41"
            ],
            [
             0.9,
             "#4d9221"
            ],
            [
             1,
             "#276419"
            ]
           ],
           "sequential": [
            [
             0,
             "#0d0887"
            ],
            [
             0.1111111111111111,
             "#46039f"
            ],
            [
             0.2222222222222222,
             "#7201a8"
            ],
            [
             0.3333333333333333,
             "#9c179e"
            ],
            [
             0.4444444444444444,
             "#bd3786"
            ],
            [
             0.5555555555555556,
             "#d8576b"
            ],
            [
             0.6666666666666666,
             "#ed7953"
            ],
            [
             0.7777777777777778,
             "#fb9f3a"
            ],
            [
             0.8888888888888888,
             "#fdca26"
            ],
            [
             1,
             "#f0f921"
            ]
           ],
           "sequentialminus": [
            [
             0,
             "#0d0887"
            ],
            [
             0.1111111111111111,
             "#46039f"
            ],
            [
             0.2222222222222222,
             "#7201a8"
            ],
            [
             0.3333333333333333,
             "#9c179e"
            ],
            [
             0.4444444444444444,
             "#bd3786"
            ],
            [
             0.5555555555555556,
             "#d8576b"
            ],
            [
             0.6666666666666666,
             "#ed7953"
            ],
            [
             0.7777777777777778,
             "#fb9f3a"
            ],
            [
             0.8888888888888888,
             "#fdca26"
            ],
            [
             1,
             "#f0f921"
            ]
           ]
          },
          "colorway": [
           "#636efa",
           "#EF553B",
           "#00cc96",
           "#ab63fa",
           "#FFA15A",
           "#19d3f3",
           "#FF6692",
           "#B6E880",
           "#FF97FF",
           "#FECB52"
          ],
          "font": {
           "color": "#2a3f5f"
          },
          "geo": {
           "bgcolor": "white",
           "lakecolor": "white",
           "landcolor": "#E5ECF6",
           "showlakes": true,
           "showland": true,
           "subunitcolor": "white"
          },
          "hoverlabel": {
           "align": "left"
          },
          "hovermode": "closest",
          "mapbox": {
           "style": "light"
          },
          "paper_bgcolor": "white",
          "plot_bgcolor": "#E5ECF6",
          "polar": {
           "angularaxis": {
            "gridcolor": "white",
            "linecolor": "white",
            "ticks": ""
           },
           "bgcolor": "#E5ECF6",
           "radialaxis": {
            "gridcolor": "white",
            "linecolor": "white",
            "ticks": ""
           }
          },
          "scene": {
           "xaxis": {
            "backgroundcolor": "#E5ECF6",
            "gridcolor": "white",
            "gridwidth": 2,
            "linecolor": "white",
            "showbackground": true,
            "ticks": "",
            "zerolinecolor": "white"
           },
           "yaxis": {
            "backgroundcolor": "#E5ECF6",
            "gridcolor": "white",
            "gridwidth": 2,
            "linecolor": "white",
            "showbackground": true,
            "ticks": "",
            "zerolinecolor": "white"
           },
           "zaxis": {
            "backgroundcolor": "#E5ECF6",
            "gridcolor": "white",
            "gridwidth": 2,
            "linecolor": "white",
            "showbackground": true,
            "ticks": "",
            "zerolinecolor": "white"
           }
          },
          "shapedefaults": {
           "line": {
            "color": "#2a3f5f"
           }
          },
          "ternary": {
           "aaxis": {
            "gridcolor": "white",
            "linecolor": "white",
            "ticks": ""
           },
           "baxis": {
            "gridcolor": "white",
            "linecolor": "white",
            "ticks": ""
           },
           "bgcolor": "#E5ECF6",
           "caxis": {
            "gridcolor": "white",
            "linecolor": "white",
            "ticks": ""
           }
          },
          "title": {
           "x": 0.05
          },
          "xaxis": {
           "automargin": true,
           "gridcolor": "white",
           "linecolor": "white",
           "ticks": "",
           "title": {
            "standoff": 15
           },
           "zerolinecolor": "white",
           "zerolinewidth": 2
          },
          "yaxis": {
           "automargin": true,
           "gridcolor": "white",
           "linecolor": "white",
           "ticks": "",
           "title": {
            "standoff": 15
           },
           "zerolinecolor": "white",
           "zerolinewidth": 2
          }
         }
        },
        "xaxis": {
         "anchor": "y",
         "domain": [
          0,
          0.2888888888888889
         ],
         "range": [
          0,
          5
         ],
         "type": "log"
        },
        "xaxis2": {
         "anchor": "y2",
         "domain": [
          0.35555555555555557,
          0.6444444444444445
         ],
         "range": [
          0,
          5
         ],
         "type": "log"
        },
        "xaxis3": {
         "anchor": "y3",
         "domain": [
          0.7111111111111111,
          1
         ],
         "range": [
          0,
          5
         ],
         "type": "log"
        },
        "yaxis": {
         "anchor": "x",
         "domain": [
          0,
          1
         ],
         "range": [
          0,
          1.2
         ]
        },
        "yaxis2": {
         "anchor": "x2",
         "domain": [
          0,
          1
         ],
         "range": [
          0,
          1.2
         ]
        },
        "yaxis3": {
         "anchor": "x3",
         "domain": [
          0,
          1
         ],
         "range": [
          0,
          1.2
         ]
        }
       }
      },
      "text/html": [
       "<div>                            <div id=\"1fb9848e-65fa-4ed5-8a76-846520eb6a3f\" class=\"plotly-graph-div\" style=\"height:525px; width:100%;\"></div>            <script type=\"text/javascript\">                require([\"plotly\"], function(Plotly) {                    window.PLOTLYENV=window.PLOTLYENV || {};                                    if (document.getElementById(\"1fb9848e-65fa-4ed5-8a76-846520eb6a3f\")) {                    Plotly.newPlot(                        \"1fb9848e-65fa-4ed5-8a76-846520eb6a3f\",                        [{\"mode\":\"markers\",\"name\":\"Train\",\"x\":[5,10,50,100,1000,10000],\"y\":[0.75,0.75,0.825,0.775,0.78,0.783375],\"type\":\"scatter\",\"xaxis\":\"x\",\"yaxis\":\"y\"},{\"mode\":\"markers\",\"name\":\"Test\",\"x\":[5,10,50,100,1000,10000],\"y\":[0.0,0.0,0.5,0.7,0.51,0.5575],\"type\":\"scatter\",\"xaxis\":\"x2\",\"yaxis\":\"y2\"},{\"mode\":\"markers\",\"name\":\"Difference\",\"x\":[5,10,50,100,1000,10000],\"y\":[0.75,0.75,0.32499999999999996,0.07500000000000007,0.27,0.22587500000000005],\"type\":\"scatter\",\"xaxis\":\"x3\",\"yaxis\":\"y3\"}],                        {\"template\":{\"data\":{\"bar\":[{\"error_x\":{\"color\":\"#2a3f5f\"},\"error_y\":{\"color\":\"#2a3f5f\"},\"marker\":{\"line\":{\"color\":\"#E5ECF6\",\"width\":0.5},\"pattern\":{\"fillmode\":\"overlay\",\"size\":10,\"solidity\":0.2}},\"type\":\"bar\"}],\"barpolar\":[{\"marker\":{\"line\":{\"color\":\"#E5ECF6\",\"width\":0.5},\"pattern\":{\"fillmode\":\"overlay\",\"size\":10,\"solidity\":0.2}},\"type\":\"barpolar\"}],\"carpet\":[{\"aaxis\":{\"endlinecolor\":\"#2a3f5f\",\"gridcolor\":\"white\",\"linecolor\":\"white\",\"minorgridcolor\":\"white\",\"startlinecolor\":\"#2a3f5f\"},\"baxis\":{\"endlinecolor\":\"#2a3f5f\",\"gridcolor\":\"white\",\"linecolor\":\"white\",\"minorgridcolor\":\"white\",\"startlinecolor\":\"#2a3f5f\"},\"type\":\"carpet\"}],\"choropleth\":[{\"colorbar\":{\"outlinewidth\":0,\"ticks\":\"\"},\"type\":\"choropleth\"}],\"contour\":[{\"colorbar\":{\"outlinewidth\":0,\"ticks\":\"\"},\"colorscale\":[[0.0,\"#0d0887\"],[0.1111111111111111,\"#46039f\"],[0.2222222222222222,\"#7201a8\"],[0.3333333333333333,\"#9c179e\"],[0.4444444444444444,\"#bd3786\"],[0.5555555555555556,\"#d8576b\"],[0.6666666666666666,\"#ed7953\"],[0.7777777777777778,\"#fb9f3a\"],[0.8888888888888888,\"#fdca26\"],[1.0,\"#f0f921\"]],\"type\":\"contour\"}],\"contourcarpet\":[{\"colorbar\":{\"outlinewidth\":0,\"ticks\":\"\"},\"type\":\"contourcarpet\"}],\"heatmap\":[{\"colorbar\":{\"outlinewidth\":0,\"ticks\":\"\"},\"colorscale\":[[0.0,\"#0d0887\"],[0.1111111111111111,\"#46039f\"],[0.2222222222222222,\"#7201a8\"],[0.3333333333333333,\"#9c179e\"],[0.4444444444444444,\"#bd3786\"],[0.5555555555555556,\"#d8576b\"],[0.6666666666666666,\"#ed7953\"],[0.7777777777777778,\"#fb9f3a\"],[0.8888888888888888,\"#fdca26\"],[1.0,\"#f0f921\"]],\"type\":\"heatmap\"}],\"heatmapgl\":[{\"colorbar\":{\"outlinewidth\":0,\"ticks\":\"\"},\"colorscale\":[[0.0,\"#0d0887\"],[0.1111111111111111,\"#46039f\"],[0.2222222222222222,\"#7201a8\"],[0.3333333333333333,\"#9c179e\"],[0.4444444444444444,\"#bd3786\"],[0.5555555555555556,\"#d8576b\"],[0.6666666666666666,\"#ed7953\"],[0.7777777777777778,\"#fb9f3a\"],[0.8888888888888888,\"#fdca26\"],[1.0,\"#f0f921\"]],\"type\":\"heatmapgl\"}],\"histogram\":[{\"marker\":{\"pattern\":{\"fillmode\":\"overlay\",\"size\":10,\"solidity\":0.2}},\"type\":\"histogram\"}],\"histogram2d\":[{\"colorbar\":{\"outlinewidth\":0,\"ticks\":\"\"},\"colorscale\":[[0.0,\"#0d0887\"],[0.1111111111111111,\"#46039f\"],[0.2222222222222222,\"#7201a8\"],[0.3333333333333333,\"#9c179e\"],[0.4444444444444444,\"#bd3786\"],[0.5555555555555556,\"#d8576b\"],[0.6666666666666666,\"#ed7953\"],[0.7777777777777778,\"#fb9f3a\"],[0.8888888888888888,\"#fdca26\"],[1.0,\"#f0f921\"]],\"type\":\"histogram2d\"}],\"histogram2dcontour\":[{\"colorbar\":{\"outlinewidth\":0,\"ticks\":\"\"},\"colorscale\":[[0.0,\"#0d0887\"],[0.1111111111111111,\"#46039f\"],[0.2222222222222222,\"#7201a8\"],[0.3333333333333333,\"#9c179e\"],[0.4444444444444444,\"#bd3786\"],[0.5555555555555556,\"#d8576b\"],[0.6666666666666666,\"#ed7953\"],[0.7777777777777778,\"#fb9f3a\"],[0.8888888888888888,\"#fdca26\"],[1.0,\"#f0f921\"]],\"type\":\"histogram2dcontour\"}],\"mesh3d\":[{\"colorbar\":{\"outlinewidth\":0,\"ticks\":\"\"},\"type\":\"mesh3d\"}],\"parcoords\":[{\"line\":{\"colorbar\":{\"outlinewidth\":0,\"ticks\":\"\"}},\"type\":\"parcoords\"}],\"pie\":[{\"automargin\":true,\"type\":\"pie\"}],\"scatter\":[{\"marker\":{\"colorbar\":{\"outlinewidth\":0,\"ticks\":\"\"}},\"type\":\"scatter\"}],\"scatter3d\":[{\"line\":{\"colorbar\":{\"outlinewidth\":0,\"ticks\":\"\"}},\"marker\":{\"colorbar\":{\"outlinewidth\":0,\"ticks\":\"\"}},\"type\":\"scatter3d\"}],\"scattercarpet\":[{\"marker\":{\"colorbar\":{\"outlinewidth\":0,\"ticks\":\"\"}},\"type\":\"scattercarpet\"}],\"scattergeo\":[{\"marker\":{\"colorbar\":{\"outlinewidth\":0,\"ticks\":\"\"}},\"type\":\"scattergeo\"}],\"scattergl\":[{\"marker\":{\"colorbar\":{\"outlinewidth\":0,\"ticks\":\"\"}},\"type\":\"scattergl\"}],\"scattermapbox\":[{\"marker\":{\"colorbar\":{\"outlinewidth\":0,\"ticks\":\"\"}},\"type\":\"scattermapbox\"}],\"scatterpolar\":[{\"marker\":{\"colorbar\":{\"outlinewidth\":0,\"ticks\":\"\"}},\"type\":\"scatterpolar\"}],\"scatterpolargl\":[{\"marker\":{\"colorbar\":{\"outlinewidth\":0,\"ticks\":\"\"}},\"type\":\"scatterpolargl\"}],\"scatterternary\":[{\"marker\":{\"colorbar\":{\"outlinewidth\":0,\"ticks\":\"\"}},\"type\":\"scatterternary\"}],\"surface\":[{\"colorbar\":{\"outlinewidth\":0,\"ticks\":\"\"},\"colorscale\":[[0.0,\"#0d0887\"],[0.1111111111111111,\"#46039f\"],[0.2222222222222222,\"#7201a8\"],[0.3333333333333333,\"#9c179e\"],[0.4444444444444444,\"#bd3786\"],[0.5555555555555556,\"#d8576b\"],[0.6666666666666666,\"#ed7953\"],[0.7777777777777778,\"#fb9f3a\"],[0.8888888888888888,\"#fdca26\"],[1.0,\"#f0f921\"]],\"type\":\"surface\"}],\"table\":[{\"cells\":{\"fill\":{\"color\":\"#EBF0F8\"},\"line\":{\"color\":\"white\"}},\"header\":{\"fill\":{\"color\":\"#C8D4E3\"},\"line\":{\"color\":\"white\"}},\"type\":\"table\"}]},\"layout\":{\"annotationdefaults\":{\"arrowcolor\":\"#2a3f5f\",\"arrowhead\":0,\"arrowwidth\":1},\"autotypenumbers\":\"strict\",\"coloraxis\":{\"colorbar\":{\"outlinewidth\":0,\"ticks\":\"\"}},\"colorscale\":{\"diverging\":[[0,\"#8e0152\"],[0.1,\"#c51b7d\"],[0.2,\"#de77ae\"],[0.3,\"#f1b6da\"],[0.4,\"#fde0ef\"],[0.5,\"#f7f7f7\"],[0.6,\"#e6f5d0\"],[0.7,\"#b8e186\"],[0.8,\"#7fbc41\"],[0.9,\"#4d9221\"],[1,\"#276419\"]],\"sequential\":[[0.0,\"#0d0887\"],[0.1111111111111111,\"#46039f\"],[0.2222222222222222,\"#7201a8\"],[0.3333333333333333,\"#9c179e\"],[0.4444444444444444,\"#bd3786\"],[0.5555555555555556,\"#d8576b\"],[0.6666666666666666,\"#ed7953\"],[0.7777777777777778,\"#fb9f3a\"],[0.8888888888888888,\"#fdca26\"],[1.0,\"#f0f921\"]],\"sequentialminus\":[[0.0,\"#0d0887\"],[0.1111111111111111,\"#46039f\"],[0.2222222222222222,\"#7201a8\"],[0.3333333333333333,\"#9c179e\"],[0.4444444444444444,\"#bd3786\"],[0.5555555555555556,\"#d8576b\"],[0.6666666666666666,\"#ed7953\"],[0.7777777777777778,\"#fb9f3a\"],[0.8888888888888888,\"#fdca26\"],[1.0,\"#f0f921\"]]},\"colorway\":[\"#636efa\",\"#EF553B\",\"#00cc96\",\"#ab63fa\",\"#FFA15A\",\"#19d3f3\",\"#FF6692\",\"#B6E880\",\"#FF97FF\",\"#FECB52\"],\"font\":{\"color\":\"#2a3f5f\"},\"geo\":{\"bgcolor\":\"white\",\"lakecolor\":\"white\",\"landcolor\":\"#E5ECF6\",\"showlakes\":true,\"showland\":true,\"subunitcolor\":\"white\"},\"hoverlabel\":{\"align\":\"left\"},\"hovermode\":\"closest\",\"mapbox\":{\"style\":\"light\"},\"paper_bgcolor\":\"white\",\"plot_bgcolor\":\"#E5ECF6\",\"polar\":{\"angularaxis\":{\"gridcolor\":\"white\",\"linecolor\":\"white\",\"ticks\":\"\"},\"bgcolor\":\"#E5ECF6\",\"radialaxis\":{\"gridcolor\":\"white\",\"linecolor\":\"white\",\"ticks\":\"\"}},\"scene\":{\"xaxis\":{\"backgroundcolor\":\"#E5ECF6\",\"gridcolor\":\"white\",\"gridwidth\":2,\"linecolor\":\"white\",\"showbackground\":true,\"ticks\":\"\",\"zerolinecolor\":\"white\"},\"yaxis\":{\"backgroundcolor\":\"#E5ECF6\",\"gridcolor\":\"white\",\"gridwidth\":2,\"linecolor\":\"white\",\"showbackground\":true,\"ticks\":\"\",\"zerolinecolor\":\"white\"},\"zaxis\":{\"backgroundcolor\":\"#E5ECF6\",\"gridcolor\":\"white\",\"gridwidth\":2,\"linecolor\":\"white\",\"showbackground\":true,\"ticks\":\"\",\"zerolinecolor\":\"white\"}},\"shapedefaults\":{\"line\":{\"color\":\"#2a3f5f\"}},\"ternary\":{\"aaxis\":{\"gridcolor\":\"white\",\"linecolor\":\"white\",\"ticks\":\"\"},\"baxis\":{\"gridcolor\":\"white\",\"linecolor\":\"white\",\"ticks\":\"\"},\"bgcolor\":\"#E5ECF6\",\"caxis\":{\"gridcolor\":\"white\",\"linecolor\":\"white\",\"ticks\":\"\"}},\"title\":{\"x\":0.05},\"xaxis\":{\"automargin\":true,\"gridcolor\":\"white\",\"linecolor\":\"white\",\"ticks\":\"\",\"title\":{\"standoff\":15},\"zerolinecolor\":\"white\",\"zerolinewidth\":2},\"yaxis\":{\"automargin\":true,\"gridcolor\":\"white\",\"linecolor\":\"white\",\"ticks\":\"\",\"title\":{\"standoff\":15},\"zerolinecolor\":\"white\",\"zerolinewidth\":2}}},\"xaxis\":{\"anchor\":\"y\",\"domain\":[0.0,0.2888888888888889],\"type\":\"log\",\"range\":[0,5]},\"yaxis\":{\"anchor\":\"x\",\"domain\":[0.0,1.0],\"range\":[0,1.2]},\"xaxis2\":{\"anchor\":\"y2\",\"domain\":[0.35555555555555557,0.6444444444444445],\"type\":\"log\",\"range\":[0,5]},\"yaxis2\":{\"anchor\":\"x2\",\"domain\":[0.0,1.0],\"range\":[0,1.2]},\"xaxis3\":{\"anchor\":\"y3\",\"domain\":[0.7111111111111111,1.0],\"type\":\"log\",\"range\":[0,5]},\"yaxis3\":{\"anchor\":\"x3\",\"domain\":[0.0,1.0],\"range\":[0,1.2]},\"annotations\":[{\"font\":{\"size\":16},\"showarrow\":false,\"text\":\"N vs Train Accuracy\",\"x\":0.14444444444444446,\"xanchor\":\"center\",\"xref\":\"paper\",\"y\":1.0,\"yanchor\":\"bottom\",\"yref\":\"paper\"},{\"font\":{\"size\":16},\"showarrow\":false,\"text\":\"N vs Test Accuracy\",\"x\":0.5,\"xanchor\":\"center\",\"xref\":\"paper\",\"y\":1.0,\"yanchor\":\"bottom\",\"yref\":\"paper\"},{\"font\":{\"size\":16},\"showarrow\":false,\"text\":\"N vs Accuracy Difference\",\"x\":0.8555555555555556,\"xanchor\":\"center\",\"xref\":\"paper\",\"y\":1.0,\"yanchor\":\"bottom\",\"yref\":\"paper\"}]},                        {\"responsive\": true}                    ).then(function(){\n",
       "                            \n",
       "var gd = document.getElementById('1fb9848e-65fa-4ed5-8a76-846520eb6a3f');\n",
       "var x = new MutationObserver(function (mutations, observer) {{\n",
       "        var display = window.getComputedStyle(gd).display;\n",
       "        if (!display || display === 'none') {{\n",
       "            console.log([gd, 'removed!']);\n",
       "            Plotly.purge(gd);\n",
       "            observer.disconnect();\n",
       "        }}\n",
       "}});\n",
       "\n",
       "// Listen for the removal of the full notebook cells\n",
       "var notebookContainer = gd.closest('#notebook-container');\n",
       "if (notebookContainer) {{\n",
       "    x.observe(notebookContainer, {childList: true});\n",
       "}}\n",
       "\n",
       "// Listen for the clearing of the current output cell\n",
       "var outputEl = gd.closest('.output');\n",
       "if (outputEl) {{\n",
       "    x.observe(outputEl, {childList: true});\n",
       "}}\n",
       "\n",
       "                        })                };                });            </script>        </div>"
      ]
     },
     "metadata": {},
     "output_type": "display_data"
    }
   ],
   "source": [
    "plotdata = results.query(\"Noise == 0.3 & Dataset == 'Moons' & Class == 'KNN' & Hyper_Parameter == 3\")\n",
    "plotdata\n",
    "\n",
    "\n",
    "fig = make_subplots(rows=1, cols=3 , subplot_titles=(\"N vs Train Accuracy\", \"N vs Test Accuracy\", \"N vs Accuracy Difference\"))\n",
    "\n",
    "# Add traces\n",
    "fig.add_trace(go.Scatter(x=plotdata['Samples'], y= plotdata['Train_Accuracy'],\n",
    "                    mode='markers',\n",
    "                    name='Train') ,  row=1, col=1)\n",
    "\n",
    "fig.add_trace(go.Scatter(x=plotdata['Samples'], y= plotdata['Test_Accuracy'],\n",
    "                    mode='markers',\n",
    "                    name='Test') ,  row=1, col=2)\n",
    "\n",
    "fig.add_trace(go.Scatter(x=plotdata['Samples'], y= plotdata['Accuracy_Difference'],\n",
    "                    mode='markers',\n",
    "                    name='Difference') ,  row=1, col=3)\n",
    "\n",
    "fig.update_xaxes(type=\"log\", range=[0,5])\n",
    "fig.update_yaxes(range=[0,1.2])"
   ]
  },
  {
   "cell_type": "code",
   "execution_count": 29,
   "id": "5bfd901c",
   "metadata": {},
   "outputs": [
    {
     "data": {
      "application/vnd.plotly.v1+json": {
       "config": {
        "plotlyServerURL": "https://plot.ly"
       },
       "data": [
        {
         "mode": "markers",
         "name": "Train",
         "type": "scatter",
         "x": [
          5,
          10,
          50,
          100,
          1000,
          10000
         ],
         "xaxis": "x",
         "y": [
          0.75,
          0.875,
          0.95,
          0.95,
          0.945,
          0.939125
         ],
         "yaxis": "y"
        },
        {
         "mode": "markers",
         "name": "Test",
         "type": "scatter",
         "x": [
          5,
          10,
          50,
          100,
          1000,
          10000
         ],
         "xaxis": "x2",
         "y": [
          0,
          0,
          0.7,
          0.9,
          0.915,
          0.89
         ],
         "yaxis": "y2"
        },
        {
         "mode": "markers",
         "name": "Difference",
         "type": "scatter",
         "x": [
          5,
          10,
          50,
          100,
          1000,
          10000
         ],
         "xaxis": "x3",
         "y": [
          0.75,
          0.875,
          0.25,
          0.04999999999999993,
          0.029999999999999916,
          0.049124999999999974
         ],
         "yaxis": "y3"
        }
       ],
       "layout": {
        "annotations": [
         {
          "font": {
           "size": 16
          },
          "showarrow": false,
          "text": "N vs Train Accuracy",
          "x": 0.14444444444444446,
          "xanchor": "center",
          "xref": "paper",
          "y": 1,
          "yanchor": "bottom",
          "yref": "paper"
         },
         {
          "font": {
           "size": 16
          },
          "showarrow": false,
          "text": "N vs Test Accuracy",
          "x": 0.5,
          "xanchor": "center",
          "xref": "paper",
          "y": 1,
          "yanchor": "bottom",
          "yref": "paper"
         },
         {
          "font": {
           "size": 16
          },
          "showarrow": false,
          "text": "N vs Accuracy Difference",
          "x": 0.8555555555555556,
          "xanchor": "center",
          "xref": "paper",
          "y": 1,
          "yanchor": "bottom",
          "yref": "paper"
         }
        ],
        "template": {
         "data": {
          "bar": [
           {
            "error_x": {
             "color": "#2a3f5f"
            },
            "error_y": {
             "color": "#2a3f5f"
            },
            "marker": {
             "line": {
              "color": "#E5ECF6",
              "width": 0.5
             },
             "pattern": {
              "fillmode": "overlay",
              "size": 10,
              "solidity": 0.2
             }
            },
            "type": "bar"
           }
          ],
          "barpolar": [
           {
            "marker": {
             "line": {
              "color": "#E5ECF6",
              "width": 0.5
             },
             "pattern": {
              "fillmode": "overlay",
              "size": 10,
              "solidity": 0.2
             }
            },
            "type": "barpolar"
           }
          ],
          "carpet": [
           {
            "aaxis": {
             "endlinecolor": "#2a3f5f",
             "gridcolor": "white",
             "linecolor": "white",
             "minorgridcolor": "white",
             "startlinecolor": "#2a3f5f"
            },
            "baxis": {
             "endlinecolor": "#2a3f5f",
             "gridcolor": "white",
             "linecolor": "white",
             "minorgridcolor": "white",
             "startlinecolor": "#2a3f5f"
            },
            "type": "carpet"
           }
          ],
          "choropleth": [
           {
            "colorbar": {
             "outlinewidth": 0,
             "ticks": ""
            },
            "type": "choropleth"
           }
          ],
          "contour": [
           {
            "colorbar": {
             "outlinewidth": 0,
             "ticks": ""
            },
            "colorscale": [
             [
              0,
              "#0d0887"
             ],
             [
              0.1111111111111111,
              "#46039f"
             ],
             [
              0.2222222222222222,
              "#7201a8"
             ],
             [
              0.3333333333333333,
              "#9c179e"
             ],
             [
              0.4444444444444444,
              "#bd3786"
             ],
             [
              0.5555555555555556,
              "#d8576b"
             ],
             [
              0.6666666666666666,
              "#ed7953"
             ],
             [
              0.7777777777777778,
              "#fb9f3a"
             ],
             [
              0.8888888888888888,
              "#fdca26"
             ],
             [
              1,
              "#f0f921"
             ]
            ],
            "type": "contour"
           }
          ],
          "contourcarpet": [
           {
            "colorbar": {
             "outlinewidth": 0,
             "ticks": ""
            },
            "type": "contourcarpet"
           }
          ],
          "heatmap": [
           {
            "colorbar": {
             "outlinewidth": 0,
             "ticks": ""
            },
            "colorscale": [
             [
              0,
              "#0d0887"
             ],
             [
              0.1111111111111111,
              "#46039f"
             ],
             [
              0.2222222222222222,
              "#7201a8"
             ],
             [
              0.3333333333333333,
              "#9c179e"
             ],
             [
              0.4444444444444444,
              "#bd3786"
             ],
             [
              0.5555555555555556,
              "#d8576b"
             ],
             [
              0.6666666666666666,
              "#ed7953"
             ],
             [
              0.7777777777777778,
              "#fb9f3a"
             ],
             [
              0.8888888888888888,
              "#fdca26"
             ],
             [
              1,
              "#f0f921"
             ]
            ],
            "type": "heatmap"
           }
          ],
          "heatmapgl": [
           {
            "colorbar": {
             "outlinewidth": 0,
             "ticks": ""
            },
            "colorscale": [
             [
              0,
              "#0d0887"
             ],
             [
              0.1111111111111111,
              "#46039f"
             ],
             [
              0.2222222222222222,
              "#7201a8"
             ],
             [
              0.3333333333333333,
              "#9c179e"
             ],
             [
              0.4444444444444444,
              "#bd3786"
             ],
             [
              0.5555555555555556,
              "#d8576b"
             ],
             [
              0.6666666666666666,
              "#ed7953"
             ],
             [
              0.7777777777777778,
              "#fb9f3a"
             ],
             [
              0.8888888888888888,
              "#fdca26"
             ],
             [
              1,
              "#f0f921"
             ]
            ],
            "type": "heatmapgl"
           }
          ],
          "histogram": [
           {
            "marker": {
             "pattern": {
              "fillmode": "overlay",
              "size": 10,
              "solidity": 0.2
             }
            },
            "type": "histogram"
           }
          ],
          "histogram2d": [
           {
            "colorbar": {
             "outlinewidth": 0,
             "ticks": ""
            },
            "colorscale": [
             [
              0,
              "#0d0887"
             ],
             [
              0.1111111111111111,
              "#46039f"
             ],
             [
              0.2222222222222222,
              "#7201a8"
             ],
             [
              0.3333333333333333,
              "#9c179e"
             ],
             [
              0.4444444444444444,
              "#bd3786"
             ],
             [
              0.5555555555555556,
              "#d8576b"
             ],
             [
              0.6666666666666666,
              "#ed7953"
             ],
             [
              0.7777777777777778,
              "#fb9f3a"
             ],
             [
              0.8888888888888888,
              "#fdca26"
             ],
             [
              1,
              "#f0f921"
             ]
            ],
            "type": "histogram2d"
           }
          ],
          "histogram2dcontour": [
           {
            "colorbar": {
             "outlinewidth": 0,
             "ticks": ""
            },
            "colorscale": [
             [
              0,
              "#0d0887"
             ],
             [
              0.1111111111111111,
              "#46039f"
             ],
             [
              0.2222222222222222,
              "#7201a8"
             ],
             [
              0.3333333333333333,
              "#9c179e"
             ],
             [
              0.4444444444444444,
              "#bd3786"
             ],
             [
              0.5555555555555556,
              "#d8576b"
             ],
             [
              0.6666666666666666,
              "#ed7953"
             ],
             [
              0.7777777777777778,
              "#fb9f3a"
             ],
             [
              0.8888888888888888,
              "#fdca26"
             ],
             [
              1,
              "#f0f921"
             ]
            ],
            "type": "histogram2dcontour"
           }
          ],
          "mesh3d": [
           {
            "colorbar": {
             "outlinewidth": 0,
             "ticks": ""
            },
            "type": "mesh3d"
           }
          ],
          "parcoords": [
           {
            "line": {
             "colorbar": {
              "outlinewidth": 0,
              "ticks": ""
             }
            },
            "type": "parcoords"
           }
          ],
          "pie": [
           {
            "automargin": true,
            "type": "pie"
           }
          ],
          "scatter": [
           {
            "marker": {
             "colorbar": {
              "outlinewidth": 0,
              "ticks": ""
             }
            },
            "type": "scatter"
           }
          ],
          "scatter3d": [
           {
            "line": {
             "colorbar": {
              "outlinewidth": 0,
              "ticks": ""
             }
            },
            "marker": {
             "colorbar": {
              "outlinewidth": 0,
              "ticks": ""
             }
            },
            "type": "scatter3d"
           }
          ],
          "scattercarpet": [
           {
            "marker": {
             "colorbar": {
              "outlinewidth": 0,
              "ticks": ""
             }
            },
            "type": "scattercarpet"
           }
          ],
          "scattergeo": [
           {
            "marker": {
             "colorbar": {
              "outlinewidth": 0,
              "ticks": ""
             }
            },
            "type": "scattergeo"
           }
          ],
          "scattergl": [
           {
            "marker": {
             "colorbar": {
              "outlinewidth": 0,
              "ticks": ""
             }
            },
            "type": "scattergl"
           }
          ],
          "scattermapbox": [
           {
            "marker": {
             "colorbar": {
              "outlinewidth": 0,
              "ticks": ""
             }
            },
            "type": "scattermapbox"
           }
          ],
          "scatterpolar": [
           {
            "marker": {
             "colorbar": {
              "outlinewidth": 0,
              "ticks": ""
             }
            },
            "type": "scatterpolar"
           }
          ],
          "scatterpolargl": [
           {
            "marker": {
             "colorbar": {
              "outlinewidth": 0,
              "ticks": ""
             }
            },
            "type": "scatterpolargl"
           }
          ],
          "scatterternary": [
           {
            "marker": {
             "colorbar": {
              "outlinewidth": 0,
              "ticks": ""
             }
            },
            "type": "scatterternary"
           }
          ],
          "surface": [
           {
            "colorbar": {
             "outlinewidth": 0,
             "ticks": ""
            },
            "colorscale": [
             [
              0,
              "#0d0887"
             ],
             [
              0.1111111111111111,
              "#46039f"
             ],
             [
              0.2222222222222222,
              "#7201a8"
             ],
             [
              0.3333333333333333,
              "#9c179e"
             ],
             [
              0.4444444444444444,
              "#bd3786"
             ],
             [
              0.5555555555555556,
              "#d8576b"
             ],
             [
              0.6666666666666666,
              "#ed7953"
             ],
             [
              0.7777777777777778,
              "#fb9f3a"
             ],
             [
              0.8888888888888888,
              "#fdca26"
             ],
             [
              1,
              "#f0f921"
             ]
            ],
            "type": "surface"
           }
          ],
          "table": [
           {
            "cells": {
             "fill": {
              "color": "#EBF0F8"
             },
             "line": {
              "color": "white"
             }
            },
            "header": {
             "fill": {
              "color": "#C8D4E3"
             },
             "line": {
              "color": "white"
             }
            },
            "type": "table"
           }
          ]
         },
         "layout": {
          "annotationdefaults": {
           "arrowcolor": "#2a3f5f",
           "arrowhead": 0,
           "arrowwidth": 1
          },
          "autotypenumbers": "strict",
          "coloraxis": {
           "colorbar": {
            "outlinewidth": 0,
            "ticks": ""
           }
          },
          "colorscale": {
           "diverging": [
            [
             0,
             "#8e0152"
            ],
            [
             0.1,
             "#c51b7d"
            ],
            [
             0.2,
             "#de77ae"
            ],
            [
             0.3,
             "#f1b6da"
            ],
            [
             0.4,
             "#fde0ef"
            ],
            [
             0.5,
             "#f7f7f7"
            ],
            [
             0.6,
             "#e6f5d0"
            ],
            [
             0.7,
             "#b8e186"
            ],
            [
             0.8,
             "#7fbc41"
            ],
            [
             0.9,
             "#4d9221"
            ],
            [
             1,
             "#276419"
            ]
           ],
           "sequential": [
            [
             0,
             "#0d0887"
            ],
            [
             0.1111111111111111,
             "#46039f"
            ],
            [
             0.2222222222222222,
             "#7201a8"
            ],
            [
             0.3333333333333333,
             "#9c179e"
            ],
            [
             0.4444444444444444,
             "#bd3786"
            ],
            [
             0.5555555555555556,
             "#d8576b"
            ],
            [
             0.6666666666666666,
             "#ed7953"
            ],
            [
             0.7777777777777778,
             "#fb9f3a"
            ],
            [
             0.8888888888888888,
             "#fdca26"
            ],
            [
             1,
             "#f0f921"
            ]
           ],
           "sequentialminus": [
            [
             0,
             "#0d0887"
            ],
            [
             0.1111111111111111,
             "#46039f"
            ],
            [
             0.2222222222222222,
             "#7201a8"
            ],
            [
             0.3333333333333333,
             "#9c179e"
            ],
            [
             0.4444444444444444,
             "#bd3786"
            ],
            [
             0.5555555555555556,
             "#d8576b"
            ],
            [
             0.6666666666666666,
             "#ed7953"
            ],
            [
             0.7777777777777778,
             "#fb9f3a"
            ],
            [
             0.8888888888888888,
             "#fdca26"
            ],
            [
             1,
             "#f0f921"
            ]
           ]
          },
          "colorway": [
           "#636efa",
           "#EF553B",
           "#00cc96",
           "#ab63fa",
           "#FFA15A",
           "#19d3f3",
           "#FF6692",
           "#B6E880",
           "#FF97FF",
           "#FECB52"
          ],
          "font": {
           "color": "#2a3f5f"
          },
          "geo": {
           "bgcolor": "white",
           "lakecolor": "white",
           "landcolor": "#E5ECF6",
           "showlakes": true,
           "showland": true,
           "subunitcolor": "white"
          },
          "hoverlabel": {
           "align": "left"
          },
          "hovermode": "closest",
          "mapbox": {
           "style": "light"
          },
          "paper_bgcolor": "white",
          "plot_bgcolor": "#E5ECF6",
          "polar": {
           "angularaxis": {
            "gridcolor": "white",
            "linecolor": "white",
            "ticks": ""
           },
           "bgcolor": "#E5ECF6",
           "radialaxis": {
            "gridcolor": "white",
            "linecolor": "white",
            "ticks": ""
           }
          },
          "scene": {
           "xaxis": {
            "backgroundcolor": "#E5ECF6",
            "gridcolor": "white",
            "gridwidth": 2,
            "linecolor": "white",
            "showbackground": true,
            "ticks": "",
            "zerolinecolor": "white"
           },
           "yaxis": {
            "backgroundcolor": "#E5ECF6",
            "gridcolor": "white",
            "gridwidth": 2,
            "linecolor": "white",
            "showbackground": true,
            "ticks": "",
            "zerolinecolor": "white"
           },
           "zaxis": {
            "backgroundcolor": "#E5ECF6",
            "gridcolor": "white",
            "gridwidth": 2,
            "linecolor": "white",
            "showbackground": true,
            "ticks": "",
            "zerolinecolor": "white"
           }
          },
          "shapedefaults": {
           "line": {
            "color": "#2a3f5f"
           }
          },
          "ternary": {
           "aaxis": {
            "gridcolor": "white",
            "linecolor": "white",
            "ticks": ""
           },
           "baxis": {
            "gridcolor": "white",
            "linecolor": "white",
            "ticks": ""
           },
           "bgcolor": "#E5ECF6",
           "caxis": {
            "gridcolor": "white",
            "linecolor": "white",
            "ticks": ""
           }
          },
          "title": {
           "x": 0.05
          },
          "xaxis": {
           "automargin": true,
           "gridcolor": "white",
           "linecolor": "white",
           "ticks": "",
           "title": {
            "standoff": 15
           },
           "zerolinecolor": "white",
           "zerolinewidth": 2
          },
          "yaxis": {
           "automargin": true,
           "gridcolor": "white",
           "linecolor": "white",
           "ticks": "",
           "title": {
            "standoff": 15
           },
           "zerolinecolor": "white",
           "zerolinewidth": 2
          }
         }
        },
        "xaxis": {
         "anchor": "y",
         "domain": [
          0,
          0.2888888888888889
         ],
         "range": [
          0,
          5
         ],
         "type": "log"
        },
        "xaxis2": {
         "anchor": "y2",
         "domain": [
          0.35555555555555557,
          0.6444444444444445
         ],
         "range": [
          0,
          5
         ],
         "type": "log"
        },
        "xaxis3": {
         "anchor": "y3",
         "domain": [
          0.7111111111111111,
          1
         ],
         "range": [
          0,
          5
         ],
         "type": "log"
        },
        "yaxis": {
         "anchor": "x",
         "domain": [
          0,
          1
         ],
         "range": [
          0,
          1.2
         ]
        },
        "yaxis2": {
         "anchor": "x2",
         "domain": [
          0,
          1
         ],
         "range": [
          0,
          1.2
         ]
        },
        "yaxis3": {
         "anchor": "x3",
         "domain": [
          0,
          1
         ],
         "range": [
          0,
          1.2
         ]
        }
       }
      },
      "text/html": [
       "<div>                            <div id=\"13c79e85-42b7-4d5e-90d3-a6422cb7da55\" class=\"plotly-graph-div\" style=\"height:525px; width:100%;\"></div>            <script type=\"text/javascript\">                require([\"plotly\"], function(Plotly) {                    window.PLOTLYENV=window.PLOTLYENV || {};                                    if (document.getElementById(\"13c79e85-42b7-4d5e-90d3-a6422cb7da55\")) {                    Plotly.newPlot(                        \"13c79e85-42b7-4d5e-90d3-a6422cb7da55\",                        [{\"mode\":\"markers\",\"name\":\"Train\",\"x\":[5,10,50,100,1000,10000],\"y\":[0.75,0.875,0.95,0.95,0.945,0.939125],\"type\":\"scatter\",\"xaxis\":\"x\",\"yaxis\":\"y\"},{\"mode\":\"markers\",\"name\":\"Test\",\"x\":[5,10,50,100,1000,10000],\"y\":[0.0,0.0,0.7,0.9,0.915,0.89],\"type\":\"scatter\",\"xaxis\":\"x2\",\"yaxis\":\"y2\"},{\"mode\":\"markers\",\"name\":\"Difference\",\"x\":[5,10,50,100,1000,10000],\"y\":[0.75,0.875,0.25,0.04999999999999993,0.029999999999999916,0.049124999999999974],\"type\":\"scatter\",\"xaxis\":\"x3\",\"yaxis\":\"y3\"}],                        {\"template\":{\"data\":{\"bar\":[{\"error_x\":{\"color\":\"#2a3f5f\"},\"error_y\":{\"color\":\"#2a3f5f\"},\"marker\":{\"line\":{\"color\":\"#E5ECF6\",\"width\":0.5},\"pattern\":{\"fillmode\":\"overlay\",\"size\":10,\"solidity\":0.2}},\"type\":\"bar\"}],\"barpolar\":[{\"marker\":{\"line\":{\"color\":\"#E5ECF6\",\"width\":0.5},\"pattern\":{\"fillmode\":\"overlay\",\"size\":10,\"solidity\":0.2}},\"type\":\"barpolar\"}],\"carpet\":[{\"aaxis\":{\"endlinecolor\":\"#2a3f5f\",\"gridcolor\":\"white\",\"linecolor\":\"white\",\"minorgridcolor\":\"white\",\"startlinecolor\":\"#2a3f5f\"},\"baxis\":{\"endlinecolor\":\"#2a3f5f\",\"gridcolor\":\"white\",\"linecolor\":\"white\",\"minorgridcolor\":\"white\",\"startlinecolor\":\"#2a3f5f\"},\"type\":\"carpet\"}],\"choropleth\":[{\"colorbar\":{\"outlinewidth\":0,\"ticks\":\"\"},\"type\":\"choropleth\"}],\"contour\":[{\"colorbar\":{\"outlinewidth\":0,\"ticks\":\"\"},\"colorscale\":[[0.0,\"#0d0887\"],[0.1111111111111111,\"#46039f\"],[0.2222222222222222,\"#7201a8\"],[0.3333333333333333,\"#9c179e\"],[0.4444444444444444,\"#bd3786\"],[0.5555555555555556,\"#d8576b\"],[0.6666666666666666,\"#ed7953\"],[0.7777777777777778,\"#fb9f3a\"],[0.8888888888888888,\"#fdca26\"],[1.0,\"#f0f921\"]],\"type\":\"contour\"}],\"contourcarpet\":[{\"colorbar\":{\"outlinewidth\":0,\"ticks\":\"\"},\"type\":\"contourcarpet\"}],\"heatmap\":[{\"colorbar\":{\"outlinewidth\":0,\"ticks\":\"\"},\"colorscale\":[[0.0,\"#0d0887\"],[0.1111111111111111,\"#46039f\"],[0.2222222222222222,\"#7201a8\"],[0.3333333333333333,\"#9c179e\"],[0.4444444444444444,\"#bd3786\"],[0.5555555555555556,\"#d8576b\"],[0.6666666666666666,\"#ed7953\"],[0.7777777777777778,\"#fb9f3a\"],[0.8888888888888888,\"#fdca26\"],[1.0,\"#f0f921\"]],\"type\":\"heatmap\"}],\"heatmapgl\":[{\"colorbar\":{\"outlinewidth\":0,\"ticks\":\"\"},\"colorscale\":[[0.0,\"#0d0887\"],[0.1111111111111111,\"#46039f\"],[0.2222222222222222,\"#7201a8\"],[0.3333333333333333,\"#9c179e\"],[0.4444444444444444,\"#bd3786\"],[0.5555555555555556,\"#d8576b\"],[0.6666666666666666,\"#ed7953\"],[0.7777777777777778,\"#fb9f3a\"],[0.8888888888888888,\"#fdca26\"],[1.0,\"#f0f921\"]],\"type\":\"heatmapgl\"}],\"histogram\":[{\"marker\":{\"pattern\":{\"fillmode\":\"overlay\",\"size\":10,\"solidity\":0.2}},\"type\":\"histogram\"}],\"histogram2d\":[{\"colorbar\":{\"outlinewidth\":0,\"ticks\":\"\"},\"colorscale\":[[0.0,\"#0d0887\"],[0.1111111111111111,\"#46039f\"],[0.2222222222222222,\"#7201a8\"],[0.3333333333333333,\"#9c179e\"],[0.4444444444444444,\"#bd3786\"],[0.5555555555555556,\"#d8576b\"],[0.6666666666666666,\"#ed7953\"],[0.7777777777777778,\"#fb9f3a\"],[0.8888888888888888,\"#fdca26\"],[1.0,\"#f0f921\"]],\"type\":\"histogram2d\"}],\"histogram2dcontour\":[{\"colorbar\":{\"outlinewidth\":0,\"ticks\":\"\"},\"colorscale\":[[0.0,\"#0d0887\"],[0.1111111111111111,\"#46039f\"],[0.2222222222222222,\"#7201a8\"],[0.3333333333333333,\"#9c179e\"],[0.4444444444444444,\"#bd3786\"],[0.5555555555555556,\"#d8576b\"],[0.6666666666666666,\"#ed7953\"],[0.7777777777777778,\"#fb9f3a\"],[0.8888888888888888,\"#fdca26\"],[1.0,\"#f0f921\"]],\"type\":\"histogram2dcontour\"}],\"mesh3d\":[{\"colorbar\":{\"outlinewidth\":0,\"ticks\":\"\"},\"type\":\"mesh3d\"}],\"parcoords\":[{\"line\":{\"colorbar\":{\"outlinewidth\":0,\"ticks\":\"\"}},\"type\":\"parcoords\"}],\"pie\":[{\"automargin\":true,\"type\":\"pie\"}],\"scatter\":[{\"marker\":{\"colorbar\":{\"outlinewidth\":0,\"ticks\":\"\"}},\"type\":\"scatter\"}],\"scatter3d\":[{\"line\":{\"colorbar\":{\"outlinewidth\":0,\"ticks\":\"\"}},\"marker\":{\"colorbar\":{\"outlinewidth\":0,\"ticks\":\"\"}},\"type\":\"scatter3d\"}],\"scattercarpet\":[{\"marker\":{\"colorbar\":{\"outlinewidth\":0,\"ticks\":\"\"}},\"type\":\"scattercarpet\"}],\"scattergeo\":[{\"marker\":{\"colorbar\":{\"outlinewidth\":0,\"ticks\":\"\"}},\"type\":\"scattergeo\"}],\"scattergl\":[{\"marker\":{\"colorbar\":{\"outlinewidth\":0,\"ticks\":\"\"}},\"type\":\"scattergl\"}],\"scattermapbox\":[{\"marker\":{\"colorbar\":{\"outlinewidth\":0,\"ticks\":\"\"}},\"type\":\"scattermapbox\"}],\"scatterpolar\":[{\"marker\":{\"colorbar\":{\"outlinewidth\":0,\"ticks\":\"\"}},\"type\":\"scatterpolar\"}],\"scatterpolargl\":[{\"marker\":{\"colorbar\":{\"outlinewidth\":0,\"ticks\":\"\"}},\"type\":\"scatterpolargl\"}],\"scatterternary\":[{\"marker\":{\"colorbar\":{\"outlinewidth\":0,\"ticks\":\"\"}},\"type\":\"scatterternary\"}],\"surface\":[{\"colorbar\":{\"outlinewidth\":0,\"ticks\":\"\"},\"colorscale\":[[0.0,\"#0d0887\"],[0.1111111111111111,\"#46039f\"],[0.2222222222222222,\"#7201a8\"],[0.3333333333333333,\"#9c179e\"],[0.4444444444444444,\"#bd3786\"],[0.5555555555555556,\"#d8576b\"],[0.6666666666666666,\"#ed7953\"],[0.7777777777777778,\"#fb9f3a\"],[0.8888888888888888,\"#fdca26\"],[1.0,\"#f0f921\"]],\"type\":\"surface\"}],\"table\":[{\"cells\":{\"fill\":{\"color\":\"#EBF0F8\"},\"line\":{\"color\":\"white\"}},\"header\":{\"fill\":{\"color\":\"#C8D4E3\"},\"line\":{\"color\":\"white\"}},\"type\":\"table\"}]},\"layout\":{\"annotationdefaults\":{\"arrowcolor\":\"#2a3f5f\",\"arrowhead\":0,\"arrowwidth\":1},\"autotypenumbers\":\"strict\",\"coloraxis\":{\"colorbar\":{\"outlinewidth\":0,\"ticks\":\"\"}},\"colorscale\":{\"diverging\":[[0,\"#8e0152\"],[0.1,\"#c51b7d\"],[0.2,\"#de77ae\"],[0.3,\"#f1b6da\"],[0.4,\"#fde0ef\"],[0.5,\"#f7f7f7\"],[0.6,\"#e6f5d0\"],[0.7,\"#b8e186\"],[0.8,\"#7fbc41\"],[0.9,\"#4d9221\"],[1,\"#276419\"]],\"sequential\":[[0.0,\"#0d0887\"],[0.1111111111111111,\"#46039f\"],[0.2222222222222222,\"#7201a8\"],[0.3333333333333333,\"#9c179e\"],[0.4444444444444444,\"#bd3786\"],[0.5555555555555556,\"#d8576b\"],[0.6666666666666666,\"#ed7953\"],[0.7777777777777778,\"#fb9f3a\"],[0.8888888888888888,\"#fdca26\"],[1.0,\"#f0f921\"]],\"sequentialminus\":[[0.0,\"#0d0887\"],[0.1111111111111111,\"#46039f\"],[0.2222222222222222,\"#7201a8\"],[0.3333333333333333,\"#9c179e\"],[0.4444444444444444,\"#bd3786\"],[0.5555555555555556,\"#d8576b\"],[0.6666666666666666,\"#ed7953\"],[0.7777777777777778,\"#fb9f3a\"],[0.8888888888888888,\"#fdca26\"],[1.0,\"#f0f921\"]]},\"colorway\":[\"#636efa\",\"#EF553B\",\"#00cc96\",\"#ab63fa\",\"#FFA15A\",\"#19d3f3\",\"#FF6692\",\"#B6E880\",\"#FF97FF\",\"#FECB52\"],\"font\":{\"color\":\"#2a3f5f\"},\"geo\":{\"bgcolor\":\"white\",\"lakecolor\":\"white\",\"landcolor\":\"#E5ECF6\",\"showlakes\":true,\"showland\":true,\"subunitcolor\":\"white\"},\"hoverlabel\":{\"align\":\"left\"},\"hovermode\":\"closest\",\"mapbox\":{\"style\":\"light\"},\"paper_bgcolor\":\"white\",\"plot_bgcolor\":\"#E5ECF6\",\"polar\":{\"angularaxis\":{\"gridcolor\":\"white\",\"linecolor\":\"white\",\"ticks\":\"\"},\"bgcolor\":\"#E5ECF6\",\"radialaxis\":{\"gridcolor\":\"white\",\"linecolor\":\"white\",\"ticks\":\"\"}},\"scene\":{\"xaxis\":{\"backgroundcolor\":\"#E5ECF6\",\"gridcolor\":\"white\",\"gridwidth\":2,\"linecolor\":\"white\",\"showbackground\":true,\"ticks\":\"\",\"zerolinecolor\":\"white\"},\"yaxis\":{\"backgroundcolor\":\"#E5ECF6\",\"gridcolor\":\"white\",\"gridwidth\":2,\"linecolor\":\"white\",\"showbackground\":true,\"ticks\":\"\",\"zerolinecolor\":\"white\"},\"zaxis\":{\"backgroundcolor\":\"#E5ECF6\",\"gridcolor\":\"white\",\"gridwidth\":2,\"linecolor\":\"white\",\"showbackground\":true,\"ticks\":\"\",\"zerolinecolor\":\"white\"}},\"shapedefaults\":{\"line\":{\"color\":\"#2a3f5f\"}},\"ternary\":{\"aaxis\":{\"gridcolor\":\"white\",\"linecolor\":\"white\",\"ticks\":\"\"},\"baxis\":{\"gridcolor\":\"white\",\"linecolor\":\"white\",\"ticks\":\"\"},\"bgcolor\":\"#E5ECF6\",\"caxis\":{\"gridcolor\":\"white\",\"linecolor\":\"white\",\"ticks\":\"\"}},\"title\":{\"x\":0.05},\"xaxis\":{\"automargin\":true,\"gridcolor\":\"white\",\"linecolor\":\"white\",\"ticks\":\"\",\"title\":{\"standoff\":15},\"zerolinecolor\":\"white\",\"zerolinewidth\":2},\"yaxis\":{\"automargin\":true,\"gridcolor\":\"white\",\"linecolor\":\"white\",\"ticks\":\"\",\"title\":{\"standoff\":15},\"zerolinecolor\":\"white\",\"zerolinewidth\":2}}},\"xaxis\":{\"anchor\":\"y\",\"domain\":[0.0,0.2888888888888889],\"type\":\"log\",\"range\":[0,5]},\"yaxis\":{\"anchor\":\"x\",\"domain\":[0.0,1.0],\"range\":[0,1.2]},\"xaxis2\":{\"anchor\":\"y2\",\"domain\":[0.35555555555555557,0.6444444444444445],\"type\":\"log\",\"range\":[0,5]},\"yaxis2\":{\"anchor\":\"x2\",\"domain\":[0.0,1.0],\"range\":[0,1.2]},\"xaxis3\":{\"anchor\":\"y3\",\"domain\":[0.7111111111111111,1.0],\"type\":\"log\",\"range\":[0,5]},\"yaxis3\":{\"anchor\":\"x3\",\"domain\":[0.0,1.0],\"range\":[0,1.2]},\"annotations\":[{\"font\":{\"size\":16},\"showarrow\":false,\"text\":\"N vs Train Accuracy\",\"x\":0.14444444444444446,\"xanchor\":\"center\",\"xref\":\"paper\",\"y\":1.0,\"yanchor\":\"bottom\",\"yref\":\"paper\"},{\"font\":{\"size\":16},\"showarrow\":false,\"text\":\"N vs Test Accuracy\",\"x\":0.5,\"xanchor\":\"center\",\"xref\":\"paper\",\"y\":1.0,\"yanchor\":\"bottom\",\"yref\":\"paper\"},{\"font\":{\"size\":16},\"showarrow\":false,\"text\":\"N vs Accuracy Difference\",\"x\":0.8555555555555556,\"xanchor\":\"center\",\"xref\":\"paper\",\"y\":1.0,\"yanchor\":\"bottom\",\"yref\":\"paper\"}]},                        {\"responsive\": true}                    ).then(function(){\n",
       "                            \n",
       "var gd = document.getElementById('13c79e85-42b7-4d5e-90d3-a6422cb7da55');\n",
       "var x = new MutationObserver(function (mutations, observer) {{\n",
       "        var display = window.getComputedStyle(gd).display;\n",
       "        if (!display || display === 'none') {{\n",
       "            console.log([gd, 'removed!']);\n",
       "            Plotly.purge(gd);\n",
       "            observer.disconnect();\n",
       "        }}\n",
       "}});\n",
       "\n",
       "// Listen for the removal of the full notebook cells\n",
       "var notebookContainer = gd.closest('#notebook-container');\n",
       "if (notebookContainer) {{\n",
       "    x.observe(notebookContainer, {childList: true});\n",
       "}}\n",
       "\n",
       "// Listen for the clearing of the current output cell\n",
       "var outputEl = gd.closest('.output');\n",
       "if (outputEl) {{\n",
       "    x.observe(outputEl, {childList: true});\n",
       "}}\n",
       "\n",
       "                        })                };                });            </script>        </div>"
      ]
     },
     "metadata": {},
     "output_type": "display_data"
    }
   ],
   "source": [
    "plotdata = results.query(\"Noise == 0.3 & Dataset == 'Circles' & Class == 'KNN' & Hyper_Parameter == 3\")\n",
    "plotdata\n",
    "\n",
    "\n",
    "fig = make_subplots(rows=1, cols=3 , subplot_titles=(\"N vs Train Accuracy\", \"N vs Test Accuracy\", \"N vs Accuracy Difference\"))\n",
    "\n",
    "# Add traces\n",
    "fig.add_trace(go.Scatter(x=plotdata['Samples'], y= plotdata['Train_Accuracy'],\n",
    "                    mode='markers',\n",
    "                    name='Train') ,  row=1, col=1)\n",
    "\n",
    "fig.add_trace(go.Scatter(x=plotdata['Samples'], y= plotdata['Test_Accuracy'],\n",
    "                    mode='markers',\n",
    "                    name='Test') ,  row=1, col=2)\n",
    "\n",
    "fig.add_trace(go.Scatter(x=plotdata['Samples'], y= plotdata['Accuracy_Difference'],\n",
    "                    mode='markers',\n",
    "                    name='Difference') ,  row=1, col=3)\n",
    "\n",
    "fig.update_xaxes(type=\"log\", range=[0,5])\n",
    "fig.update_yaxes(range=[0,1.2])"
   ]
  },
  {
   "cell_type": "markdown",
   "id": "ee77d322",
   "metadata": {},
   "source": [
    "# Q5"
   ]
  },
  {
   "cell_type": "code",
   "execution_count": 30,
   "id": "af48740f",
   "metadata": {},
   "outputs": [
    {
     "data": {
      "application/vnd.plotly.v1+json": {
       "config": {
        "plotlyServerURL": "https://plot.ly"
       },
       "data": [
        {
         "mode": "markers",
         "name": "Train",
         "type": "scatter",
         "x": [
          1,
          3,
          5,
          7,
          9,
          11,
          13,
          15,
          17,
          19
         ],
         "xaxis": "x",
         "y": [
          1,
          0.783375,
          0.730375,
          0.693125,
          0.676125,
          0.67925,
          0.672,
          0.665375,
          0.661125,
          0.657125
         ],
         "yaxis": "y"
        },
        {
         "mode": "markers",
         "name": "Test",
         "type": "scatter",
         "x": [
          1,
          3,
          5,
          7,
          9,
          11,
          13,
          15,
          17,
          19
         ],
         "xaxis": "x2",
         "y": [
          0.535,
          0.5575,
          0.564,
          0.5755,
          0.5695,
          0.5735,
          0.572,
          0.572,
          0.5835,
          0.586
         ],
         "yaxis": "y2"
        },
        {
         "mode": "markers",
         "name": "Difference",
         "type": "scatter",
         "x": [
          1,
          3,
          5,
          7,
          9,
          11,
          13,
          15,
          17,
          19
         ],
         "xaxis": "x3",
         "y": [
          0.46499999999999997,
          0.22587500000000005,
          0.16637500000000005,
          0.11762499999999998,
          0.10662499999999997,
          0.10575000000000001,
          0.10000000000000009,
          0.0933750000000001,
          0.07762499999999994,
          0.071125
         ],
         "yaxis": "y3"
        }
       ],
       "layout": {
        "annotations": [
         {
          "font": {
           "size": 16
          },
          "showarrow": false,
          "text": "Hyper Parameter vs Train Accuracy",
          "x": 0.14444444444444446,
          "xanchor": "center",
          "xref": "paper",
          "y": 1,
          "yanchor": "bottom",
          "yref": "paper"
         },
         {
          "font": {
           "size": 16
          },
          "showarrow": false,
          "text": "Hyper Parameter vs Test Accuracy",
          "x": 0.5,
          "xanchor": "center",
          "xref": "paper",
          "y": 1,
          "yanchor": "bottom",
          "yref": "paper"
         },
         {
          "font": {
           "size": 16
          },
          "showarrow": false,
          "text": "Hyper Parameter vs Accuracy Difference",
          "x": 0.8555555555555556,
          "xanchor": "center",
          "xref": "paper",
          "y": 1,
          "yanchor": "bottom",
          "yref": "paper"
         }
        ],
        "template": {
         "data": {
          "bar": [
           {
            "error_x": {
             "color": "#2a3f5f"
            },
            "error_y": {
             "color": "#2a3f5f"
            },
            "marker": {
             "line": {
              "color": "#E5ECF6",
              "width": 0.5
             },
             "pattern": {
              "fillmode": "overlay",
              "size": 10,
              "solidity": 0.2
             }
            },
            "type": "bar"
           }
          ],
          "barpolar": [
           {
            "marker": {
             "line": {
              "color": "#E5ECF6",
              "width": 0.5
             },
             "pattern": {
              "fillmode": "overlay",
              "size": 10,
              "solidity": 0.2
             }
            },
            "type": "barpolar"
           }
          ],
          "carpet": [
           {
            "aaxis": {
             "endlinecolor": "#2a3f5f",
             "gridcolor": "white",
             "linecolor": "white",
             "minorgridcolor": "white",
             "startlinecolor": "#2a3f5f"
            },
            "baxis": {
             "endlinecolor": "#2a3f5f",
             "gridcolor": "white",
             "linecolor": "white",
             "minorgridcolor": "white",
             "startlinecolor": "#2a3f5f"
            },
            "type": "carpet"
           }
          ],
          "choropleth": [
           {
            "colorbar": {
             "outlinewidth": 0,
             "ticks": ""
            },
            "type": "choropleth"
           }
          ],
          "contour": [
           {
            "colorbar": {
             "outlinewidth": 0,
             "ticks": ""
            },
            "colorscale": [
             [
              0,
              "#0d0887"
             ],
             [
              0.1111111111111111,
              "#46039f"
             ],
             [
              0.2222222222222222,
              "#7201a8"
             ],
             [
              0.3333333333333333,
              "#9c179e"
             ],
             [
              0.4444444444444444,
              "#bd3786"
             ],
             [
              0.5555555555555556,
              "#d8576b"
             ],
             [
              0.6666666666666666,
              "#ed7953"
             ],
             [
              0.7777777777777778,
              "#fb9f3a"
             ],
             [
              0.8888888888888888,
              "#fdca26"
             ],
             [
              1,
              "#f0f921"
             ]
            ],
            "type": "contour"
           }
          ],
          "contourcarpet": [
           {
            "colorbar": {
             "outlinewidth": 0,
             "ticks": ""
            },
            "type": "contourcarpet"
           }
          ],
          "heatmap": [
           {
            "colorbar": {
             "outlinewidth": 0,
             "ticks": ""
            },
            "colorscale": [
             [
              0,
              "#0d0887"
             ],
             [
              0.1111111111111111,
              "#46039f"
             ],
             [
              0.2222222222222222,
              "#7201a8"
             ],
             [
              0.3333333333333333,
              "#9c179e"
             ],
             [
              0.4444444444444444,
              "#bd3786"
             ],
             [
              0.5555555555555556,
              "#d8576b"
             ],
             [
              0.6666666666666666,
              "#ed7953"
             ],
             [
              0.7777777777777778,
              "#fb9f3a"
             ],
             [
              0.8888888888888888,
              "#fdca26"
             ],
             [
              1,
              "#f0f921"
             ]
            ],
            "type": "heatmap"
           }
          ],
          "heatmapgl": [
           {
            "colorbar": {
             "outlinewidth": 0,
             "ticks": ""
            },
            "colorscale": [
             [
              0,
              "#0d0887"
             ],
             [
              0.1111111111111111,
              "#46039f"
             ],
             [
              0.2222222222222222,
              "#7201a8"
             ],
             [
              0.3333333333333333,
              "#9c179e"
             ],
             [
              0.4444444444444444,
              "#bd3786"
             ],
             [
              0.5555555555555556,
              "#d8576b"
             ],
             [
              0.6666666666666666,
              "#ed7953"
             ],
             [
              0.7777777777777778,
              "#fb9f3a"
             ],
             [
              0.8888888888888888,
              "#fdca26"
             ],
             [
              1,
              "#f0f921"
             ]
            ],
            "type": "heatmapgl"
           }
          ],
          "histogram": [
           {
            "marker": {
             "pattern": {
              "fillmode": "overlay",
              "size": 10,
              "solidity": 0.2
             }
            },
            "type": "histogram"
           }
          ],
          "histogram2d": [
           {
            "colorbar": {
             "outlinewidth": 0,
             "ticks": ""
            },
            "colorscale": [
             [
              0,
              "#0d0887"
             ],
             [
              0.1111111111111111,
              "#46039f"
             ],
             [
              0.2222222222222222,
              "#7201a8"
             ],
             [
              0.3333333333333333,
              "#9c179e"
             ],
             [
              0.4444444444444444,
              "#bd3786"
             ],
             [
              0.5555555555555556,
              "#d8576b"
             ],
             [
              0.6666666666666666,
              "#ed7953"
             ],
             [
              0.7777777777777778,
              "#fb9f3a"
             ],
             [
              0.8888888888888888,
              "#fdca26"
             ],
             [
              1,
              "#f0f921"
             ]
            ],
            "type": "histogram2d"
           }
          ],
          "histogram2dcontour": [
           {
            "colorbar": {
             "outlinewidth": 0,
             "ticks": ""
            },
            "colorscale": [
             [
              0,
              "#0d0887"
             ],
             [
              0.1111111111111111,
              "#46039f"
             ],
             [
              0.2222222222222222,
              "#7201a8"
             ],
             [
              0.3333333333333333,
              "#9c179e"
             ],
             [
              0.4444444444444444,
              "#bd3786"
             ],
             [
              0.5555555555555556,
              "#d8576b"
             ],
             [
              0.6666666666666666,
              "#ed7953"
             ],
             [
              0.7777777777777778,
              "#fb9f3a"
             ],
             [
              0.8888888888888888,
              "#fdca26"
             ],
             [
              1,
              "#f0f921"
             ]
            ],
            "type": "histogram2dcontour"
           }
          ],
          "mesh3d": [
           {
            "colorbar": {
             "outlinewidth": 0,
             "ticks": ""
            },
            "type": "mesh3d"
           }
          ],
          "parcoords": [
           {
            "line": {
             "colorbar": {
              "outlinewidth": 0,
              "ticks": ""
             }
            },
            "type": "parcoords"
           }
          ],
          "pie": [
           {
            "automargin": true,
            "type": "pie"
           }
          ],
          "scatter": [
           {
            "marker": {
             "colorbar": {
              "outlinewidth": 0,
              "ticks": ""
             }
            },
            "type": "scatter"
           }
          ],
          "scatter3d": [
           {
            "line": {
             "colorbar": {
              "outlinewidth": 0,
              "ticks": ""
             }
            },
            "marker": {
             "colorbar": {
              "outlinewidth": 0,
              "ticks": ""
             }
            },
            "type": "scatter3d"
           }
          ],
          "scattercarpet": [
           {
            "marker": {
             "colorbar": {
              "outlinewidth": 0,
              "ticks": ""
             }
            },
            "type": "scattercarpet"
           }
          ],
          "scattergeo": [
           {
            "marker": {
             "colorbar": {
              "outlinewidth": 0,
              "ticks": ""
             }
            },
            "type": "scattergeo"
           }
          ],
          "scattergl": [
           {
            "marker": {
             "colorbar": {
              "outlinewidth": 0,
              "ticks": ""
             }
            },
            "type": "scattergl"
           }
          ],
          "scattermapbox": [
           {
            "marker": {
             "colorbar": {
              "outlinewidth": 0,
              "ticks": ""
             }
            },
            "type": "scattermapbox"
           }
          ],
          "scatterpolar": [
           {
            "marker": {
             "colorbar": {
              "outlinewidth": 0,
              "ticks": ""
             }
            },
            "type": "scatterpolar"
           }
          ],
          "scatterpolargl": [
           {
            "marker": {
             "colorbar": {
              "outlinewidth": 0,
              "ticks": ""
             }
            },
            "type": "scatterpolargl"
           }
          ],
          "scatterternary": [
           {
            "marker": {
             "colorbar": {
              "outlinewidth": 0,
              "ticks": ""
             }
            },
            "type": "scatterternary"
           }
          ],
          "surface": [
           {
            "colorbar": {
             "outlinewidth": 0,
             "ticks": ""
            },
            "colorscale": [
             [
              0,
              "#0d0887"
             ],
             [
              0.1111111111111111,
              "#46039f"
             ],
             [
              0.2222222222222222,
              "#7201a8"
             ],
             [
              0.3333333333333333,
              "#9c179e"
             ],
             [
              0.4444444444444444,
              "#bd3786"
             ],
             [
              0.5555555555555556,
              "#d8576b"
             ],
             [
              0.6666666666666666,
              "#ed7953"
             ],
             [
              0.7777777777777778,
              "#fb9f3a"
             ],
             [
              0.8888888888888888,
              "#fdca26"
             ],
             [
              1,
              "#f0f921"
             ]
            ],
            "type": "surface"
           }
          ],
          "table": [
           {
            "cells": {
             "fill": {
              "color": "#EBF0F8"
             },
             "line": {
              "color": "white"
             }
            },
            "header": {
             "fill": {
              "color": "#C8D4E3"
             },
             "line": {
              "color": "white"
             }
            },
            "type": "table"
           }
          ]
         },
         "layout": {
          "annotationdefaults": {
           "arrowcolor": "#2a3f5f",
           "arrowhead": 0,
           "arrowwidth": 1
          },
          "autotypenumbers": "strict",
          "coloraxis": {
           "colorbar": {
            "outlinewidth": 0,
            "ticks": ""
           }
          },
          "colorscale": {
           "diverging": [
            [
             0,
             "#8e0152"
            ],
            [
             0.1,
             "#c51b7d"
            ],
            [
             0.2,
             "#de77ae"
            ],
            [
             0.3,
             "#f1b6da"
            ],
            [
             0.4,
             "#fde0ef"
            ],
            [
             0.5,
             "#f7f7f7"
            ],
            [
             0.6,
             "#e6f5d0"
            ],
            [
             0.7,
             "#b8e186"
            ],
            [
             0.8,
             "#7fbc41"
            ],
            [
             0.9,
             "#4d9221"
            ],
            [
             1,
             "#276419"
            ]
           ],
           "sequential": [
            [
             0,
             "#0d0887"
            ],
            [
             0.1111111111111111,
             "#46039f"
            ],
            [
             0.2222222222222222,
             "#7201a8"
            ],
            [
             0.3333333333333333,
             "#9c179e"
            ],
            [
             0.4444444444444444,
             "#bd3786"
            ],
            [
             0.5555555555555556,
             "#d8576b"
            ],
            [
             0.6666666666666666,
             "#ed7953"
            ],
            [
             0.7777777777777778,
             "#fb9f3a"
            ],
            [
             0.8888888888888888,
             "#fdca26"
            ],
            [
             1,
             "#f0f921"
            ]
           ],
           "sequentialminus": [
            [
             0,
             "#0d0887"
            ],
            [
             0.1111111111111111,
             "#46039f"
            ],
            [
             0.2222222222222222,
             "#7201a8"
            ],
            [
             0.3333333333333333,
             "#9c179e"
            ],
            [
             0.4444444444444444,
             "#bd3786"
            ],
            [
             0.5555555555555556,
             "#d8576b"
            ],
            [
             0.6666666666666666,
             "#ed7953"
            ],
            [
             0.7777777777777778,
             "#fb9f3a"
            ],
            [
             0.8888888888888888,
             "#fdca26"
            ],
            [
             1,
             "#f0f921"
            ]
           ]
          },
          "colorway": [
           "#636efa",
           "#EF553B",
           "#00cc96",
           "#ab63fa",
           "#FFA15A",
           "#19d3f3",
           "#FF6692",
           "#B6E880",
           "#FF97FF",
           "#FECB52"
          ],
          "font": {
           "color": "#2a3f5f"
          },
          "geo": {
           "bgcolor": "white",
           "lakecolor": "white",
           "landcolor": "#E5ECF6",
           "showlakes": true,
           "showland": true,
           "subunitcolor": "white"
          },
          "hoverlabel": {
           "align": "left"
          },
          "hovermode": "closest",
          "mapbox": {
           "style": "light"
          },
          "paper_bgcolor": "white",
          "plot_bgcolor": "#E5ECF6",
          "polar": {
           "angularaxis": {
            "gridcolor": "white",
            "linecolor": "white",
            "ticks": ""
           },
           "bgcolor": "#E5ECF6",
           "radialaxis": {
            "gridcolor": "white",
            "linecolor": "white",
            "ticks": ""
           }
          },
          "scene": {
           "xaxis": {
            "backgroundcolor": "#E5ECF6",
            "gridcolor": "white",
            "gridwidth": 2,
            "linecolor": "white",
            "showbackground": true,
            "ticks": "",
            "zerolinecolor": "white"
           },
           "yaxis": {
            "backgroundcolor": "#E5ECF6",
            "gridcolor": "white",
            "gridwidth": 2,
            "linecolor": "white",
            "showbackground": true,
            "ticks": "",
            "zerolinecolor": "white"
           },
           "zaxis": {
            "backgroundcolor": "#E5ECF6",
            "gridcolor": "white",
            "gridwidth": 2,
            "linecolor": "white",
            "showbackground": true,
            "ticks": "",
            "zerolinecolor": "white"
           }
          },
          "shapedefaults": {
           "line": {
            "color": "#2a3f5f"
           }
          },
          "ternary": {
           "aaxis": {
            "gridcolor": "white",
            "linecolor": "white",
            "ticks": ""
           },
           "baxis": {
            "gridcolor": "white",
            "linecolor": "white",
            "ticks": ""
           },
           "bgcolor": "#E5ECF6",
           "caxis": {
            "gridcolor": "white",
            "linecolor": "white",
            "ticks": ""
           }
          },
          "title": {
           "x": 0.05
          },
          "xaxis": {
           "automargin": true,
           "gridcolor": "white",
           "linecolor": "white",
           "ticks": "",
           "title": {
            "standoff": 15
           },
           "zerolinecolor": "white",
           "zerolinewidth": 2
          },
          "yaxis": {
           "automargin": true,
           "gridcolor": "white",
           "linecolor": "white",
           "ticks": "",
           "title": {
            "standoff": 15
           },
           "zerolinecolor": "white",
           "zerolinewidth": 2
          }
         }
        },
        "xaxis": {
         "anchor": "y",
         "domain": [
          0,
          0.2888888888888889
         ],
         "range": [
          0,
          20
         ]
        },
        "xaxis2": {
         "anchor": "y2",
         "domain": [
          0.35555555555555557,
          0.6444444444444445
         ],
         "range": [
          0,
          20
         ]
        },
        "xaxis3": {
         "anchor": "y3",
         "domain": [
          0.7111111111111111,
          1
         ],
         "range": [
          0,
          20
         ]
        },
        "yaxis": {
         "anchor": "x",
         "domain": [
          0,
          1
         ],
         "range": [
          -0.1,
          1.2
         ]
        },
        "yaxis2": {
         "anchor": "x2",
         "domain": [
          0,
          1
         ],
         "range": [
          -0.1,
          1.2
         ]
        },
        "yaxis3": {
         "anchor": "x3",
         "domain": [
          0,
          1
         ],
         "range": [
          -0.1,
          1.2
         ]
        }
       }
      },
      "text/html": [
       "<div>                            <div id=\"b70b06fb-ff85-497d-9b48-e4d4bcf8a940\" class=\"plotly-graph-div\" style=\"height:525px; width:100%;\"></div>            <script type=\"text/javascript\">                require([\"plotly\"], function(Plotly) {                    window.PLOTLYENV=window.PLOTLYENV || {};                                    if (document.getElementById(\"b70b06fb-ff85-497d-9b48-e4d4bcf8a940\")) {                    Plotly.newPlot(                        \"b70b06fb-ff85-497d-9b48-e4d4bcf8a940\",                        [{\"mode\":\"markers\",\"name\":\"Train\",\"x\":[1,3,5,7,9,11,13,15,17,19],\"y\":[1.0,0.783375,0.730375,0.693125,0.676125,0.67925,0.672,0.665375,0.661125,0.657125],\"type\":\"scatter\",\"xaxis\":\"x\",\"yaxis\":\"y\"},{\"mode\":\"markers\",\"name\":\"Test\",\"x\":[1,3,5,7,9,11,13,15,17,19],\"y\":[0.535,0.5575,0.564,0.5755,0.5695,0.5735,0.572,0.572,0.5835,0.586],\"type\":\"scatter\",\"xaxis\":\"x2\",\"yaxis\":\"y2\"},{\"mode\":\"markers\",\"name\":\"Difference\",\"x\":[1,3,5,7,9,11,13,15,17,19],\"y\":[0.46499999999999997,0.22587500000000005,0.16637500000000005,0.11762499999999998,0.10662499999999997,0.10575000000000001,0.10000000000000009,0.0933750000000001,0.07762499999999994,0.071125],\"type\":\"scatter\",\"xaxis\":\"x3\",\"yaxis\":\"y3\"}],                        {\"template\":{\"data\":{\"bar\":[{\"error_x\":{\"color\":\"#2a3f5f\"},\"error_y\":{\"color\":\"#2a3f5f\"},\"marker\":{\"line\":{\"color\":\"#E5ECF6\",\"width\":0.5},\"pattern\":{\"fillmode\":\"overlay\",\"size\":10,\"solidity\":0.2}},\"type\":\"bar\"}],\"barpolar\":[{\"marker\":{\"line\":{\"color\":\"#E5ECF6\",\"width\":0.5},\"pattern\":{\"fillmode\":\"overlay\",\"size\":10,\"solidity\":0.2}},\"type\":\"barpolar\"}],\"carpet\":[{\"aaxis\":{\"endlinecolor\":\"#2a3f5f\",\"gridcolor\":\"white\",\"linecolor\":\"white\",\"minorgridcolor\":\"white\",\"startlinecolor\":\"#2a3f5f\"},\"baxis\":{\"endlinecolor\":\"#2a3f5f\",\"gridcolor\":\"white\",\"linecolor\":\"white\",\"minorgridcolor\":\"white\",\"startlinecolor\":\"#2a3f5f\"},\"type\":\"carpet\"}],\"choropleth\":[{\"colorbar\":{\"outlinewidth\":0,\"ticks\":\"\"},\"type\":\"choropleth\"}],\"contour\":[{\"colorbar\":{\"outlinewidth\":0,\"ticks\":\"\"},\"colorscale\":[[0.0,\"#0d0887\"],[0.1111111111111111,\"#46039f\"],[0.2222222222222222,\"#7201a8\"],[0.3333333333333333,\"#9c179e\"],[0.4444444444444444,\"#bd3786\"],[0.5555555555555556,\"#d8576b\"],[0.6666666666666666,\"#ed7953\"],[0.7777777777777778,\"#fb9f3a\"],[0.8888888888888888,\"#fdca26\"],[1.0,\"#f0f921\"]],\"type\":\"contour\"}],\"contourcarpet\":[{\"colorbar\":{\"outlinewidth\":0,\"ticks\":\"\"},\"type\":\"contourcarpet\"}],\"heatmap\":[{\"colorbar\":{\"outlinewidth\":0,\"ticks\":\"\"},\"colorscale\":[[0.0,\"#0d0887\"],[0.1111111111111111,\"#46039f\"],[0.2222222222222222,\"#7201a8\"],[0.3333333333333333,\"#9c179e\"],[0.4444444444444444,\"#bd3786\"],[0.5555555555555556,\"#d8576b\"],[0.6666666666666666,\"#ed7953\"],[0.7777777777777778,\"#fb9f3a\"],[0.8888888888888888,\"#fdca26\"],[1.0,\"#f0f921\"]],\"type\":\"heatmap\"}],\"heatmapgl\":[{\"colorbar\":{\"outlinewidth\":0,\"ticks\":\"\"},\"colorscale\":[[0.0,\"#0d0887\"],[0.1111111111111111,\"#46039f\"],[0.2222222222222222,\"#7201a8\"],[0.3333333333333333,\"#9c179e\"],[0.4444444444444444,\"#bd3786\"],[0.5555555555555556,\"#d8576b\"],[0.6666666666666666,\"#ed7953\"],[0.7777777777777778,\"#fb9f3a\"],[0.8888888888888888,\"#fdca26\"],[1.0,\"#f0f921\"]],\"type\":\"heatmapgl\"}],\"histogram\":[{\"marker\":{\"pattern\":{\"fillmode\":\"overlay\",\"size\":10,\"solidity\":0.2}},\"type\":\"histogram\"}],\"histogram2d\":[{\"colorbar\":{\"outlinewidth\":0,\"ticks\":\"\"},\"colorscale\":[[0.0,\"#0d0887\"],[0.1111111111111111,\"#46039f\"],[0.2222222222222222,\"#7201a8\"],[0.3333333333333333,\"#9c179e\"],[0.4444444444444444,\"#bd3786\"],[0.5555555555555556,\"#d8576b\"],[0.6666666666666666,\"#ed7953\"],[0.7777777777777778,\"#fb9f3a\"],[0.8888888888888888,\"#fdca26\"],[1.0,\"#f0f921\"]],\"type\":\"histogram2d\"}],\"histogram2dcontour\":[{\"colorbar\":{\"outlinewidth\":0,\"ticks\":\"\"},\"colorscale\":[[0.0,\"#0d0887\"],[0.1111111111111111,\"#46039f\"],[0.2222222222222222,\"#7201a8\"],[0.3333333333333333,\"#9c179e\"],[0.4444444444444444,\"#bd3786\"],[0.5555555555555556,\"#d8576b\"],[0.6666666666666666,\"#ed7953\"],[0.7777777777777778,\"#fb9f3a\"],[0.8888888888888888,\"#fdca26\"],[1.0,\"#f0f921\"]],\"type\":\"histogram2dcontour\"}],\"mesh3d\":[{\"colorbar\":{\"outlinewidth\":0,\"ticks\":\"\"},\"type\":\"mesh3d\"}],\"parcoords\":[{\"line\":{\"colorbar\":{\"outlinewidth\":0,\"ticks\":\"\"}},\"type\":\"parcoords\"}],\"pie\":[{\"automargin\":true,\"type\":\"pie\"}],\"scatter\":[{\"marker\":{\"colorbar\":{\"outlinewidth\":0,\"ticks\":\"\"}},\"type\":\"scatter\"}],\"scatter3d\":[{\"line\":{\"colorbar\":{\"outlinewidth\":0,\"ticks\":\"\"}},\"marker\":{\"colorbar\":{\"outlinewidth\":0,\"ticks\":\"\"}},\"type\":\"scatter3d\"}],\"scattercarpet\":[{\"marker\":{\"colorbar\":{\"outlinewidth\":0,\"ticks\":\"\"}},\"type\":\"scattercarpet\"}],\"scattergeo\":[{\"marker\":{\"colorbar\":{\"outlinewidth\":0,\"ticks\":\"\"}},\"type\":\"scattergeo\"}],\"scattergl\":[{\"marker\":{\"colorbar\":{\"outlinewidth\":0,\"ticks\":\"\"}},\"type\":\"scattergl\"}],\"scattermapbox\":[{\"marker\":{\"colorbar\":{\"outlinewidth\":0,\"ticks\":\"\"}},\"type\":\"scattermapbox\"}],\"scatterpolar\":[{\"marker\":{\"colorbar\":{\"outlinewidth\":0,\"ticks\":\"\"}},\"type\":\"scatterpolar\"}],\"scatterpolargl\":[{\"marker\":{\"colorbar\":{\"outlinewidth\":0,\"ticks\":\"\"}},\"type\":\"scatterpolargl\"}],\"scatterternary\":[{\"marker\":{\"colorbar\":{\"outlinewidth\":0,\"ticks\":\"\"}},\"type\":\"scatterternary\"}],\"surface\":[{\"colorbar\":{\"outlinewidth\":0,\"ticks\":\"\"},\"colorscale\":[[0.0,\"#0d0887\"],[0.1111111111111111,\"#46039f\"],[0.2222222222222222,\"#7201a8\"],[0.3333333333333333,\"#9c179e\"],[0.4444444444444444,\"#bd3786\"],[0.5555555555555556,\"#d8576b\"],[0.6666666666666666,\"#ed7953\"],[0.7777777777777778,\"#fb9f3a\"],[0.8888888888888888,\"#fdca26\"],[1.0,\"#f0f921\"]],\"type\":\"surface\"}],\"table\":[{\"cells\":{\"fill\":{\"color\":\"#EBF0F8\"},\"line\":{\"color\":\"white\"}},\"header\":{\"fill\":{\"color\":\"#C8D4E3\"},\"line\":{\"color\":\"white\"}},\"type\":\"table\"}]},\"layout\":{\"annotationdefaults\":{\"arrowcolor\":\"#2a3f5f\",\"arrowhead\":0,\"arrowwidth\":1},\"autotypenumbers\":\"strict\",\"coloraxis\":{\"colorbar\":{\"outlinewidth\":0,\"ticks\":\"\"}},\"colorscale\":{\"diverging\":[[0,\"#8e0152\"],[0.1,\"#c51b7d\"],[0.2,\"#de77ae\"],[0.3,\"#f1b6da\"],[0.4,\"#fde0ef\"],[0.5,\"#f7f7f7\"],[0.6,\"#e6f5d0\"],[0.7,\"#b8e186\"],[0.8,\"#7fbc41\"],[0.9,\"#4d9221\"],[1,\"#276419\"]],\"sequential\":[[0.0,\"#0d0887\"],[0.1111111111111111,\"#46039f\"],[0.2222222222222222,\"#7201a8\"],[0.3333333333333333,\"#9c179e\"],[0.4444444444444444,\"#bd3786\"],[0.5555555555555556,\"#d8576b\"],[0.6666666666666666,\"#ed7953\"],[0.7777777777777778,\"#fb9f3a\"],[0.8888888888888888,\"#fdca26\"],[1.0,\"#f0f921\"]],\"sequentialminus\":[[0.0,\"#0d0887\"],[0.1111111111111111,\"#46039f\"],[0.2222222222222222,\"#7201a8\"],[0.3333333333333333,\"#9c179e\"],[0.4444444444444444,\"#bd3786\"],[0.5555555555555556,\"#d8576b\"],[0.6666666666666666,\"#ed7953\"],[0.7777777777777778,\"#fb9f3a\"],[0.8888888888888888,\"#fdca26\"],[1.0,\"#f0f921\"]]},\"colorway\":[\"#636efa\",\"#EF553B\",\"#00cc96\",\"#ab63fa\",\"#FFA15A\",\"#19d3f3\",\"#FF6692\",\"#B6E880\",\"#FF97FF\",\"#FECB52\"],\"font\":{\"color\":\"#2a3f5f\"},\"geo\":{\"bgcolor\":\"white\",\"lakecolor\":\"white\",\"landcolor\":\"#E5ECF6\",\"showlakes\":true,\"showland\":true,\"subunitcolor\":\"white\"},\"hoverlabel\":{\"align\":\"left\"},\"hovermode\":\"closest\",\"mapbox\":{\"style\":\"light\"},\"paper_bgcolor\":\"white\",\"plot_bgcolor\":\"#E5ECF6\",\"polar\":{\"angularaxis\":{\"gridcolor\":\"white\",\"linecolor\":\"white\",\"ticks\":\"\"},\"bgcolor\":\"#E5ECF6\",\"radialaxis\":{\"gridcolor\":\"white\",\"linecolor\":\"white\",\"ticks\":\"\"}},\"scene\":{\"xaxis\":{\"backgroundcolor\":\"#E5ECF6\",\"gridcolor\":\"white\",\"gridwidth\":2,\"linecolor\":\"white\",\"showbackground\":true,\"ticks\":\"\",\"zerolinecolor\":\"white\"},\"yaxis\":{\"backgroundcolor\":\"#E5ECF6\",\"gridcolor\":\"white\",\"gridwidth\":2,\"linecolor\":\"white\",\"showbackground\":true,\"ticks\":\"\",\"zerolinecolor\":\"white\"},\"zaxis\":{\"backgroundcolor\":\"#E5ECF6\",\"gridcolor\":\"white\",\"gridwidth\":2,\"linecolor\":\"white\",\"showbackground\":true,\"ticks\":\"\",\"zerolinecolor\":\"white\"}},\"shapedefaults\":{\"line\":{\"color\":\"#2a3f5f\"}},\"ternary\":{\"aaxis\":{\"gridcolor\":\"white\",\"linecolor\":\"white\",\"ticks\":\"\"},\"baxis\":{\"gridcolor\":\"white\",\"linecolor\":\"white\",\"ticks\":\"\"},\"bgcolor\":\"#E5ECF6\",\"caxis\":{\"gridcolor\":\"white\",\"linecolor\":\"white\",\"ticks\":\"\"}},\"title\":{\"x\":0.05},\"xaxis\":{\"automargin\":true,\"gridcolor\":\"white\",\"linecolor\":\"white\",\"ticks\":\"\",\"title\":{\"standoff\":15},\"zerolinecolor\":\"white\",\"zerolinewidth\":2},\"yaxis\":{\"automargin\":true,\"gridcolor\":\"white\",\"linecolor\":\"white\",\"ticks\":\"\",\"title\":{\"standoff\":15},\"zerolinecolor\":\"white\",\"zerolinewidth\":2}}},\"xaxis\":{\"anchor\":\"y\",\"domain\":[0.0,0.2888888888888889],\"range\":[0,20]},\"yaxis\":{\"anchor\":\"x\",\"domain\":[0.0,1.0],\"range\":[-0.1,1.2]},\"xaxis2\":{\"anchor\":\"y2\",\"domain\":[0.35555555555555557,0.6444444444444445],\"range\":[0,20]},\"yaxis2\":{\"anchor\":\"x2\",\"domain\":[0.0,1.0],\"range\":[-0.1,1.2]},\"xaxis3\":{\"anchor\":\"y3\",\"domain\":[0.7111111111111111,1.0],\"range\":[0,20]},\"yaxis3\":{\"anchor\":\"x3\",\"domain\":[0.0,1.0],\"range\":[-0.1,1.2]},\"annotations\":[{\"font\":{\"size\":16},\"showarrow\":false,\"text\":\"Hyper Parameter vs Train Accuracy\",\"x\":0.14444444444444446,\"xanchor\":\"center\",\"xref\":\"paper\",\"y\":1.0,\"yanchor\":\"bottom\",\"yref\":\"paper\"},{\"font\":{\"size\":16},\"showarrow\":false,\"text\":\"Hyper Parameter vs Test Accuracy\",\"x\":0.5,\"xanchor\":\"center\",\"xref\":\"paper\",\"y\":1.0,\"yanchor\":\"bottom\",\"yref\":\"paper\"},{\"font\":{\"size\":16},\"showarrow\":false,\"text\":\"Hyper Parameter vs Accuracy Difference\",\"x\":0.8555555555555556,\"xanchor\":\"center\",\"xref\":\"paper\",\"y\":1.0,\"yanchor\":\"bottom\",\"yref\":\"paper\"}]},                        {\"responsive\": true}                    ).then(function(){\n",
       "                            \n",
       "var gd = document.getElementById('b70b06fb-ff85-497d-9b48-e4d4bcf8a940');\n",
       "var x = new MutationObserver(function (mutations, observer) {{\n",
       "        var display = window.getComputedStyle(gd).display;\n",
       "        if (!display || display === 'none') {{\n",
       "            console.log([gd, 'removed!']);\n",
       "            Plotly.purge(gd);\n",
       "            observer.disconnect();\n",
       "        }}\n",
       "}});\n",
       "\n",
       "// Listen for the removal of the full notebook cells\n",
       "var notebookContainer = gd.closest('#notebook-container');\n",
       "if (notebookContainer) {{\n",
       "    x.observe(notebookContainer, {childList: true});\n",
       "}}\n",
       "\n",
       "// Listen for the clearing of the current output cell\n",
       "var outputEl = gd.closest('.output');\n",
       "if (outputEl) {{\n",
       "    x.observe(outputEl, {childList: true});\n",
       "}}\n",
       "\n",
       "                        })                };                });            </script>        </div>"
      ]
     },
     "metadata": {},
     "output_type": "display_data"
    }
   ],
   "source": [
    "plotdata = results.query(\"Noise == 0.3 & Dataset == 'Moons' & Class == 'KNN' & Samples == 10000\")\n",
    "plotdata\n",
    "\n",
    "\n",
    "fig = make_subplots(rows=1, cols=3 , subplot_titles=(\"Hyper Parameter vs Train Accuracy\", \"Hyper Parameter vs Test Accuracy\", \"Hyper Parameter vs Accuracy Difference\"))\n",
    "\n",
    "# Add traces\n",
    "fig.add_trace(go.Scatter(x=plotdata['Hyper_Parameter'], y= plotdata['Train_Accuracy'],\n",
    "                    mode='markers',\n",
    "                    name='Train') ,  row=1, col=1)\n",
    "\n",
    "fig.add_trace(go.Scatter(x=plotdata['Hyper_Parameter'], y= plotdata['Test_Accuracy'],\n",
    "                    mode='markers',\n",
    "                    name='Test') ,  row=1, col=2)\n",
    "\n",
    "fig.add_trace(go.Scatter(x=plotdata['Hyper_Parameter'], y= plotdata['Accuracy_Difference'],\n",
    "                    mode='markers',\n",
    "                    name='Difference') ,  row=1, col=3)\n",
    "\n",
    "fig.update_xaxes(range=[0,20])\n",
    "fig.update_yaxes(range=[-0.1,1.2])"
   ]
  },
  {
   "cell_type": "code",
   "execution_count": 31,
   "id": "956797c7",
   "metadata": {},
   "outputs": [
    {
     "data": {
      "application/vnd.plotly.v1+json": {
       "config": {
        "plotlyServerURL": "https://plot.ly"
       },
       "data": [
        {
         "mode": "markers",
         "name": "Train",
         "type": "scatter",
         "x": [
          1,
          3,
          5,
          7,
          9,
          11,
          13,
          15,
          17,
          19
         ],
         "xaxis": "x",
         "y": [
          1,
          0.939125,
          0.930125,
          0.925125,
          0.9225,
          0.922875,
          0.921125,
          0.920625,
          0.9205,
          0.921
         ],
         "yaxis": "y"
        },
        {
         "mode": "markers",
         "name": "Test",
         "type": "scatter",
         "x": [
          1,
          3,
          5,
          7,
          9,
          11,
          13,
          15,
          17,
          19
         ],
         "xaxis": "x2",
         "y": [
          0.871,
          0.89,
          0.9005,
          0.904,
          0.9055,
          0.9075,
          0.9075,
          0.9065,
          0.9065,
          0.9075
         ],
         "yaxis": "y2"
        },
        {
         "mode": "markers",
         "name": "Difference",
         "type": "scatter",
         "x": [
          1,
          3,
          5,
          7,
          9,
          11,
          13,
          15,
          17,
          19
         ],
         "xaxis": "x3",
         "y": [
          0.129,
          0.049124999999999974,
          0.029625000000000012,
          0.02112499999999995,
          0.017000000000000015,
          0.015375000000000028,
          0.013624999999999998,
          0.014125000000000054,
          0.014000000000000012,
          0.013500000000000068
         ],
         "yaxis": "y3"
        }
       ],
       "layout": {
        "annotations": [
         {
          "font": {
           "size": 16
          },
          "showarrow": false,
          "text": "Hyper Parameter vs Train Accuracy",
          "x": 0.14444444444444446,
          "xanchor": "center",
          "xref": "paper",
          "y": 1,
          "yanchor": "bottom",
          "yref": "paper"
         },
         {
          "font": {
           "size": 16
          },
          "showarrow": false,
          "text": "Hyper Parameter vs Test Accuracy",
          "x": 0.5,
          "xanchor": "center",
          "xref": "paper",
          "y": 1,
          "yanchor": "bottom",
          "yref": "paper"
         },
         {
          "font": {
           "size": 16
          },
          "showarrow": false,
          "text": "Hyper Parameter vs Accuracy Difference",
          "x": 0.8555555555555556,
          "xanchor": "center",
          "xref": "paper",
          "y": 1,
          "yanchor": "bottom",
          "yref": "paper"
         }
        ],
        "template": {
         "data": {
          "bar": [
           {
            "error_x": {
             "color": "#2a3f5f"
            },
            "error_y": {
             "color": "#2a3f5f"
            },
            "marker": {
             "line": {
              "color": "#E5ECF6",
              "width": 0.5
             },
             "pattern": {
              "fillmode": "overlay",
              "size": 10,
              "solidity": 0.2
             }
            },
            "type": "bar"
           }
          ],
          "barpolar": [
           {
            "marker": {
             "line": {
              "color": "#E5ECF6",
              "width": 0.5
             },
             "pattern": {
              "fillmode": "overlay",
              "size": 10,
              "solidity": 0.2
             }
            },
            "type": "barpolar"
           }
          ],
          "carpet": [
           {
            "aaxis": {
             "endlinecolor": "#2a3f5f",
             "gridcolor": "white",
             "linecolor": "white",
             "minorgridcolor": "white",
             "startlinecolor": "#2a3f5f"
            },
            "baxis": {
             "endlinecolor": "#2a3f5f",
             "gridcolor": "white",
             "linecolor": "white",
             "minorgridcolor": "white",
             "startlinecolor": "#2a3f5f"
            },
            "type": "carpet"
           }
          ],
          "choropleth": [
           {
            "colorbar": {
             "outlinewidth": 0,
             "ticks": ""
            },
            "type": "choropleth"
           }
          ],
          "contour": [
           {
            "colorbar": {
             "outlinewidth": 0,
             "ticks": ""
            },
            "colorscale": [
             [
              0,
              "#0d0887"
             ],
             [
              0.1111111111111111,
              "#46039f"
             ],
             [
              0.2222222222222222,
              "#7201a8"
             ],
             [
              0.3333333333333333,
              "#9c179e"
             ],
             [
              0.4444444444444444,
              "#bd3786"
             ],
             [
              0.5555555555555556,
              "#d8576b"
             ],
             [
              0.6666666666666666,
              "#ed7953"
             ],
             [
              0.7777777777777778,
              "#fb9f3a"
             ],
             [
              0.8888888888888888,
              "#fdca26"
             ],
             [
              1,
              "#f0f921"
             ]
            ],
            "type": "contour"
           }
          ],
          "contourcarpet": [
           {
            "colorbar": {
             "outlinewidth": 0,
             "ticks": ""
            },
            "type": "contourcarpet"
           }
          ],
          "heatmap": [
           {
            "colorbar": {
             "outlinewidth": 0,
             "ticks": ""
            },
            "colorscale": [
             [
              0,
              "#0d0887"
             ],
             [
              0.1111111111111111,
              "#46039f"
             ],
             [
              0.2222222222222222,
              "#7201a8"
             ],
             [
              0.3333333333333333,
              "#9c179e"
             ],
             [
              0.4444444444444444,
              "#bd3786"
             ],
             [
              0.5555555555555556,
              "#d8576b"
             ],
             [
              0.6666666666666666,
              "#ed7953"
             ],
             [
              0.7777777777777778,
              "#fb9f3a"
             ],
             [
              0.8888888888888888,
              "#fdca26"
             ],
             [
              1,
              "#f0f921"
             ]
            ],
            "type": "heatmap"
           }
          ],
          "heatmapgl": [
           {
            "colorbar": {
             "outlinewidth": 0,
             "ticks": ""
            },
            "colorscale": [
             [
              0,
              "#0d0887"
             ],
             [
              0.1111111111111111,
              "#46039f"
             ],
             [
              0.2222222222222222,
              "#7201a8"
             ],
             [
              0.3333333333333333,
              "#9c179e"
             ],
             [
              0.4444444444444444,
              "#bd3786"
             ],
             [
              0.5555555555555556,
              "#d8576b"
             ],
             [
              0.6666666666666666,
              "#ed7953"
             ],
             [
              0.7777777777777778,
              "#fb9f3a"
             ],
             [
              0.8888888888888888,
              "#fdca26"
             ],
             [
              1,
              "#f0f921"
             ]
            ],
            "type": "heatmapgl"
           }
          ],
          "histogram": [
           {
            "marker": {
             "pattern": {
              "fillmode": "overlay",
              "size": 10,
              "solidity": 0.2
             }
            },
            "type": "histogram"
           }
          ],
          "histogram2d": [
           {
            "colorbar": {
             "outlinewidth": 0,
             "ticks": ""
            },
            "colorscale": [
             [
              0,
              "#0d0887"
             ],
             [
              0.1111111111111111,
              "#46039f"
             ],
             [
              0.2222222222222222,
              "#7201a8"
             ],
             [
              0.3333333333333333,
              "#9c179e"
             ],
             [
              0.4444444444444444,
              "#bd3786"
             ],
             [
              0.5555555555555556,
              "#d8576b"
             ],
             [
              0.6666666666666666,
              "#ed7953"
             ],
             [
              0.7777777777777778,
              "#fb9f3a"
             ],
             [
              0.8888888888888888,
              "#fdca26"
             ],
             [
              1,
              "#f0f921"
             ]
            ],
            "type": "histogram2d"
           }
          ],
          "histogram2dcontour": [
           {
            "colorbar": {
             "outlinewidth": 0,
             "ticks": ""
            },
            "colorscale": [
             [
              0,
              "#0d0887"
             ],
             [
              0.1111111111111111,
              "#46039f"
             ],
             [
              0.2222222222222222,
              "#7201a8"
             ],
             [
              0.3333333333333333,
              "#9c179e"
             ],
             [
              0.4444444444444444,
              "#bd3786"
             ],
             [
              0.5555555555555556,
              "#d8576b"
             ],
             [
              0.6666666666666666,
              "#ed7953"
             ],
             [
              0.7777777777777778,
              "#fb9f3a"
             ],
             [
              0.8888888888888888,
              "#fdca26"
             ],
             [
              1,
              "#f0f921"
             ]
            ],
            "type": "histogram2dcontour"
           }
          ],
          "mesh3d": [
           {
            "colorbar": {
             "outlinewidth": 0,
             "ticks": ""
            },
            "type": "mesh3d"
           }
          ],
          "parcoords": [
           {
            "line": {
             "colorbar": {
              "outlinewidth": 0,
              "ticks": ""
             }
            },
            "type": "parcoords"
           }
          ],
          "pie": [
           {
            "automargin": true,
            "type": "pie"
           }
          ],
          "scatter": [
           {
            "marker": {
             "colorbar": {
              "outlinewidth": 0,
              "ticks": ""
             }
            },
            "type": "scatter"
           }
          ],
          "scatter3d": [
           {
            "line": {
             "colorbar": {
              "outlinewidth": 0,
              "ticks": ""
             }
            },
            "marker": {
             "colorbar": {
              "outlinewidth": 0,
              "ticks": ""
             }
            },
            "type": "scatter3d"
           }
          ],
          "scattercarpet": [
           {
            "marker": {
             "colorbar": {
              "outlinewidth": 0,
              "ticks": ""
             }
            },
            "type": "scattercarpet"
           }
          ],
          "scattergeo": [
           {
            "marker": {
             "colorbar": {
              "outlinewidth": 0,
              "ticks": ""
             }
            },
            "type": "scattergeo"
           }
          ],
          "scattergl": [
           {
            "marker": {
             "colorbar": {
              "outlinewidth": 0,
              "ticks": ""
             }
            },
            "type": "scattergl"
           }
          ],
          "scattermapbox": [
           {
            "marker": {
             "colorbar": {
              "outlinewidth": 0,
              "ticks": ""
             }
            },
            "type": "scattermapbox"
           }
          ],
          "scatterpolar": [
           {
            "marker": {
             "colorbar": {
              "outlinewidth": 0,
              "ticks": ""
             }
            },
            "type": "scatterpolar"
           }
          ],
          "scatterpolargl": [
           {
            "marker": {
             "colorbar": {
              "outlinewidth": 0,
              "ticks": ""
             }
            },
            "type": "scatterpolargl"
           }
          ],
          "scatterternary": [
           {
            "marker": {
             "colorbar": {
              "outlinewidth": 0,
              "ticks": ""
             }
            },
            "type": "scatterternary"
           }
          ],
          "surface": [
           {
            "colorbar": {
             "outlinewidth": 0,
             "ticks": ""
            },
            "colorscale": [
             [
              0,
              "#0d0887"
             ],
             [
              0.1111111111111111,
              "#46039f"
             ],
             [
              0.2222222222222222,
              "#7201a8"
             ],
             [
              0.3333333333333333,
              "#9c179e"
             ],
             [
              0.4444444444444444,
              "#bd3786"
             ],
             [
              0.5555555555555556,
              "#d8576b"
             ],
             [
              0.6666666666666666,
              "#ed7953"
             ],
             [
              0.7777777777777778,
              "#fb9f3a"
             ],
             [
              0.8888888888888888,
              "#fdca26"
             ],
             [
              1,
              "#f0f921"
             ]
            ],
            "type": "surface"
           }
          ],
          "table": [
           {
            "cells": {
             "fill": {
              "color": "#EBF0F8"
             },
             "line": {
              "color": "white"
             }
            },
            "header": {
             "fill": {
              "color": "#C8D4E3"
             },
             "line": {
              "color": "white"
             }
            },
            "type": "table"
           }
          ]
         },
         "layout": {
          "annotationdefaults": {
           "arrowcolor": "#2a3f5f",
           "arrowhead": 0,
           "arrowwidth": 1
          },
          "autotypenumbers": "strict",
          "coloraxis": {
           "colorbar": {
            "outlinewidth": 0,
            "ticks": ""
           }
          },
          "colorscale": {
           "diverging": [
            [
             0,
             "#8e0152"
            ],
            [
             0.1,
             "#c51b7d"
            ],
            [
             0.2,
             "#de77ae"
            ],
            [
             0.3,
             "#f1b6da"
            ],
            [
             0.4,
             "#fde0ef"
            ],
            [
             0.5,
             "#f7f7f7"
            ],
            [
             0.6,
             "#e6f5d0"
            ],
            [
             0.7,
             "#b8e186"
            ],
            [
             0.8,
             "#7fbc41"
            ],
            [
             0.9,
             "#4d9221"
            ],
            [
             1,
             "#276419"
            ]
           ],
           "sequential": [
            [
             0,
             "#0d0887"
            ],
            [
             0.1111111111111111,
             "#46039f"
            ],
            [
             0.2222222222222222,
             "#7201a8"
            ],
            [
             0.3333333333333333,
             "#9c179e"
            ],
            [
             0.4444444444444444,
             "#bd3786"
            ],
            [
             0.5555555555555556,
             "#d8576b"
            ],
            [
             0.6666666666666666,
             "#ed7953"
            ],
            [
             0.7777777777777778,
             "#fb9f3a"
            ],
            [
             0.8888888888888888,
             "#fdca26"
            ],
            [
             1,
             "#f0f921"
            ]
           ],
           "sequentialminus": [
            [
             0,
             "#0d0887"
            ],
            [
             0.1111111111111111,
             "#46039f"
            ],
            [
             0.2222222222222222,
             "#7201a8"
            ],
            [
             0.3333333333333333,
             "#9c179e"
            ],
            [
             0.4444444444444444,
             "#bd3786"
            ],
            [
             0.5555555555555556,
             "#d8576b"
            ],
            [
             0.6666666666666666,
             "#ed7953"
            ],
            [
             0.7777777777777778,
             "#fb9f3a"
            ],
            [
             0.8888888888888888,
             "#fdca26"
            ],
            [
             1,
             "#f0f921"
            ]
           ]
          },
          "colorway": [
           "#636efa",
           "#EF553B",
           "#00cc96",
           "#ab63fa",
           "#FFA15A",
           "#19d3f3",
           "#FF6692",
           "#B6E880",
           "#FF97FF",
           "#FECB52"
          ],
          "font": {
           "color": "#2a3f5f"
          },
          "geo": {
           "bgcolor": "white",
           "lakecolor": "white",
           "landcolor": "#E5ECF6",
           "showlakes": true,
           "showland": true,
           "subunitcolor": "white"
          },
          "hoverlabel": {
           "align": "left"
          },
          "hovermode": "closest",
          "mapbox": {
           "style": "light"
          },
          "paper_bgcolor": "white",
          "plot_bgcolor": "#E5ECF6",
          "polar": {
           "angularaxis": {
            "gridcolor": "white",
            "linecolor": "white",
            "ticks": ""
           },
           "bgcolor": "#E5ECF6",
           "radialaxis": {
            "gridcolor": "white",
            "linecolor": "white",
            "ticks": ""
           }
          },
          "scene": {
           "xaxis": {
            "backgroundcolor": "#E5ECF6",
            "gridcolor": "white",
            "gridwidth": 2,
            "linecolor": "white",
            "showbackground": true,
            "ticks": "",
            "zerolinecolor": "white"
           },
           "yaxis": {
            "backgroundcolor": "#E5ECF6",
            "gridcolor": "white",
            "gridwidth": 2,
            "linecolor": "white",
            "showbackground": true,
            "ticks": "",
            "zerolinecolor": "white"
           },
           "zaxis": {
            "backgroundcolor": "#E5ECF6",
            "gridcolor": "white",
            "gridwidth": 2,
            "linecolor": "white",
            "showbackground": true,
            "ticks": "",
            "zerolinecolor": "white"
           }
          },
          "shapedefaults": {
           "line": {
            "color": "#2a3f5f"
           }
          },
          "ternary": {
           "aaxis": {
            "gridcolor": "white",
            "linecolor": "white",
            "ticks": ""
           },
           "baxis": {
            "gridcolor": "white",
            "linecolor": "white",
            "ticks": ""
           },
           "bgcolor": "#E5ECF6",
           "caxis": {
            "gridcolor": "white",
            "linecolor": "white",
            "ticks": ""
           }
          },
          "title": {
           "x": 0.05
          },
          "xaxis": {
           "automargin": true,
           "gridcolor": "white",
           "linecolor": "white",
           "ticks": "",
           "title": {
            "standoff": 15
           },
           "zerolinecolor": "white",
           "zerolinewidth": 2
          },
          "yaxis": {
           "automargin": true,
           "gridcolor": "white",
           "linecolor": "white",
           "ticks": "",
           "title": {
            "standoff": 15
           },
           "zerolinecolor": "white",
           "zerolinewidth": 2
          }
         }
        },
        "xaxis": {
         "anchor": "y",
         "domain": [
          0,
          0.2888888888888889
         ],
         "range": [
          0,
          20
         ]
        },
        "xaxis2": {
         "anchor": "y2",
         "domain": [
          0.35555555555555557,
          0.6444444444444445
         ],
         "range": [
          0,
          20
         ]
        },
        "xaxis3": {
         "anchor": "y3",
         "domain": [
          0.7111111111111111,
          1
         ],
         "range": [
          0,
          20
         ]
        },
        "yaxis": {
         "anchor": "x",
         "domain": [
          0,
          1
         ],
         "range": [
          -0.1,
          1.2
         ]
        },
        "yaxis2": {
         "anchor": "x2",
         "domain": [
          0,
          1
         ],
         "range": [
          -0.1,
          1.2
         ]
        },
        "yaxis3": {
         "anchor": "x3",
         "domain": [
          0,
          1
         ],
         "range": [
          -0.1,
          1.2
         ]
        }
       }
      },
      "text/html": [
       "<div>                            <div id=\"87ce88f2-80bc-46ec-964c-5ffcdcb61147\" class=\"plotly-graph-div\" style=\"height:525px; width:100%;\"></div>            <script type=\"text/javascript\">                require([\"plotly\"], function(Plotly) {                    window.PLOTLYENV=window.PLOTLYENV || {};                                    if (document.getElementById(\"87ce88f2-80bc-46ec-964c-5ffcdcb61147\")) {                    Plotly.newPlot(                        \"87ce88f2-80bc-46ec-964c-5ffcdcb61147\",                        [{\"mode\":\"markers\",\"name\":\"Train\",\"x\":[1,3,5,7,9,11,13,15,17,19],\"y\":[1.0,0.939125,0.930125,0.925125,0.9225,0.922875,0.921125,0.920625,0.9205,0.921],\"type\":\"scatter\",\"xaxis\":\"x\",\"yaxis\":\"y\"},{\"mode\":\"markers\",\"name\":\"Test\",\"x\":[1,3,5,7,9,11,13,15,17,19],\"y\":[0.871,0.89,0.9005,0.904,0.9055,0.9075,0.9075,0.9065,0.9065,0.9075],\"type\":\"scatter\",\"xaxis\":\"x2\",\"yaxis\":\"y2\"},{\"mode\":\"markers\",\"name\":\"Difference\",\"x\":[1,3,5,7,9,11,13,15,17,19],\"y\":[0.129,0.049124999999999974,0.029625000000000012,0.02112499999999995,0.017000000000000015,0.015375000000000028,0.013624999999999998,0.014125000000000054,0.014000000000000012,0.013500000000000068],\"type\":\"scatter\",\"xaxis\":\"x3\",\"yaxis\":\"y3\"}],                        {\"template\":{\"data\":{\"bar\":[{\"error_x\":{\"color\":\"#2a3f5f\"},\"error_y\":{\"color\":\"#2a3f5f\"},\"marker\":{\"line\":{\"color\":\"#E5ECF6\",\"width\":0.5},\"pattern\":{\"fillmode\":\"overlay\",\"size\":10,\"solidity\":0.2}},\"type\":\"bar\"}],\"barpolar\":[{\"marker\":{\"line\":{\"color\":\"#E5ECF6\",\"width\":0.5},\"pattern\":{\"fillmode\":\"overlay\",\"size\":10,\"solidity\":0.2}},\"type\":\"barpolar\"}],\"carpet\":[{\"aaxis\":{\"endlinecolor\":\"#2a3f5f\",\"gridcolor\":\"white\",\"linecolor\":\"white\",\"minorgridcolor\":\"white\",\"startlinecolor\":\"#2a3f5f\"},\"baxis\":{\"endlinecolor\":\"#2a3f5f\",\"gridcolor\":\"white\",\"linecolor\":\"white\",\"minorgridcolor\":\"white\",\"startlinecolor\":\"#2a3f5f\"},\"type\":\"carpet\"}],\"choropleth\":[{\"colorbar\":{\"outlinewidth\":0,\"ticks\":\"\"},\"type\":\"choropleth\"}],\"contour\":[{\"colorbar\":{\"outlinewidth\":0,\"ticks\":\"\"},\"colorscale\":[[0.0,\"#0d0887\"],[0.1111111111111111,\"#46039f\"],[0.2222222222222222,\"#7201a8\"],[0.3333333333333333,\"#9c179e\"],[0.4444444444444444,\"#bd3786\"],[0.5555555555555556,\"#d8576b\"],[0.6666666666666666,\"#ed7953\"],[0.7777777777777778,\"#fb9f3a\"],[0.8888888888888888,\"#fdca26\"],[1.0,\"#f0f921\"]],\"type\":\"contour\"}],\"contourcarpet\":[{\"colorbar\":{\"outlinewidth\":0,\"ticks\":\"\"},\"type\":\"contourcarpet\"}],\"heatmap\":[{\"colorbar\":{\"outlinewidth\":0,\"ticks\":\"\"},\"colorscale\":[[0.0,\"#0d0887\"],[0.1111111111111111,\"#46039f\"],[0.2222222222222222,\"#7201a8\"],[0.3333333333333333,\"#9c179e\"],[0.4444444444444444,\"#bd3786\"],[0.5555555555555556,\"#d8576b\"],[0.6666666666666666,\"#ed7953\"],[0.7777777777777778,\"#fb9f3a\"],[0.8888888888888888,\"#fdca26\"],[1.0,\"#f0f921\"]],\"type\":\"heatmap\"}],\"heatmapgl\":[{\"colorbar\":{\"outlinewidth\":0,\"ticks\":\"\"},\"colorscale\":[[0.0,\"#0d0887\"],[0.1111111111111111,\"#46039f\"],[0.2222222222222222,\"#7201a8\"],[0.3333333333333333,\"#9c179e\"],[0.4444444444444444,\"#bd3786\"],[0.5555555555555556,\"#d8576b\"],[0.6666666666666666,\"#ed7953\"],[0.7777777777777778,\"#fb9f3a\"],[0.8888888888888888,\"#fdca26\"],[1.0,\"#f0f921\"]],\"type\":\"heatmapgl\"}],\"histogram\":[{\"marker\":{\"pattern\":{\"fillmode\":\"overlay\",\"size\":10,\"solidity\":0.2}},\"type\":\"histogram\"}],\"histogram2d\":[{\"colorbar\":{\"outlinewidth\":0,\"ticks\":\"\"},\"colorscale\":[[0.0,\"#0d0887\"],[0.1111111111111111,\"#46039f\"],[0.2222222222222222,\"#7201a8\"],[0.3333333333333333,\"#9c179e\"],[0.4444444444444444,\"#bd3786\"],[0.5555555555555556,\"#d8576b\"],[0.6666666666666666,\"#ed7953\"],[0.7777777777777778,\"#fb9f3a\"],[0.8888888888888888,\"#fdca26\"],[1.0,\"#f0f921\"]],\"type\":\"histogram2d\"}],\"histogram2dcontour\":[{\"colorbar\":{\"outlinewidth\":0,\"ticks\":\"\"},\"colorscale\":[[0.0,\"#0d0887\"],[0.1111111111111111,\"#46039f\"],[0.2222222222222222,\"#7201a8\"],[0.3333333333333333,\"#9c179e\"],[0.4444444444444444,\"#bd3786\"],[0.5555555555555556,\"#d8576b\"],[0.6666666666666666,\"#ed7953\"],[0.7777777777777778,\"#fb9f3a\"],[0.8888888888888888,\"#fdca26\"],[1.0,\"#f0f921\"]],\"type\":\"histogram2dcontour\"}],\"mesh3d\":[{\"colorbar\":{\"outlinewidth\":0,\"ticks\":\"\"},\"type\":\"mesh3d\"}],\"parcoords\":[{\"line\":{\"colorbar\":{\"outlinewidth\":0,\"ticks\":\"\"}},\"type\":\"parcoords\"}],\"pie\":[{\"automargin\":true,\"type\":\"pie\"}],\"scatter\":[{\"marker\":{\"colorbar\":{\"outlinewidth\":0,\"ticks\":\"\"}},\"type\":\"scatter\"}],\"scatter3d\":[{\"line\":{\"colorbar\":{\"outlinewidth\":0,\"ticks\":\"\"}},\"marker\":{\"colorbar\":{\"outlinewidth\":0,\"ticks\":\"\"}},\"type\":\"scatter3d\"}],\"scattercarpet\":[{\"marker\":{\"colorbar\":{\"outlinewidth\":0,\"ticks\":\"\"}},\"type\":\"scattercarpet\"}],\"scattergeo\":[{\"marker\":{\"colorbar\":{\"outlinewidth\":0,\"ticks\":\"\"}},\"type\":\"scattergeo\"}],\"scattergl\":[{\"marker\":{\"colorbar\":{\"outlinewidth\":0,\"ticks\":\"\"}},\"type\":\"scattergl\"}],\"scattermapbox\":[{\"marker\":{\"colorbar\":{\"outlinewidth\":0,\"ticks\":\"\"}},\"type\":\"scattermapbox\"}],\"scatterpolar\":[{\"marker\":{\"colorbar\":{\"outlinewidth\":0,\"ticks\":\"\"}},\"type\":\"scatterpolar\"}],\"scatterpolargl\":[{\"marker\":{\"colorbar\":{\"outlinewidth\":0,\"ticks\":\"\"}},\"type\":\"scatterpolargl\"}],\"scatterternary\":[{\"marker\":{\"colorbar\":{\"outlinewidth\":0,\"ticks\":\"\"}},\"type\":\"scatterternary\"}],\"surface\":[{\"colorbar\":{\"outlinewidth\":0,\"ticks\":\"\"},\"colorscale\":[[0.0,\"#0d0887\"],[0.1111111111111111,\"#46039f\"],[0.2222222222222222,\"#7201a8\"],[0.3333333333333333,\"#9c179e\"],[0.4444444444444444,\"#bd3786\"],[0.5555555555555556,\"#d8576b\"],[0.6666666666666666,\"#ed7953\"],[0.7777777777777778,\"#fb9f3a\"],[0.8888888888888888,\"#fdca26\"],[1.0,\"#f0f921\"]],\"type\":\"surface\"}],\"table\":[{\"cells\":{\"fill\":{\"color\":\"#EBF0F8\"},\"line\":{\"color\":\"white\"}},\"header\":{\"fill\":{\"color\":\"#C8D4E3\"},\"line\":{\"color\":\"white\"}},\"type\":\"table\"}]},\"layout\":{\"annotationdefaults\":{\"arrowcolor\":\"#2a3f5f\",\"arrowhead\":0,\"arrowwidth\":1},\"autotypenumbers\":\"strict\",\"coloraxis\":{\"colorbar\":{\"outlinewidth\":0,\"ticks\":\"\"}},\"colorscale\":{\"diverging\":[[0,\"#8e0152\"],[0.1,\"#c51b7d\"],[0.2,\"#de77ae\"],[0.3,\"#f1b6da\"],[0.4,\"#fde0ef\"],[0.5,\"#f7f7f7\"],[0.6,\"#e6f5d0\"],[0.7,\"#b8e186\"],[0.8,\"#7fbc41\"],[0.9,\"#4d9221\"],[1,\"#276419\"]],\"sequential\":[[0.0,\"#0d0887\"],[0.1111111111111111,\"#46039f\"],[0.2222222222222222,\"#7201a8\"],[0.3333333333333333,\"#9c179e\"],[0.4444444444444444,\"#bd3786\"],[0.5555555555555556,\"#d8576b\"],[0.6666666666666666,\"#ed7953\"],[0.7777777777777778,\"#fb9f3a\"],[0.8888888888888888,\"#fdca26\"],[1.0,\"#f0f921\"]],\"sequentialminus\":[[0.0,\"#0d0887\"],[0.1111111111111111,\"#46039f\"],[0.2222222222222222,\"#7201a8\"],[0.3333333333333333,\"#9c179e\"],[0.4444444444444444,\"#bd3786\"],[0.5555555555555556,\"#d8576b\"],[0.6666666666666666,\"#ed7953\"],[0.7777777777777778,\"#fb9f3a\"],[0.8888888888888888,\"#fdca26\"],[1.0,\"#f0f921\"]]},\"colorway\":[\"#636efa\",\"#EF553B\",\"#00cc96\",\"#ab63fa\",\"#FFA15A\",\"#19d3f3\",\"#FF6692\",\"#B6E880\",\"#FF97FF\",\"#FECB52\"],\"font\":{\"color\":\"#2a3f5f\"},\"geo\":{\"bgcolor\":\"white\",\"lakecolor\":\"white\",\"landcolor\":\"#E5ECF6\",\"showlakes\":true,\"showland\":true,\"subunitcolor\":\"white\"},\"hoverlabel\":{\"align\":\"left\"},\"hovermode\":\"closest\",\"mapbox\":{\"style\":\"light\"},\"paper_bgcolor\":\"white\",\"plot_bgcolor\":\"#E5ECF6\",\"polar\":{\"angularaxis\":{\"gridcolor\":\"white\",\"linecolor\":\"white\",\"ticks\":\"\"},\"bgcolor\":\"#E5ECF6\",\"radialaxis\":{\"gridcolor\":\"white\",\"linecolor\":\"white\",\"ticks\":\"\"}},\"scene\":{\"xaxis\":{\"backgroundcolor\":\"#E5ECF6\",\"gridcolor\":\"white\",\"gridwidth\":2,\"linecolor\":\"white\",\"showbackground\":true,\"ticks\":\"\",\"zerolinecolor\":\"white\"},\"yaxis\":{\"backgroundcolor\":\"#E5ECF6\",\"gridcolor\":\"white\",\"gridwidth\":2,\"linecolor\":\"white\",\"showbackground\":true,\"ticks\":\"\",\"zerolinecolor\":\"white\"},\"zaxis\":{\"backgroundcolor\":\"#E5ECF6\",\"gridcolor\":\"white\",\"gridwidth\":2,\"linecolor\":\"white\",\"showbackground\":true,\"ticks\":\"\",\"zerolinecolor\":\"white\"}},\"shapedefaults\":{\"line\":{\"color\":\"#2a3f5f\"}},\"ternary\":{\"aaxis\":{\"gridcolor\":\"white\",\"linecolor\":\"white\",\"ticks\":\"\"},\"baxis\":{\"gridcolor\":\"white\",\"linecolor\":\"white\",\"ticks\":\"\"},\"bgcolor\":\"#E5ECF6\",\"caxis\":{\"gridcolor\":\"white\",\"linecolor\":\"white\",\"ticks\":\"\"}},\"title\":{\"x\":0.05},\"xaxis\":{\"automargin\":true,\"gridcolor\":\"white\",\"linecolor\":\"white\",\"ticks\":\"\",\"title\":{\"standoff\":15},\"zerolinecolor\":\"white\",\"zerolinewidth\":2},\"yaxis\":{\"automargin\":true,\"gridcolor\":\"white\",\"linecolor\":\"white\",\"ticks\":\"\",\"title\":{\"standoff\":15},\"zerolinecolor\":\"white\",\"zerolinewidth\":2}}},\"xaxis\":{\"anchor\":\"y\",\"domain\":[0.0,0.2888888888888889],\"range\":[0,20]},\"yaxis\":{\"anchor\":\"x\",\"domain\":[0.0,1.0],\"range\":[-0.1,1.2]},\"xaxis2\":{\"anchor\":\"y2\",\"domain\":[0.35555555555555557,0.6444444444444445],\"range\":[0,20]},\"yaxis2\":{\"anchor\":\"x2\",\"domain\":[0.0,1.0],\"range\":[-0.1,1.2]},\"xaxis3\":{\"anchor\":\"y3\",\"domain\":[0.7111111111111111,1.0],\"range\":[0,20]},\"yaxis3\":{\"anchor\":\"x3\",\"domain\":[0.0,1.0],\"range\":[-0.1,1.2]},\"annotations\":[{\"font\":{\"size\":16},\"showarrow\":false,\"text\":\"Hyper Parameter vs Train Accuracy\",\"x\":0.14444444444444446,\"xanchor\":\"center\",\"xref\":\"paper\",\"y\":1.0,\"yanchor\":\"bottom\",\"yref\":\"paper\"},{\"font\":{\"size\":16},\"showarrow\":false,\"text\":\"Hyper Parameter vs Test Accuracy\",\"x\":0.5,\"xanchor\":\"center\",\"xref\":\"paper\",\"y\":1.0,\"yanchor\":\"bottom\",\"yref\":\"paper\"},{\"font\":{\"size\":16},\"showarrow\":false,\"text\":\"Hyper Parameter vs Accuracy Difference\",\"x\":0.8555555555555556,\"xanchor\":\"center\",\"xref\":\"paper\",\"y\":1.0,\"yanchor\":\"bottom\",\"yref\":\"paper\"}]},                        {\"responsive\": true}                    ).then(function(){\n",
       "                            \n",
       "var gd = document.getElementById('87ce88f2-80bc-46ec-964c-5ffcdcb61147');\n",
       "var x = new MutationObserver(function (mutations, observer) {{\n",
       "        var display = window.getComputedStyle(gd).display;\n",
       "        if (!display || display === 'none') {{\n",
       "            console.log([gd, 'removed!']);\n",
       "            Plotly.purge(gd);\n",
       "            observer.disconnect();\n",
       "        }}\n",
       "}});\n",
       "\n",
       "// Listen for the removal of the full notebook cells\n",
       "var notebookContainer = gd.closest('#notebook-container');\n",
       "if (notebookContainer) {{\n",
       "    x.observe(notebookContainer, {childList: true});\n",
       "}}\n",
       "\n",
       "// Listen for the clearing of the current output cell\n",
       "var outputEl = gd.closest('.output');\n",
       "if (outputEl) {{\n",
       "    x.observe(outputEl, {childList: true});\n",
       "}}\n",
       "\n",
       "                        })                };                });            </script>        </div>"
      ]
     },
     "metadata": {},
     "output_type": "display_data"
    }
   ],
   "source": [
    "plotdata = results.query(\"Noise == 0.3 & Dataset == 'Circles' & Class == 'KNN' & Samples == 10000\")\n",
    "plotdata\n",
    "\n",
    "\n",
    "fig = make_subplots(rows=1, cols=3 , subplot_titles=(\"Hyper Parameter vs Train Accuracy\", \"Hyper Parameter vs Test Accuracy\", \"Hyper Parameter vs Accuracy Difference\"))\n",
    "\n",
    "# Add traces\n",
    "fig.add_trace(go.Scatter(x=plotdata['Hyper_Parameter'], y= plotdata['Train_Accuracy'],\n",
    "                    mode='markers',\n",
    "                    name='Train') ,  row=1, col=1)\n",
    "\n",
    "fig.add_trace(go.Scatter(x=plotdata['Hyper_Parameter'], y= plotdata['Test_Accuracy'],\n",
    "                    mode='markers',\n",
    "                    name='Test') ,  row=1, col=2)\n",
    "\n",
    "fig.add_trace(go.Scatter(x=plotdata['Hyper_Parameter'], y= plotdata['Accuracy_Difference'],\n",
    "                    mode='markers',\n",
    "                    name='Difference') ,  row=1, col=3)\n",
    "\n",
    "fig.update_xaxes(range=[0,20])\n",
    "fig.update_yaxes(range=[-0.1,1.2])"
   ]
  },
  {
   "cell_type": "markdown",
   "id": "e5cc529a",
   "metadata": {},
   "source": [
    "# Q6"
   ]
  },
  {
   "cell_type": "code",
   "execution_count": 32,
   "id": "6d16dfb7",
   "metadata": {},
   "outputs": [
    {
     "data": {
      "text/plain": [
       "Noise  Samples\n",
       "0.0    5          0.000000\n",
       "       10         0.500000\n",
       "       50         0.733333\n",
       "       100        0.920000\n",
       "       1000       0.965333\n",
       "       10000      0.964000\n",
       "0.1    5          0.857143\n",
       "       10         0.888889\n",
       "       50         0.746667\n",
       "       100        0.866667\n",
       "       1000       0.953667\n",
       "       10000      0.959267\n",
       "0.2    5          0.857143\n",
       "       10         0.000000\n",
       "       50         0.846667\n",
       "       100        0.943333\n",
       "       1000       0.937667\n",
       "       10000      0.930867\n",
       "0.3    5          0.285714\n",
       "       10         0.055556\n",
       "       50         0.646667\n",
       "       100        0.883333\n",
       "       1000       0.872000\n",
       "       10000      0.884433\n",
       "0.4    5          0.000000\n",
       "       10         0.888889\n",
       "       50         0.786667\n",
       "       100        0.636667\n",
       "       1000       0.866000\n",
       "       10000      0.839000\n",
       "0.5    5          0.000000\n",
       "       10         0.888889\n",
       "       50         0.846667\n",
       "       100        0.913333\n",
       "       1000       0.805333\n",
       "       10000      0.797433\n",
       "Name: Test_Accuracy, dtype: float64"
      ]
     },
     "execution_count": 32,
     "metadata": {},
     "output_type": "execute_result"
    }
   ],
   "source": [
    "circles.groupby(['Noise','Samples'])['Test_Accuracy'].mean()\n"
   ]
  },
  {
   "cell_type": "code",
   "execution_count": 33,
   "id": "4a5cbad7",
   "metadata": {},
   "outputs": [
    {
     "data": {
      "text/plain": [
       "Noise  Samples\n",
       "0.0    5          0.000000\n",
       "       10         0.111111\n",
       "       50         0.293333\n",
       "       100        0.563333\n",
       "       1000       0.825333\n",
       "       10000      0.828567\n",
       "0.1    5          0.142857\n",
       "       10         0.000000\n",
       "       50         0.280000\n",
       "       100        0.270000\n",
       "       1000       0.677000\n",
       "       10000      0.704533\n",
       "0.2    5          0.142857\n",
       "       10         0.055556\n",
       "       50         0.373333\n",
       "       100        0.440000\n",
       "       1000       0.603333\n",
       "       10000      0.589967\n",
       "0.3    5          0.000000\n",
       "       10         0.000000\n",
       "       50         0.306667\n",
       "       100        0.433333\n",
       "       1000       0.534667\n",
       "       10000      0.546833\n",
       "0.4    5          0.142857\n",
       "       10         0.000000\n",
       "       50         0.233333\n",
       "       100        0.456667\n",
       "       1000       0.540333\n",
       "       10000      0.541467\n",
       "0.5    5          0.571429\n",
       "       10         0.833333\n",
       "       50         0.466667\n",
       "       100        0.473333\n",
       "       1000       0.547333\n",
       "       10000      0.512433\n",
       "Name: Test_Accuracy, dtype: float64"
      ]
     },
     "execution_count": 33,
     "metadata": {},
     "output_type": "execute_result"
    }
   ],
   "source": [
    "moons.groupby(['Noise','Samples'])['Test_Accuracy'].mean()\n"
   ]
  },
  {
   "cell_type": "markdown",
   "id": "aeba964b",
   "metadata": {},
   "source": [
    "# Q7"
   ]
  },
  {
   "cell_type": "code",
   "execution_count": 34,
   "id": "889cce86",
   "metadata": {},
   "outputs": [
    {
     "data": {
      "text/plain": [
       "Regularization_Parameter\n",
       "0.01      0.639778\n",
       "0.10      0.684000\n",
       "1.00      0.694208\n",
       "10.00     0.715222\n",
       "100.00    0.716611\n",
       "Name: Test_Accuracy, dtype: float64"
      ]
     },
     "execution_count": 34,
     "metadata": {},
     "output_type": "execute_result"
    }
   ],
   "source": [
    "circles.query(\"Class == 'Logistic Regression'\").groupby(['Regularization_Parameter'])['Test_Accuracy'].mean()\n"
   ]
  },
  {
   "cell_type": "code",
   "execution_count": 35,
   "id": "bcf5e7e9",
   "metadata": {},
   "outputs": [
    {
     "data": {
      "text/plain": [
       "Samples  Noise\n",
       "5        0.0      0.0000\n",
       "         0.1      1.0000\n",
       "         0.2      1.0000\n",
       "         0.3      0.0000\n",
       "         0.4      0.0000\n",
       "         0.5      0.0000\n",
       "10       0.0      0.5000\n",
       "         0.1      1.0000\n",
       "         0.2      0.0000\n",
       "         0.3      0.0000\n",
       "         0.4      1.0000\n",
       "         0.5      1.0000\n",
       "50       0.0      0.6000\n",
       "         0.1      0.6000\n",
       "         0.2      0.9000\n",
       "         0.3      0.6000\n",
       "         0.4      0.7000\n",
       "         0.5      0.9000\n",
       "100      0.0      0.9000\n",
       "         0.1      0.6500\n",
       "         0.2      0.9000\n",
       "         0.3      0.8500\n",
       "         0.4      0.7000\n",
       "         0.5      0.9500\n",
       "1000     0.0      0.9050\n",
       "         0.1      0.8700\n",
       "         0.2      0.8750\n",
       "         0.3      0.8150\n",
       "         0.4      0.8450\n",
       "         0.5      0.7950\n",
       "10000    0.0      0.8985\n",
       "         0.1      0.8835\n",
       "         0.2      0.8600\n",
       "         0.3      0.8520\n",
       "         0.4      0.8405\n",
       "         0.5      0.8020\n",
       "Name: Test_Accuracy, dtype: float64"
      ]
     },
     "execution_count": 35,
     "metadata": {},
     "output_type": "execute_result"
    }
   ],
   "source": [
    "circles.query(\"Class == 'Logistic Regression' & Regularization_Parameter == 1.00\").groupby(['Samples','Noise'])['Test_Accuracy'].mean()\n"
   ]
  },
  {
   "cell_type": "code",
   "execution_count": 36,
   "id": "0ee1c9ec",
   "metadata": {},
   "outputs": [
    {
     "data": {
      "text/plain": [
       "Hyper_Parameter\n",
       "1     0.664208\n",
       "3     0.738236\n",
       "5     0.831800\n",
       "7     0.834167\n",
       "9     0.899688\n",
       "11    0.888833\n",
       "13    0.874083\n",
       "15    0.871812\n",
       "17    0.872792\n",
       "19    0.864229\n",
       "Name: Test_Accuracy, dtype: float64"
      ]
     },
     "execution_count": 36,
     "metadata": {},
     "output_type": "execute_result"
    }
   ],
   "source": [
    "circles.query(\"Class == 'KNN'\").groupby(['Hyper_Parameter'])['Test_Accuracy'].mean()\n"
   ]
  },
  {
   "cell_type": "code",
   "execution_count": 37,
   "id": "616e177f",
   "metadata": {},
   "outputs": [
    {
     "data": {
      "text/plain": [
       "Samples  Noise\n",
       "10       0.0      0.5000\n",
       "         0.1      1.0000\n",
       "         0.2      0.0000\n",
       "         0.3      0.0000\n",
       "         0.4      1.0000\n",
       "         0.5      1.0000\n",
       "50       0.0      1.0000\n",
       "         0.1      0.9000\n",
       "         0.2      0.9000\n",
       "         0.3      0.6000\n",
       "         0.4      0.8000\n",
       "         0.5      0.8000\n",
       "100      0.0      1.0000\n",
       "         0.1      1.0000\n",
       "         0.2      1.0000\n",
       "         0.3      0.9000\n",
       "         0.4      0.6000\n",
       "         0.5      0.9000\n",
       "1000     0.0      1.0000\n",
       "         0.1      1.0000\n",
       "         0.2      0.9700\n",
       "         0.3      0.9150\n",
       "         0.4      0.8700\n",
       "         0.5      0.8000\n",
       "10000    0.0      1.0000\n",
       "         0.1      0.9990\n",
       "         0.2      0.9670\n",
       "         0.3      0.9005\n",
       "         0.4      0.8360\n",
       "         0.5      0.7965\n",
       "Name: Test_Accuracy, dtype: float64"
      ]
     },
     "execution_count": 37,
     "metadata": {},
     "output_type": "execute_result"
    }
   ],
   "source": [
    "circles.query(\"Class == 'KNN' & Hyper_Parameter == 5\").groupby(['Samples','Noise'])['Test_Accuracy'].mean()\n"
   ]
  },
  {
   "cell_type": "code",
   "execution_count": 38,
   "id": "171b1688",
   "metadata": {},
   "outputs": [
    {
     "data": {
      "text/plain": [
       "Regularization_Parameter\n",
       "0.01      0.296569\n",
       "0.10      0.295750\n",
       "1.00      0.323222\n",
       "10.00     0.324569\n",
       "100.00    0.324569\n",
       "Name: Test_Accuracy, dtype: float64"
      ]
     },
     "execution_count": 38,
     "metadata": {},
     "output_type": "execute_result"
    }
   ],
   "source": [
    "moons.query(\"Class == 'Logistic Regression'\").groupby(['Regularization_Parameter'])['Test_Accuracy'].mean()\n"
   ]
  },
  {
   "cell_type": "code",
   "execution_count": 39,
   "id": "ee165b99",
   "metadata": {},
   "outputs": [
    {
     "data": {
      "text/plain": [
       "Samples  Noise\n",
       "5        0.0      0.0000\n",
       "         0.1      0.0000\n",
       "         0.2      0.0000\n",
       "         0.3      0.0000\n",
       "         0.4      0.0000\n",
       "         0.5      1.0000\n",
       "10       0.0      0.0000\n",
       "         0.1      0.0000\n",
       "         0.2      0.0000\n",
       "         0.3      0.0000\n",
       "         0.4      0.0000\n",
       "         0.5      1.0000\n",
       "50       0.0      0.3000\n",
       "         0.1      0.2000\n",
       "         0.2      0.3000\n",
       "         0.3      0.2000\n",
       "         0.4      0.2000\n",
       "         0.5      0.4000\n",
       "100      0.0      0.4000\n",
       "         0.1      0.1500\n",
       "         0.2      0.4500\n",
       "         0.3      0.3000\n",
       "         0.4      0.4000\n",
       "         0.5      0.5500\n",
       "1000     0.0      0.4800\n",
       "         0.1      0.4700\n",
       "         0.2      0.4450\n",
       "         0.3      0.5250\n",
       "         0.4      0.4700\n",
       "         0.5      0.5250\n",
       "10000    0.0      0.4865\n",
       "         0.1      0.4925\n",
       "         0.2      0.4355\n",
       "         0.3      0.5025\n",
       "         0.4      0.5175\n",
       "         0.5      0.4850\n",
       "Name: Test_Accuracy, dtype: float64"
      ]
     },
     "execution_count": 39,
     "metadata": {},
     "output_type": "execute_result"
    }
   ],
   "source": [
    "moons.query(\"Class == 'Logistic Regression' & Regularization_Parameter == 100.00\").groupby(['Samples','Noise'])['Test_Accuracy'].mean()\n"
   ]
  },
  {
   "cell_type": "code",
   "execution_count": 40,
   "id": "df5b889c",
   "metadata": {},
   "outputs": [
    {
     "data": {
      "text/plain": [
       "Hyper_Parameter\n",
       "1     0.394000\n",
       "3     0.549181\n",
       "5     0.467233\n",
       "7     0.476067\n",
       "9     0.527875\n",
       "11    0.531208\n",
       "13    0.540687\n",
       "15    0.559562\n",
       "17    0.543896\n",
       "19    0.548646\n",
       "Name: Test_Accuracy, dtype: float64"
      ]
     },
     "execution_count": 40,
     "metadata": {},
     "output_type": "execute_result"
    }
   ],
   "source": [
    "moons.query(\"Class == 'KNN'\").groupby(['Hyper_Parameter'])['Test_Accuracy'].mean()\n"
   ]
  },
  {
   "cell_type": "code",
   "execution_count": 41,
   "id": "f9bc831c",
   "metadata": {},
   "outputs": [
    {
     "data": {
      "text/plain": [
       "Samples  Noise\n",
       "50       0.0      0.6000\n",
       "         0.1      0.6000\n",
       "         0.2      0.9000\n",
       "         0.3      0.7000\n",
       "         0.4      0.7000\n",
       "         0.5      0.8000\n",
       "100      0.0      0.9500\n",
       "         0.1      0.8500\n",
       "         0.2      0.9500\n",
       "         0.3      0.9000\n",
       "         0.4      0.7000\n",
       "         0.5      0.9500\n",
       "1000     0.0      1.0000\n",
       "         0.1      1.0000\n",
       "         0.2      0.9800\n",
       "         0.3      0.9100\n",
       "         0.4      0.9000\n",
       "         0.5      0.8150\n",
       "10000    0.0      1.0000\n",
       "         0.1      0.9995\n",
       "         0.2      0.9690\n",
       "         0.3      0.9075\n",
       "         0.4      0.8515\n",
       "         0.5      0.8090\n",
       "Name: Test_Accuracy, dtype: float64"
      ]
     },
     "execution_count": 41,
     "metadata": {},
     "output_type": "execute_result"
    }
   ],
   "source": [
    "circles.query(\"Class == 'KNN' & Hyper_Parameter == 19\").groupby(['Samples','Noise'])['Test_Accuracy'].mean()\n"
   ]
  },
  {
   "cell_type": "code",
   "execution_count": null,
   "id": "8e60d9c2",
   "metadata": {},
   "outputs": [],
   "source": []
  },
  {
   "cell_type": "code",
   "execution_count": null,
   "id": "c7d34362",
   "metadata": {},
   "outputs": [],
   "source": []
  },
  {
   "cell_type": "code",
   "execution_count": null,
   "id": "5294571b",
   "metadata": {},
   "outputs": [],
   "source": []
  }
 ],
 "metadata": {
  "kernelspec": {
   "display_name": "Python 3 (ipykernel)",
   "language": "python",
   "name": "python3"
  },
  "language_info": {
   "codemirror_mode": {
    "name": "ipython",
    "version": 3
   },
   "file_extension": ".py",
   "mimetype": "text/x-python",
   "name": "python",
   "nbconvert_exporter": "python",
   "pygments_lexer": "ipython3",
   "version": "3.9.7"
  }
 },
 "nbformat": 4,
 "nbformat_minor": 5
}
