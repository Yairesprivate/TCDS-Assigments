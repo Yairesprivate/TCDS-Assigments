{
 "cells": [
  {
   "cell_type": "code",
   "execution_count": 2,
   "id": "63e83591-bcde-42cc-96d6-258fcb70a2fd",
   "metadata": {},
   "outputs": [
    {
     "name": "stdout",
     "output_type": "stream",
     "text": [
      "Requirement already satisfied: numpy in c:\\users\\yair\\anaconda3\\lib\\site-packages (1.20.3)\n"
     ]
    }
   ],
   "source": [
    "# Install a pip package in the current Jupyter kernel\n",
    "import sys\n",
    "!{sys.executable} -m pip install numpy"
   ]
  },
  {
   "cell_type": "markdown",
   "id": "262ed441-1e2f-4f23-af4e-3c1c0f6dc002",
   "metadata": {},
   "source": [
    "# Pandas Test - Real life exercise"
   ]
  },
  {
   "cell_type": "code",
   "execution_count": 3,
   "id": "e24b34ca-0a21-4dc6-92e4-4b16bcbd5a98",
   "metadata": {},
   "outputs": [],
   "source": [
    "import pandas as pd"
   ]
  },
  {
   "cell_type": "markdown",
   "id": "ad46fe63-39ad-4b03-b6b6-623586b94d45",
   "metadata": {},
   "source": [
    "For visualizations:"
   ]
  },
  {
   "cell_type": "code",
   "execution_count": 4,
   "id": "58bd46da-da6c-44d0-903f-19be230836e5",
   "metadata": {},
   "outputs": [
    {
     "data": {
      "text/html": [
       "        <script type=\"text/javascript\">\n",
       "        window.PlotlyConfig = {MathJaxConfig: 'local'};\n",
       "        if (window.MathJax) {MathJax.Hub.Config({SVG: {font: \"STIX-Web\"}});}\n",
       "        if (typeof require !== 'undefined') {\n",
       "        require.undef(\"plotly\");\n",
       "        requirejs.config({\n",
       "            paths: {\n",
       "                'plotly': ['https://cdn.plot.ly/plotly-2.9.0.min']\n",
       "            }\n",
       "        });\n",
       "        require(['plotly'], function(Plotly) {\n",
       "            window._Plotly = Plotly;\n",
       "        });\n",
       "        }\n",
       "        </script>\n",
       "        "
      ]
     },
     "metadata": {},
     "output_type": "display_data"
    }
   ],
   "source": [
    "import cufflinks as cf; cf.go_offline()\n",
    "import plotly_express as px"
   ]
  },
  {
   "cell_type": "markdown",
   "id": "2685b7b6-1a31-451b-a1e8-f29c1513b697",
   "metadata": {},
   "source": [
    "## About the data"
   ]
  },
  {
   "cell_type": "markdown",
   "id": "5453d0d4-f625-41df-942e-ff2f5cf0f993",
   "metadata": {},
   "source": [
    "The data you are about to load is coming from an Ad recommentation system of the company InBrain. InBrain is a adTech company and specalize in next-level ad recommendation.  \n",
    "The company has two major products - one giving high quality recommendation while the other is giving an highly yielding recommendation. Inbrain custormers are sending requests, asking for either of the products. \n",
    "\n",
    "Once a week, the company is doing an internal quality assements, and sends a sample of its traffic requests to external annotation process, in which the annotators are trained to manually decided whether the recommended Ad is a succes or not. The data contains information about the ad (**ad_id**), the sampled week (**week_id**), the requester company (**requester**), the region of operation (**region**), the recommendation type (Quality/Yield, **recommendation_type**) and the recommendation provider algorithm (**rec_provider**). The annotators are marking whether the recommendation is meeting the Quality/Yield standards (**is_success**) and whether or not the recommendation is severly defected (**is_sever**)\n",
    "\n",
    "See a sample below:"
   ]
  },
  {
   "cell_type": "code",
   "execution_count": 5,
   "id": "71b69819-00b8-4612-bd2f-49bab7b7ab13",
   "metadata": {},
   "outputs": [
    {
     "data": {
      "text/html": [
       "<div>\n",
       "<style scoped>\n",
       "    .dataframe tbody tr th:only-of-type {\n",
       "        vertical-align: middle;\n",
       "    }\n",
       "\n",
       "    .dataframe tbody tr th {\n",
       "        vertical-align: top;\n",
       "    }\n",
       "\n",
       "    .dataframe thead th {\n",
       "        text-align: right;\n",
       "    }\n",
       "</style>\n",
       "<table border=\"1\" class=\"dataframe\">\n",
       "  <thead>\n",
       "    <tr style=\"text-align: right;\">\n",
       "      <th></th>\n",
       "      <th>week_id</th>\n",
       "      <th>ad_id</th>\n",
       "      <th>requester</th>\n",
       "      <th>region</th>\n",
       "      <th>is_success</th>\n",
       "      <th>is_sever</th>\n",
       "      <th>recommendation_type</th>\n",
       "      <th>rec_provider</th>\n",
       "    </tr>\n",
       "  </thead>\n",
       "  <tbody>\n",
       "    <tr>\n",
       "      <th>279399</th>\n",
       "      <td>2022-week_01</td>\n",
       "      <td>AD08V7F6WN</td>\n",
       "      <td>Puentes Company</td>\n",
       "      <td>IN</td>\n",
       "      <td>yes</td>\n",
       "      <td>NaN</td>\n",
       "      <td>Yield</td>\n",
       "      <td>RuleBasedY</td>\n",
       "    </tr>\n",
       "    <tr>\n",
       "      <th>194796</th>\n",
       "      <td>2021-week_46</td>\n",
       "      <td>AD08CNC9F9</td>\n",
       "      <td>Puentes Company</td>\n",
       "      <td>IN</td>\n",
       "      <td>no</td>\n",
       "      <td>True</td>\n",
       "      <td>Yield</td>\n",
       "      <td>UserPopY</td>\n",
       "    </tr>\n",
       "    <tr>\n",
       "      <th>243683</th>\n",
       "      <td>2021-week_49</td>\n",
       "      <td>AD0798V8SD</td>\n",
       "      <td>Extreme DA</td>\n",
       "      <td>US</td>\n",
       "      <td>yes</td>\n",
       "      <td>NaN</td>\n",
       "      <td>Yield</td>\n",
       "      <td>UserPopY</td>\n",
       "    </tr>\n",
       "    <tr>\n",
       "      <th>228546</th>\n",
       "      <td>2021-week_48</td>\n",
       "      <td>AD08X8QW9W</td>\n",
       "      <td>Extreme DA</td>\n",
       "      <td>US</td>\n",
       "      <td>yes</td>\n",
       "      <td>NaN</td>\n",
       "      <td>Yield</td>\n",
       "      <td>DNNY</td>\n",
       "    </tr>\n",
       "    <tr>\n",
       "      <th>21319</th>\n",
       "      <td>2021-week_34</td>\n",
       "      <td>AD08PZ96F8</td>\n",
       "      <td>Puentes Company</td>\n",
       "      <td>IN</td>\n",
       "      <td>yes</td>\n",
       "      <td>NaN</td>\n",
       "      <td>Yield</td>\n",
       "      <td>ManualQ</td>\n",
       "    </tr>\n",
       "  </tbody>\n",
       "</table>\n",
       "</div>"
      ],
      "text/plain": [
       "             week_id       ad_id        requester region is_success is_sever  \\\n",
       "279399  2022-week_01  AD08V7F6WN  Puentes Company     IN        yes      NaN   \n",
       "194796  2021-week_46  AD08CNC9F9  Puentes Company     IN         no     True   \n",
       "243683  2021-week_49  AD0798V8SD       Extreme DA     US        yes      NaN   \n",
       "228546  2021-week_48  AD08X8QW9W       Extreme DA     US        yes      NaN   \n",
       "21319   2021-week_34  AD08PZ96F8  Puentes Company     IN        yes      NaN   \n",
       "\n",
       "       recommendation_type rec_provider  \n",
       "279399               Yield   RuleBasedY  \n",
       "194796               Yield     UserPopY  \n",
       "243683               Yield     UserPopY  \n",
       "228546               Yield         DNNY  \n",
       "21319                Yield      ManualQ  "
      ]
     },
     "execution_count": 5,
     "metadata": {},
     "output_type": "execute_result"
    }
   ],
   "source": [
    "ad_recs_annotated = pd.read_csv('data/ad_annotations.csv')\n",
    "ad_recs_annotated.sample(5)"
   ]
  },
  {
   "cell_type": "markdown",
   "id": "f4413766-e8bf-4f14-94e0-f58cfb88bb07",
   "metadata": {},
   "source": [
    "Your job, as the new and only data scientist of the company, is to get familiar with the the data, show week-over-week trends and produce insightfull graphs as a preparation to a full blown BI dashboard."
   ]
  },
  {
   "cell_type": "markdown",
   "id": "97faa00a-e0e3-47c0-bb8e-b3f72e1f0cb1",
   "metadata": {},
   "source": [
    "## Questions"
   ]
  },
  {
   "cell_type": "markdown",
   "id": "c0ed5ec1-d7b3-49a6-bf12-29420eab3a67",
   "metadata": {},
   "source": [
    "### Data Modifications"
   ]
  },
  {
   "cell_type": "markdown",
   "id": "8db18aad-c8b8-4fd4-994f-c008f279e1f6",
   "metadata": {},
   "source": [
    "* Add a column with the sample year\n",
    "* Add a column with the sample quarter (google how to)\n",
    "* Add a new success column with values 1 and 0 for yes and no \n",
    "* Are there duplicated ads? To compac the data, remove duplicated ads and instead add an ad_count column **(pay attention, this is not trivial at all)**\n",
    "* Are there any NaNs in the is_sever column? Count how many and create a new column with NaNs filled as False. Check that indeed the new column contaion no NaNs. \n",
    "* Capitlize (first letter only) the is_success column"
   ]
  },
  {
   "cell_type": "code",
   "execution_count": 9,
   "id": "507a1ecf",
   "metadata": {},
   "outputs": [
    {
     "data": {
      "text/html": [
       "<div>\n",
       "<style scoped>\n",
       "    .dataframe tbody tr th:only-of-type {\n",
       "        vertical-align: middle;\n",
       "    }\n",
       "\n",
       "    .dataframe tbody tr th {\n",
       "        vertical-align: top;\n",
       "    }\n",
       "\n",
       "    .dataframe thead th {\n",
       "        text-align: right;\n",
       "    }\n",
       "</style>\n",
       "<table border=\"1\" class=\"dataframe\">\n",
       "  <thead>\n",
       "    <tr style=\"text-align: right;\">\n",
       "      <th></th>\n",
       "      <th>week_id</th>\n",
       "      <th>ad_id</th>\n",
       "      <th>requester</th>\n",
       "      <th>region</th>\n",
       "      <th>is_success</th>\n",
       "      <th>is_sever</th>\n",
       "      <th>recommendation_type</th>\n",
       "      <th>rec_provider</th>\n",
       "      <th>year</th>\n",
       "    </tr>\n",
       "  </thead>\n",
       "  <tbody>\n",
       "    <tr>\n",
       "      <th>0</th>\n",
       "      <td>2021-week_33</td>\n",
       "      <td>AD0088VOS</td>\n",
       "      <td>Search Million Culture</td>\n",
       "      <td>DE</td>\n",
       "      <td>yes</td>\n",
       "      <td>NaN</td>\n",
       "      <td>Qality</td>\n",
       "      <td>DNNQ</td>\n",
       "      <td>2021</td>\n",
       "    </tr>\n",
       "    <tr>\n",
       "      <th>1</th>\n",
       "      <td>2021-week_33</td>\n",
       "      <td>AD07KYS8JM</td>\n",
       "      <td>MoJoe Brewing Company</td>\n",
       "      <td>DE</td>\n",
       "      <td>yes</td>\n",
       "      <td>NaN</td>\n",
       "      <td>Yield</td>\n",
       "      <td>DNNY</td>\n",
       "      <td>2021</td>\n",
       "    </tr>\n",
       "    <tr>\n",
       "      <th>2</th>\n",
       "      <td>2021-week_33</td>\n",
       "      <td>AD08PDP6Y9</td>\n",
       "      <td>Search Million Culture</td>\n",
       "      <td>DE</td>\n",
       "      <td>yes</td>\n",
       "      <td>NaN</td>\n",
       "      <td>Qality</td>\n",
       "      <td>DNNQ</td>\n",
       "      <td>2021</td>\n",
       "    </tr>\n",
       "    <tr>\n",
       "      <th>3</th>\n",
       "      <td>2021-week_33</td>\n",
       "      <td>AD89608808</td>\n",
       "      <td>Search Million Culture</td>\n",
       "      <td>DE</td>\n",
       "      <td>yes</td>\n",
       "      <td>NaN</td>\n",
       "      <td>Qality</td>\n",
       "      <td>BooksQ</td>\n",
       "      <td>2021</td>\n",
       "    </tr>\n",
       "    <tr>\n",
       "      <th>4</th>\n",
       "      <td>2021-week_33</td>\n",
       "      <td>AD07CMVHP6</td>\n",
       "      <td>Search Million Culture</td>\n",
       "      <td>DE</td>\n",
       "      <td>yes</td>\n",
       "      <td>NaN</td>\n",
       "      <td>Qality</td>\n",
       "      <td>DNNQ</td>\n",
       "      <td>2021</td>\n",
       "    </tr>\n",
       "  </tbody>\n",
       "</table>\n",
       "</div>"
      ],
      "text/plain": [
       "        week_id       ad_id               requester region is_success  \\\n",
       "0  2021-week_33   AD0088VOS  Search Million Culture     DE        yes   \n",
       "1  2021-week_33  AD07KYS8JM   MoJoe Brewing Company     DE        yes   \n",
       "2  2021-week_33  AD08PDP6Y9  Search Million Culture     DE        yes   \n",
       "3  2021-week_33  AD89608808  Search Million Culture     DE        yes   \n",
       "4  2021-week_33  AD07CMVHP6  Search Million Culture     DE        yes   \n",
       "\n",
       "  is_sever recommendation_type rec_provider  year  \n",
       "0      NaN              Qality         DNNQ  2021  \n",
       "1      NaN               Yield         DNNY  2021  \n",
       "2      NaN              Qality         DNNQ  2021  \n",
       "3      NaN              Qality       BooksQ  2021  \n",
       "4      NaN              Qality         DNNQ  2021  "
      ]
     },
     "execution_count": 9,
     "metadata": {},
     "output_type": "execute_result"
    }
   ],
   "source": [
    "ad_recs_annotated.head()"
   ]
  },
  {
   "cell_type": "code",
   "execution_count": 7,
   "id": "77319c6c-9618-42e7-8c71-491104320df6",
   "metadata": {},
   "outputs": [],
   "source": [
    "ad_recs_annotated['year'] = ad_recs_annotated['week_id'].str[:4]"
   ]
  },
  {
   "cell_type": "code",
   "execution_count": 8,
   "id": "cc993f73-75a2-499a-b86e-322dbdbba141",
   "metadata": {},
   "outputs": [
    {
     "ename": "AttributeError",
     "evalue": "Can only use .dt accessor with datetimelike values",
     "output_type": "error",
     "traceback": [
      "\u001b[1;31m---------------------------------------------------------------------------\u001b[0m",
      "\u001b[1;31mAttributeError\u001b[0m                            Traceback (most recent call last)",
      "\u001b[1;32m~\\AppData\\Local\\Temp/ipykernel_22652/586695868.py\u001b[0m in \u001b[0;36m<module>\u001b[1;34m\u001b[0m\n\u001b[1;32m----> 1\u001b[1;33m \u001b[0mad_recs_annotated\u001b[0m\u001b[1;33m[\u001b[0m\u001b[1;34m'quarter'\u001b[0m\u001b[1;33m]\u001b[0m \u001b[1;33m=\u001b[0m \u001b[0mad_recs_annotated\u001b[0m\u001b[1;33m[\u001b[0m\u001b[1;34m'week_id'\u001b[0m\u001b[1;33m]\u001b[0m\u001b[1;33m.\u001b[0m\u001b[0mdt\u001b[0m\u001b[1;33m.\u001b[0m\u001b[0mquarter\u001b[0m\u001b[1;33m\u001b[0m\u001b[1;33m\u001b[0m\u001b[0m\n\u001b[0m",
      "\u001b[1;32m~\\anaconda3\\lib\\site-packages\\pandas\\core\\generic.py\u001b[0m in \u001b[0;36m__getattr__\u001b[1;34m(self, name)\u001b[0m\n\u001b[0;32m   5485\u001b[0m         ):\n\u001b[0;32m   5486\u001b[0m             \u001b[1;32mreturn\u001b[0m \u001b[0mself\u001b[0m\u001b[1;33m[\u001b[0m\u001b[0mname\u001b[0m\u001b[1;33m]\u001b[0m\u001b[1;33m\u001b[0m\u001b[1;33m\u001b[0m\u001b[0m\n\u001b[1;32m-> 5487\u001b[1;33m         \u001b[1;32mreturn\u001b[0m \u001b[0mobject\u001b[0m\u001b[1;33m.\u001b[0m\u001b[0m__getattribute__\u001b[0m\u001b[1;33m(\u001b[0m\u001b[0mself\u001b[0m\u001b[1;33m,\u001b[0m \u001b[0mname\u001b[0m\u001b[1;33m)\u001b[0m\u001b[1;33m\u001b[0m\u001b[1;33m\u001b[0m\u001b[0m\n\u001b[0m\u001b[0;32m   5488\u001b[0m \u001b[1;33m\u001b[0m\u001b[0m\n\u001b[0;32m   5489\u001b[0m     \u001b[1;32mdef\u001b[0m \u001b[0m__setattr__\u001b[0m\u001b[1;33m(\u001b[0m\u001b[0mself\u001b[0m\u001b[1;33m,\u001b[0m \u001b[0mname\u001b[0m\u001b[1;33m:\u001b[0m \u001b[0mstr\u001b[0m\u001b[1;33m,\u001b[0m \u001b[0mvalue\u001b[0m\u001b[1;33m)\u001b[0m \u001b[1;33m->\u001b[0m \u001b[1;32mNone\u001b[0m\u001b[1;33m:\u001b[0m\u001b[1;33m\u001b[0m\u001b[1;33m\u001b[0m\u001b[0m\n",
      "\u001b[1;32m~\\anaconda3\\lib\\site-packages\\pandas\\core\\accessor.py\u001b[0m in \u001b[0;36m__get__\u001b[1;34m(self, obj, cls)\u001b[0m\n\u001b[0;32m    179\u001b[0m             \u001b[1;31m# we're accessing the attribute of the class, i.e., Dataset.geo\u001b[0m\u001b[1;33m\u001b[0m\u001b[1;33m\u001b[0m\u001b[0m\n\u001b[0;32m    180\u001b[0m             \u001b[1;32mreturn\u001b[0m \u001b[0mself\u001b[0m\u001b[1;33m.\u001b[0m\u001b[0m_accessor\u001b[0m\u001b[1;33m\u001b[0m\u001b[1;33m\u001b[0m\u001b[0m\n\u001b[1;32m--> 181\u001b[1;33m         \u001b[0maccessor_obj\u001b[0m \u001b[1;33m=\u001b[0m \u001b[0mself\u001b[0m\u001b[1;33m.\u001b[0m\u001b[0m_accessor\u001b[0m\u001b[1;33m(\u001b[0m\u001b[0mobj\u001b[0m\u001b[1;33m)\u001b[0m\u001b[1;33m\u001b[0m\u001b[1;33m\u001b[0m\u001b[0m\n\u001b[0m\u001b[0;32m    182\u001b[0m         \u001b[1;31m# Replace the property with the accessor object. Inspired by:\u001b[0m\u001b[1;33m\u001b[0m\u001b[1;33m\u001b[0m\u001b[0m\n\u001b[0;32m    183\u001b[0m         \u001b[1;31m# https://www.pydanny.com/cached-property.html\u001b[0m\u001b[1;33m\u001b[0m\u001b[1;33m\u001b[0m\u001b[0m\n",
      "\u001b[1;32m~\\anaconda3\\lib\\site-packages\\pandas\\core\\indexes\\accessors.py\u001b[0m in \u001b[0;36m__new__\u001b[1;34m(cls, data)\u001b[0m\n\u001b[0;32m    504\u001b[0m             \u001b[1;32mreturn\u001b[0m \u001b[0mPeriodProperties\u001b[0m\u001b[1;33m(\u001b[0m\u001b[0mdata\u001b[0m\u001b[1;33m,\u001b[0m \u001b[0morig\u001b[0m\u001b[1;33m)\u001b[0m\u001b[1;33m\u001b[0m\u001b[1;33m\u001b[0m\u001b[0m\n\u001b[0;32m    505\u001b[0m \u001b[1;33m\u001b[0m\u001b[0m\n\u001b[1;32m--> 506\u001b[1;33m         \u001b[1;32mraise\u001b[0m \u001b[0mAttributeError\u001b[0m\u001b[1;33m(\u001b[0m\u001b[1;34m\"Can only use .dt accessor with datetimelike values\"\u001b[0m\u001b[1;33m)\u001b[0m\u001b[1;33m\u001b[0m\u001b[1;33m\u001b[0m\u001b[0m\n\u001b[0m",
      "\u001b[1;31mAttributeError\u001b[0m: Can only use .dt accessor with datetimelike values"
     ]
    }
   ],
   "source": [
    "    ad_recs_annotated['quarter'] = ad_recs_annotated['week_id'].dt.quarter"
   ]
  },
  {
   "cell_type": "code",
   "execution_count": 16,
   "id": "8ebc5987",
   "metadata": {},
   "outputs": [
    {
     "data": {
      "text/plain": [
       "0         1\n",
       "1         1\n",
       "2         1\n",
       "3         1\n",
       "4         1\n",
       "         ..\n",
       "373783    1\n",
       "373784    1\n",
       "373785    1\n",
       "373786    1\n",
       "373787    1\n",
       "Name: is_success_int, Length: 373788, dtype: int64"
      ]
     },
     "execution_count": 16,
     "metadata": {},
     "output_type": "execute_result"
    }
   ],
   "source": [
    "ad_recs_annotated['is_success_int'] =  ad_recs_annotated.is_success.map({'yes':1,'no':0}) \n",
    "ad_recs_annotated.is_success_int"
   ]
  },
  {
   "cell_type": "code",
   "execution_count": 17,
   "id": "c85f70e1",
   "metadata": {},
   "outputs": [
    {
     "data": {
      "text/plain": [
       "False    329099\n",
       "True      44689\n",
       "Name: is_sever_fixed, dtype: int64"
      ]
     },
     "execution_count": 17,
     "metadata": {},
     "output_type": "execute_result"
    }
   ],
   "source": [
    "ad_recs_annotated.is_sever.isnull().sum()\n",
    "ad_recs_annotated[ad_recs_annotated.is_sever.notnull()].is_success.value_counts()\n",
    "ad_recs_annotated['is_sever_fixed'] = ad_recs_annotated.is_sever.fillna(False)\n",
    "ad_recs_annotated['is_sever_fixed'].isnull().sum()\n",
    "ad_recs_annotated.is_sever_fixed.value_counts(dropna=False)"
   ]
  },
  {
   "cell_type": "code",
   "execution_count": 18,
   "id": "bec60542",
   "metadata": {},
   "outputs": [
    {
     "data": {
      "text/plain": [
       "0         Yes\n",
       "1         Yes\n",
       "2         Yes\n",
       "3         Yes\n",
       "4         Yes\n",
       "         ... \n",
       "373783    Yes\n",
       "373784    Yes\n",
       "373785    Yes\n",
       "373786    Yes\n",
       "373787    Yes\n",
       "Name: is_success, Length: 373788, dtype: object"
      ]
     },
     "execution_count": 18,
     "metadata": {},
     "output_type": "execute_result"
    }
   ],
   "source": [
    "ad_recs_annotated['is_success'] = ad_recs_annotated.is_success.apply(lambda successStatus: successStatus.capitalize())\n",
    "ad_recs_annotated.is_success"
   ]
  },
  {
   "cell_type": "markdown",
   "id": "e1a4707e-5673-4bec-bf9a-51aaf633b09f",
   "metadata": {
    "tags": []
   },
   "source": [
    "### Subset selection"
   ]
  },
  {
   "cell_type": "markdown",
   "id": "6e4087a0-8706-471d-ae78-d9c47534f6b8",
   "metadata": {},
   "source": [
    "for each question, sub-select the data by using the conditional selection (`[]`) and the `.query` API. Use `.shape` on the subselection to obtain the result.  \n",
    "For example:\n",
    "`df.query('some_condition').shape`"
   ]
  },
  {
   "cell_type": "markdown",
   "id": "df326ef2-83c4-400f-bb51-f47db2401ee3",
   "metadata": {},
   "source": [
    "1. How many requests are there in US region? \n",
    "1. How many **successful** requests are there in US region? \n",
    "1. How many **successful** requests are there in US region, on week 52?\n",
    "1. How many requests where delivered by DDNQ, RRNY and UserPopQ together? \n",
    "1. How many requests where delivered by rule based providers? \n",
    "1. Select only the requests from 2021 - How many are there? \n",
    "1. Select the reqeusts from week 30 to week 40 - How many are there? \n",
    "1. Select all the data that comes from the most popular Ad\n",
    "1. Select all the data that comes from the least popular provider\n",
    "1. Select the data in which is_sever is None. How big is it? \n",
    "1. Select the data in which the requester is a 3 word company\n",
    "1. Select the data in which the requester is a 3 word company, and the ad_id has the letter 6 in it\n",
    "1. Select the data in which the requester is a 3 word company, and the multiplication of all the numbers in the ad_id is bigger than 30"
   ]
  },
  {
   "cell_type": "code",
   "execution_count": 20,
   "id": "13de9db1",
   "metadata": {},
   "outputs": [
    {
     "data": {
      "text/plain": [
       "103846"
      ]
     },
     "execution_count": 20,
     "metadata": {},
     "output_type": "execute_result"
    }
   ],
   "source": [
    "ad_recs_annotated.query('region == \"US\"').shape[0]"
   ]
  },
  {
   "cell_type": "code",
   "execution_count": 21,
   "id": "8a4a8a26",
   "metadata": {},
   "outputs": [
    {
     "data": {
      "text/plain": [
       "88918"
      ]
     },
     "execution_count": 21,
     "metadata": {},
     "output_type": "execute_result"
    }
   ],
   "source": [
    "ad_recs_annotated[(ad_recs_annotated['region'] == 'US') & (ad_recs_annotated['is_success'] == 'Yes')].shape[0]"
   ]
  },
  {
   "cell_type": "code",
   "execution_count": 24,
   "id": "de41e83a",
   "metadata": {},
   "outputs": [
    {
     "data": {
      "text/plain": [
       "3342"
      ]
     },
     "execution_count": 24,
     "metadata": {},
     "output_type": "execute_result"
    }
   ],
   "source": [
    "ad_recs_annotated[\"week_number\"] = ad_recs_annotated.week_id.apply(lambda week:int(week.split('_')[1]))\n",
    "ad_recs_annotated.query(\"region == 'US' and is_success == 'Yes' and week_number == 52 \").shape[0]\n"
   ]
  },
  {
   "cell_type": "code",
   "execution_count": 25,
   "id": "ddb5631f",
   "metadata": {},
   "outputs": [
    {
     "data": {
      "text/plain": [
       "200093"
      ]
     },
     "execution_count": 25,
     "metadata": {},
     "output_type": "execute_result"
    }
   ],
   "source": [
    "rec_providers = ['DNNQ','RNNY','UserPopQ']\n",
    "ad_recs_annotated[ad_recs_annotated['rec_provider'].isin(rec_providers)].shape[0]"
   ]
  },
  {
   "cell_type": "code",
   "execution_count": 26,
   "id": "0a773b5a",
   "metadata": {},
   "outputs": [
    {
     "data": {
      "text/plain": [
       "28336"
      ]
     },
     "execution_count": 26,
     "metadata": {},
     "output_type": "execute_result"
    }
   ],
   "source": [
    "rec_providers_by_rule = ['RuleBased','RuleBasedY']\n",
    "ad_recs_annotated[ad_recs_annotated['rec_provider'].isin(rec_providers_by_rule)].shape[0]"
   ]
  },
  {
   "cell_type": "code",
   "execution_count": 29,
   "id": "e1c3d1cd",
   "metadata": {},
   "outputs": [
    {
     "data": {
      "text/html": [
       "<div>\n",
       "<style scoped>\n",
       "    .dataframe tbody tr th:only-of-type {\n",
       "        vertical-align: middle;\n",
       "    }\n",
       "\n",
       "    .dataframe tbody tr th {\n",
       "        vertical-align: top;\n",
       "    }\n",
       "\n",
       "    .dataframe thead th {\n",
       "        text-align: right;\n",
       "    }\n",
       "</style>\n",
       "<table border=\"1\" class=\"dataframe\">\n",
       "  <thead>\n",
       "    <tr style=\"text-align: right;\">\n",
       "      <th></th>\n",
       "      <th>week_id</th>\n",
       "      <th>ad_id</th>\n",
       "      <th>requester</th>\n",
       "      <th>region</th>\n",
       "      <th>is_success</th>\n",
       "      <th>is_sever</th>\n",
       "      <th>recommendation_type</th>\n",
       "      <th>rec_provider</th>\n",
       "      <th>year</th>\n",
       "      <th>is_success_int</th>\n",
       "      <th>is_sever_fixed</th>\n",
       "      <th>week_number</th>\n",
       "    </tr>\n",
       "  </thead>\n",
       "  <tbody>\n",
       "    <tr>\n",
       "      <th>0</th>\n",
       "      <td>2021-week_33</td>\n",
       "      <td>AD0088VOS</td>\n",
       "      <td>Search Million Culture</td>\n",
       "      <td>DE</td>\n",
       "      <td>Yes</td>\n",
       "      <td>NaN</td>\n",
       "      <td>Qality</td>\n",
       "      <td>DNNQ</td>\n",
       "      <td>2021</td>\n",
       "      <td>1</td>\n",
       "      <td>False</td>\n",
       "      <td>33</td>\n",
       "    </tr>\n",
       "    <tr>\n",
       "      <th>1</th>\n",
       "      <td>2021-week_33</td>\n",
       "      <td>AD07KYS8JM</td>\n",
       "      <td>MoJoe Brewing Company</td>\n",
       "      <td>DE</td>\n",
       "      <td>Yes</td>\n",
       "      <td>NaN</td>\n",
       "      <td>Yield</td>\n",
       "      <td>DNNY</td>\n",
       "      <td>2021</td>\n",
       "      <td>1</td>\n",
       "      <td>False</td>\n",
       "      <td>33</td>\n",
       "    </tr>\n",
       "    <tr>\n",
       "      <th>2</th>\n",
       "      <td>2021-week_33</td>\n",
       "      <td>AD08PDP6Y9</td>\n",
       "      <td>Search Million Culture</td>\n",
       "      <td>DE</td>\n",
       "      <td>Yes</td>\n",
       "      <td>NaN</td>\n",
       "      <td>Qality</td>\n",
       "      <td>DNNQ</td>\n",
       "      <td>2021</td>\n",
       "      <td>1</td>\n",
       "      <td>False</td>\n",
       "      <td>33</td>\n",
       "    </tr>\n",
       "    <tr>\n",
       "      <th>3</th>\n",
       "      <td>2021-week_33</td>\n",
       "      <td>AD89608808</td>\n",
       "      <td>Search Million Culture</td>\n",
       "      <td>DE</td>\n",
       "      <td>Yes</td>\n",
       "      <td>NaN</td>\n",
       "      <td>Qality</td>\n",
       "      <td>BooksQ</td>\n",
       "      <td>2021</td>\n",
       "      <td>1</td>\n",
       "      <td>False</td>\n",
       "      <td>33</td>\n",
       "    </tr>\n",
       "    <tr>\n",
       "      <th>4</th>\n",
       "      <td>2021-week_33</td>\n",
       "      <td>AD07CMVHP6</td>\n",
       "      <td>Search Million Culture</td>\n",
       "      <td>DE</td>\n",
       "      <td>Yes</td>\n",
       "      <td>NaN</td>\n",
       "      <td>Qality</td>\n",
       "      <td>DNNQ</td>\n",
       "      <td>2021</td>\n",
       "      <td>1</td>\n",
       "      <td>False</td>\n",
       "      <td>33</td>\n",
       "    </tr>\n",
       "  </tbody>\n",
       "</table>\n",
       "</div>"
      ],
      "text/plain": [
       "        week_id       ad_id               requester region is_success  \\\n",
       "0  2021-week_33   AD0088VOS  Search Million Culture     DE        Yes   \n",
       "1  2021-week_33  AD07KYS8JM   MoJoe Brewing Company     DE        Yes   \n",
       "2  2021-week_33  AD08PDP6Y9  Search Million Culture     DE        Yes   \n",
       "3  2021-week_33  AD89608808  Search Million Culture     DE        Yes   \n",
       "4  2021-week_33  AD07CMVHP6  Search Million Culture     DE        Yes   \n",
       "\n",
       "  is_sever recommendation_type rec_provider  year  is_success_int  \\\n",
       "0      NaN              Qality         DNNQ  2021               1   \n",
       "1      NaN               Yield         DNNY  2021               1   \n",
       "2      NaN              Qality         DNNQ  2021               1   \n",
       "3      NaN              Qality       BooksQ  2021               1   \n",
       "4      NaN              Qality         DNNQ  2021               1   \n",
       "\n",
       "   is_sever_fixed  week_number  \n",
       "0           False           33  \n",
       "1           False           33  \n",
       "2           False           33  \n",
       "3           False           33  \n",
       "4           False           33  "
      ]
     },
     "execution_count": 29,
     "metadata": {},
     "output_type": "execute_result"
    }
   ],
   "source": [
    "ad_recs_annotated[ad_recs_annotated['year'] == '2021'].shape[0]\n",
    "ad_recs_annotated.head()\n"
   ]
  },
  {
   "cell_type": "code",
   "execution_count": 30,
   "id": "213bcf0f",
   "metadata": {},
   "outputs": [
    {
     "data": {
      "text/plain": [
       "115051"
      ]
     },
     "execution_count": 30,
     "metadata": {},
     "output_type": "execute_result"
    }
   ],
   "source": [
    "ad_recs_annotated[(ad_recs_annotated['week_number'] >= 30) & (ad_recs_annotated['week_number'] <= 40)].shape[0]"
   ]
  },
  {
   "cell_type": "code",
   "execution_count": 33,
   "id": "66c9ec1a",
   "metadata": {},
   "outputs": [],
   "source": [
    "most_popular_ad = ad_recs_annotated.requester.value_counts().sort_values(ascending=False).index[0]\n",
    "all_data_of_most_popular_ad = ad_recs_annotated[ad_recs_annotated[\"requester\"] == most_popular_ad]\n",
    "all_data_of_most_popular_ad = ad_recs_annotated.query(\"requester == @most_popular_ad\")"
   ]
  },
  {
   "cell_type": "code",
   "execution_count": 35,
   "id": "59e6e23a",
   "metadata": {},
   "outputs": [],
   "source": [
    "least_popular_provider = ad_recs_annotated.rec_provider.value_counts().sort_values(ascending=True).index[0]\n",
    "all_data_of_least_popular_provider = ad_recs_annotated[ad_recs_annotated['rec_provider'] == least_popular_provider]\n",
    "all_data_of_least_popular_provider = ad_recs_annotated.query(\"rec_provider == @least_popular_provider\")"
   ]
  },
  {
   "cell_type": "code",
   "execution_count": 36,
   "id": "be6572e3",
   "metadata": {},
   "outputs": [
    {
     "data": {
      "text/plain": [
       "304195"
      ]
     },
     "execution_count": 36,
     "metadata": {},
     "output_type": "execute_result"
    }
   ],
   "source": [
    "all_data_which_is_server_None = ad_recs_annotated[ad_recs_annotated.is_sever.isnull()]\n",
    "all_data_which_is_server_None.shape[0]"
   ]
  },
  {
   "cell_type": "code",
   "execution_count": 40,
   "id": "9d86ca61",
   "metadata": {},
   "outputs": [],
   "source": [
    "def request_3_words(requester):\n",
    "    return len(requester.split(' ') ) == 3"
   ]
  },
  {
   "cell_type": "code",
   "execution_count": 41,
   "id": "2e84e9c1",
   "metadata": {
    "scrolled": true
   },
   "outputs": [
    {
     "data": {
      "text/html": [
       "<div>\n",
       "<style scoped>\n",
       "    .dataframe tbody tr th:only-of-type {\n",
       "        vertical-align: middle;\n",
       "    }\n",
       "\n",
       "    .dataframe tbody tr th {\n",
       "        vertical-align: top;\n",
       "    }\n",
       "\n",
       "    .dataframe thead th {\n",
       "        text-align: right;\n",
       "    }\n",
       "</style>\n",
       "<table border=\"1\" class=\"dataframe\">\n",
       "  <thead>\n",
       "    <tr style=\"text-align: right;\">\n",
       "      <th></th>\n",
       "      <th>week_id</th>\n",
       "      <th>ad_id</th>\n",
       "      <th>requester</th>\n",
       "      <th>region</th>\n",
       "      <th>is_success</th>\n",
       "      <th>is_sever</th>\n",
       "      <th>recommendation_type</th>\n",
       "      <th>rec_provider</th>\n",
       "      <th>year</th>\n",
       "      <th>is_success_int</th>\n",
       "      <th>is_sever_fixed</th>\n",
       "      <th>week_number</th>\n",
       "    </tr>\n",
       "  </thead>\n",
       "  <tbody>\n",
       "    <tr>\n",
       "      <th>17494</th>\n",
       "      <td>2021-week_34</td>\n",
       "      <td>AD09888ZKW</td>\n",
       "      <td>Search Million Culture</td>\n",
       "      <td>GB</td>\n",
       "      <td>Yes</td>\n",
       "      <td>NaN</td>\n",
       "      <td>Qality</td>\n",
       "      <td>XGBQ</td>\n",
       "      <td>2021</td>\n",
       "      <td>1</td>\n",
       "      <td>False</td>\n",
       "      <td>34</td>\n",
       "    </tr>\n",
       "    <tr>\n",
       "      <th>87514</th>\n",
       "      <td>2021-week_39</td>\n",
       "      <td>AD08886D6T</td>\n",
       "      <td>MoJoe Brewing Company</td>\n",
       "      <td>DE</td>\n",
       "      <td>Yes</td>\n",
       "      <td>NaN</td>\n",
       "      <td>Yield</td>\n",
       "      <td>DNNY</td>\n",
       "      <td>2021</td>\n",
       "      <td>1</td>\n",
       "      <td>False</td>\n",
       "      <td>39</td>\n",
       "    </tr>\n",
       "    <tr>\n",
       "      <th>1792</th>\n",
       "      <td>2021-week_33</td>\n",
       "      <td>AD07PKP8MY</td>\n",
       "      <td>Search Million Culture</td>\n",
       "      <td>DE</td>\n",
       "      <td>Yes</td>\n",
       "      <td>NaN</td>\n",
       "      <td>Qality</td>\n",
       "      <td>UserPopQ</td>\n",
       "      <td>2021</td>\n",
       "      <td>1</td>\n",
       "      <td>False</td>\n",
       "      <td>33</td>\n",
       "    </tr>\n",
       "    <tr>\n",
       "      <th>250318</th>\n",
       "      <td>2021-week_50</td>\n",
       "      <td>AD07FG7XPC</td>\n",
       "      <td>MoJoe Brewing Company</td>\n",
       "      <td>IN</td>\n",
       "      <td>Yes</td>\n",
       "      <td>NaN</td>\n",
       "      <td>Yield</td>\n",
       "      <td>UserPopY</td>\n",
       "      <td>2021</td>\n",
       "      <td>1</td>\n",
       "      <td>False</td>\n",
       "      <td>50</td>\n",
       "    </tr>\n",
       "    <tr>\n",
       "      <th>82005</th>\n",
       "      <td>2021-week_38</td>\n",
       "      <td>AD089Q88ZN</td>\n",
       "      <td>Search Million Culture</td>\n",
       "      <td>JP</td>\n",
       "      <td>Yes</td>\n",
       "      <td>NaN</td>\n",
       "      <td>Qality</td>\n",
       "      <td>DNNQ</td>\n",
       "      <td>2021</td>\n",
       "      <td>1</td>\n",
       "      <td>False</td>\n",
       "      <td>38</td>\n",
       "    </tr>\n",
       "  </tbody>\n",
       "</table>\n",
       "</div>"
      ],
      "text/plain": [
       "             week_id       ad_id               requester region is_success  \\\n",
       "17494   2021-week_34  AD09888ZKW  Search Million Culture     GB        Yes   \n",
       "87514   2021-week_39  AD08886D6T   MoJoe Brewing Company     DE        Yes   \n",
       "1792    2021-week_33  AD07PKP8MY  Search Million Culture     DE        Yes   \n",
       "250318  2021-week_50  AD07FG7XPC   MoJoe Brewing Company     IN        Yes   \n",
       "82005   2021-week_38  AD089Q88ZN  Search Million Culture     JP        Yes   \n",
       "\n",
       "       is_sever recommendation_type rec_provider  year  is_success_int  \\\n",
       "17494       NaN              Qality         XGBQ  2021               1   \n",
       "87514       NaN               Yield         DNNY  2021               1   \n",
       "1792        NaN              Qality     UserPopQ  2021               1   \n",
       "250318      NaN               Yield     UserPopY  2021               1   \n",
       "82005       NaN              Qality         DNNQ  2021               1   \n",
       "\n",
       "        is_sever_fixed  week_number  \n",
       "17494            False           34  \n",
       "87514            False           39  \n",
       "1792             False           33  \n",
       "250318           False           50  \n",
       "82005            False           38  "
      ]
     },
     "execution_count": 41,
     "metadata": {},
     "output_type": "execute_result"
    }
   ],
   "source": [
    "three_words_requesters = ad_recs_annotated[ad_recs_annotated.requester.apply(request_3_words)]\n",
    "three_words_requesters.sample(5)"
   ]
  },
  {
   "cell_type": "code",
   "execution_count": 46,
   "id": "d9138e53",
   "metadata": {},
   "outputs": [],
   "source": [
    "def is_ad_id_six(ad_id):\n",
    "    return '6' in ad_id"
   ]
  },
  {
   "cell_type": "code",
   "execution_count": 53,
   "id": "03a595fb",
   "metadata": {},
   "outputs": [
    {
     "data": {
      "text/html": [
       "<div>\n",
       "<style scoped>\n",
       "    .dataframe tbody tr th:only-of-type {\n",
       "        vertical-align: middle;\n",
       "    }\n",
       "\n",
       "    .dataframe tbody tr th {\n",
       "        vertical-align: top;\n",
       "    }\n",
       "\n",
       "    .dataframe thead th {\n",
       "        text-align: right;\n",
       "    }\n",
       "</style>\n",
       "<table border=\"1\" class=\"dataframe\">\n",
       "  <thead>\n",
       "    <tr style=\"text-align: right;\">\n",
       "      <th></th>\n",
       "      <th>week_id</th>\n",
       "      <th>ad_id</th>\n",
       "      <th>requester</th>\n",
       "      <th>region</th>\n",
       "      <th>is_success</th>\n",
       "      <th>is_sever</th>\n",
       "      <th>recommendation_type</th>\n",
       "      <th>rec_provider</th>\n",
       "      <th>year</th>\n",
       "      <th>is_success_int</th>\n",
       "      <th>is_sever_fixed</th>\n",
       "      <th>week_number</th>\n",
       "    </tr>\n",
       "  </thead>\n",
       "  <tbody>\n",
       "    <tr>\n",
       "      <th>75751</th>\n",
       "      <td>2021-week_38</td>\n",
       "      <td>AD09F69KZ8</td>\n",
       "      <td>Search Million Culture</td>\n",
       "      <td>GB</td>\n",
       "      <td>Yes</td>\n",
       "      <td>NaN</td>\n",
       "      <td>Qality</td>\n",
       "      <td>DNNQ</td>\n",
       "      <td>2021</td>\n",
       "      <td>1</td>\n",
       "      <td>False</td>\n",
       "      <td>38</td>\n",
       "    </tr>\n",
       "    <tr>\n",
       "      <th>148666</th>\n",
       "      <td>2021-week_43</td>\n",
       "      <td>AD008HPAE6</td>\n",
       "      <td>Search Million Culture</td>\n",
       "      <td>GB</td>\n",
       "      <td>Yes</td>\n",
       "      <td>NaN</td>\n",
       "      <td>Qality</td>\n",
       "      <td>DNNQ</td>\n",
       "      <td>2021</td>\n",
       "      <td>1</td>\n",
       "      <td>False</td>\n",
       "      <td>43</td>\n",
       "    </tr>\n",
       "    <tr>\n",
       "      <th>110379</th>\n",
       "      <td>2021-week_40</td>\n",
       "      <td>AD0969L9D8</td>\n",
       "      <td>Search Million Culture</td>\n",
       "      <td>JP</td>\n",
       "      <td>No</td>\n",
       "      <td>False</td>\n",
       "      <td>Qality</td>\n",
       "      <td>UserPopQ</td>\n",
       "      <td>2021</td>\n",
       "      <td>0</td>\n",
       "      <td>False</td>\n",
       "      <td>40</td>\n",
       "    </tr>\n",
       "    <tr>\n",
       "      <th>281739</th>\n",
       "      <td>2022-week_01</td>\n",
       "      <td>AD08P6ZSXW</td>\n",
       "      <td>Search Million Culture</td>\n",
       "      <td>JP</td>\n",
       "      <td>Yes</td>\n",
       "      <td>NaN</td>\n",
       "      <td>Qality</td>\n",
       "      <td>DNNQ</td>\n",
       "      <td>2022</td>\n",
       "      <td>1</td>\n",
       "      <td>False</td>\n",
       "      <td>1</td>\n",
       "    </tr>\n",
       "    <tr>\n",
       "      <th>242519</th>\n",
       "      <td>2021-week_49</td>\n",
       "      <td>AD06880088</td>\n",
       "      <td>MoJoe Brewing Company</td>\n",
       "      <td>US</td>\n",
       "      <td>Yes</td>\n",
       "      <td>NaN</td>\n",
       "      <td>Yield</td>\n",
       "      <td>BooksY</td>\n",
       "      <td>2021</td>\n",
       "      <td>1</td>\n",
       "      <td>False</td>\n",
       "      <td>49</td>\n",
       "    </tr>\n",
       "    <tr>\n",
       "      <th>161248</th>\n",
       "      <td>2021-week_44</td>\n",
       "      <td>AD06XCJR8J</td>\n",
       "      <td>MoJoe Brewing Company</td>\n",
       "      <td>GB</td>\n",
       "      <td>Yes</td>\n",
       "      <td>NaN</td>\n",
       "      <td>Yield</td>\n",
       "      <td>DNNY</td>\n",
       "      <td>2021</td>\n",
       "      <td>1</td>\n",
       "      <td>False</td>\n",
       "      <td>44</td>\n",
       "    </tr>\n",
       "    <tr>\n",
       "      <th>300975</th>\n",
       "      <td>2022-week_03</td>\n",
       "      <td>AD086WXN8Q</td>\n",
       "      <td>Search Million Culture</td>\n",
       "      <td>DE</td>\n",
       "      <td>Yes</td>\n",
       "      <td>NaN</td>\n",
       "      <td>Qality</td>\n",
       "      <td>DNNQ</td>\n",
       "      <td>2022</td>\n",
       "      <td>1</td>\n",
       "      <td>False</td>\n",
       "      <td>3</td>\n",
       "    </tr>\n",
       "    <tr>\n",
       "      <th>234932</th>\n",
       "      <td>2021-week_49</td>\n",
       "      <td>AD076F9887</td>\n",
       "      <td>Search Million Culture</td>\n",
       "      <td>GB</td>\n",
       "      <td>Yes</td>\n",
       "      <td>NaN</td>\n",
       "      <td>Qality</td>\n",
       "      <td>DNNQ</td>\n",
       "      <td>2021</td>\n",
       "      <td>1</td>\n",
       "      <td>False</td>\n",
       "      <td>49</td>\n",
       "    </tr>\n",
       "  </tbody>\n",
       "</table>\n",
       "</div>"
      ],
      "text/plain": [
       "             week_id       ad_id               requester region is_success  \\\n",
       "75751   2021-week_38  AD09F69KZ8  Search Million Culture     GB        Yes   \n",
       "148666  2021-week_43  AD008HPAE6  Search Million Culture     GB        Yes   \n",
       "110379  2021-week_40  AD0969L9D8  Search Million Culture     JP         No   \n",
       "281739  2022-week_01  AD08P6ZSXW  Search Million Culture     JP        Yes   \n",
       "242519  2021-week_49  AD06880088   MoJoe Brewing Company     US        Yes   \n",
       "161248  2021-week_44  AD06XCJR8J   MoJoe Brewing Company     GB        Yes   \n",
       "300975  2022-week_03  AD086WXN8Q  Search Million Culture     DE        Yes   \n",
       "234932  2021-week_49  AD076F9887  Search Million Culture     GB        Yes   \n",
       "\n",
       "       is_sever recommendation_type rec_provider  year  is_success_int  \\\n",
       "75751       NaN              Qality         DNNQ  2021               1   \n",
       "148666      NaN              Qality         DNNQ  2021               1   \n",
       "110379    False              Qality     UserPopQ  2021               0   \n",
       "281739      NaN              Qality         DNNQ  2022               1   \n",
       "242519      NaN               Yield       BooksY  2021               1   \n",
       "161248      NaN               Yield         DNNY  2021               1   \n",
       "300975      NaN              Qality         DNNQ  2022               1   \n",
       "234932      NaN              Qality         DNNQ  2021               1   \n",
       "\n",
       "        is_sever_fixed  week_number  \n",
       "75751            False           38  \n",
       "148666           False           43  \n",
       "110379           False           40  \n",
       "281739           False            1  \n",
       "242519           False           49  \n",
       "161248           False           44  \n",
       "300975           False            3  \n",
       "234932           False           49  "
      ]
     },
     "execution_count": 53,
     "metadata": {},
     "output_type": "execute_result"
    }
   ],
   "source": [
    "six_letter_three_words = ad_recs_annotated[\n",
    "                            (ad_recs_annotated.requester.apply(request_3_words)) & \n",
    "                            (ad_recs_annotated.ad_id.apply(is_ad_id_six))]\n",
    "six_letter_three_words.sample(8)\n"
   ]
  },
  {
   "cell_type": "code",
   "execution_count": 54,
   "id": "3cb1e620",
   "metadata": {},
   "outputs": [],
   "source": [
    "import re  \n",
    "from functools import reduce\n",
    "\n",
    "def is_ad_id_numbers_multiplication_bigger_than_30(ad_id):\n",
    "    nums_as_string = re.findall(r'\\d+', ad_id)\n",
    "    return reduce(lambda num1,num2:num1*num2,list(map(lambda num_in_ad_id:int(num_in_ad_id),nums_as_string))) > 30"
   ]
  },
  {
   "cell_type": "code",
   "execution_count": 55,
   "id": "61898d96",
   "metadata": {},
   "outputs": [
    {
     "data": {
      "text/html": [
       "<div>\n",
       "<style scoped>\n",
       "    .dataframe tbody tr th:only-of-type {\n",
       "        vertical-align: middle;\n",
       "    }\n",
       "\n",
       "    .dataframe tbody tr th {\n",
       "        vertical-align: top;\n",
       "    }\n",
       "\n",
       "    .dataframe thead th {\n",
       "        text-align: right;\n",
       "    }\n",
       "</style>\n",
       "<table border=\"1\" class=\"dataframe\">\n",
       "  <thead>\n",
       "    <tr style=\"text-align: right;\">\n",
       "      <th></th>\n",
       "      <th>week_id</th>\n",
       "      <th>ad_id</th>\n",
       "      <th>requester</th>\n",
       "      <th>region</th>\n",
       "      <th>is_success</th>\n",
       "      <th>is_sever</th>\n",
       "      <th>recommendation_type</th>\n",
       "      <th>rec_provider</th>\n",
       "      <th>year</th>\n",
       "      <th>is_success_int</th>\n",
       "      <th>is_sever_fixed</th>\n",
       "      <th>week_number</th>\n",
       "    </tr>\n",
       "  </thead>\n",
       "  <tbody>\n",
       "    <tr>\n",
       "      <th>101429</th>\n",
       "      <td>2021-week_40</td>\n",
       "      <td>AD08T9XDRC</td>\n",
       "      <td>Search Million Culture</td>\n",
       "      <td>DE</td>\n",
       "      <td>Yes</td>\n",
       "      <td>NaN</td>\n",
       "      <td>Qality</td>\n",
       "      <td>DNNQ</td>\n",
       "      <td>2021</td>\n",
       "      <td>1</td>\n",
       "      <td>False</td>\n",
       "      <td>40</td>\n",
       "    </tr>\n",
       "    <tr>\n",
       "      <th>32605</th>\n",
       "      <td>2021-week_35</td>\n",
       "      <td>AD07QSZ89D</td>\n",
       "      <td>Search Million Culture</td>\n",
       "      <td>GB</td>\n",
       "      <td>Yes</td>\n",
       "      <td>NaN</td>\n",
       "      <td>Qality</td>\n",
       "      <td>UserPopQ</td>\n",
       "      <td>2021</td>\n",
       "      <td>1</td>\n",
       "      <td>False</td>\n",
       "      <td>35</td>\n",
       "    </tr>\n",
       "    <tr>\n",
       "      <th>171971</th>\n",
       "      <td>2021-week_44</td>\n",
       "      <td>AD09D7RNZL</td>\n",
       "      <td>Search Million Culture</td>\n",
       "      <td>US</td>\n",
       "      <td>Yes</td>\n",
       "      <td>NaN</td>\n",
       "      <td>Qality</td>\n",
       "      <td>DNNQ</td>\n",
       "      <td>2021</td>\n",
       "      <td>1</td>\n",
       "      <td>False</td>\n",
       "      <td>44</td>\n",
       "    </tr>\n",
       "    <tr>\n",
       "      <th>234301</th>\n",
       "      <td>2021-week_49</td>\n",
       "      <td>AD08AC8VM8</td>\n",
       "      <td>Search Million Culture</td>\n",
       "      <td>GB</td>\n",
       "      <td>Yes</td>\n",
       "      <td>NaN</td>\n",
       "      <td>Qality</td>\n",
       "      <td>DNNQ</td>\n",
       "      <td>2021</td>\n",
       "      <td>1</td>\n",
       "      <td>False</td>\n",
       "      <td>49</td>\n",
       "    </tr>\n",
       "    <tr>\n",
       "      <th>33283</th>\n",
       "      <td>2021-week_35</td>\n",
       "      <td>AD07F8YJRY</td>\n",
       "      <td>Search Million Culture</td>\n",
       "      <td>GB</td>\n",
       "      <td>No</td>\n",
       "      <td>True</td>\n",
       "      <td>Qality</td>\n",
       "      <td>XGBQ</td>\n",
       "      <td>2021</td>\n",
       "      <td>0</td>\n",
       "      <td>True</td>\n",
       "      <td>35</td>\n",
       "    </tr>\n",
       "  </tbody>\n",
       "</table>\n",
       "</div>"
      ],
      "text/plain": [
       "             week_id       ad_id               requester region is_success  \\\n",
       "101429  2021-week_40  AD08T9XDRC  Search Million Culture     DE        Yes   \n",
       "32605   2021-week_35  AD07QSZ89D  Search Million Culture     GB        Yes   \n",
       "171971  2021-week_44  AD09D7RNZL  Search Million Culture     US        Yes   \n",
       "234301  2021-week_49  AD08AC8VM8  Search Million Culture     GB        Yes   \n",
       "33283   2021-week_35  AD07F8YJRY  Search Million Culture     GB         No   \n",
       "\n",
       "       is_sever recommendation_type rec_provider  year  is_success_int  \\\n",
       "101429      NaN              Qality         DNNQ  2021               1   \n",
       "32605       NaN              Qality     UserPopQ  2021               1   \n",
       "171971      NaN              Qality         DNNQ  2021               1   \n",
       "234301      NaN              Qality         DNNQ  2021               1   \n",
       "33283      True              Qality         XGBQ  2021               0   \n",
       "\n",
       "        is_sever_fixed  week_number  \n",
       "101429           False           40  \n",
       "32605            False           35  \n",
       "171971           False           44  \n",
       "234301           False           49  \n",
       "33283             True           35  "
      ]
     },
     "execution_count": 55,
     "metadata": {},
     "output_type": "execute_result"
    }
   ],
   "source": [
    "three_words_requesters_and_ad_id_bigger_than_30 = ad_recs_annotated[\n",
    "                            (ad_recs_annotated.requester.apply(is_requester_3_words)) &\n",
    "                            (ad_recs_annotated.ad_id.apply(is_ad_id_numbers_multiplication_bigger_than_30))]\n",
    "three_words_requesters_and_ad_id_bigger_than_30.sample(5)"
   ]
  },
  {
   "cell_type": "markdown",
   "id": "11d8b056-c777-490a-b26d-949ee8755561",
   "metadata": {},
   "source": [
    "### Analysis"
   ]
  },
  {
   "cell_type": "markdown",
   "id": "ccae8707-2c86-424a-bd55-73496219adbe",
   "metadata": {},
   "source": [
    "1. How many weeks available in the data? Are there any missing weeks? \n",
    "1. How many regions available in the data? Are there any missing weeks per region? \n",
    "1. How many ads are being sent to annotation in each region per week?\n",
    "1. How many None values are there in is_sever column? \n",
    "1. Are ads being sent more than one time in a given week? what is the ad_id that was sent the most in a given week? (e.g. ad X where sent 50 times in week Y)\n",
    "1. Are there ads that are being sent in more than one week?\n",
    "   1. Which is the ad that was sent in most amount of weeks (e.g. ad X where sent in Y different weeks)\n",
    "   2. What are the weeks that the ad from above was sent in? \n",
    "   3. Is there an Ad that was succsefull in one week, but not succesfful in a different week? Show one.\n",
    "1. When is_sever is None, what is the number of successful requests? What is the number of non-successful requests? What do you learn from it about the reason for Nones in the first place? \n",
    "1. Per each region, What is the Quality/Yield traffic proportion WoW? \n",
    "1. How many different reqeusters are there? \n",
    "1. Which are the top 5 requesters per region? \n",
    "1. Which are the different rec_proivders?\n",
    "1. Are there different rec providers per region? \n",
    "1. Are there different rec providers per rec type?\n",
    "1. What are the notation rules distinguishing between quality vs yielding providers?\n",
    "1. Which is the most successful region of operation? \n",
    "1. Which is the most successful rec provider per each region? \n",
    "1. Present a table with a success rate, sever defects rate and CI (for each metric) per region\n",
    "1. Present a table with a success rate, sever defects rate and CI (for each metric) per rec provider\n",
    "1. Present a table with a success rate, sever defects rate and CI (for each metric) per region and rec provider combinations\n",
    "1. Present a table with a success rate, sever defects rate and CI (for each metric) per rec type (Q/Y)\n",
    "1. Present a table with a success rate, sever defects rate and CI (for each metric) per rec type and region\n",
    "1. Present WoW table/graph with success rate and CI (see image below) per region\n",
    "1. Present WoW table/graph with success rate and CI (see image below) per region and rec type\n",
    "1. Present WoW table/graph with success rate and CI (see image below) per region and rec provider\n",
    "1. Which are the requester to which we succeed the most?\n",
    "1. Which are the requester to which we produce the most critical defects?\n",
    "1. What is the overall success rate trend over time? \n",
    "1. What is the overall sever defect rate trend over time? \n",
    "1. Preset a WoW graph showing the number of requests per customer in each region (hint: [use stacked bars](https://plotly.com/python/bar-charts/)), from it:\n",
    "  1. Identify major traffic shape changes (addition/removal) of major clients\n",
    "1. Preset a WoW graph showing the **requests proportion** per customer in each region (hint: [use stacked bars](https://plotly.com/python/bar-charts/)), from it:\n",
    "  1. Identify major traffic shape changes (addition/removal) of major clients\n"
   ]
  },
  {
   "cell_type": "markdown",
   "id": "4b16f279",
   "metadata": {},
   "source": [
    "# Q1"
   ]
  },
  {
   "cell_type": "code",
   "execution_count": 59,
   "id": "be9940ec",
   "metadata": {},
   "outputs": [
    {
     "data": {
      "text/plain": [
       "2021-week_33    14356\n",
       "2021-week_34    14371\n",
       "2021-week_35    14373\n",
       "2021-week_36    14390\n",
       "2021-week_37    14392\n",
       "2021-week_38    14347\n",
       "2021-week_39    14416\n",
       "2021-week_40    14406\n",
       "2021-week_41    14380\n",
       "2021-week_42    14376\n",
       "2021-week_43    14367\n",
       "2021-week_44    14299\n",
       "2021-week_45    14440\n",
       "2021-week_46    14350\n",
       "2021-week_47    14402\n",
       "2021-week_48    14404\n",
       "2021-week_49    14337\n",
       "2021-week_50    14404\n",
       "2021-week_51    12805\n",
       "2022-week_01    14385\n",
       "2022-week_02    14423\n",
       "2022-week_03    14317\n",
       "2022-week_04    14367\n",
       "2022-week_05    14362\n",
       "2022-week_06    14389\n",
       "2022-week_52    15930\n",
       "Name: week_id, dtype: int64"
      ]
     },
     "execution_count": 59,
     "metadata": {},
     "output_type": "execute_result"
    }
   ],
   "source": [
    "ad_recs_annotated.week_id.value_counts().sort_index()\n"
   ]
  },
  {
   "cell_type": "markdown",
   "id": "9fcd0cb7",
   "metadata": {},
   "source": [
    " # Q2 - 4\n",
    "\n",
    " "
   ]
  },
  {
   "cell_type": "code",
   "execution_count": 60,
   "id": "43761a61",
   "metadata": {},
   "outputs": [
    {
     "data": {
      "text/plain": [
       "region\n",
       "DE    [33, 34, 35, 36, 37, 38, 39, 40, 41, 42, 43, 4...\n",
       "GB    [33, 34, 35, 36, 37, 38, 39, 40, 41, 42, 43, 4...\n",
       "IN    [33, 34, 35, 36, 37, 38, 39, 40, 41, 42, 43, 4...\n",
       "JP    [33, 34, 35, 36, 37, 38, 39, 40, 41, 42, 43, 4...\n",
       "US    [33, 34, 35, 36, 37, 38, 39, 40, 41, 42, 43, 4...\n",
       "Name: week_number, dtype: object"
      ]
     },
     "execution_count": 60,
     "metadata": {},
     "output_type": "execute_result"
    }
   ],
   "source": [
    "ad_recs_annotated.groupby('region').week_number.unique()\n"
   ]
  },
  {
   "cell_type": "code",
   "execution_count": 63,
   "id": "c60d9707",
   "metadata": {},
   "outputs": [
    {
     "data": {
      "text/plain": [
       "region\n",
       "DE      []\n",
       "GB      []\n",
       "IN      []\n",
       "JP    [51]\n",
       "US      []\n",
       "Name: week_number, dtype: object"
      ]
     },
     "execution_count": 63,
     "metadata": {},
     "output_type": "execute_result"
    }
   ],
   "source": [
    "def find_missing_week_id(week_ids):\n",
    "    missing_weeks = []\n",
    "    for i in range (33, 53):\n",
    "        if i not in week_ids:\n",
    "            missing_weeks.append(i)\n",
    "    return missing_weeks\n",
    "ad_recs_annotated.groupby('region').week_number.unique().apply(find_missing_week_id)\n"
   ]
  },
  {
   "cell_type": "code",
   "execution_count": 64,
   "id": "f3779c2b",
   "metadata": {},
   "outputs": [
    {
     "data": {
      "text/html": [
       "<div>\n",
       "<style scoped>\n",
       "    .dataframe tbody tr th:only-of-type {\n",
       "        vertical-align: middle;\n",
       "    }\n",
       "\n",
       "    .dataframe tbody tr th {\n",
       "        vertical-align: top;\n",
       "    }\n",
       "\n",
       "    .dataframe thead th {\n",
       "        text-align: right;\n",
       "    }\n",
       "</style>\n",
       "<table border=\"1\" class=\"dataframe\">\n",
       "  <thead>\n",
       "    <tr style=\"text-align: right;\">\n",
       "      <th>region</th>\n",
       "      <th>DE</th>\n",
       "      <th>GB</th>\n",
       "      <th>IN</th>\n",
       "      <th>JP</th>\n",
       "      <th>US</th>\n",
       "    </tr>\n",
       "    <tr>\n",
       "      <th>week_id</th>\n",
       "      <th></th>\n",
       "      <th></th>\n",
       "      <th></th>\n",
       "      <th></th>\n",
       "      <th></th>\n",
       "    </tr>\n",
       "  </thead>\n",
       "  <tbody>\n",
       "    <tr>\n",
       "      <th>2021-week_33</th>\n",
       "      <td>1930.0</td>\n",
       "      <td>2702.0</td>\n",
       "      <td>2341.0</td>\n",
       "      <td>1113.0</td>\n",
       "      <td>3528.0</td>\n",
       "    </tr>\n",
       "    <tr>\n",
       "      <th>2021-week_34</th>\n",
       "      <td>1883.0</td>\n",
       "      <td>2681.0</td>\n",
       "      <td>2424.0</td>\n",
       "      <td>1117.0</td>\n",
       "      <td>3511.0</td>\n",
       "    </tr>\n",
       "    <tr>\n",
       "      <th>2021-week_35</th>\n",
       "      <td>1931.0</td>\n",
       "      <td>2744.0</td>\n",
       "      <td>2426.0</td>\n",
       "      <td>1127.0</td>\n",
       "      <td>3501.0</td>\n",
       "    </tr>\n",
       "    <tr>\n",
       "      <th>2021-week_36</th>\n",
       "      <td>1909.0</td>\n",
       "      <td>2689.0</td>\n",
       "      <td>2458.0</td>\n",
       "      <td>1122.0</td>\n",
       "      <td>3537.0</td>\n",
       "    </tr>\n",
       "    <tr>\n",
       "      <th>2021-week_37</th>\n",
       "      <td>1938.0</td>\n",
       "      <td>2711.0</td>\n",
       "      <td>2438.0</td>\n",
       "      <td>1154.0</td>\n",
       "      <td>3463.0</td>\n",
       "    </tr>\n",
       "    <tr>\n",
       "      <th>2021-week_38</th>\n",
       "      <td>1934.0</td>\n",
       "      <td>2671.0</td>\n",
       "      <td>2450.0</td>\n",
       "      <td>1096.0</td>\n",
       "      <td>3402.0</td>\n",
       "    </tr>\n",
       "    <tr>\n",
       "      <th>2021-week_39</th>\n",
       "      <td>1994.0</td>\n",
       "      <td>2571.0</td>\n",
       "      <td>2456.0</td>\n",
       "      <td>1133.0</td>\n",
       "      <td>3483.0</td>\n",
       "    </tr>\n",
       "    <tr>\n",
       "      <th>2021-week_40</th>\n",
       "      <td>1917.0</td>\n",
       "      <td>2602.0</td>\n",
       "      <td>2452.0</td>\n",
       "      <td>1154.0</td>\n",
       "      <td>3492.0</td>\n",
       "    </tr>\n",
       "    <tr>\n",
       "      <th>2021-week_41</th>\n",
       "      <td>1954.0</td>\n",
       "      <td>2661.0</td>\n",
       "      <td>2456.0</td>\n",
       "      <td>1196.0</td>\n",
       "      <td>3471.0</td>\n",
       "    </tr>\n",
       "    <tr>\n",
       "      <th>2021-week_42</th>\n",
       "      <td>1922.0</td>\n",
       "      <td>2627.0</td>\n",
       "      <td>2442.0</td>\n",
       "      <td>1242.0</td>\n",
       "      <td>3446.0</td>\n",
       "    </tr>\n",
       "    <tr>\n",
       "      <th>2021-week_43</th>\n",
       "      <td>1850.0</td>\n",
       "      <td>2631.0</td>\n",
       "      <td>2371.0</td>\n",
       "      <td>1255.0</td>\n",
       "      <td>3446.0</td>\n",
       "    </tr>\n",
       "    <tr>\n",
       "      <th>2021-week_44</th>\n",
       "      <td>1781.0</td>\n",
       "      <td>2658.0</td>\n",
       "      <td>2460.0</td>\n",
       "      <td>1254.0</td>\n",
       "      <td>3377.0</td>\n",
       "    </tr>\n",
       "    <tr>\n",
       "      <th>2021-week_45</th>\n",
       "      <td>1942.0</td>\n",
       "      <td>2744.0</td>\n",
       "      <td>2528.0</td>\n",
       "      <td>1273.0</td>\n",
       "      <td>3515.0</td>\n",
       "    </tr>\n",
       "    <tr>\n",
       "      <th>2021-week_46</th>\n",
       "      <td>1919.0</td>\n",
       "      <td>2765.0</td>\n",
       "      <td>2505.0</td>\n",
       "      <td>1223.0</td>\n",
       "      <td>3511.0</td>\n",
       "    </tr>\n",
       "    <tr>\n",
       "      <th>2021-week_47</th>\n",
       "      <td>1977.0</td>\n",
       "      <td>2814.0</td>\n",
       "      <td>2480.0</td>\n",
       "      <td>1268.0</td>\n",
       "      <td>3385.0</td>\n",
       "    </tr>\n",
       "    <tr>\n",
       "      <th>2021-week_48</th>\n",
       "      <td>1988.0</td>\n",
       "      <td>2719.0</td>\n",
       "      <td>2436.0</td>\n",
       "      <td>1229.0</td>\n",
       "      <td>3399.0</td>\n",
       "    </tr>\n",
       "    <tr>\n",
       "      <th>2021-week_49</th>\n",
       "      <td>1966.0</td>\n",
       "      <td>2682.0</td>\n",
       "      <td>2462.0</td>\n",
       "      <td>1246.0</td>\n",
       "      <td>3417.0</td>\n",
       "    </tr>\n",
       "    <tr>\n",
       "      <th>2021-week_50</th>\n",
       "      <td>1994.0</td>\n",
       "      <td>2686.0</td>\n",
       "      <td>2447.0</td>\n",
       "      <td>1293.0</td>\n",
       "      <td>3383.0</td>\n",
       "    </tr>\n",
       "    <tr>\n",
       "      <th>2021-week_51</th>\n",
       "      <td>1941.0</td>\n",
       "      <td>2640.0</td>\n",
       "      <td>2394.0</td>\n",
       "      <td>NaN</td>\n",
       "      <td>3289.0</td>\n",
       "    </tr>\n",
       "    <tr>\n",
       "      <th>2022-week_01</th>\n",
       "      <td>1972.0</td>\n",
       "      <td>2668.0</td>\n",
       "      <td>2379.0</td>\n",
       "      <td>1298.0</td>\n",
       "      <td>3330.0</td>\n",
       "    </tr>\n",
       "    <tr>\n",
       "      <th>2022-week_02</th>\n",
       "      <td>2014.0</td>\n",
       "      <td>2650.0</td>\n",
       "      <td>2404.0</td>\n",
       "      <td>1296.0</td>\n",
       "      <td>3360.0</td>\n",
       "    </tr>\n",
       "    <tr>\n",
       "      <th>2022-week_03</th>\n",
       "      <td>1979.0</td>\n",
       "      <td>2608.0</td>\n",
       "      <td>2450.0</td>\n",
       "      <td>1280.0</td>\n",
       "      <td>3313.0</td>\n",
       "    </tr>\n",
       "    <tr>\n",
       "      <th>2022-week_04</th>\n",
       "      <td>2017.0</td>\n",
       "      <td>2620.0</td>\n",
       "      <td>2468.0</td>\n",
       "      <td>1270.0</td>\n",
       "      <td>3321.0</td>\n",
       "    </tr>\n",
       "    <tr>\n",
       "      <th>2022-week_05</th>\n",
       "      <td>2015.0</td>\n",
       "      <td>2605.0</td>\n",
       "      <td>2411.0</td>\n",
       "      <td>1320.0</td>\n",
       "      <td>3342.0</td>\n",
       "    </tr>\n",
       "    <tr>\n",
       "      <th>2022-week_06</th>\n",
       "      <td>2020.0</td>\n",
       "      <td>2714.0</td>\n",
       "      <td>2389.0</td>\n",
       "      <td>1281.0</td>\n",
       "      <td>3354.0</td>\n",
       "    </tr>\n",
       "    <tr>\n",
       "      <th>2022-week_52</th>\n",
       "      <td>1937.0</td>\n",
       "      <td>2646.0</td>\n",
       "      <td>2428.0</td>\n",
       "      <td>2560.0</td>\n",
       "      <td>3342.0</td>\n",
       "    </tr>\n",
       "  </tbody>\n",
       "</table>\n",
       "</div>"
      ],
      "text/plain": [
       "region            DE      GB      IN      JP      US\n",
       "week_id                                             \n",
       "2021-week_33  1930.0  2702.0  2341.0  1113.0  3528.0\n",
       "2021-week_34  1883.0  2681.0  2424.0  1117.0  3511.0\n",
       "2021-week_35  1931.0  2744.0  2426.0  1127.0  3501.0\n",
       "2021-week_36  1909.0  2689.0  2458.0  1122.0  3537.0\n",
       "2021-week_37  1938.0  2711.0  2438.0  1154.0  3463.0\n",
       "2021-week_38  1934.0  2671.0  2450.0  1096.0  3402.0\n",
       "2021-week_39  1994.0  2571.0  2456.0  1133.0  3483.0\n",
       "2021-week_40  1917.0  2602.0  2452.0  1154.0  3492.0\n",
       "2021-week_41  1954.0  2661.0  2456.0  1196.0  3471.0\n",
       "2021-week_42  1922.0  2627.0  2442.0  1242.0  3446.0\n",
       "2021-week_43  1850.0  2631.0  2371.0  1255.0  3446.0\n",
       "2021-week_44  1781.0  2658.0  2460.0  1254.0  3377.0\n",
       "2021-week_45  1942.0  2744.0  2528.0  1273.0  3515.0\n",
       "2021-week_46  1919.0  2765.0  2505.0  1223.0  3511.0\n",
       "2021-week_47  1977.0  2814.0  2480.0  1268.0  3385.0\n",
       "2021-week_48  1988.0  2719.0  2436.0  1229.0  3399.0\n",
       "2021-week_49  1966.0  2682.0  2462.0  1246.0  3417.0\n",
       "2021-week_50  1994.0  2686.0  2447.0  1293.0  3383.0\n",
       "2021-week_51  1941.0  2640.0  2394.0     NaN  3289.0\n",
       "2022-week_01  1972.0  2668.0  2379.0  1298.0  3330.0\n",
       "2022-week_02  2014.0  2650.0  2404.0  1296.0  3360.0\n",
       "2022-week_03  1979.0  2608.0  2450.0  1280.0  3313.0\n",
       "2022-week_04  2017.0  2620.0  2468.0  1270.0  3321.0\n",
       "2022-week_05  2015.0  2605.0  2411.0  1320.0  3342.0\n",
       "2022-week_06  2020.0  2714.0  2389.0  1281.0  3354.0\n",
       "2022-week_52  1937.0  2646.0  2428.0  2560.0  3342.0"
      ]
     },
     "execution_count": 64,
     "metadata": {},
     "output_type": "execute_result"
    }
   ],
   "source": [
    "ad_recs_annotated.groupby(['week_id', 'region']).is_success_int.sum().unstack('region')\n"
   ]
  },
  {
   "cell_type": "markdown",
   "id": "ef1fd7c9",
   "metadata": {},
   "source": [
    "# Q4 - 5"
   ]
  },
  {
   "cell_type": "code",
   "execution_count": 65,
   "id": "a3fe2c4a",
   "metadata": {},
   "outputs": [
    {
     "data": {
      "text/plain": [
       "304195"
      ]
     },
     "execution_count": 65,
     "metadata": {},
     "output_type": "execute_result"
    }
   ],
   "source": [
    "ad_recs_annotated.is_sever.value_counts(dropna=False)[0]\n"
   ]
  },
  {
   "cell_type": "code",
   "execution_count": 66,
   "id": "87a3a6b9",
   "metadata": {},
   "outputs": [
    {
     "name": "stdout",
     "output_type": "stream",
     "text": [
      "ad_id AD0008VKDD sent 2 times in 2021-week_33 week\n",
      "ad_id AD0009X89W sent 2 times in 2021-week_33 week\n",
      "ad_id AD000APK8G sent 3 times in 2021-week_33 week\n",
      "ad_id AD000ELSM8 sent 2 times in 2021-week_33 week\n",
      "ad_id AD000FPK09 sent 2 times in 2021-week_33 week\n",
      "ad_id AD000IU80H sent 2 times in 2021-week_33 week\n",
      "ad_id AD000KU988 sent 2 times in 2021-week_33 week\n",
      "ad_id AD000UCH08 sent 3 times in 2021-week_33 week\n",
      "ad_id AD000VOCQP sent 2 times in 2021-week_33 week\n",
      "ad_id AD00688888 sent 4 times in 2021-week_33 week\n",
      "ad_id AD0068KNMU sent 2 times in 2021-week_33 week\n",
      "ad_id AD006CSPZK sent 2 times in 2021-week_33 week\n",
      "ad_id AD006M7NSS sent 2 times in 2021-week_33 week\n",
      "ad_id AD006VAZYN sent 2 times in 2021-week_33 week\n",
      "ad_id AD0078F8D7 sent 2 times in 2021-week_33 week\n",
      "ad_id AD007CRC8P sent 2 times in 2021-week_33 week\n",
      "ad_id AD007FD68Y sent 2 times in 2021-week_33 week\n",
      "ad_id AD007TGDXM sent 2 times in 2021-week_33 week\n",
      "ad_id AD00808FIC sent 2 times in 2021-week_33 week\n",
      "ad_id AD0080D8Q8 sent 2 times in 2021-week_33 week\n",
      "ad_id AD0080UD67 sent 2 times in 2021-week_33 week\n",
      "ad_id AD0087IOZ7 sent 2 times in 2021-week_33 week\n",
      "ad_id AD00888FGU sent 2 times in 2021-week_33 week\n",
      "ad_id AD00888V86 sent 2 times in 2021-week_33 week\n",
      "ad_id AD0088978F sent 2 times in 2021-week_33 week\n",
      "ad_id AD00889VO6 sent 2 times in 2021-week_33 week\n",
      "ad_id AD0088M8YU sent 3 times in 2021-week_33 week\n",
      "ad_id AD0088OUOQ sent 2 times in 2021-week_33 week\n",
      "ad_id AD0088XAPF sent 2 times in 2021-week_33 week\n",
      "ad_id AD0088ZCSF sent 2 times in 2021-week_33 week\n",
      "ad_id AD0089ZFYJ sent 2 times in 2021-week_33 week\n",
      "ad_id AD008D8ZT0 sent 2 times in 2021-week_33 week\n",
      "ad_id AD008DEC8L sent 2 times in 2021-week_33 week\n",
      "ad_id AD008DXNS8 sent 3 times in 2021-week_33 week\n",
      "ad_id AD008EHIY8 sent 2 times in 2021-week_33 week\n",
      "ad_id AD008FC90P sent 2 times in 2021-week_33 week\n",
      "ad_id AD008FULQ8 sent 2 times in 2021-week_33 week\n",
      "ad_id AD008FYNT8 sent 2 times in 2021-week_33 week\n",
      "ad_id AD008I8OWD sent 3 times in 2021-week_33 week\n",
      "ad_id AD008JAT88 sent 2 times in 2021-week_33 week\n",
      "ad_id AD008JJXTS sent 2 times in 2021-week_33 week\n",
      "ad_id AD008KG7ED sent 2 times in 2021-week_33 week\n",
      "ad_id AD008KLWR8 sent 2 times in 2021-week_33 week\n",
      "ad_id AD008MZV8O sent 3 times in 2021-week_33 week\n",
      "ad_id AD008MZWR7 sent 2 times in 2021-week_33 week\n",
      "ad_id AD008OCO80 sent 3 times in 2021-week_33 week\n",
      "ad_id AD008PM8DT sent 2 times in 2021-week_33 week\n",
      "ad_id AD008R0RNT sent 2 times in 2021-week_33 week\n",
      "ad_id AD008SSY80 sent 3 times in 2021-week_33 week\n",
      "ad_id AD008W8RRG sent 3 times in 2021-week_33 week\n",
      "ad_id AD008XLV8S sent 2 times in 2021-week_33 week\n",
      "ad_id AD008XT88J sent 2 times in 2021-week_33 week\n",
      "ad_id AD008YETL8 sent 2 times in 2021-week_33 week\n",
      "ad_id AD008YK8KS sent 2 times in 2021-week_33 week\n",
      "ad_id AD00900EEZ sent 2 times in 2021-week_33 week\n",
      "ad_id AD009GDYAK sent 2 times in 2021-week_33 week\n",
      "ad_id AD009R87JV sent 2 times in 2021-week_33 week\n",
      "ad_id AD00ARMY6H sent 2 times in 2021-week_33 week\n",
      "ad_id AD00CA0XDE sent 2 times in 2021-week_33 week\n",
      "ad_id AD00CDHA6H sent 2 times in 2021-week_33 week\n",
      "ad_id AD00CTJ8E8 sent 2 times in 2021-week_33 week\n",
      "ad_id AD00CVTRO8 sent 2 times in 2021-week_33 week\n",
      "ad_id AD00CZ8KYR sent 2 times in 2021-week_33 week\n",
      "ad_id AD00DGL8GC sent 2 times in 2021-week_33 week\n",
      "ad_id AD00DJUK8H sent 2 times in 2021-week_33 week\n",
      "ad_id AD00DQG9OZ sent 2 times in 2021-week_33 week\n",
      "ad_id AD00E88F80 sent 2 times in 2021-week_33 week\n",
      "ad_id AD00EEEGEG sent 2 times in 2021-week_33 week\n",
      "ad_id AD00FALVU9 sent 2 times in 2021-week_33 week\n",
      "ad_id AD00FKWPFC sent 2 times in 2021-week_33 week\n",
      "ad_id AD00GKWQDH sent 2 times in 2021-week_33 week\n",
      "ad_id AD00GVDTQQ sent 2 times in 2021-week_33 week\n",
      "ad_id AD00HFC8E8 sent 2 times in 2021-week_33 week\n",
      "ad_id AD00HJQVXM sent 2 times in 2021-week_33 week\n",
      "ad_id AD00I8S8M8 sent 2 times in 2021-week_33 week\n",
      "ad_id AD00IOVOCF sent 2 times in 2021-week_33 week\n",
      "ad_id AD00J078W7 sent 4 times in 2021-week_33 week\n",
      "ad_id AD00JUJ8E0 sent 2 times in 2021-week_33 week\n",
      "ad_id AD00K08QQQ sent 2 times in 2021-week_33 week\n",
      "ad_id AD00K6JUG8 sent 3 times in 2021-week_33 week\n",
      "ad_id AD00LJO8EQ sent 2 times in 2021-week_33 week\n",
      "ad_id AD00LWFFA8 sent 2 times in 2021-week_33 week\n",
      "ad_id AD00MEDOY8 sent 2 times in 2021-week_33 week\n",
      "ad_id AD00NATC8M sent 2 times in 2021-week_33 week\n",
      "ad_id AD00OGKF9V sent 2 times in 2021-week_33 week\n",
      "ad_id AD00PLTLG8 sent 2 times in 2021-week_33 week\n",
      "ad_id AD00PUY8W0 sent 2 times in 2021-week_33 week\n",
      "ad_id AD00PZZFG0 sent 2 times in 2021-week_33 week\n",
      "ad_id AD00RNMTZA sent 2 times in 2021-week_33 week\n",
      "ad_id AD00RQPUV0 sent 2 times in 2021-week_33 week\n",
      "ad_id AD00RXG8UK sent 2 times in 2021-week_33 week\n",
      "ad_id AD00SP88NI sent 2 times in 2021-week_33 week\n",
      "ad_id AD00TGC86C sent 2 times in 2021-week_33 week\n",
      "ad_id AD00U8VQZD sent 2 times in 2021-week_33 week\n",
      "ad_id AD00UHEKV8 sent 2 times in 2021-week_33 week\n",
      "ad_id AD00VYAWIR sent 2 times in 2021-week_33 week\n",
      "ad_id AD00WJPNVU sent 2 times in 2021-week_33 week\n",
      "ad_id AD00WMEPSF sent 2 times in 2021-week_33 week\n",
      "ad_id AD00XM8KSV sent 2 times in 2021-week_33 week\n",
      "ad_id AD00XQ8XGA sent 3 times in 2021-week_33 week\n",
      "ad_id AD00YUNKKP sent 2 times in 2021-week_33 week\n",
      "ad_id AD06VX8YR6 sent 3 times in 2021-week_33 week\n",
      "ad_id AD06XWWK8S sent 2 times in 2021-week_33 week\n",
      "ad_id AD06Y689WC sent 2 times in 2021-week_33 week\n",
      "ad_id AD0768N9N6 sent 3 times in 2021-week_33 week\n",
      "ad_id AD076H8J9T sent 2 times in 2021-week_33 week\n",
      "ad_id AD076LY7RN sent 2 times in 2021-week_33 week\n",
      "ad_id AD077FH786 sent 2 times in 2021-week_33 week\n",
      "ad_id AD077GTHKK sent 2 times in 2021-week_33 week\n",
      "ad_id AD077NXV8R sent 3 times in 2021-week_33 week\n",
      "ad_id AD07880888 sent 5 times in 2021-week_33 week\n",
      "ad_id AD07880889 sent 2 times in 2021-week_33 week\n",
      "ad_id AD0788788S sent 2 times in 2021-week_33 week\n",
      "ad_id AD07888JYJ sent 2 times in 2021-week_33 week\n",
      "ad_id AD07888L86 sent 2 times in 2021-week_33 week\n",
      "ad_id AD07889HGV sent 2 times in 2021-week_33 week\n",
      "ad_id AD0788F88X sent 2 times in 2021-week_33 week\n",
      "ad_id AD0788LL8T sent 2 times in 2021-week_33 week\n",
      "ad_id AD0788W88L sent 2 times in 2021-week_33 week\n",
      "ad_id AD078CR89Q sent 3 times in 2021-week_33 week\n",
      "ad_id AD078FVQNW sent 2 times in 2021-week_33 week\n",
      "ad_id AD078GZ8DX sent 2 times in 2021-week_33 week\n",
      "ad_id AD078JM699 sent 2 times in 2021-week_33 week\n",
      "ad_id AD078JTG7Y sent 3 times in 2021-week_33 week\n",
      "ad_id AD078M8NC8 sent 2 times in 2021-week_33 week\n",
      "ad_id AD078NCPSH sent 2 times in 2021-week_33 week\n",
      "ad_id AD078PRNKW sent 2 times in 2021-week_33 week\n",
      "ad_id AD078THM8T sent 3 times in 2021-week_33 week\n",
      "ad_id AD078V8VRR sent 2 times in 2021-week_33 week\n",
      "ad_id AD078VQKV8 sent 2 times in 2021-week_33 week\n",
      "ad_id AD078XW8FS sent 2 times in 2021-week_33 week\n",
      "ad_id AD079QHML8 sent 2 times in 2021-week_33 week\n",
      "ad_id AD079QRQTC sent 5 times in 2021-week_33 week\n",
      "ad_id AD079V8CKD sent 2 times in 2021-week_33 week\n",
      "ad_id AD079VP6DH sent 5 times in 2021-week_33 week\n",
      "ad_id AD07CCG7M sent 2 times in 2021-week_33 week\n",
      "ad_id AD07CDDXZJ sent 2 times in 2021-week_33 week\n",
      "ad_id AD07CGXZMT sent 2 times in 2021-week_33 week\n",
      "ad_id AD07CJ999K sent 2 times in 2021-week_33 week\n",
      "ad_id AD07CN8WJF sent 2 times in 2021-week_33 week\n",
      "ad_id AD07DHK8DH sent 2 times in 2021-week_33 week\n",
      "ad_id AD07DQ8GWD sent 3 times in 2021-week_33 week\n",
      "ad_id AD07F86MDK sent 2 times in 2021-week_33 week\n",
      "ad_id AD07F887TX sent 3 times in 2021-week_33 week\n",
      "ad_id AD07FCJWVC sent 2 times in 2021-week_33 week\n",
      "ad_id AD07FF886N sent 2 times in 2021-week_33 week\n",
      "ad_id AD07FGSF88 sent 4 times in 2021-week_33 week\n",
      "ad_id AD07FL8DYD sent 2 times in 2021-week_33 week\n",
      "ad_id AD07FM7ZD8 sent 3 times in 2021-week_33 week\n",
      "ad_id AD07FP88MC sent 2 times in 2021-week_33 week\n",
      "ad_id AD07FPV786 sent 2 times in 2021-week_33 week\n",
      "ad_id AD07G9GDQJ sent 3 times in 2021-week_33 week\n",
      "ad_id AD07GL8976 sent 2 times in 2021-week_33 week\n",
      "ad_id AD07GR9WFY sent 2 times in 2021-week_33 week\n",
      "ad_id AD07GWW88H sent 2 times in 2021-week_33 week\n",
      "ad_id AD07H8NLW8 sent 2 times in 2021-week_33 week\n",
      "ad_id AD07H8V8YL sent 2 times in 2021-week_33 week\n",
      "ad_id AD07HGGYWL sent 3 times in 2021-week_33 week\n",
      "ad_id AD07HGN687 sent 2 times in 2021-week_33 week\n",
      "ad_id AD07HJD8KH sent 5 times in 2021-week_33 week\n",
      "ad_id AD07HZJ68W sent 2 times in 2021-week_33 week\n",
      "ad_id AD07HZRTTG sent 2 times in 2021-week_33 week\n",
      "ad_id AD07JRSPZ8 sent 2 times in 2021-week_33 week\n",
      "ad_id AD07K8WHH8 sent 3 times in 2021-week_33 week\n",
      "ad_id AD07KTJVZF sent 2 times in 2021-week_33 week\n",
      "ad_id AD07KZRHJY sent 2 times in 2021-week_33 week\n",
      "ad_id AD07LC88PN sent 2 times in 2021-week_33 week\n",
      "ad_id AD07M8P8F7 sent 2 times in 2021-week_33 week\n",
      "ad_id AD07MHJFRJ sent 2 times in 2021-week_33 week\n",
      "ad_id AD07MJL8TP sent 3 times in 2021-week_33 week\n",
      "ad_id AD07ND8WR6 sent 2 times in 2021-week_33 week\n",
      "ad_id AD07ND8X8M sent 2 times in 2021-week_33 week\n",
      "ad_id AD07NW8CH8 sent 2 times in 2021-week_33 week\n",
      "ad_id AD07NZYHYQ sent 2 times in 2021-week_33 week\n",
      "ad_id AD07P6Q8G9 sent 2 times in 2021-week_33 week\n",
      "ad_id AD07P7KJ8Q sent 2 times in 2021-week_33 week\n",
      "ad_id AD07PD8DW8 sent 2 times in 2021-week_33 week\n",
      "ad_id AD07PFFMP9 sent 2 times in 2021-week_33 week\n",
      "ad_id AD07PGL8ZS sent 2 times in 2021-week_33 week\n",
      "ad_id AD07PHPXHQ sent 6 times in 2021-week_33 week\n",
      "ad_id AD07PJV8JP sent 2 times in 2021-week_33 week\n",
      "ad_id AD07Q6YSGF sent 4 times in 2021-week_33 week\n",
      "ad_id AD07R8X8L6 sent 2 times in 2021-week_33 week\n",
      "ad_id AD07RCHJX8 sent 2 times in 2021-week_33 week\n",
      "ad_id AD07RJ7KT7 sent 2 times in 2021-week_33 week\n",
      "ad_id AD07RWWZT8 sent 2 times in 2021-week_33 week\n",
      "ad_id AD07S8FY8J sent 3 times in 2021-week_33 week\n",
      "ad_id AD07S9S86F sent 3 times in 2021-week_33 week\n",
      "ad_id AD07SHC76C sent 3 times in 2021-week_33 week\n",
      "ad_id AD07SJR6HL sent 2 times in 2021-week_33 week\n",
      "ad_id AD07SMN7FY sent 2 times in 2021-week_33 week\n",
      "ad_id AD07SNPKX8 sent 2 times in 2021-week_33 week\n",
      "ad_id AD07TCNG8Y sent 2 times in 2021-week_33 week\n",
      "ad_id AD07THHQMH sent 2 times in 2021-week_33 week\n",
      "ad_id AD07TN8C8H sent 2 times in 2021-week_33 week\n",
      "ad_id AD07TTH8TM sent 4 times in 2021-week_33 week\n",
      "ad_id AD07V89T8F sent 2 times in 2021-week_33 week\n",
      "ad_id AD07V8PZFX sent 2 times in 2021-week_33 week\n",
      "ad_id AD07VFPPS8 sent 3 times in 2021-week_33 week\n",
      "ad_id AD07VHZ88L sent 2 times in 2021-week_33 week\n",
      "ad_id AD07VKM8HR sent 2 times in 2021-week_33 week\n",
      "ad_id AD07VM8XD7 sent 2 times in 2021-week_33 week\n",
      "ad_id AD07W88JY8 sent 2 times in 2021-week_33 week\n",
      "ad_id AD07WLL998 sent 2 times in 2021-week_33 week\n",
      "ad_id AD07X68LCX sent 2 times in 2021-week_33 week\n",
      "ad_id AD07XJ8C8F sent 3 times in 2021-week_33 week\n",
      "ad_id AD07XKF8RM sent 2 times in 2021-week_33 week\n",
      "ad_id AD07XY888G sent 2 times in 2021-week_33 week\n",
      "ad_id AD07XZ8KN8 sent 3 times in 2021-week_33 week\n",
      "ad_id AD07YNV88F sent 2 times in 2021-week_33 week\n",
      "ad_id AD07YQ98ZH sent 2 times in 2021-week_33 week\n",
      "ad_id AD07YSH7Y8 sent 2 times in 2021-week_33 week\n",
      "ad_id AD07YSHHNR sent 2 times in 2021-week_33 week\n",
      "ad_id AD07YX8N8Y sent 2 times in 2021-week_33 week\n",
      "ad_id AD07YYQD8 sent 3 times in 2021-week_33 week\n",
      "ad_id AD07Z8SHF9 sent 3 times in 2021-week_33 week\n",
      "ad_id AD07Z8TL8 sent 2 times in 2021-week_33 week\n",
      "ad_id AD07Z988YW sent 2 times in 2021-week_33 week\n",
      "ad_id AD07ZPML7N sent 2 times in 2021-week_33 week\n",
      "ad_id AD07ZVPLD8 sent 2 times in 2021-week_33 week\n",
      "ad_id AD07ZZW86G sent 2 times in 2021-week_33 week\n",
      "ad_id AD080FJE9I sent 2 times in 2021-week_33 week\n",
      "ad_id AD080T8R8P sent 2 times in 2021-week_33 week\n",
      "ad_id AD08696W88 sent 2 times in 2021-week_33 week\n",
      "ad_id AD08697N88 sent 3 times in 2021-week_33 week\n",
      "ad_id AD086DEGFW sent 4 times in 2021-week_33 week\n",
      "ad_id AD086OVGU8 sent 3 times in 2021-week_33 week\n",
      "ad_id AD086V0YF8 sent 2 times in 2021-week_33 week\n",
      "ad_id AD086WM8R8 sent 3 times in 2021-week_33 week\n",
      "ad_id AD0876L88 sent 2 times in 2021-week_33 week\n",
      "ad_id AD087GKQHG sent 2 times in 2021-week_33 week\n",
      "ad_id AD087J8WAN sent 3 times in 2021-week_33 week\n",
      "ad_id AD087RL88N sent 2 times in 2021-week_33 week\n",
      "ad_id AD087XPD78 sent 2 times in 2021-week_33 week\n",
      "ad_id AD08887998 sent 2 times in 2021-week_33 week\n",
      "ad_id AD08888868 sent 2 times in 2021-week_33 week\n",
      "ad_id AD08888886 sent 2 times in 2021-week_33 week\n",
      "ad_id AD08888WV8 sent 2 times in 2021-week_33 week\n",
      "ad_id AD0888CG8Y sent 2 times in 2021-week_33 week\n",
      "ad_id AD0888K8YS sent 3 times in 2021-week_33 week\n",
      "ad_id AD0888PCM sent 2 times in 2021-week_33 week\n",
      "ad_id AD0888YXYS sent 2 times in 2021-week_33 week\n",
      "ad_id AD088CFJFO sent 2 times in 2021-week_33 week\n",
      "ad_id AD088DMQC8 sent 2 times in 2021-week_33 week\n",
      "ad_id AD088DVNDY sent 2 times in 2021-week_33 week\n",
      "ad_id AD088DWG8V sent 2 times in 2021-week_33 week\n",
      "ad_id AD088DWH88 sent 2 times in 2021-week_33 week\n",
      "ad_id AD088FT8H8 sent 2 times in 2021-week_33 week\n",
      "ad_id AD088GKNQ8 sent 4 times in 2021-week_33 week\n",
      "ad_id AD088J8KZ8 sent 3 times in 2021-week_33 week\n",
      "ad_id AD088J8MZK sent 2 times in 2021-week_33 week\n",
      "ad_id AD088J8QWF sent 2 times in 2021-week_33 week\n",
      "ad_id AD088M6F8S sent 2 times in 2021-week_33 week\n",
      "ad_id AD088M8C6C sent 2 times in 2021-week_33 week\n",
      "ad_id AD088M8R88 sent 2 times in 2021-week_33 week\n",
      "ad_id AD088MQS06 sent 2 times in 2021-week_33 week\n",
      "ad_id AD088QSV86 sent 2 times in 2021-week_33 week\n",
      "ad_id AD088QVQ8Y sent 2 times in 2021-week_33 week\n",
      "ad_id AD088S9N6J sent 2 times in 2021-week_33 week\n",
      "ad_id AD088TVYT8 sent 2 times in 2021-week_33 week\n",
      "ad_id AD088VLVST sent 3 times in 2021-week_33 week\n",
      "ad_id AD088VNT8R sent 2 times in 2021-week_33 week\n",
      "ad_id AD088Y6TJC sent 2 times in 2021-week_33 week\n",
      "ad_id AD088ZQFDO sent 3 times in 2021-week_33 week\n",
      "ad_id AD089688Q8 sent 2 times in 2021-week_33 week\n",
      "ad_id AD089DGQKO sent 2 times in 2021-week_33 week\n",
      "ad_id AD089MS7D8 sent 2 times in 2021-week_33 week\n",
      "ad_id AD089MT86T sent 2 times in 2021-week_33 week\n",
      "ad_id AD089MTVYZ sent 2 times in 2021-week_33 week\n",
      "ad_id AD08C7V986 sent 2 times in 2021-week_33 week\n",
      "ad_id AD08C8RR8J sent 2 times in 2021-week_33 week\n",
      "ad_id AD08C99QF8 sent 2 times in 2021-week_33 week\n",
      "ad_id AD08CHUSC8 sent 2 times in 2021-week_33 week\n",
      "ad_id AD08CS88NP sent 2 times in 2021-week_33 week\n",
      "ad_id AD08CSHPD8 sent 2 times in 2021-week_33 week\n",
      "ad_id AD08CT8YXQ sent 2 times in 2021-week_33 week\n",
      "ad_id AD08CYPV8Y sent 2 times in 2021-week_33 week\n",
      "ad_id AD08DK8CNF sent 2 times in 2021-week_33 week\n",
      "ad_id AD08DPLCM6 sent 2 times in 2021-week_33 week\n",
      "ad_id AD08DRQWQ8 sent 2 times in 2021-week_33 week\n",
      "ad_id AD08EA0EG8 sent 3 times in 2021-week_33 week\n",
      "ad_id AD08EAG8VZ sent 2 times in 2021-week_33 week\n",
      "ad_id AD08EPNPF6 sent 5 times in 2021-week_33 week\n",
      "ad_id AD08EQZFN0 sent 2 times in 2021-week_33 week\n",
      "ad_id AD08ET8FRF sent 2 times in 2021-week_33 week\n",
      "ad_id AD08F8M98W sent 2 times in 2021-week_33 week\n",
      "ad_id AD08F8Z8RK sent 2 times in 2021-week_33 week\n",
      "ad_id AD08FDNWJ8 sent 2 times in 2021-week_33 week\n",
      "ad_id AD08FSGVN8 sent 2 times in 2021-week_33 week\n",
      "ad_id AD08FZWG8F sent 2 times in 2021-week_33 week\n",
      "ad_id AD08G8G8DV sent 2 times in 2021-week_33 week\n",
      "ad_id AD08GD9MNZ sent 4 times in 2021-week_33 week\n",
      "ad_id AD08GXC8NT sent 2 times in 2021-week_33 week\n",
      "ad_id AD08GYKNCC sent 2 times in 2021-week_33 week\n",
      "ad_id AD08H6MF6Z sent 3 times in 2021-week_33 week\n",
      "ad_id AD08H7N9EC sent 2 times in 2021-week_33 week\n",
      "ad_id AD08H99878 sent 2 times in 2021-week_33 week\n",
      "ad_id AD08HLSW8Y sent 2 times in 2021-week_33 week\n",
      "ad_id AD08HV88HL sent 2 times in 2021-week_33 week\n",
      "ad_id AD08IQZPLE sent 2 times in 2021-week_33 week\n",
      "ad_id AD08IT9NLH sent 2 times in 2021-week_33 week\n",
      "ad_id AD08J9KDS0 sent 2 times in 2021-week_33 week\n",
      "ad_id AD08JDQVMK sent 2 times in 2021-week_33 week\n",
      "ad_id AD08JS6YLQ sent 3 times in 2021-week_33 week\n",
      "ad_id AD08JS8Y8N sent 2 times in 2021-week_33 week\n",
      "ad_id AD08LAK0RY sent 2 times in 2021-week_33 week\n",
      "ad_id AD08LDS8T8 sent 2 times in 2021-week_33 week\n",
      "ad_id AD08LTIQAI sent 2 times in 2021-week_33 week\n",
      "ad_id AD08LWYDEQ sent 2 times in 2021-week_33 week\n",
      "ad_id AD08LXFJL8 sent 2 times in 2021-week_33 week\n",
      "ad_id AD08M88ZK8 sent 4 times in 2021-week_33 week\n",
      "ad_id AD08M8DEMW sent 2 times in 2021-week_33 week\n",
      "ad_id AD08MC87J8 sent 2 times in 2021-week_33 week\n",
      "ad_id AD08MQZ7J8 sent 2 times in 2021-week_33 week\n",
      "ad_id AD08MSZ88D sent 2 times in 2021-week_33 week\n",
      "ad_id AD08MXT8RH sent 2 times in 2021-week_33 week\n",
      "ad_id AD08N6T8S8 sent 2 times in 2021-week_33 week\n",
      "ad_id AD08NXFY8Q sent 2 times in 2021-week_33 week\n",
      "ad_id AD08S87KTD sent 2 times in 2021-week_33 week\n",
      "ad_id AD08S8FMVV sent 2 times in 2021-week_33 week\n",
      "ad_id AD08T98XPF sent 2 times in 2021-week_33 week\n",
      "ad_id AD08TC7MSV sent 2 times in 2021-week_33 week\n",
      "ad_id AD08THP8Y8 sent 3 times in 2021-week_33 week\n",
      "ad_id AD08TV9Y78 sent 3 times in 2021-week_33 week\n",
      "ad_id AD08VKWCL8 sent 2 times in 2021-week_33 week\n",
      "ad_id AD08VLRZD sent 7 times in 2021-week_33 week\n",
      "ad_id AD08VN8H8C sent 2 times in 2021-week_33 week\n",
      "ad_id AD08VYDMP8 sent 2 times in 2021-week_33 week\n",
      "ad_id AD08W88RTF sent 3 times in 2021-week_33 week\n",
      "ad_id AD08WYV6D9 sent 2 times in 2021-week_33 week\n",
      "ad_id AD08X8LXDC sent 2 times in 2021-week_33 week\n",
      "ad_id AD08Y88LPF sent 2 times in 2021-week_33 week\n",
      "ad_id AD08YKUI9C sent 3 times in 2021-week_33 week\n",
      "ad_id AD096VD888 sent 2 times in 2021-week_33 week\n",
      "ad_id AD096VDG9Q sent 2 times in 2021-week_33 week\n",
      "ad_id AD097768D8 sent 2 times in 2021-week_33 week\n",
      "ad_id AD097868G9 sent 4 times in 2021-week_33 week\n",
      "ad_id AD0978Q6M6 sent 2 times in 2021-week_33 week\n",
      "ad_id AD097RDVDL sent 4 times in 2021-week_33 week\n",
      "ad_id AD098788P8 sent 2 times in 2021-week_33 week\n",
      "ad_id AD09888888 sent 2 times in 2021-week_33 week\n",
      "ad_id AD098D868H sent 3 times in 2021-week_33 week\n",
      "ad_id AD098FWHMP sent 2 times in 2021-week_33 week\n",
      "ad_id AD098J8Z6Z sent 3 times in 2021-week_33 week\n",
      "ad_id AD098LMPGC sent 2 times in 2021-week_33 week\n",
      "ad_id AD098MS88P sent 2 times in 2021-week_33 week\n",
      "ad_id AD098PHPQM sent 2 times in 2021-week_33 week\n",
      "ad_id AD098SWYF6 sent 4 times in 2021-week_33 week\n",
      "ad_id AD098TCKZL sent 2 times in 2021-week_33 week\n",
      "ad_id AD098VNNTW sent 2 times in 2021-week_33 week\n",
      "ad_id AD099PMJW9 sent 3 times in 2021-week_33 week\n",
      "ad_id AD86886899 sent 2 times in 2021-week_33 week\n",
      "ad_id AD87888888 sent 4 times in 2021-week_33 week\n",
      "ad_id AD88088808 sent 2 times in 2021-week_33 week\n",
      "ad_id AD88089889 sent 2 times in 2021-week_33 week\n",
      "ad_id AD88788068 sent 2 times in 2021-week_33 week\n",
      "ad_id AD88788888 sent 2 times in 2021-week_33 week\n",
      "ad_id AD88808888 sent 3 times in 2021-week_33 week\n",
      "ad_id AD88868888 sent 2 times in 2021-week_33 week\n",
      "ad_id AD88886888 sent 2 times in 2021-week_33 week\n",
      "ad_id AD88887806 sent 2 times in 2021-week_33 week\n",
      "ad_id AD88888688 sent 2 times in 2021-week_33 week\n",
      "ad_id AD88888878 sent 2 times in 2021-week_33 week\n",
      "ad_id AD88888888 sent 5 times in 2021-week_33 week\n",
      "ad_id AD88898878 sent 2 times in 2021-week_33 week\n"
     ]
    }
   ],
   "source": [
    "given_week = '2021-week_33'\n",
    "data_of_given_week = ad_recs_annotated.query(\"@given_week == week_id\")\n",
    "ad_sent_in_give_week = data_of_given_week.groupby(['ad_id']).is_success_int.sum()\n",
    "for adIndex in range(0,len(ad_sent_in_give_week)):\n",
    "    if(ad_sent_in_give_week[adIndex] > 1):\n",
    "        print(f'ad_id {ad_sent_in_give_week.index[adIndex]} sent {ad_sent_in_give_week[adIndex]} times in {given_week} week')"
   ]
  },
  {
   "cell_type": "markdown",
   "id": "0437f971",
   "metadata": {},
   "source": [
    "# Q6 ( a & b)"
   ]
  },
  {
   "cell_type": "code",
   "execution_count": 71,
   "id": "5eda0a68",
   "metadata": {},
   "outputs": [
    {
     "name": "stdout",
     "output_type": "stream",
     "text": [
      "ad_id AD079VP6DH sent in 26 diffrent weeks\n"
     ]
    }
   ],
   "source": [
    "#A\n",
    "\n",
    "only_ad_that_sended = ad_recs_annotated.query(\"is_success_int == 1\") \n",
    "mapping_ad_to_weeks = only_ad_that_sended.groupby(['ad_id']).week_id.unique()\n",
    "ad_sent_at_diffrent_weeks = mapping_ad_to_weeks.apply(lambda weekId: len(weekId)).sort_values(ascending=False)\n",
    "ad_id = ad_sent_at_diffrent_weeks.index[0]\n",
    "weeks_amount = ad_sent_at_diffrent_weeks[0]\n",
    "print(f'ad_id {ad_id} sent in {weeks_amount} diffrent weeks')"
   ]
  },
  {
   "cell_type": "code",
   "execution_count": 74,
   "id": "6d5d9762",
   "metadata": {},
   "outputs": [
    {
     "data": {
      "text/plain": [
       "array(['2021-week_33', '2021-week_34', '2021-week_35', '2021-week_36',\n",
       "       '2021-week_37', '2021-week_38', '2021-week_39', '2021-week_40',\n",
       "       '2021-week_41', '2021-week_42', '2021-week_43', '2021-week_44',\n",
       "       '2021-week_45', '2021-week_46', '2021-week_47', '2021-week_48',\n",
       "       '2021-week_49', '2021-week_50', '2021-week_51', '2022-week_01',\n",
       "       '2022-week_02', '2022-week_03', '2022-week_04', '2022-week_05',\n",
       "       '2022-week_06', '2022-week_52'], dtype=object)"
      ]
     },
     "execution_count": 74,
     "metadata": {},
     "output_type": "execute_result"
    }
   ],
   "source": [
    "# B\n",
    "mapping_ad_to_weeks[ad_id]\n"
   ]
  },
  {
   "cell_type": "markdown",
   "id": "3a67003b",
   "metadata": {},
   "source": [
    "# Q7 - Q12"
   ]
  },
  {
   "cell_type": "code",
   "execution_count": 75,
   "id": "58fa8614",
   "metadata": {},
   "outputs": [
    {
     "data": {
      "text/plain": [
       "304189"
      ]
     },
     "execution_count": 75,
     "metadata": {},
     "output_type": "execute_result"
    }
   ],
   "source": [
    "server_none = ad_recs_annotated.query(\"is_sever! = is_sever\")\n",
    "server_none.query(\"is_success_int == 1\").shape[0]"
   ]
  },
  {
   "cell_type": "code",
   "execution_count": 76,
   "id": "3b0d154e",
   "metadata": {},
   "outputs": [
    {
     "data": {
      "text/plain": [
       "6"
      ]
     },
     "execution_count": 76,
     "metadata": {},
     "output_type": "execute_result"
    }
   ],
   "source": [
    "server_none.query(\"is_success_int == 0\").shape[0]"
   ]
  },
  {
   "cell_type": "code",
   "execution_count": 83,
   "id": "3303b071",
   "metadata": {},
   "outputs": [
    {
     "data": {
      "text/html": [
       "<div>\n",
       "<style scoped>\n",
       "    .dataframe tbody tr th:only-of-type {\n",
       "        vertical-align: middle;\n",
       "    }\n",
       "\n",
       "    .dataframe tbody tr th {\n",
       "        vertical-align: top;\n",
       "    }\n",
       "\n",
       "    .dataframe thead th {\n",
       "        text-align: right;\n",
       "    }\n",
       "</style>\n",
       "<table border=\"1\" class=\"dataframe\">\n",
       "  <thead>\n",
       "    <tr style=\"text-align: right;\">\n",
       "      <th>region</th>\n",
       "      <th>DE</th>\n",
       "      <th>GB</th>\n",
       "      <th>IN</th>\n",
       "      <th>JP</th>\n",
       "      <th>US</th>\n",
       "    </tr>\n",
       "    <tr>\n",
       "      <th>week_number</th>\n",
       "      <th></th>\n",
       "      <th></th>\n",
       "      <th></th>\n",
       "      <th></th>\n",
       "      <th></th>\n",
       "    </tr>\n",
       "  </thead>\n",
       "  <tbody>\n",
       "    <tr>\n",
       "      <th>1</th>\n",
       "      <td>5.388298</td>\n",
       "      <td>5.552361</td>\n",
       "      <td>1.388597</td>\n",
       "      <td>8.809816</td>\n",
       "      <td>2.922701</td>\n",
       "    </tr>\n",
       "    <tr>\n",
       "      <th>2</th>\n",
       "      <td>5.523161</td>\n",
       "      <td>5.583505</td>\n",
       "      <td>1.314801</td>\n",
       "      <td>9.024845</td>\n",
       "      <td>2.631103</td>\n",
       "    </tr>\n",
       "    <tr>\n",
       "      <th>3</th>\n",
       "      <td>3.784708</td>\n",
       "      <td>3.892142</td>\n",
       "      <td>1.204124</td>\n",
       "      <td>9.115385</td>\n",
       "      <td>1.953972</td>\n",
       "    </tr>\n",
       "    <tr>\n",
       "      <th>4</th>\n",
       "      <td>6.232416</td>\n",
       "      <td>7.331579</td>\n",
       "      <td>1.433383</td>\n",
       "      <td>11.015152</td>\n",
       "      <td>1.748454</td>\n",
       "    </tr>\n",
       "    <tr>\n",
       "      <th>5</th>\n",
       "      <td>4.631206</td>\n",
       "      <td>5.373494</td>\n",
       "      <td>1.391337</td>\n",
       "      <td>10.896296</td>\n",
       "      <td>1.865950</td>\n",
       "    </tr>\n",
       "    <tr>\n",
       "      <th>6</th>\n",
       "      <td>5.830508</td>\n",
       "      <td>9.691275</td>\n",
       "      <td>1.350774</td>\n",
       "      <td>10.288732</td>\n",
       "      <td>1.717495</td>\n",
       "    </tr>\n",
       "    <tr>\n",
       "      <th>33</th>\n",
       "      <td>3.917864</td>\n",
       "      <td>5.360000</td>\n",
       "      <td>1.183060</td>\n",
       "      <td>4.613240</td>\n",
       "      <td>1.948071</td>\n",
       "    </tr>\n",
       "    <tr>\n",
       "      <th>34</th>\n",
       "      <td>5.129870</td>\n",
       "      <td>6.498824</td>\n",
       "      <td>1.001866</td>\n",
       "      <td>2.577181</td>\n",
       "      <td>1.111755</td>\n",
       "    </tr>\n",
       "    <tr>\n",
       "      <th>35</th>\n",
       "      <td>3.406998</td>\n",
       "      <td>5.043315</td>\n",
       "      <td>1.119551</td>\n",
       "      <td>2.264463</td>\n",
       "      <td>1.056818</td>\n",
       "    </tr>\n",
       "    <tr>\n",
       "      <th>36</th>\n",
       "      <td>4.076110</td>\n",
       "      <td>6.884521</td>\n",
       "      <td>1.117996</td>\n",
       "      <td>2.338235</td>\n",
       "      <td>1.207547</td>\n",
       "    </tr>\n",
       "    <tr>\n",
       "      <th>37</th>\n",
       "      <td>3.722986</td>\n",
       "      <td>5.274162</td>\n",
       "      <td>1.140551</td>\n",
       "      <td>2.198444</td>\n",
       "      <td>1.377539</td>\n",
       "    </tr>\n",
       "    <tr>\n",
       "      <th>38</th>\n",
       "      <td>4.000000</td>\n",
       "      <td>6.245455</td>\n",
       "      <td>1.239069</td>\n",
       "      <td>3.140260</td>\n",
       "      <td>1.434411</td>\n",
       "    </tr>\n",
       "    <tr>\n",
       "      <th>39</th>\n",
       "      <td>3.611111</td>\n",
       "      <td>4.461670</td>\n",
       "      <td>1.085714</td>\n",
       "      <td>3.340599</td>\n",
       "      <td>1.988042</td>\n",
       "    </tr>\n",
       "    <tr>\n",
       "      <th>40</th>\n",
       "      <td>3.578244</td>\n",
       "      <td>3.894817</td>\n",
       "      <td>1.172226</td>\n",
       "      <td>4.040498</td>\n",
       "      <td>1.799860</td>\n",
       "    </tr>\n",
       "    <tr>\n",
       "      <th>41</th>\n",
       "      <td>3.788423</td>\n",
       "      <td>4.345576</td>\n",
       "      <td>1.178983</td>\n",
       "      <td>4.847584</td>\n",
       "      <td>1.567203</td>\n",
       "    </tr>\n",
       "    <tr>\n",
       "      <th>42</th>\n",
       "      <td>5.965116</td>\n",
       "      <td>5.665263</td>\n",
       "      <td>1.187330</td>\n",
       "      <td>20.039474</td>\n",
       "      <td>1.303797</td>\n",
       "    </tr>\n",
       "    <tr>\n",
       "      <th>43</th>\n",
       "      <td>4.995000</td>\n",
       "      <td>3.907975</td>\n",
       "      <td>1.088100</td>\n",
       "      <td>13.267857</td>\n",
       "      <td>1.528481</td>\n",
       "    </tr>\n",
       "    <tr>\n",
       "      <th>44</th>\n",
       "      <td>4.625604</td>\n",
       "      <td>5.487805</td>\n",
       "      <td>1.019096</td>\n",
       "      <td>15.130000</td>\n",
       "      <td>1.804073</td>\n",
       "    </tr>\n",
       "    <tr>\n",
       "      <th>45</th>\n",
       "      <td>5.598901</td>\n",
       "      <td>7.642473</td>\n",
       "      <td>1.301941</td>\n",
       "      <td>10.775362</td>\n",
       "      <td>2.256724</td>\n",
       "    </tr>\n",
       "    <tr>\n",
       "      <th>46</th>\n",
       "      <td>3.904167</td>\n",
       "      <td>4.329983</td>\n",
       "      <td>1.387288</td>\n",
       "      <td>8.931250</td>\n",
       "      <td>2.801142</td>\n",
       "    </tr>\n",
       "    <tr>\n",
       "      <th>47</th>\n",
       "      <td>5.910920</td>\n",
       "      <td>7.189744</td>\n",
       "      <td>1.125000</td>\n",
       "      <td>10.319444</td>\n",
       "      <td>3.622685</td>\n",
       "    </tr>\n",
       "    <tr>\n",
       "      <th>48</th>\n",
       "      <td>2.737249</td>\n",
       "      <td>3.342780</td>\n",
       "      <td>1.526527</td>\n",
       "      <td>6.177778</td>\n",
       "      <td>2.241714</td>\n",
       "    </tr>\n",
       "    <tr>\n",
       "      <th>49</th>\n",
       "      <td>4.610849</td>\n",
       "      <td>6.308924</td>\n",
       "      <td>1.328957</td>\n",
       "      <td>6.300926</td>\n",
       "      <td>1.051361</td>\n",
       "    </tr>\n",
       "    <tr>\n",
       "      <th>50</th>\n",
       "      <td>2.990050</td>\n",
       "      <td>3.833837</td>\n",
       "      <td>1.433359</td>\n",
       "      <td>7.141414</td>\n",
       "      <td>1.139946</td>\n",
       "    </tr>\n",
       "    <tr>\n",
       "      <th>51</th>\n",
       "      <td>5.278646</td>\n",
       "      <td>6.210884</td>\n",
       "      <td>1.226990</td>\n",
       "      <td>NaN</td>\n",
       "      <td>2.307947</td>\n",
       "    </tr>\n",
       "    <tr>\n",
       "      <th>52</th>\n",
       "      <td>2.373938</td>\n",
       "      <td>2.648339</td>\n",
       "      <td>1.321663</td>\n",
       "      <td>8.091429</td>\n",
       "      <td>2.077752</td>\n",
       "    </tr>\n",
       "  </tbody>\n",
       "</table>\n",
       "</div>"
      ],
      "text/plain": [
       "region             DE        GB        IN         JP        US\n",
       "week_number                                                   \n",
       "1            5.388298  5.552361  1.388597   8.809816  2.922701\n",
       "2            5.523161  5.583505  1.314801   9.024845  2.631103\n",
       "3            3.784708  3.892142  1.204124   9.115385  1.953972\n",
       "4            6.232416  7.331579  1.433383  11.015152  1.748454\n",
       "5            4.631206  5.373494  1.391337  10.896296  1.865950\n",
       "6            5.830508  9.691275  1.350774  10.288732  1.717495\n",
       "33           3.917864  5.360000  1.183060   4.613240  1.948071\n",
       "34           5.129870  6.498824  1.001866   2.577181  1.111755\n",
       "35           3.406998  5.043315  1.119551   2.264463  1.056818\n",
       "36           4.076110  6.884521  1.117996   2.338235  1.207547\n",
       "37           3.722986  5.274162  1.140551   2.198444  1.377539\n",
       "38           4.000000  6.245455  1.239069   3.140260  1.434411\n",
       "39           3.611111  4.461670  1.085714   3.340599  1.988042\n",
       "40           3.578244  3.894817  1.172226   4.040498  1.799860\n",
       "41           3.788423  4.345576  1.178983   4.847584  1.567203\n",
       "42           5.965116  5.665263  1.187330  20.039474  1.303797\n",
       "43           4.995000  3.907975  1.088100  13.267857  1.528481\n",
       "44           4.625604  5.487805  1.019096  15.130000  1.804073\n",
       "45           5.598901  7.642473  1.301941  10.775362  2.256724\n",
       "46           3.904167  4.329983  1.387288   8.931250  2.801142\n",
       "47           5.910920  7.189744  1.125000  10.319444  3.622685\n",
       "48           2.737249  3.342780  1.526527   6.177778  2.241714\n",
       "49           4.610849  6.308924  1.328957   6.300926  1.051361\n",
       "50           2.990050  3.833837  1.433359   7.141414  1.139946\n",
       "51           5.278646  6.210884  1.226990        NaN  2.307947\n",
       "52           2.373938  2.648339  1.321663   8.091429  2.077752"
      ]
     },
     "execution_count": 83,
     "metadata": {},
     "output_type": "execute_result"
    }
   ],
   "source": [
    "def get_yeild_p_quality(recommendation_types):\n",
    "    quilityNum = recommendation_types.value_counts()[1]\n",
    "    yieldNum = recommendation_types.value_counts()[0]\n",
    "    return yieldNum if quilityNum == 0 else yieldNum / quilityNum\n",
    "\n",
    "ad_recs_annotated.groupby(['region','week_number']).recommendation_type.apply(get_yeild_p_quality).unstack('region')\n"
   ]
  },
  {
   "cell_type": "code",
   "execution_count": 79,
   "id": "bbdb285f",
   "metadata": {},
   "outputs": [
    {
     "data": {
      "text/plain": [
       "36"
      ]
     },
     "execution_count": 79,
     "metadata": {},
     "output_type": "execute_result"
    }
   ],
   "source": [
    "len(ad_recs_annotated.requester.unique())\n"
   ]
  },
  {
   "cell_type": "code",
   "execution_count": 80,
   "id": "0c1e634a",
   "metadata": {},
   "outputs": [
    {
     "data": {
      "text/plain": [
       "region                        \n",
       "DE      Search Million Culture    23657\n",
       "        RelayFoods                17313\n",
       "        MoJoe Brewing Company      8616\n",
       "        iDreamsky Technology       3542\n",
       "        SOLOMO365                  2435\n",
       "GB      Search Million Culture    28002\n",
       "        RelayFoods                15920\n",
       "        Fancy                     13678\n",
       "        MoJoe Brewing Company      9530\n",
       "        iDreamsky Technology       3919\n",
       "IN      Puentes Company           29427\n",
       "        Search Million Culture    21365\n",
       "        RelayFoods                17352\n",
       "        MoJoe Brewing Company      7191\n",
       "        iDreamsky Technology       1995\n",
       "JP      RelayFoods                24574\n",
       "        Search Million Culture     7906\n",
       "        MoJoe Brewing Company      3549\n",
       "        LocalVox Media             1724\n",
       "        Tab Solutions              1366\n",
       "US      Extreme DA                57215\n",
       "        Fancy                     18668\n",
       "        Tab Solutions              9790\n",
       "        Search Million Culture     5610\n",
       "        Sensor Tower               3503\n",
       "Name: requester, dtype: int64"
      ]
     },
     "execution_count": 80,
     "metadata": {},
     "output_type": "execute_result"
    }
   ],
   "source": [
    "ad_recs_annotated.groupby(['region']).apply(lambda grp:grp.requester.value_counts().head(5))\n"
   ]
  },
  {
   "cell_type": "code",
   "execution_count": 81,
   "id": "86dd761f",
   "metadata": {},
   "outputs": [
    {
     "data": {
      "text/plain": [
       "array(['DNNQ', 'DNNY', 'BooksQ', 'UserPopQ', 'UserPopY', 'RuleBasedY',\n",
       "       'ManualY', 'ManualQ', 'BooksY', 'XGBQ', 'XGBY', 'RNNQ', 'RNNY',\n",
       "       'RuleBased', 'UserPopSelectionQ', 'UserPopSelectionY'],\n",
       "      dtype=object)"
      ]
     },
     "execution_count": 81,
     "metadata": {},
     "output_type": "execute_result"
    }
   ],
   "source": [
    "ad_recs_annotated.rec_provider.unique()\n"
   ]
  },
  {
   "cell_type": "code",
   "execution_count": 82,
   "id": "eb913506",
   "metadata": {},
   "outputs": [
    {
     "data": {
      "text/plain": [
       "region\n",
       "DE    True\n",
       "GB    True\n",
       "IN    True\n",
       "JP    True\n",
       "US    True\n",
       "Name: rec_provider, dtype: bool"
      ]
     },
     "execution_count": 82,
     "metadata": {},
     "output_type": "execute_result"
    }
   ],
   "source": [
    "ad_recs_annotated.groupby(['region']).rec_provider.unique().apply(lambda rec_provider:len(rec_provider) > 1)\n"
   ]
  },
  {
   "cell_type": "markdown",
   "id": "bcf5aa30",
   "metadata": {},
   "source": [
    "# Q13 - 16"
   ]
  },
  {
   "cell_type": "code",
   "execution_count": 84,
   "id": "2b49ea1e",
   "metadata": {},
   "outputs": [
    {
     "data": {
      "text/plain": [
       "rec_provider\n",
       "BooksQ               False\n",
       "BooksY               False\n",
       "DNNQ                 False\n",
       "DNNY                 False\n",
       "ManualQ              False\n",
       "ManualY              False\n",
       "RNNQ                 False\n",
       "RNNY                 False\n",
       "RuleBased            False\n",
       "RuleBasedY           False\n",
       "UserPopQ             False\n",
       "UserPopSelectionQ    False\n",
       "UserPopSelectionY    False\n",
       "UserPopY             False\n",
       "XGBQ                 False\n",
       "XGBY                 False\n",
       "Name: rec_provider, dtype: bool"
      ]
     },
     "execution_count": 84,
     "metadata": {},
     "output_type": "execute_result"
    }
   ],
   "source": [
    "ad_recs_annotated.groupby(['rec_provider']).rec_provider.unique().apply(lambda rec_provider:len(rec_provider) > 1)\n"
   ]
  },
  {
   "cell_type": "code",
   "execution_count": 85,
   "id": "de40cc7a",
   "metadata": {},
   "outputs": [
    {
     "data": {
      "text/html": [
       "<div>\n",
       "<style scoped>\n",
       "    .dataframe tbody tr th:only-of-type {\n",
       "        vertical-align: middle;\n",
       "    }\n",
       "\n",
       "    .dataframe tbody tr th {\n",
       "        vertical-align: top;\n",
       "    }\n",
       "\n",
       "    .dataframe thead th {\n",
       "        text-align: right;\n",
       "    }\n",
       "</style>\n",
       "<table border=\"1\" class=\"dataframe\">\n",
       "  <thead>\n",
       "    <tr style=\"text-align: right;\">\n",
       "      <th>rec_provider</th>\n",
       "      <th>BooksQ</th>\n",
       "      <th>BooksY</th>\n",
       "      <th>DNNQ</th>\n",
       "      <th>DNNY</th>\n",
       "      <th>ManualQ</th>\n",
       "      <th>ManualY</th>\n",
       "      <th>RNNQ</th>\n",
       "      <th>RNNY</th>\n",
       "      <th>RuleBased</th>\n",
       "      <th>RuleBasedY</th>\n",
       "      <th>UserPopQ</th>\n",
       "      <th>UserPopSelectionQ</th>\n",
       "      <th>UserPopSelectionY</th>\n",
       "      <th>UserPopY</th>\n",
       "      <th>XGBQ</th>\n",
       "      <th>XGBY</th>\n",
       "    </tr>\n",
       "    <tr>\n",
       "      <th>recommendation_type</th>\n",
       "      <th></th>\n",
       "      <th></th>\n",
       "      <th></th>\n",
       "      <th></th>\n",
       "      <th></th>\n",
       "      <th></th>\n",
       "      <th></th>\n",
       "      <th></th>\n",
       "      <th></th>\n",
       "      <th></th>\n",
       "      <th></th>\n",
       "      <th></th>\n",
       "      <th></th>\n",
       "      <th></th>\n",
       "      <th></th>\n",
       "      <th></th>\n",
       "    </tr>\n",
       "  </thead>\n",
       "  <tbody>\n",
       "    <tr>\n",
       "      <th>Qality</th>\n",
       "      <td>1720.0</td>\n",
       "      <td>NaN</td>\n",
       "      <td>117424.0</td>\n",
       "      <td>NaN</td>\n",
       "      <td>10220.0</td>\n",
       "      <td>1439.0</td>\n",
       "      <td>20983.0</td>\n",
       "      <td>NaN</td>\n",
       "      <td>182.0</td>\n",
       "      <td>NaN</td>\n",
       "      <td>69937.0</td>\n",
       "      <td>2417.0</td>\n",
       "      <td>NaN</td>\n",
       "      <td>NaN</td>\n",
       "      <td>12250.0</td>\n",
       "      <td>NaN</td>\n",
       "    </tr>\n",
       "    <tr>\n",
       "      <th>Yield</th>\n",
       "      <td>NaN</td>\n",
       "      <td>4150.0</td>\n",
       "      <td>NaN</td>\n",
       "      <td>45116.0</td>\n",
       "      <td>3624.0</td>\n",
       "      <td>543.0</td>\n",
       "      <td>NaN</td>\n",
       "      <td>12732.0</td>\n",
       "      <td>NaN</td>\n",
       "      <td>28154.0</td>\n",
       "      <td>NaN</td>\n",
       "      <td>NaN</td>\n",
       "      <td>21.0</td>\n",
       "      <td>38600.0</td>\n",
       "      <td>NaN</td>\n",
       "      <td>4276.0</td>\n",
       "    </tr>\n",
       "  </tbody>\n",
       "</table>\n",
       "</div>"
      ],
      "text/plain": [
       "rec_provider         BooksQ  BooksY      DNNQ     DNNY  ManualQ  ManualY  \\\n",
       "recommendation_type                                                        \n",
       "Qality               1720.0     NaN  117424.0      NaN  10220.0   1439.0   \n",
       "Yield                   NaN  4150.0       NaN  45116.0   3624.0    543.0   \n",
       "\n",
       "rec_provider            RNNQ     RNNY  RuleBased  RuleBasedY  UserPopQ  \\\n",
       "recommendation_type                                                      \n",
       "Qality               20983.0      NaN      182.0         NaN   69937.0   \n",
       "Yield                    NaN  12732.0        NaN     28154.0       NaN   \n",
       "\n",
       "rec_provider         UserPopSelectionQ  UserPopSelectionY  UserPopY     XGBQ  \\\n",
       "recommendation_type                                                            \n",
       "Qality                          2417.0                NaN       NaN  12250.0   \n",
       "Yield                              NaN               21.0   38600.0      NaN   \n",
       "\n",
       "rec_provider           XGBY  \n",
       "recommendation_type          \n",
       "Qality                  NaN  \n",
       "Yield                4276.0  "
      ]
     },
     "execution_count": 85,
     "metadata": {},
     "output_type": "execute_result"
    }
   ],
   "source": [
    "ad_recs_annotated.groupby(['rec_provider','recommendation_type']).recommendation_type.count().unstack('rec_provider')\n"
   ]
  },
  {
   "cell_type": "code",
   "execution_count": 86,
   "id": "f153741f",
   "metadata": {},
   "outputs": [
    {
     "data": {
      "text/plain": [
       "region\n",
       "US    88918\n",
       "Name: is_success_int, dtype: int64"
      ]
     },
     "execution_count": 86,
     "metadata": {},
     "output_type": "execute_result"
    }
   ],
   "source": [
    "ad_recs_annotated.groupby(['region']).is_success_int.sum().sort_values(ascending=False).head(1)\n"
   ]
  },
  {
   "cell_type": "code",
   "execution_count": 88,
   "id": "6cbafa99",
   "metadata": {},
   "outputs": [
    {
     "data": {
      "text/plain": [
       "region  rec_provider\n",
       "GB      DNNQ            34681\n",
       "Name: rec_provider, dtype: int64"
      ]
     },
     "execution_count": 88,
     "metadata": {},
     "output_type": "execute_result"
    }
   ],
   "source": [
    "only_is_success = ad_recs_annotated.query(\"is_success_int == 1\")\n",
    "only_is_success.groupby(['region']).rec_provider.value_counts().sort_values(ascending=False).head(1)"
   ]
  },
  {
   "cell_type": "markdown",
   "id": "e10fc760",
   "metadata": {},
   "source": [
    "# Q17 - 18 - failed doing them - the blocks under are attempt to implement other student code"
   ]
  },
  {
   "cell_type": "code",
   "execution_count": 110,
   "id": "4bccb626",
   "metadata": {},
   "outputs": [],
   "source": [
    "\n",
    "from pandas import Series\n",
    "from typing import Callable\n",
    "\n",
    "import numpy as np\n",
    "import scipy.stats as st\n",
    "\n",
    "def get_interval_for_series(alpha=0.95, label='') -> Callable[[Series], Series]:\n",
    "        def get_interval(series: Series) -> Series:\n",
    "            bottom, top = st.t.interval(alpha=alpha, df=len(series)-1,\n",
    "                  loc=np.mean(series),\n",
    "                  scale=st.sem(series))\n",
    "            return Series({f'{label}_bottom': bottom, f'{label}_top': top})\n",
    "        return get_interval\n",
    "\n"
   ]
  },
  {
   "cell_type": "code",
   "execution_count": 113,
   "id": "b672e3fb",
   "metadata": {},
   "outputs": [],
   "source": [
    "def get_rates_df(groupby: list[str], metrics: list[str]):\n",
    "    agg = {metric: ag for (metric, ag) in list(map(lambda m: (m, ['count', 'sum']),metrics)) }\n",
    "    columns = [*groupby, *metrics]\n",
    "    return ad_recs_annotated[columns].groupby(groupby)\\\n",
    "        .agg(agg)\\\n",
    "        .apply(lambda row: Series({\n",
    "            key: value\n",
    "        for (key, value) in map(lambda metric: (\n",
    "            f'{metric}_rate',\n",
    "            row[(metric, 'sum')] / row[(metric, 'count')]\n",
    "        ), metrics)\n",
    "        }), axis=1)\n",
    "\n",
    "def get_ci_df(groupby: list[str], metrics: list[str]):\n",
    "    columns = [*groupby, *metrics]\n",
    "    dfs = list(map(lambda metric: ad_recs_annotated[columns]\n",
    "                   .groupby(groupby)[metric]\n",
    "                   .apply(get_interval_for_series(label=metric))\n",
    "                   .unstack()\n",
    "                   ,metrics))\n",
    "    return dfs[0] if len(dfs) == 1 else pd.merge(*dfs, on=groupby)\n",
    "\n",
    "def get_ci_and_rates(groupby: list[str], metrics: list[str]):\n",
    "    return pd.merge(\n",
    "        get_rates_df(groupby=groupby, metrics=metrics),\n",
    "        get_ci_df(groupby=groupby, metrics=metrics),\n",
    "        on=groupby\n",
    "    )"
   ]
  },
  {
   "cell_type": "code",
   "execution_count": 115,
   "id": "47bf60ed",
   "metadata": {},
   "outputs": [
    {
     "ename": "KeyError",
     "evalue": "\"['success', 'sever'] not in index\"",
     "output_type": "error",
     "traceback": [
      "\u001b[1;31m---------------------------------------------------------------------------\u001b[0m",
      "\u001b[1;31mKeyError\u001b[0m                                  Traceback (most recent call last)",
      "\u001b[1;32m~\\AppData\\Local\\Temp/ipykernel_22652/1227950185.py\u001b[0m in \u001b[0;36m<module>\u001b[1;34m\u001b[0m\n\u001b[1;32m----> 1\u001b[1;33m \u001b[0mget_ci_and_rates\u001b[0m\u001b[1;33m(\u001b[0m\u001b[0mgroupby\u001b[0m\u001b[1;33m=\u001b[0m\u001b[1;33m[\u001b[0m\u001b[1;34m'region'\u001b[0m\u001b[1;33m]\u001b[0m\u001b[1;33m,\u001b[0m \u001b[0mmetrics\u001b[0m\u001b[1;33m=\u001b[0m\u001b[1;33m[\u001b[0m\u001b[1;34m'success'\u001b[0m\u001b[1;33m,\u001b[0m \u001b[1;34m'sever'\u001b[0m\u001b[1;33m]\u001b[0m\u001b[1;33m)\u001b[0m\u001b[1;33m\u001b[0m\u001b[1;33m\u001b[0m\u001b[0m\n\u001b[0m",
      "\u001b[1;32m~\\AppData\\Local\\Temp/ipykernel_22652/3829444202.py\u001b[0m in \u001b[0;36mget_ci_and_rates\u001b[1;34m(groupby, metrics)\u001b[0m\n\u001b[0;32m     23\u001b[0m \u001b[1;32mdef\u001b[0m \u001b[0mget_ci_and_rates\u001b[0m\u001b[1;33m(\u001b[0m\u001b[0mgroupby\u001b[0m\u001b[1;33m:\u001b[0m \u001b[0mlist\u001b[0m\u001b[1;33m[\u001b[0m\u001b[0mstr\u001b[0m\u001b[1;33m]\u001b[0m\u001b[1;33m,\u001b[0m \u001b[0mmetrics\u001b[0m\u001b[1;33m:\u001b[0m \u001b[0mlist\u001b[0m\u001b[1;33m[\u001b[0m\u001b[0mstr\u001b[0m\u001b[1;33m]\u001b[0m\u001b[1;33m)\u001b[0m\u001b[1;33m:\u001b[0m\u001b[1;33m\u001b[0m\u001b[1;33m\u001b[0m\u001b[0m\n\u001b[0;32m     24\u001b[0m     return pd.merge(\n\u001b[1;32m---> 25\u001b[1;33m         \u001b[0mget_rates_df\u001b[0m\u001b[1;33m(\u001b[0m\u001b[0mgroupby\u001b[0m\u001b[1;33m=\u001b[0m\u001b[0mgroupby\u001b[0m\u001b[1;33m,\u001b[0m \u001b[0mmetrics\u001b[0m\u001b[1;33m=\u001b[0m\u001b[0mmetrics\u001b[0m\u001b[1;33m)\u001b[0m\u001b[1;33m,\u001b[0m\u001b[1;33m\u001b[0m\u001b[1;33m\u001b[0m\u001b[0m\n\u001b[0m\u001b[0;32m     26\u001b[0m         \u001b[0mget_ci_df\u001b[0m\u001b[1;33m(\u001b[0m\u001b[0mgroupby\u001b[0m\u001b[1;33m=\u001b[0m\u001b[0mgroupby\u001b[0m\u001b[1;33m,\u001b[0m \u001b[0mmetrics\u001b[0m\u001b[1;33m=\u001b[0m\u001b[0mmetrics\u001b[0m\u001b[1;33m)\u001b[0m\u001b[1;33m,\u001b[0m\u001b[1;33m\u001b[0m\u001b[1;33m\u001b[0m\u001b[0m\n\u001b[0;32m     27\u001b[0m         \u001b[0mon\u001b[0m\u001b[1;33m=\u001b[0m\u001b[0mgroupby\u001b[0m\u001b[1;33m\u001b[0m\u001b[1;33m\u001b[0m\u001b[0m\n",
      "\u001b[1;32m~\\AppData\\Local\\Temp/ipykernel_22652/3829444202.py\u001b[0m in \u001b[0;36mget_rates_df\u001b[1;34m(groupby, metrics)\u001b[0m\n\u001b[0;32m      2\u001b[0m     \u001b[0magg\u001b[0m \u001b[1;33m=\u001b[0m \u001b[1;33m{\u001b[0m\u001b[0mmetric\u001b[0m\u001b[1;33m:\u001b[0m \u001b[0mag\u001b[0m \u001b[1;32mfor\u001b[0m \u001b[1;33m(\u001b[0m\u001b[0mmetric\u001b[0m\u001b[1;33m,\u001b[0m \u001b[0mag\u001b[0m\u001b[1;33m)\u001b[0m \u001b[1;32min\u001b[0m \u001b[0mlist\u001b[0m\u001b[1;33m(\u001b[0m\u001b[0mmap\u001b[0m\u001b[1;33m(\u001b[0m\u001b[1;32mlambda\u001b[0m \u001b[0mm\u001b[0m\u001b[1;33m:\u001b[0m \u001b[1;33m(\u001b[0m\u001b[0mm\u001b[0m\u001b[1;33m,\u001b[0m \u001b[1;33m[\u001b[0m\u001b[1;34m'count'\u001b[0m\u001b[1;33m,\u001b[0m \u001b[1;34m'sum'\u001b[0m\u001b[1;33m]\u001b[0m\u001b[1;33m)\u001b[0m\u001b[1;33m,\u001b[0m\u001b[0mmetrics\u001b[0m\u001b[1;33m)\u001b[0m\u001b[1;33m)\u001b[0m \u001b[1;33m}\u001b[0m\u001b[1;33m\u001b[0m\u001b[1;33m\u001b[0m\u001b[0m\n\u001b[0;32m      3\u001b[0m     \u001b[0mcolumns\u001b[0m \u001b[1;33m=\u001b[0m \u001b[1;33m[\u001b[0m\u001b[1;33m*\u001b[0m\u001b[0mgroupby\u001b[0m\u001b[1;33m,\u001b[0m \u001b[1;33m*\u001b[0m\u001b[0mmetrics\u001b[0m\u001b[1;33m]\u001b[0m\u001b[1;33m\u001b[0m\u001b[1;33m\u001b[0m\u001b[0m\n\u001b[1;32m----> 4\u001b[1;33m     \u001b[1;32mreturn\u001b[0m \u001b[0mad_recs_annotated\u001b[0m\u001b[1;33m[\u001b[0m\u001b[0mcolumns\u001b[0m\u001b[1;33m]\u001b[0m\u001b[1;33m.\u001b[0m\u001b[0mgroupby\u001b[0m\u001b[1;33m(\u001b[0m\u001b[0mgroupby\u001b[0m\u001b[1;33m)\u001b[0m\u001b[0;31m\\\u001b[0m\u001b[1;33m\u001b[0m\u001b[1;33m\u001b[0m\u001b[0m\n\u001b[0m\u001b[0;32m      5\u001b[0m         \u001b[1;33m.\u001b[0m\u001b[0magg\u001b[0m\u001b[1;33m(\u001b[0m\u001b[0magg\u001b[0m\u001b[1;33m)\u001b[0m\u001b[0;31m\\\u001b[0m\u001b[1;33m\u001b[0m\u001b[1;33m\u001b[0m\u001b[0m\n\u001b[0;32m      6\u001b[0m         .apply(lambda row: Series({\n",
      "\u001b[1;32m~\\anaconda3\\lib\\site-packages\\pandas\\core\\frame.py\u001b[0m in \u001b[0;36m__getitem__\u001b[1;34m(self, key)\u001b[0m\n\u001b[0;32m   3462\u001b[0m             \u001b[1;32mif\u001b[0m \u001b[0mis_iterator\u001b[0m\u001b[1;33m(\u001b[0m\u001b[0mkey\u001b[0m\u001b[1;33m)\u001b[0m\u001b[1;33m:\u001b[0m\u001b[1;33m\u001b[0m\u001b[1;33m\u001b[0m\u001b[0m\n\u001b[0;32m   3463\u001b[0m                 \u001b[0mkey\u001b[0m \u001b[1;33m=\u001b[0m \u001b[0mlist\u001b[0m\u001b[1;33m(\u001b[0m\u001b[0mkey\u001b[0m\u001b[1;33m)\u001b[0m\u001b[1;33m\u001b[0m\u001b[1;33m\u001b[0m\u001b[0m\n\u001b[1;32m-> 3464\u001b[1;33m             \u001b[0mindexer\u001b[0m \u001b[1;33m=\u001b[0m \u001b[0mself\u001b[0m\u001b[1;33m.\u001b[0m\u001b[0mloc\u001b[0m\u001b[1;33m.\u001b[0m\u001b[0m_get_listlike_indexer\u001b[0m\u001b[1;33m(\u001b[0m\u001b[0mkey\u001b[0m\u001b[1;33m,\u001b[0m \u001b[0maxis\u001b[0m\u001b[1;33m=\u001b[0m\u001b[1;36m1\u001b[0m\u001b[1;33m)\u001b[0m\u001b[1;33m[\u001b[0m\u001b[1;36m1\u001b[0m\u001b[1;33m]\u001b[0m\u001b[1;33m\u001b[0m\u001b[1;33m\u001b[0m\u001b[0m\n\u001b[0m\u001b[0;32m   3465\u001b[0m \u001b[1;33m\u001b[0m\u001b[0m\n\u001b[0;32m   3466\u001b[0m         \u001b[1;31m# take() does not accept boolean indexers\u001b[0m\u001b[1;33m\u001b[0m\u001b[1;33m\u001b[0m\u001b[0m\n",
      "\u001b[1;32m~\\anaconda3\\lib\\site-packages\\pandas\\core\\indexing.py\u001b[0m in \u001b[0;36m_get_listlike_indexer\u001b[1;34m(self, key, axis)\u001b[0m\n\u001b[0;32m   1312\u001b[0m             \u001b[0mkeyarr\u001b[0m\u001b[1;33m,\u001b[0m \u001b[0mindexer\u001b[0m\u001b[1;33m,\u001b[0m \u001b[0mnew_indexer\u001b[0m \u001b[1;33m=\u001b[0m \u001b[0max\u001b[0m\u001b[1;33m.\u001b[0m\u001b[0m_reindex_non_unique\u001b[0m\u001b[1;33m(\u001b[0m\u001b[0mkeyarr\u001b[0m\u001b[1;33m)\u001b[0m\u001b[1;33m\u001b[0m\u001b[1;33m\u001b[0m\u001b[0m\n\u001b[0;32m   1313\u001b[0m \u001b[1;33m\u001b[0m\u001b[0m\n\u001b[1;32m-> 1314\u001b[1;33m         \u001b[0mself\u001b[0m\u001b[1;33m.\u001b[0m\u001b[0m_validate_read_indexer\u001b[0m\u001b[1;33m(\u001b[0m\u001b[0mkeyarr\u001b[0m\u001b[1;33m,\u001b[0m \u001b[0mindexer\u001b[0m\u001b[1;33m,\u001b[0m \u001b[0maxis\u001b[0m\u001b[1;33m)\u001b[0m\u001b[1;33m\u001b[0m\u001b[1;33m\u001b[0m\u001b[0m\n\u001b[0m\u001b[0;32m   1315\u001b[0m \u001b[1;33m\u001b[0m\u001b[0m\n\u001b[0;32m   1316\u001b[0m         if needs_i8_conversion(ax.dtype) or isinstance(\n",
      "\u001b[1;32m~\\anaconda3\\lib\\site-packages\\pandas\\core\\indexing.py\u001b[0m in \u001b[0;36m_validate_read_indexer\u001b[1;34m(self, key, indexer, axis)\u001b[0m\n\u001b[0;32m   1375\u001b[0m \u001b[1;33m\u001b[0m\u001b[0m\n\u001b[0;32m   1376\u001b[0m             \u001b[0mnot_found\u001b[0m \u001b[1;33m=\u001b[0m \u001b[0mlist\u001b[0m\u001b[1;33m(\u001b[0m\u001b[0mensure_index\u001b[0m\u001b[1;33m(\u001b[0m\u001b[0mkey\u001b[0m\u001b[1;33m)\u001b[0m\u001b[1;33m[\u001b[0m\u001b[0mmissing_mask\u001b[0m\u001b[1;33m.\u001b[0m\u001b[0mnonzero\u001b[0m\u001b[1;33m(\u001b[0m\u001b[1;33m)\u001b[0m\u001b[1;33m[\u001b[0m\u001b[1;36m0\u001b[0m\u001b[1;33m]\u001b[0m\u001b[1;33m]\u001b[0m\u001b[1;33m.\u001b[0m\u001b[0munique\u001b[0m\u001b[1;33m(\u001b[0m\u001b[1;33m)\u001b[0m\u001b[1;33m)\u001b[0m\u001b[1;33m\u001b[0m\u001b[1;33m\u001b[0m\u001b[0m\n\u001b[1;32m-> 1377\u001b[1;33m             \u001b[1;32mraise\u001b[0m \u001b[0mKeyError\u001b[0m\u001b[1;33m(\u001b[0m\u001b[1;34mf\"{not_found} not in index\"\u001b[0m\u001b[1;33m)\u001b[0m\u001b[1;33m\u001b[0m\u001b[1;33m\u001b[0m\u001b[0m\n\u001b[0m\u001b[0;32m   1378\u001b[0m \u001b[1;33m\u001b[0m\u001b[0m\n\u001b[0;32m   1379\u001b[0m \u001b[1;33m\u001b[0m\u001b[0m\n",
      "\u001b[1;31mKeyError\u001b[0m: \"['success', 'sever'] not in index\""
     ]
    }
   ],
   "source": [
    "get_ci_and_rates(groupby=['region'], metrics=['success', 'sever'])\n"
   ]
  },
  {
   "cell_type": "code",
   "execution_count": null,
   "id": "ec4c9933",
   "metadata": {},
   "outputs": [],
   "source": []
  },
  {
   "cell_type": "code",
   "execution_count": null,
   "id": "a37c86d8",
   "metadata": {},
   "outputs": [],
   "source": []
  },
  {
   "cell_type": "code",
   "execution_count": null,
   "id": "1471b94c",
   "metadata": {},
   "outputs": [],
   "source": []
  },
  {
   "cell_type": "markdown",
   "id": "ccd49645-542e-4dbf-b0c4-b197c974a528",
   "metadata": {},
   "source": [
    "Analysis Bonus questions:\n",
    "\n",
    "\n",
    "1. Compute the per region success rate and CI in trailing weeks, Say, 4 weeks instead of 1 week - to allow for smoother estimations and smaller CIs"
   ]
  },
  {
   "cell_type": "markdown",
   "id": "cbd7201c-98c2-4d59-a76e-e098dc5d9e43",
   "metadata": {},
   "source": [
    "### Merges and joins"
   ]
  },
  {
   "cell_type": "markdown",
   "id": "d78fa97c-4736-41c5-a649-931808eb8b30",
   "metadata": {},
   "source": [
    "The Wow samples and annotations task were sent and recieve seperatly, per each week. The dataset you were working on was constructed from those files. You can see the files under the `data/weekly` folder, here are the first 10 files:"
   ]
  },
  {
   "cell_type": "code",
   "execution_count": 74,
   "id": "81341f62-9161-4f1a-a678-251baba01564",
   "metadata": {},
   "outputs": [
    {
     "data": {
      "text/plain": [
       "['2021_33_DE_Qality_annotation_result.csv',\n",
       " '2021_33_DE_Yield_annotation_result.csv',\n",
       " '2021_33_DE__Sample.csv',\n",
       " '2021_33_GB_Qality_annotation_result.csv',\n",
       " '2021_33_GB_Yield_annotation_result.csv',\n",
       " '2021_33_GB__Sample.csv',\n",
       " '2021_33_IN_Qality_annotation_result.csv',\n",
       " '2021_33_IN_Yield_annotation_result.csv',\n",
       " '2021_33_IN__Sample.csv',\n",
       " '2021_33_JP_Qality_annotation_result.csv']"
      ]
     },
     "execution_count": 74,
     "metadata": {},
     "output_type": "execute_result"
    }
   ],
   "source": [
    "import os\n",
    "weekly_files = os.listdir('data/weekly/')\n",
    "sorted(weekly_files)[:10]"
   ]
  },
  {
   "cell_type": "markdown",
   "id": "a0882bd4-9b7a-4ea1-a047-348e5e3f0980",
   "metadata": {},
   "source": [
    "Your task is to reconstruct the dataset above. "
   ]
  },
  {
   "cell_type": "markdown",
   "id": "2405d189-8570-4c86-aa35-320a173779a1",
   "metadata": {},
   "source": [
    "### Visualizations"
   ]
  },
  {
   "cell_type": "markdown",
   "id": "8323da48-3adf-4a9b-b692-7dc528990d5c",
   "metadata": {},
   "source": [
    "Produce the following success rate graph per region:"
   ]
  },
  {
   "cell_type": "code",
   "execution_count": 96,
   "id": "42143ac6-1cee-42f8-9eeb-fe7d04683434",
   "metadata": {},
   "outputs": [
    {
     "data": {
      "application/vnd.plotly.v1+json": {
       "config": {
        "plotlyServerURL": "https://plot.ly"
       },
       "data": [
        {
         "error_y": {
          "array": [
           0.015841741621591608,
           0.01620214133972794,
           0.015814452025429384,
           0.016145568698129116,
           0.015802442584340257,
           0.015825607925248994,
           0.015061892331367835,
           0.0160341253686106,
           0.01555439002263373,
           0.01595113950476852,
           0.016805771202111207,
           0.017227572153532284,
           0.015736208288505252,
           0.015679366056619636,
           0.015286521429184956,
           0.015241020400256865,
           0.015220579606453408,
           0.01505302634999722,
           0.015813279692510337,
           0.01533148596761587,
           0.014638324950638286,
           0.01501922906209145,
           0.01427749197808858,
           0.014498196879692341,
           0.01478049052356122,
           0.015652663592974052
          ]
         },
         "hovertemplate": "region=DE<br>week_id=%{x}<br>Success_rate=%{y}<extra></extra>",
         "legendgroup": "DE",
         "line": {
          "color": "#1F77B4",
          "dash": "solid"
         },
         "mode": "lines",
         "name": "DE",
         "orientation": "v",
         "showlegend": true,
         "type": "scatter",
         "x": [
          "2021-week_33",
          "2021-week_34",
          "2021-week_35",
          "2021-week_36",
          "2021-week_37",
          "2021-week_38",
          "2021-week_39",
          "2021-week_40",
          "2021-week_41",
          "2021-week_42",
          "2021-week_43",
          "2021-week_44",
          "2021-week_45",
          "2021-week_46",
          "2021-week_47",
          "2021-week_48",
          "2021-week_49",
          "2021-week_50",
          "2021-week_51",
          "2022-week_01",
          "2022-week_02",
          "2022-week_03",
          "2022-week_04",
          "2022-week_05",
          "2022-week_06",
          "2022-week_52"
         ],
         "xaxis": "x",
         "y": [
          0.8058455114822547,
          0.7978813559322034,
          0.8069368992895947,
          0.795085381091212,
          0.8061564059900166,
          0.8058333333333333,
          0.8284171167428334,
          0.799082951229679,
          0.8145060441850771,
          0.8021702838063439,
          0.7714762301918265,
          0.7647058823529411,
          0.8084929225645295,
          0.8152081563296517,
          0.822037422037422,
          0.8221670802315963,
          0.8263976460697772,
          0.828761429758936,
          0.8050601410203235,
          0.8209825145711906,
          0.8412698412698413,
          0.8322119428090833,
          0.8528541226215645,
          0.8459277917716205,
          0.8354011579818031,
          0.8131821998320738
         ],
         "yaxis": "y"
        },
        {
         "error_y": {
          "array": [
           0.01242144189123231,
           0.012688393581111483,
           0.012179235430522127,
           0.012749658978748957,
           0.0123317370436007,
           0.012795604789887916,
           0.013795857356650693,
           0.013559944295216992,
           0.012979117072354458,
           0.013092245021972182,
           0.013247918909018198,
           0.012948213869355511,
           0.012223261768773653,
           0.01172523089593593,
           0.011228133004979626,
           0.01250638771630859,
           0.012723836238285208,
           0.012722301032230276,
           0.013050111873481996,
           0.012844275791000531,
           0.013031084029980173,
           0.013322502177332624,
           0.013159417708097034,
           0.01334460381812566,
           0.01233568682610417,
           0.013022105780641668
          ]
         },
         "hovertemplate": "region=GB<br>week_id=%{x}<br>Success_rate=%{y}<extra></extra>",
         "legendgroup": "GB",
         "line": {
          "color": "#FF7F0E",
          "dash": "solid"
         },
         "mode": "lines",
         "name": "GB",
         "orientation": "v",
         "showlegend": true,
         "type": "scatter",
         "x": [
          "2021-week_33",
          "2021-week_34",
          "2021-week_35",
          "2021-week_36",
          "2021-week_37",
          "2021-week_38",
          "2021-week_39",
          "2021-week_40",
          "2021-week_41",
          "2021-week_42",
          "2021-week_43",
          "2021-week_44",
          "2021-week_45",
          "2021-week_46",
          "2021-week_47",
          "2021-week_48",
          "2021-week_49",
          "2021-week_50",
          "2021-week_51",
          "2022-week_01",
          "2022-week_02",
          "2022-week_03",
          "2022-week_04",
          "2022-week_05",
          "2022-week_06",
          "2022-week_52"
         ],
         "xaxis": "x",
         "y": [
          0.849685534591195,
          0.8412299968622529,
          0.855095045185416,
          0.8379557494546588,
          0.8522477208425023,
          0.8378293601003765,
          0.8019338739862757,
          0.8103394581127374,
          0.8310430980637101,
          0.8297536323436513,
          0.8221875,
          0.8327067669172933,
          0.8534992223950233,
          0.8689503456945318,
          0.8810269254852849,
          0.8449347420758235,
          0.8396994364433312,
          0.839375,
          0.8301886792452831,
          0.8361015355687872,
          0.829940494832446,
          0.8214173228346456,
          0.8275426405559065,
          0.8207309388783869,
          0.8518518518518519,
          0.8307692307692308
         ],
         "yaxis": "y"
        },
        {
         "error_y": {
          "array": [
           0.015347218618285904,
           0.014897880227176688,
           0.014860306773267502,
           0.014660689575409037,
           0.014709438690326034,
           0.014601333562365404,
           0.014671274587798391,
           0.014636873424272754,
           0.014676957841904701,
           0.01476153813126855,
           0.015128610715464355,
           0.014519907636613526,
           0.014120255756661985,
           0.014388819222128972,
           0.01439742111856086,
           0.014597814772436908,
           0.01457338392852597,
           0.014683093394967333,
           0.015080046843528481,
           0.015097034376713019,
           0.01499219457845864,
           0.01469733568108528,
           0.014698874294937854,
           0.014938635370407039,
           0.015048540439883512,
           0.014777430668554704
          ]
         },
         "hovertemplate": "region=IN<br>week_id=%{x}<br>Success_rate=%{y}<extra></extra>",
         "legendgroup": "IN",
         "line": {
          "color": "#2CA02C",
          "dash": "solid"
         },
         "mode": "lines",
         "name": "IN",
         "orientation": "v",
         "showlegend": true,
         "type": "scatter",
         "x": [
          "2021-week_33",
          "2021-week_34",
          "2021-week_35",
          "2021-week_36",
          "2021-week_37",
          "2021-week_38",
          "2021-week_39",
          "2021-week_40",
          "2021-week_41",
          "2021-week_42",
          "2021-week_43",
          "2021-week_44",
          "2021-week_45",
          "2021-week_46",
          "2021-week_47",
          "2021-week_48",
          "2021-week_49",
          "2021-week_50",
          "2021-week_51",
          "2022-week_01",
          "2022-week_02",
          "2022-week_03",
          "2022-week_04",
          "2022-week_05",
          "2022-week_06",
          "2022-week_52"
         ],
         "xaxis": "x",
         "y": [
          0.7324780976220275,
          0.7530288909599254,
          0.7559987535057651,
          0.7650171179582944,
          0.7659440779139177,
          0.7716535433070866,
          0.7646326276463262,
          0.7684111563773112,
          0.7641568139390168,
          0.7605107443164123,
          0.746536523929471,
          0.7755359394703657,
          0.7895065584009994,
          0.7755417956656346,
          0.780119534444794,
          0.7750556792873051,
          0.7710616974632007,
          0.7658841940532082,
          0.7439403356121814,
          0.7471733668341709,
          0.7498440424204617,
          0.7639538509510446,
          0.7591510304521686,
          0.7529668956901936,
          0.7489028213166145,
          0.7628023876845743
         ],
         "yaxis": "y"
        },
        {
         "error_y": {
          "array": [
           0.022567061594892267,
           0.022492280006980565,
           0.02229880039235783,
           0.02239881765693253,
           0.02211079183999325,
           0.022753255531973833,
           0.022254932348179785,
           0.022036884230609056,
           0.021095958009834617,
           0.02041165793670121,
           0.020130744269165966,
           0.020300209168818098,
           0.020029105629969075,
           0.02070255736749451,
           0.0201784859515891,
           0.02080016955288089,
           0.020099328552167072,
           0.019449261659700134,
           0.019160373459579678,
           0.019405142510941303,
           0.019311174573904865,
           0.019658333506847977,
           0.018711462868199576,
           0.01961364401032071,
           0.013779104169256108
          ]
         },
         "hovertemplate": "region=JP<br>week_id=%{x}<br>Success_rate=%{y}<extra></extra>",
         "legendgroup": "JP",
         "line": {
          "color": "#D62728",
          "dash": "solid"
         },
         "mode": "lines",
         "name": "JP",
         "orientation": "v",
         "showlegend": true,
         "type": "scatter",
         "x": [
          "2021-week_33",
          "2021-week_34",
          "2021-week_35",
          "2021-week_36",
          "2021-week_37",
          "2021-week_38",
          "2021-week_39",
          "2021-week_40",
          "2021-week_41",
          "2021-week_42",
          "2021-week_43",
          "2021-week_44",
          "2021-week_45",
          "2021-week_46",
          "2021-week_47",
          "2021-week_48",
          "2021-week_49",
          "2021-week_50",
          "2022-week_01",
          "2022-week_02",
          "2022-week_03",
          "2022-week_04",
          "2022-week_05",
          "2022-week_06",
          "2022-week_52"
         ],
         "xaxis": "x",
         "y": [
          0.6908752327746741,
          0.6985616010006254,
          0.7132911392405064,
          0.7061044682190056,
          0.7019464720194647,
          0.6875784190715182,
          0.7112366603892027,
          0.7132262051915945,
          0.7603305785123967,
          0.776735459662289,
          0.7853566958698373,
          0.7774333539987601,
          0.7833846153846153,
          0.7696664568911264,
          0.7779141104294478,
          0.7609907120743034,
          0.7901077996195307,
          0.8021091811414393,
          0.8117573483427142,
          0.8029739776951673,
          0.8111533586818758,
          0.8007566204287516,
          0.821917808219178,
          0.7991266375545851,
          0.8045254556882464
         ],
         "yaxis": "y"
        },
        {
         "error_y": {
          "array": [
           0.00981399866983586,
           0.010190785679489786,
           0.010122150292841805,
           0.00975653771750121,
           0.010444868594931845,
           0.01099898337228462,
           0.010384180737036546,
           0.010235909438609515,
           0.010450003620656931,
           0.010727282163406423,
           0.010676396756148438,
           0.011203739243283,
           0.010089114594750538,
           0.010118566527706435,
           0.011148898544602024,
           0.011123352488979239,
           0.010903209992149013,
           0.011149009055661477,
           0.011832036362231785,
           0.011610715695170786,
           0.011433707387973224,
           0.01159959951566055,
           0.011629960773033693,
           0.011480135898660416,
           0.011367426136776687,
           0.011480135898660416
          ]
         },
         "hovertemplate": "region=US<br>week_id=%{x}<br>Success_rate=%{y}<extra></extra>",
         "legendgroup": "US",
         "line": {
          "color": "#9467BD",
          "dash": "solid"
         },
         "mode": "lines",
         "name": "US",
         "orientation": "v",
         "showlegend": true,
         "type": "scatter",
         "x": [
          "2021-week_33",
          "2021-week_34",
          "2021-week_35",
          "2021-week_36",
          "2021-week_37",
          "2021-week_38",
          "2021-week_39",
          "2021-week_40",
          "2021-week_41",
          "2021-week_42",
          "2021-week_43",
          "2021-week_44",
          "2021-week_45",
          "2021-week_46",
          "2021-week_47",
          "2021-week_48",
          "2021-week_49",
          "2021-week_50",
          "2021-week_51",
          "2022-week_01",
          "2022-week_02",
          "2022-week_03",
          "2022-week_04",
          "2022-week_05",
          "2022-week_06",
          "2022-week_52"
         ],
         "xaxis": "x",
         "y": [
          0.8877705083039759,
          0.8764353469795307,
          0.8792064289301859,
          0.8891402714932126,
          0.8701005025125628,
          0.8526315789473684,
          0.8711855927963982,
          0.8758465011286681,
          0.8694889779559118,
          0.8606393606393606,
          0.8625782227784731,
          0.8457300275482094,
          0.8796296296296297,
          0.8788485607008761,
          0.8475212819228843,
          0.8476309226932668,
          0.8555332999499249,
          0.8476572287647206,
          0.8230730730730731,
          0.8306310800698429,
          0.8366533864541833,
          0.8326212616235235,
          0.8304576144036009,
          0.8359179589794897,
          0.8401803607214429,
          0.8359179589794897
         ],
         "yaxis": "y"
        }
       ],
       "layout": {
        "autosize": true,
        "legend": {
         "title": {
          "text": "region"
         },
         "tracegroupgap": 0
        },
        "template": {
         "data": {
          "pie": [
           {
            "automargin": true,
            "type": "pie"
           }
          ]
         },
         "layout": {
          "xaxis": {
           "showgrid": true,
           "title": {
            "standoff": 15
           }
          },
          "yaxis": {
           "showgrid": true,
           "title": {
            "standoff": 15
           }
          }
         }
        },
        "title": {
         "text": "Success rate per region",
         "x": 0.5
        },
        "xaxis": {
         "anchor": "y",
         "autorange": true,
         "domain": [
          0,
          1
         ],
         "range": [
          -1.3888888888888888,
          26.38888888888889
         ],
         "title": {
          "text": "week_id"
         },
         "type": "category"
        },
        "yaxis": {
         "anchor": "x",
         "autorange": true,
         "domain": [
          0,
          1
         ],
         "range": [
          0.6518211832244794,
          0.9119007895257788
         ],
         "title": {
          "text": "Success_rate"
         },
         "type": "linear"
        }
       }
      },
      "image/png": "[encoded data removed]",
      "text/html": [
       "<div>                            <div id=\"32261b76-eb75-499b-99b1-d1e45facf405\" class=\"plotly-graph-div\" style=\"height:500px; width:100%;\"></div>            <script type=\"text/javascript\">                require([\"plotly\"], function(Plotly) {                    window.PLOTLYENV=window.PLOTLYENV || {};                                    if (document.getElementById(\"32261b76-eb75-499b-99b1-d1e45facf405\")) {                    Plotly.newPlot(                        \"32261b76-eb75-499b-99b1-d1e45facf405\",                        [{\"error_y\": {\"array\": [0.015841741621591608, 0.01620214133972794, 0.015814452025429384, 0.016145568698129116, 0.015802442584340257, 0.015825607925248994, 0.015061892331367835, 0.0160341253686106, 0.01555439002263373, 0.01595113950476852, 0.016805771202111207, 0.017227572153532284, 0.015736208288505252, 0.015679366056619636, 0.015286521429184956, 0.015241020400256865, 0.015220579606453408, 0.01505302634999722, 0.015813279692510337, 0.01533148596761587, 0.014638324950638286, 0.01501922906209145, 0.01427749197808858, 0.014498196879692341, 0.01478049052356122, 0.015652663592974052]}, \"hovertemplate\": \"region=DE<br>week_id=%{x}<br>Success_rate=%{y}<extra></extra>\", \"legendgroup\": \"DE\", \"line\": {\"color\": \"#1F77B4\", \"dash\": \"solid\"}, \"mode\": \"lines\", \"name\": \"DE\", \"orientation\": \"v\", \"showlegend\": true, \"type\": \"scatter\", \"x\": [\"2021-week_33\", \"2021-week_34\", \"2021-week_35\", \"2021-week_36\", \"2021-week_37\", \"2021-week_38\", \"2021-week_39\", \"2021-week_40\", \"2021-week_41\", \"2021-week_42\", \"2021-week_43\", \"2021-week_44\", \"2021-week_45\", \"2021-week_46\", \"2021-week_47\", \"2021-week_48\", \"2021-week_49\", \"2021-week_50\", \"2021-week_51\", \"2022-week_01\", \"2022-week_02\", \"2022-week_03\", \"2022-week_04\", \"2022-week_05\", \"2022-week_06\", \"2022-week_52\"], \"xaxis\": \"x\", \"y\": [0.8058455114822547, 0.7978813559322034, 0.8069368992895947, 0.795085381091212, 0.8061564059900166, 0.8058333333333333, 0.8284171167428334, 0.799082951229679, 0.8145060441850771, 0.8021702838063439, 0.7714762301918265, 0.7647058823529411, 0.8084929225645295, 0.8152081563296517, 0.822037422037422, 0.8221670802315963, 0.8263976460697772, 0.828761429758936, 0.8050601410203235, 0.8209825145711906, 0.8412698412698413, 0.8322119428090833, 0.8528541226215645, 0.8459277917716205, 0.8354011579818031, 0.8131821998320738], \"yaxis\": \"y\"}, {\"error_y\": {\"array\": [0.01242144189123231, 0.012688393581111483, 0.012179235430522127, 0.012749658978748957, 0.0123317370436007, 0.012795604789887916, 0.013795857356650693, 0.013559944295216992, 0.012979117072354458, 0.013092245021972182, 0.013247918909018198, 0.012948213869355511, 0.012223261768773653, 0.01172523089593593, 0.011228133004979626, 0.01250638771630859, 0.012723836238285208, 0.012722301032230276, 0.013050111873481996, 0.012844275791000531, 0.013031084029980173, 0.013322502177332624, 0.013159417708097034, 0.01334460381812566, 0.01233568682610417, 0.013022105780641668]}, \"hovertemplate\": \"region=GB<br>week_id=%{x}<br>Success_rate=%{y}<extra></extra>\", \"legendgroup\": \"GB\", \"line\": {\"color\": \"#FF7F0E\", \"dash\": \"solid\"}, \"mode\": \"lines\", \"name\": \"GB\", \"orientation\": \"v\", \"showlegend\": true, \"type\": \"scatter\", \"x\": [\"2021-week_33\", \"2021-week_34\", \"2021-week_35\", \"2021-week_36\", \"2021-week_37\", \"2021-week_38\", \"2021-week_39\", \"2021-week_40\", \"2021-week_41\", \"2021-week_42\", \"2021-week_43\", \"2021-week_44\", \"2021-week_45\", \"2021-week_46\", \"2021-week_47\", \"2021-week_48\", \"2021-week_49\", \"2021-week_50\", \"2021-week_51\", \"2022-week_01\", \"2022-week_02\", \"2022-week_03\", \"2022-week_04\", \"2022-week_05\", \"2022-week_06\", \"2022-week_52\"], \"xaxis\": \"x\", \"y\": [0.849685534591195, 0.8412299968622529, 0.855095045185416, 0.8379557494546588, 0.8522477208425023, 0.8378293601003765, 0.8019338739862757, 0.8103394581127374, 0.8310430980637101, 0.8297536323436513, 0.8221875, 0.8327067669172933, 0.8534992223950233, 0.8689503456945318, 0.8810269254852849, 0.8449347420758235, 0.8396994364433312, 0.839375, 0.8301886792452831, 0.8361015355687872, 0.829940494832446, 0.8214173228346456, 0.8275426405559065, 0.8207309388783869, 0.8518518518518519, 0.8307692307692308], \"yaxis\": \"y\"}, {\"error_y\": {\"array\": [0.015347218618285904, 0.014897880227176688, 0.014860306773267502, 0.014660689575409037, 0.014709438690326034, 0.014601333562365404, 0.014671274587798391, 0.014636873424272754, 0.014676957841904701, 0.01476153813126855, 0.015128610715464355, 0.014519907636613526, 0.014120255756661985, 0.014388819222128972, 0.01439742111856086, 0.014597814772436908, 0.01457338392852597, 0.014683093394967333, 0.015080046843528481, 0.015097034376713019, 0.01499219457845864, 0.01469733568108528, 0.014698874294937854, 0.014938635370407039, 0.015048540439883512, 0.014777430668554704]}, \"hovertemplate\": \"region=IN<br>week_id=%{x}<br>Success_rate=%{y}<extra></extra>\", \"legendgroup\": \"IN\", \"line\": {\"color\": \"#2CA02C\", \"dash\": \"solid\"}, \"mode\": \"lines\", \"name\": \"IN\", \"orientation\": \"v\", \"showlegend\": true, \"type\": \"scatter\", \"x\": [\"2021-week_33\", \"2021-week_34\", \"2021-week_35\", \"2021-week_36\", \"2021-week_37\", \"2021-week_38\", \"2021-week_39\", \"2021-week_40\", \"2021-week_41\", \"2021-week_42\", \"2021-week_43\", \"2021-week_44\", \"2021-week_45\", \"2021-week_46\", \"2021-week_47\", \"2021-week_48\", \"2021-week_49\", \"2021-week_50\", \"2021-week_51\", \"2022-week_01\", \"2022-week_02\", \"2022-week_03\", \"2022-week_04\", \"2022-week_05\", \"2022-week_06\", \"2022-week_52\"], \"xaxis\": \"x\", \"y\": [0.7324780976220275, 0.7530288909599254, 0.7559987535057651, 0.7650171179582944, 0.7659440779139177, 0.7716535433070866, 0.7646326276463262, 0.7684111563773112, 0.7641568139390168, 0.7605107443164123, 0.746536523929471, 0.7755359394703657, 0.7895065584009994, 0.7755417956656346, 0.780119534444794, 0.7750556792873051, 0.7710616974632007, 0.7658841940532082, 0.7439403356121814, 0.7471733668341709, 0.7498440424204617, 0.7639538509510446, 0.7591510304521686, 0.7529668956901936, 0.7489028213166145, 0.7628023876845743], \"yaxis\": \"y\"}, {\"error_y\": {\"array\": [0.022567061594892267, 0.022492280006980565, 0.02229880039235783, 0.02239881765693253, 0.02211079183999325, 0.022753255531973833, 0.022254932348179785, 0.022036884230609056, 0.021095958009834617, 0.02041165793670121, 0.020130744269165966, 0.020300209168818098, 0.020029105629969075, 0.02070255736749451, 0.0201784859515891, 0.02080016955288089, 0.020099328552167072, 0.019449261659700134, 0.019160373459579678, 0.019405142510941303, 0.019311174573904865, 0.019658333506847977, 0.018711462868199576, 0.01961364401032071, 0.013779104169256108]}, \"hovertemplate\": \"region=JP<br>week_id=%{x}<br>Success_rate=%{y}<extra></extra>\", \"legendgroup\": \"JP\", \"line\": {\"color\": \"#D62728\", \"dash\": \"solid\"}, \"mode\": \"lines\", \"name\": \"JP\", \"orientation\": \"v\", \"showlegend\": true, \"type\": \"scatter\", \"x\": [\"2021-week_33\", \"2021-week_34\", \"2021-week_35\", \"2021-week_36\", \"2021-week_37\", \"2021-week_38\", \"2021-week_39\", \"2021-week_40\", \"2021-week_41\", \"2021-week_42\", \"2021-week_43\", \"2021-week_44\", \"2021-week_45\", \"2021-week_46\", \"2021-week_47\", \"2021-week_48\", \"2021-week_49\", \"2021-week_50\", \"2022-week_01\", \"2022-week_02\", \"2022-week_03\", \"2022-week_04\", \"2022-week_05\", \"2022-week_06\", \"2022-week_52\"], \"xaxis\": \"x\", \"y\": [0.6908752327746741, 0.6985616010006254, 0.7132911392405064, 0.7061044682190056, 0.7019464720194647, 0.6875784190715182, 0.7112366603892027, 0.7132262051915945, 0.7603305785123967, 0.776735459662289, 0.7853566958698373, 0.7774333539987601, 0.7833846153846153, 0.7696664568911264, 0.7779141104294478, 0.7609907120743034, 0.7901077996195307, 0.8021091811414393, 0.8117573483427142, 0.8029739776951673, 0.8111533586818758, 0.8007566204287516, 0.821917808219178, 0.7991266375545851, 0.8045254556882464], \"yaxis\": \"y\"}, {\"error_y\": {\"array\": [0.00981399866983586, 0.010190785679489786, 0.010122150292841805, 0.00975653771750121, 0.010444868594931845, 0.01099898337228462, 0.010384180737036546, 0.010235909438609515, 0.010450003620656931, 0.010727282163406423, 0.010676396756148438, 0.011203739243283, 0.010089114594750538, 0.010118566527706435, 0.011148898544602024, 0.011123352488979239, 0.010903209992149013, 0.011149009055661477, 0.011832036362231785, 0.011610715695170786, 0.011433707387973224, 0.01159959951566055, 0.011629960773033693, 0.011480135898660416, 0.011367426136776687, 0.011480135898660416]}, \"hovertemplate\": \"region=US<br>week_id=%{x}<br>Success_rate=%{y}<extra></extra>\", \"legendgroup\": \"US\", \"line\": {\"color\": \"#9467BD\", \"dash\": \"solid\"}, \"mode\": \"lines\", \"name\": \"US\", \"orientation\": \"v\", \"showlegend\": true, \"type\": \"scatter\", \"x\": [\"2021-week_33\", \"2021-week_34\", \"2021-week_35\", \"2021-week_36\", \"2021-week_37\", \"2021-week_38\", \"2021-week_39\", \"2021-week_40\", \"2021-week_41\", \"2021-week_42\", \"2021-week_43\", \"2021-week_44\", \"2021-week_45\", \"2021-week_46\", \"2021-week_47\", \"2021-week_48\", \"2021-week_49\", \"2021-week_50\", \"2021-week_51\", \"2022-week_01\", \"2022-week_02\", \"2022-week_03\", \"2022-week_04\", \"2022-week_05\", \"2022-week_06\", \"2022-week_52\"], \"xaxis\": \"x\", \"y\": [0.8877705083039759, 0.8764353469795307, 0.8792064289301859, 0.8891402714932126, 0.8701005025125628, 0.8526315789473684, 0.8711855927963982, 0.8758465011286681, 0.8694889779559118, 0.8606393606393606, 0.8625782227784731, 0.8457300275482094, 0.8796296296296297, 0.8788485607008761, 0.8475212819228843, 0.8476309226932668, 0.8555332999499249, 0.8476572287647206, 0.8230730730730731, 0.8306310800698429, 0.8366533864541833, 0.8326212616235235, 0.8304576144036009, 0.8359179589794897, 0.8401803607214429, 0.8359179589794897], \"yaxis\": \"y\"}],                        {\"height\": 500, \"legend\": {\"title\": {\"text\": \"region\"}, \"tracegroupgap\": 0}, \"template\": {\"data\": {\"pie\": [{\"automargin\": true, \"type\": \"pie\"}]}, \"layout\": {\"xaxis\": {\"showgrid\": true, \"title\": {\"standoff\": 15}}, \"yaxis\": {\"showgrid\": true, \"title\": {\"standoff\": 15}}}}, \"title\": {\"text\": \"Success rate per region\", \"x\": 0.5}, \"xaxis\": {\"anchor\": \"y\", \"domain\": [0.0, 1.0], \"title\": {\"text\": \"week_id\"}}, \"yaxis\": {\"anchor\": \"x\", \"domain\": [0.0, 1.0], \"title\": {\"text\": \"Success_rate\"}}},                        {\"responsive\": true}                    ).then(function(){\n",
       "                            \n",
       "var gd = document.getElementById('32261b76-eb75-499b-99b1-d1e45facf405');\n",
       "var x = new MutationObserver(function (mutations, observer) {{\n",
       "        var display = window.getComputedStyle(gd).display;\n",
       "        if (!display || display === 'none') {{\n",
       "            console.log([gd, 'removed!']);\n",
       "            Plotly.purge(gd);\n",
       "            observer.disconnect();\n",
       "        }}\n",
       "}});\n",
       "\n",
       "// Listen for the removal of the full notebook cells\n",
       "var notebookContainer = gd.closest('#notebook-container');\n",
       "if (notebookContainer) {{\n",
       "    x.observe(notebookContainer, {childList: true});\n",
       "}}\n",
       "\n",
       "// Listen for the clearing of the current output cell\n",
       "var outputEl = gd.closest('.output');\n",
       "if (outputEl) {{\n",
       "    x.observe(outputEl, {childList: true});\n",
       "}}\n",
       "\n",
       "                        })                };                });            </script>        </div>"
      ]
     },
     "metadata": {},
     "output_type": "display_data"
    }
   ],
   "source": []
  },
  {
   "cell_type": "markdown",
   "id": "f417703c-0d93-4aee-8a3c-24d6c9e66978",
   "metadata": {},
   "source": [
    "Produce the following requestser proportion graph:"
   ]
  },
  {
   "cell_type": "code",
   "execution_count": 103,
   "id": "5d89892f-ca63-4273-b917-2c0d4ef91a79",
   "metadata": {},
   "outputs": [
    {
     "data": {
      "application/vnd.plotly.v1+json": {
       "config": {
        "linkText": "Export to plot.ly",
        "plotlyServerURL": "https://plot.ly",
        "showLink": true
       },
       "data": [
        {
         "marker": {
          "color": "rgba(255, 153, 51, 0.6)",
          "line": {
           "color": "rgba(255, 153, 51, 1.0)",
           "width": 1
          }
         },
         "name": "Allthetopbananas.com",
         "orientation": "v",
         "text": "",
         "type": "bar",
         "x": [
          "2021-week_33",
          "2021-week_34",
          "2021-week_35",
          "2021-week_36",
          "2021-week_37",
          "2021-week_38",
          "2021-week_39",
          "2021-week_40",
          "2021-week_41",
          "2021-week_42",
          "2021-week_43",
          "2021-week_44",
          "2021-week_45",
          "2021-week_46",
          "2021-week_47",
          "2021-week_48",
          "2021-week_49",
          "2021-week_50",
          "2021-week_51",
          "2022-week_01",
          "2022-week_02",
          "2022-week_03",
          "2022-week_04",
          "2022-week_05",
          "2022-week_06",
          "2022-week_52"
         ],
         "y": [
          0.0004876010030649206,
          0.00020875374017117806,
          0.0004870242816391846,
          0.0009728978457261987,
          0.000764313507504169,
          0.0009758137589740016,
          0.000416204217536071,
          0.0009718172983479105,
          0.0006954102920723226,
          0.0002782415136338342,
          0.00020881186051367718,
          0.0006993496048674732,
          0.00110803324099723,
          0.0007665505226480836,
          0.00034717400361060965,
          0.0004859761177450708,
          0.0005579967915184488,
          0.0005554012774229381,
          0.00046856696602889497,
          0.0004171011470281543,
          0.0004853359217915829,
          0.0005587762799469162,
          0.0005568316280364725,
          0.00034814092744743074,
          0.00027799013135033706,
          0.0008788449466415569
         ]
        },
        {
         "marker": {
          "color": "rgba(55, 128, 191, 0.6)",
          "line": {
           "color": "rgba(55, 128, 191, 1.0)",
           "width": 1
          }
         },
         "name": "Altammune",
         "orientation": "v",
         "text": "",
         "type": "bar",
         "x": [
          "2021-week_33",
          "2021-week_34",
          "2021-week_35",
          "2021-week_36",
          "2021-week_37",
          "2021-week_38",
          "2021-week_39",
          "2021-week_40",
          "2021-week_41",
          "2021-week_42",
          "2021-week_43",
          "2021-week_44",
          "2021-week_45",
          "2021-week_46",
          "2021-week_47",
          "2021-week_48",
          "2021-week_49",
          "2021-week_50",
          "2021-week_51",
          "2022-week_01",
          "2022-week_02",
          "2022-week_03",
          "2022-week_04",
          "2022-week_05",
          "2022-week_06",
          "2022-week_52"
         ],
         "y": [
          "",
          "",
          6.957489737702637e-05,
          "",
          "",
          6.970098278385725e-05,
          "",
          0.00013883104262113008,
          "",
          6.956037840845854e-05,
          "",
          "",
          "",
          "",
          "",
          "",
          "",
          "",
          "",
          "",
          "",
          "",
          "",
          "",
          "",
          ""
         ]
        },
        {
         "marker": {
          "color": "rgba(50, 171, 96, 0.6)",
          "line": {
           "color": "rgba(50, 171, 96, 1.0)",
           "width": 1
          }
         },
         "name": "Bizanga",
         "orientation": "v",
         "text": "",
         "type": "bar",
         "x": [
          "2021-week_33",
          "2021-week_34",
          "2021-week_35",
          "2021-week_36",
          "2021-week_37",
          "2021-week_38",
          "2021-week_39",
          "2021-week_40",
          "2021-week_41",
          "2021-week_42",
          "2021-week_43",
          "2021-week_44",
          "2021-week_45",
          "2021-week_46",
          "2021-week_47",
          "2021-week_48",
          "2021-week_49",
          "2021-week_50",
          "2021-week_51",
          "2022-week_01",
          "2022-week_02",
          "2022-week_03",
          "2022-week_04",
          "2022-week_05",
          "2022-week_06",
          "2022-week_52"
         ],
         "y": [
          0.007174700473669545,
          0.006888873425648877,
          0.005705141584916162,
          0.005281445448227936,
          0.005350194552529183,
          0.005436676657140866,
          0.004786348501664817,
          0.004442593363876163,
          0.005980528511821975,
          0.006886477462437396,
          0.004941880698823693,
          0.004126162668718092,
          0.004224376731301939,
          0.006202090592334495,
          0.007082349673656437,
          0.006248264371008053,
          0.0076724558833786705,
          0.006803665648430992,
          0.006794221007418977,
          0.007438303788668752,
          0.006378700686403661,
          0.004540057274568694,
          0.003758613489246189,
          0.0034117810889848213,
          0.003891861838904719,
          0.006089139987445072
         ]
        },
        {
         "marker": {
          "color": "rgba(128, 0, 128, 0.6)",
          "line": {
           "color": "rgba(128, 0, 128, 1.0)",
           "width": 1
          }
         },
         "name": "Crescendo Networks",
         "orientation": "v",
         "text": "",
         "type": "bar",
         "x": [
          "2021-week_33",
          "2021-week_34",
          "2021-week_35",
          "2021-week_36",
          "2021-week_37",
          "2021-week_38",
          "2021-week_39",
          "2021-week_40",
          "2021-week_41",
          "2021-week_42",
          "2021-week_43",
          "2021-week_44",
          "2021-week_45",
          "2021-week_46",
          "2021-week_47",
          "2021-week_48",
          "2021-week_49",
          "2021-week_50",
          "2021-week_51",
          "2022-week_01",
          "2022-week_02",
          "2022-week_03",
          "2022-week_04",
          "2022-week_05",
          "2022-week_06",
          "2022-week_52"
         ],
         "y": [
          0.0030649205906937865,
          0.0057059355646788676,
          0.00480066791901482,
          0.007366226546212648,
          0.006183991106170094,
          0.006482191398898725,
          0.0054106548279689234,
          0.017700957934194086,
          0.006397774687065368,
          0.0034084585420144685,
          0.004106633256768985,
          0.004685642352612071,
          0.0033240997229916896,
          0.010871080139372822,
          0.003749479238994584,
          0.003748958622604832,
          0.004463974332147591,
          0.003957234101638433,
          0.006247559547051933,
          0.0026416405978449773,
          0.0033973514525410804,
          0.002584340294754488,
          0.0030625739542005986,
          0.003342152903495335,
          0.002084925985127528,
          0.005712492153170119
         ]
        },
        {
         "marker": {
          "color": "rgba(219, 64, 82, 0.6)",
          "line": {
           "color": "rgba(219, 64, 82, 1.0)",
           "width": 1
          }
         },
         "name": "Cue",
         "orientation": "v",
         "text": "",
         "type": "bar",
         "x": [
          "2021-week_33",
          "2021-week_34",
          "2021-week_35",
          "2021-week_36",
          "2021-week_37",
          "2021-week_38",
          "2021-week_39",
          "2021-week_40",
          "2021-week_41",
          "2021-week_42",
          "2021-week_43",
          "2021-week_44",
          "2021-week_45",
          "2021-week_46",
          "2021-week_47",
          "2021-week_48",
          "2021-week_49",
          "2021-week_50",
          "2021-week_51",
          "2022-week_01",
          "2022-week_02",
          "2022-week_03",
          "2022-week_04",
          "2022-week_05",
          "2022-week_06",
          "2022-week_52"
         ],
         "y": [
          "",
          6.958458005705935e-05,
          "",
          "",
          "",
          0.0001394019655677145,
          "",
          6.941552131056504e-05,
          "",
          "",
          "",
          "",
          "",
          "",
          "",
          "",
          "",
          "",
          "",
          "",
          "",
          "",
          "",
          "",
          "",
          ""
         ]
        },
        {
         "marker": {
          "color": "rgba(0, 128, 128, 0.6)",
          "line": {
           "color": "rgba(0, 128, 128, 1.0)",
           "width": 1
          }
         },
         "name": "Cuiker",
         "orientation": "v",
         "text": "",
         "type": "bar",
         "x": [
          "2021-week_33",
          "2021-week_34",
          "2021-week_35",
          "2021-week_36",
          "2021-week_37",
          "2021-week_38",
          "2021-week_39",
          "2021-week_40",
          "2021-week_41",
          "2021-week_42",
          "2021-week_43",
          "2021-week_44",
          "2021-week_45",
          "2021-week_46",
          "2021-week_47",
          "2021-week_48",
          "2021-week_49",
          "2021-week_50",
          "2021-week_51",
          "2022-week_01",
          "2022-week_02",
          "2022-week_03",
          "2022-week_04",
          "2022-week_05",
          "2022-week_06",
          "2022-week_52"
         ],
         "y": [
          6.965728615213152e-05,
          6.958458005705935e-05,
          6.957489737702637e-05,
          6.949270326615705e-05,
          "",
          "",
          "",
          "",
          6.954102920723227e-05,
          6.956037840845854e-05,
          6.960395350455906e-05,
          "",
          6.925207756232688e-05,
          6.968641114982578e-05,
          0.00013886960144424384,
          "",
          0.0002092487968194183,
          0.00013885031935573453,
          7.809449433814917e-05,
          6.951685783802571e-05,
          6.933370311308327e-05,
          6.984703499336453e-05,
          "",
          "",
          6.949753283758427e-05,
          6.277463904582549e-05
         ]
        },
        {
         "marker": {
          "color": "rgba(255, 255, 51, 0.6)",
          "line": {
           "color": "rgba(255, 255, 51, 1.0)",
           "width": 1
          }
         },
         "name": "Derceto",
         "orientation": "v",
         "text": "",
         "type": "bar",
         "x": [
          "2021-week_33",
          "2021-week_34",
          "2021-week_35",
          "2021-week_36",
          "2021-week_37",
          "2021-week_38",
          "2021-week_39",
          "2021-week_40",
          "2021-week_41",
          "2021-week_42",
          "2021-week_43",
          "2021-week_44",
          "2021-week_45",
          "2021-week_46",
          "2021-week_47",
          "2021-week_48",
          "2021-week_49",
          "2021-week_50",
          "2021-week_51",
          "2022-week_01",
          "2022-week_02",
          "2022-week_03",
          "2022-week_04",
          "2022-week_05",
          "2022-week_06",
          "2022-week_52"
         ],
         "y": [
          "",
          "",
          "",
          "",
          6.948304613674263e-05,
          "",
          "",
          "",
          "",
          "",
          "",
          "",
          "",
          "",
          "",
          "",
          "",
          "",
          "",
          "",
          "",
          "",
          "",
          "",
          "",
          ""
         ]
        },
        {
         "marker": {
          "color": "rgba(128, 128, 0, 0.6)",
          "line": {
           "color": "rgba(128, 128, 0, 1.0)",
           "width": 1
          }
         },
         "name": "Doctorfun Entertainment, Ltd",
         "orientation": "v",
         "text": "",
         "type": "bar",
         "x": [
          "2021-week_33",
          "2021-week_34",
          "2021-week_35",
          "2021-week_36",
          "2021-week_37",
          "2021-week_38",
          "2021-week_39",
          "2021-week_40",
          "2021-week_41",
          "2021-week_42",
          "2021-week_43",
          "2021-week_44",
          "2021-week_45",
          "2021-week_46",
          "2021-week_47",
          "2021-week_48",
          "2021-week_49",
          "2021-week_50",
          "2021-week_51",
          "2022-week_01",
          "2022-week_02",
          "2022-week_03",
          "2022-week_04",
          "2022-week_05",
          "2022-week_06",
          "2022-week_52"
         ],
         "y": [
          "",
          "",
          0.0002782995895081055,
          0.00048644892286309936,
          0.0009032795997776543,
          0.0010455147417578587,
          0.0012486126526082132,
          0.0009718172983479105,
          0.0012517385257301808,
          0.0017390094602114635,
          0.0009744553490638268,
          0.0009091544863277152,
          6.925207756232688e-05,
          6.968641114982578e-05,
          "",
          0.00013885031935573453,
          0.0002092487968194183,
          "",
          7.809449433814917e-05,
          6.951685783802571e-05,
          0.0004853359217915829,
          0.0007683173849270099,
          0.0008352474420547087,
          0.0007659100403843476,
          0.0008339703940510112,
          6.277463904582549e-05
         ]
        },
        {
         "marker": {
          "color": "rgba(251, 128, 114, 0.6)",
          "line": {
           "color": "rgba(251, 128, 114, 1.0)",
           "width": 1
          }
         },
         "name": "Earth Networks",
         "orientation": "v",
         "text": "",
         "type": "bar",
         "x": [
          "2021-week_33",
          "2021-week_34",
          "2021-week_35",
          "2021-week_36",
          "2021-week_37",
          "2021-week_38",
          "2021-week_39",
          "2021-week_40",
          "2021-week_41",
          "2021-week_42",
          "2021-week_43",
          "2021-week_44",
          "2021-week_45",
          "2021-week_46",
          "2021-week_47",
          "2021-week_48",
          "2021-week_49",
          "2021-week_50",
          "2021-week_51",
          "2022-week_01",
          "2022-week_02",
          "2022-week_03",
          "2022-week_04",
          "2022-week_05",
          "2022-week_06",
          "2022-week_52"
         ],
         "y": [
          "",
          "",
          6.957489737702637e-05,
          0.0001389854065323141,
          "",
          "",
          "",
          "",
          6.954102920723227e-05,
          "",
          "",
          "",
          "",
          "",
          "",
          "",
          "",
          "",
          "",
          "",
          "",
          "",
          "",
          "",
          "",
          ""
         ]
        },
        {
         "marker": {
          "color": "rgba(128, 177, 211, 0.6)",
          "line": {
           "color": "rgba(128, 177, 211, 1.0)",
           "width": 1
          }
         },
         "name": "Extreme DA",
         "orientation": "v",
         "text": "",
         "type": "bar",
         "x": [
          "2021-week_33",
          "2021-week_34",
          "2021-week_35",
          "2021-week_36",
          "2021-week_37",
          "2021-week_38",
          "2021-week_39",
          "2021-week_40",
          "2021-week_41",
          "2021-week_42",
          "2021-week_43",
          "2021-week_44",
          "2021-week_45",
          "2021-week_46",
          "2021-week_47",
          "2021-week_48",
          "2021-week_49",
          "2021-week_50",
          "2021-week_51",
          "2022-week_01",
          "2022-week_02",
          "2022-week_03",
          "2022-week_04",
          "2022-week_05",
          "2022-week_06",
          "2022-week_52"
         ],
         "y": [
          0.03517692950682642,
          0.08892909331292186,
          0.09601335838029638,
          0.09263377345378736,
          0.0883129516397999,
          0.14776608350177736,
          0.170019422863485,
          0.1646536165486603,
          0.1588317107093185,
          0.14322481914301613,
          0.15653929143175332,
          0.16791384012868033,
          0.18421052631578946,
          0.19658536585365854,
          0.20844327176781002,
          0.18286587059150236,
          0.12582827648741018,
          0.13843376839766733,
          0.21288559156579462,
          0.20208550573514078,
          0.19663038202870414,
          0.17531605783334497,
          0.16906800306257394,
          0.17156384904609387,
          0.16686357634303983,
          0.16064030131826743
         ]
        },
        {
         "marker": {
          "color": "rgba(128, 177, 211, 0.6)",
          "line": {
           "color": "rgba(128, 177, 211, 0.8999999999999999)",
           "width": 1
          }
         },
         "name": "Fancy",
         "orientation": "v",
         "text": "",
         "type": "bar",
         "x": [
          "2021-week_33",
          "2021-week_34",
          "2021-week_35",
          "2021-week_36",
          "2021-week_37",
          "2021-week_38",
          "2021-week_39",
          "2021-week_40",
          "2021-week_41",
          "2021-week_42",
          "2021-week_43",
          "2021-week_44",
          "2021-week_45",
          "2021-week_46",
          "2021-week_47",
          "2021-week_48",
          "2021-week_49",
          "2021-week_50",
          "2021-week_51",
          "2022-week_01",
          "2022-week_02",
          "2022-week_03",
          "2022-week_04",
          "2022-week_05",
          "2022-week_06",
          "2022-week_52"
         ],
         "y": [
          0.06485093340763444,
          0.05260594252313687,
          0.06129548458916023,
          0.0739402362751911,
          0.0821289605336298,
          0.08106224297762599,
          0.07450055493895671,
          0.08322921005136749,
          0.10069541029207232,
          0.07957707289927657,
          0.08561286281060765,
          0.0904259039093643,
          0.09217451523545707,
          0.0713588850174216,
          0.039786140813775864,
          0.07025826159400167,
          0.11494733905280044,
          0.11170508192168842,
          0.09160484185864896,
          0.06743135210288495,
          0.0704430423628926,
          0.09170915694628763,
          0.12382543328461057,
          0.13681938448684028,
          0.15671693654875252,
          0.08242310106716887
         ]
        },
        {
         "marker": {
          "color": "rgba(255, 153, 51, 0.6)",
          "line": {
           "color": "rgba(255, 153, 51, 0.8999999999999999)",
           "width": 1
          }
         },
         "name": "FlagTap",
         "orientation": "v",
         "text": "",
         "type": "bar",
         "x": [
          "2021-week_33",
          "2021-week_34",
          "2021-week_35",
          "2021-week_36",
          "2021-week_37",
          "2021-week_38",
          "2021-week_39",
          "2021-week_40",
          "2021-week_41",
          "2021-week_42",
          "2021-week_43",
          "2021-week_44",
          "2021-week_45",
          "2021-week_46",
          "2021-week_47",
          "2021-week_48",
          "2021-week_49",
          "2021-week_50",
          "2021-week_51",
          "2022-week_01",
          "2022-week_02",
          "2022-week_03",
          "2022-week_04",
          "2022-week_05",
          "2022-week_06",
          "2022-week_52"
         ],
         "y": [
          0.00013931457230426304,
          "",
          "",
          "",
          "",
          "",
          "",
          "",
          "",
          "",
          "",
          "",
          "",
          "",
          "",
          "",
          "",
          "",
          "",
          "",
          "",
          "",
          "",
          "",
          "",
          ""
         ]
        },
        {
         "marker": {
          "color": "rgba(55, 128, 191, 0.6)",
          "line": {
           "color": "rgba(55, 128, 191, 0.8999999999999999)",
           "width": 1
          }
         },
         "name": "Fry Multimedia",
         "orientation": "v",
         "text": "",
         "type": "bar",
         "x": [
          "2021-week_33",
          "2021-week_34",
          "2021-week_35",
          "2021-week_36",
          "2021-week_37",
          "2021-week_38",
          "2021-week_39",
          "2021-week_40",
          "2021-week_41",
          "2021-week_42",
          "2021-week_43",
          "2021-week_44",
          "2021-week_45",
          "2021-week_46",
          "2021-week_47",
          "2021-week_48",
          "2021-week_49",
          "2021-week_50",
          "2021-week_51",
          "2022-week_01",
          "2022-week_02",
          "2022-week_03",
          "2022-week_04",
          "2022-week_05",
          "2022-week_06",
          "2022-week_52"
         ],
         "y": [
          0.01567288938422959,
          0.017744067914550136,
          0.017950323523272804,
          0.01716469770674079,
          0.017857142857142856,
          0.01575242210915174,
          0.014567147613762486,
          0.018256282104678605,
          0.0196105702364395,
          0.0134251530328325,
          0.012111087909793277,
          0.01258829288761452,
          0.010110803324099723,
          0.00975609756097561,
          0.011803916122760728,
          0.014509858372674257,
          0.012624677408104903,
          0.009233546237156345,
          0.01101132370167903,
          0.016336461591936045,
          0.016501421340913817,
          0.014178948103653,
          0.012041483956288717,
          0.009956830524996518,
          0.012162068246577246,
          0.006528562460765851
         ]
        },
        {
         "marker": {
          "color": "rgba(50, 171, 96, 0.6)",
          "line": {
           "color": "rgba(50, 171, 96, 0.8999999999999999)",
           "width": 1
          }
         },
         "name": "G-mode",
         "orientation": "v",
         "text": "",
         "type": "bar",
         "x": [
          "2021-week_33",
          "2021-week_34",
          "2021-week_35",
          "2021-week_36",
          "2021-week_37",
          "2021-week_38",
          "2021-week_39",
          "2021-week_40",
          "2021-week_41",
          "2021-week_42",
          "2021-week_43",
          "2021-week_44",
          "2021-week_45",
          "2021-week_46",
          "2021-week_47",
          "2021-week_48",
          "2021-week_49",
          "2021-week_50",
          "2021-week_51",
          "2022-week_01",
          "2022-week_02",
          "2022-week_03",
          "2022-week_04",
          "2022-week_05",
          "2022-week_06",
          "2022-week_52"
         ],
         "y": [
          0.0026469768737809973,
          0.0026442140421682556,
          0.0030612954845891604,
          0.005628908964558721,
          0.005350194552529183,
          0.002997142259705862,
          0.004786348501664817,
          0.004928502013050118,
          0.005563282336578581,
          0.0025041736227045075,
          0.0021577225586413306,
          0.002587593538009651,
          0.004293628808864266,
          0.0029965156794425087,
          0.002846826829606999,
          0.0036101083032490976,
          0.00411522633744856,
          0.002360455429047487,
          0.004607575165950801,
          0.0022940563086548487,
          0.003328017749427997,
          0.002374799189774394,
          0.0027841581401823624,
          0.002297730121153043,
          0.0014594481895892695,
          0.004331450094161958
         ]
        },
        {
         "marker": {
          "color": "rgba(128, 0, 128, 0.6)",
          "line": {
           "color": "rgba(128, 0, 128, 0.8999999999999999)",
           "width": 1
          }
         },
         "name": "Glory Medical",
         "orientation": "v",
         "text": "",
         "type": "bar",
         "x": [
          "2021-week_33",
          "2021-week_34",
          "2021-week_35",
          "2021-week_36",
          "2021-week_37",
          "2021-week_38",
          "2021-week_39",
          "2021-week_40",
          "2021-week_41",
          "2021-week_42",
          "2021-week_43",
          "2021-week_44",
          "2021-week_45",
          "2021-week_46",
          "2021-week_47",
          "2021-week_48",
          "2021-week_49",
          "2021-week_50",
          "2021-week_51",
          "2022-week_01",
          "2022-week_02",
          "2022-week_03",
          "2022-week_04",
          "2022-week_05",
          "2022-week_06",
          "2022-week_52"
         ],
         "y": [
          0.0034132070214544443,
          0.0007654303806276529,
          0.00013914979475405275,
          0.0006254343293954135,
          0.0002084491384102279,
          0.00034850491391928625,
          0.0002081021087680355,
          0.00020824656393169514,
          6.954102920723227e-05,
          6.956037840845854e-05,
          6.960395350455906e-05,
          0.0003496748024337366,
          "",
          0.00013937282229965157,
          0.00020830440216636578,
          0.00027770063871146905,
          0.0004184975936388366,
          0.0003471257983893363,
          0.00031237797735259666,
          0.00013903371567605143,
          0.00013866740622616653,
          6.984703499336453e-05,
          "",
          0.0001392563709789723,
          "",
          6.277463904582549e-05
         ]
        },
        {
         "marker": {
          "color": "rgba(219, 64, 82, 0.6)",
          "line": {
           "color": "rgba(219, 64, 82, 0.8999999999999999)",
           "width": 1
          }
         },
         "name": "Joules Clothing",
         "orientation": "v",
         "text": "",
         "type": "bar",
         "x": [
          "2021-week_33",
          "2021-week_34",
          "2021-week_35",
          "2021-week_36",
          "2021-week_37",
          "2021-week_38",
          "2021-week_39",
          "2021-week_40",
          "2021-week_41",
          "2021-week_42",
          "2021-week_43",
          "2021-week_44",
          "2021-week_45",
          "2021-week_46",
          "2021-week_47",
          "2021-week_48",
          "2021-week_49",
          "2021-week_50",
          "2021-week_51",
          "2022-week_01",
          "2022-week_02",
          "2022-week_03",
          "2022-week_04",
          "2022-week_05",
          "2022-week_06",
          "2022-week_52"
         ],
         "y": [
          0.00027862914460852607,
          6.958458005705935e-05,
          0.00034787448688513185,
          0.00020847810979847116,
          "",
          6.970098278385725e-05,
          "",
          "",
          6.954102920723227e-05,
          0.0001391207568169171,
          "",
          0.00020980488146024197,
          6.925207756232688e-05,
          0.00013937282229965157,
          6.943480072212192e-05,
          "",
          "",
          "",
          "",
          "",
          6.933370311308327e-05,
          "",
          "",
          "",
          "",
          ""
         ]
        },
        {
         "marker": {
          "color": "rgba(0, 128, 128, 0.6)",
          "line": {
           "color": "rgba(0, 128, 128, 0.8999999999999999)",
           "width": 1
          }
         },
         "name": "Jun Group",
         "orientation": "v",
         "text": "",
         "type": "bar",
         "x": [
          "2021-week_33",
          "2021-week_34",
          "2021-week_35",
          "2021-week_36",
          "2021-week_37",
          "2021-week_38",
          "2021-week_39",
          "2021-week_40",
          "2021-week_41",
          "2021-week_42",
          "2021-week_43",
          "2021-week_44",
          "2021-week_45",
          "2021-week_46",
          "2021-week_47",
          "2021-week_48",
          "2021-week_49",
          "2021-week_50",
          "2021-week_51",
          "2022-week_01",
          "2022-week_02",
          "2022-week_03",
          "2022-week_04",
          "2022-week_05",
          "2022-week_06",
          "2022-week_52"
         ],
         "y": [
          "",
          "",
          "",
          "",
          "",
          "",
          "",
          "",
          "",
          "",
          "",
          6.993496048674733e-05,
          "",
          "",
          "",
          "",
          "",
          "",
          7.809449433814917e-05,
          "",
          "",
          "",
          0.00013920790700911812,
          "",
          "",
          ""
         ]
        },
        {
         "marker": {
          "color": "rgba(255, 255, 51, 0.6)",
          "line": {
           "color": "rgba(255, 255, 51, 0.8999999999999999)",
           "width": 1
          }
         },
         "name": "LocalVox Media",
         "orientation": "v",
         "text": "",
         "type": "bar",
         "x": [
          "2021-week_33",
          "2021-week_34",
          "2021-week_35",
          "2021-week_36",
          "2021-week_37",
          "2021-week_38",
          "2021-week_39",
          "2021-week_40",
          "2021-week_41",
          "2021-week_42",
          "2021-week_43",
          "2021-week_44",
          "2021-week_45",
          "2021-week_46",
          "2021-week_47",
          "2021-week_48",
          "2021-week_49",
          "2021-week_50",
          "2021-week_51",
          "2022-week_01",
          "2022-week_02",
          "2022-week_03",
          "2022-week_04",
          "2022-week_05",
          "2022-week_06",
          "2022-week_52"
         ],
         "y": [
          0.015254945667316801,
          0.020875374017117806,
          0.01551520211507688,
          0.01535788742182071,
          0.01764869371873263,
          0.015961525057503312,
          0.013665371809100999,
          0.016034985422740525,
          0.015716272600834493,
          0.011268781302170284,
          0.009396533723115472,
          0.014546471781243443,
          0.017243767313019392,
          0.016445993031358887,
          0.017914178586307457,
          0.01825881699527909,
          0.02218037246285834,
          0.016870313801721742,
          0.01663412729402577,
          0.016127911018421967,
          0.01504541357553907,
          0.011175525598938325,
          0.0119022760492796,
          0.011001253307338811,
          0.010146639794287303,
          0.021468926553672316
         ]
        },
        {
         "marker": {
          "color": "rgba(128, 128, 0, 0.6)",
          "line": {
           "color": "rgba(128, 128, 0, 0.8999999999999999)",
           "width": 1
          }
         },
         "name": "Marketo Japan",
         "orientation": "v",
         "text": "",
         "type": "bar",
         "x": [
          "2021-week_33",
          "2021-week_34",
          "2021-week_35",
          "2021-week_36",
          "2021-week_37",
          "2021-week_38",
          "2021-week_39",
          "2021-week_40",
          "2021-week_41",
          "2021-week_42",
          "2021-week_43",
          "2021-week_44",
          "2021-week_45",
          "2021-week_46",
          "2021-week_47",
          "2021-week_48",
          "2021-week_49",
          "2021-week_50",
          "2021-week_51",
          "2022-week_01",
          "2022-week_02",
          "2022-week_03",
          "2022-week_04",
          "2022-week_05",
          "2022-week_06",
          "2022-week_52"
         ],
         "y": [
          "",
          "",
          "",
          "",
          6.948304613674263e-05,
          "",
          "",
          "",
          "",
          "",
          "",
          "",
          "",
          "",
          "",
          "",
          "",
          "",
          "",
          "",
          "",
          "",
          "",
          "",
          "",
          ""
         ]
        },
        {
         "marker": {
          "color": "rgba(251, 128, 114, 0.6)",
          "line": {
           "color": "rgba(251, 128, 114, 0.8999999999999999)",
           "width": 1
          }
         },
         "name": "Metranome",
         "orientation": "v",
         "text": "",
         "type": "bar",
         "x": [
          "2021-week_33",
          "2021-week_34",
          "2021-week_35",
          "2021-week_36",
          "2021-week_37",
          "2021-week_38",
          "2021-week_39",
          "2021-week_40",
          "2021-week_41",
          "2021-week_42",
          "2021-week_43",
          "2021-week_44",
          "2021-week_45",
          "2021-week_46",
          "2021-week_47",
          "2021-week_48",
          "2021-week_49",
          "2021-week_50",
          "2021-week_51",
          "2022-week_01",
          "2022-week_02",
          "2022-week_03",
          "2022-week_04",
          "2022-week_05",
          "2022-week_06",
          "2022-week_52"
         ],
         "y": [
          0.00027862914460852607,
          0.00020875374017117806,
          0.0002782995895081055,
          0.00034746351633078526,
          6.948304613674263e-05,
          6.970098278385725e-05,
          0.00013873473917869035,
          0.00013883104262113008,
          "",
          "",
          "",
          6.993496048674733e-05,
          "",
          6.968641114982578e-05,
          "",
          "",
          0.0001394991978796122,
          0.00013885031935573453,
          7.809449433814917e-05,
          "",
          "",
          "",
          0.00013920790700911812,
          6.962818548948615e-05,
          6.949753283758427e-05,
          6.277463904582549e-05
         ]
        },
        {
         "marker": {
          "color": "rgba(251, 128, 114, 0.6)",
          "line": {
           "color": "rgba(251, 128, 114, 0.7999999999999998)",
           "width": 1
          }
         },
         "name": "Mission Street Manufacturing",
         "orientation": "v",
         "text": "",
         "type": "bar",
         "x": [
          "2021-week_33",
          "2021-week_34",
          "2021-week_35",
          "2021-week_36",
          "2021-week_37",
          "2021-week_38",
          "2021-week_39",
          "2021-week_40",
          "2021-week_41",
          "2021-week_42",
          "2021-week_43",
          "2021-week_44",
          "2021-week_45",
          "2021-week_46",
          "2021-week_47",
          "2021-week_48",
          "2021-week_49",
          "2021-week_50",
          "2021-week_51",
          "2022-week_01",
          "2022-week_02",
          "2022-week_03",
          "2022-week_04",
          "2022-week_05",
          "2022-week_06",
          "2022-week_52"
         ],
         "y": [
          0.0009752020061298412,
          0.0006958458005705936,
          0.0010436234606553956,
          0.00034746351633078526,
          0.0003474152306837132,
          0.0006273088450547153,
          0.000416204217536071,
          0.0003470776065528252,
          0.0004172461752433936,
          0.00041736227045075126,
          0.00041762372102735435,
          0.0009091544863277152,
          0.0006232686980609418,
          0.0005574912891986063,
          0.0005554784057769754,
          0.00041655095806720355,
          0.0009067447862174793,
          0.00041655095806720355,
          0.0003904724716907458,
          0.0003475842891901286,
          0.00020800110933924982,
          0.0004889292449535517,
          6.960395350455906e-05,
          0.00020888455646845844,
          0.0005559802627006741,
          0.00025109855618330194
         ]
        },
        {
         "marker": {
          "color": "rgba(128, 177, 211, 0.6)",
          "line": {
           "color": "rgba(128, 177, 211, 0.7999999999999998)",
           "width": 1
          }
         },
         "name": "MoJoe Brewing Company",
         "orientation": "v",
         "text": "",
         "type": "bar",
         "x": [
          "2021-week_33",
          "2021-week_34",
          "2021-week_35",
          "2021-week_36",
          "2021-week_37",
          "2021-week_38",
          "2021-week_39",
          "2021-week_40",
          "2021-week_41",
          "2021-week_42",
          "2021-week_43",
          "2021-week_44",
          "2021-week_45",
          "2021-week_46",
          "2021-week_47",
          "2021-week_48",
          "2021-week_49",
          "2021-week_50",
          "2021-week_51",
          "2022-week_01",
          "2022-week_02",
          "2022-week_03",
          "2022-week_04",
          "2022-week_05",
          "2022-week_06",
          "2022-week_52"
         ],
         "y": [
          0.09424630816383393,
          0.07890891378470531,
          0.10387532178390037,
          0.08881167477414871,
          0.09672040022234575,
          0.0759740712344044,
          0.08011931187569367,
          0.07309454394002499,
          0.05744089012517385,
          0.041666666666666664,
          0.0680030625739542,
          0.06007413105811595,
          0.056509695290858725,
          0.09874564459930314,
          0.0611026246354673,
          0.13732296584282144,
          0.0823045267489712,
          0.12454873646209386,
          0.07169074580242094,
          0.07897115050399722,
          0.08028842820495043,
          0.10169728295033875,
          0.06507969652676272,
          0.08174348976465673,
          0.06393773021057753,
          0.14055241682360325
         ]
        },
        {
         "marker": {
          "color": "rgba(255, 153, 51, 0.6)",
          "line": {
           "color": "rgba(255, 153, 51, 0.7999999999999998)",
           "width": 1
          }
         },
         "name": "Modanisa",
         "orientation": "v",
         "text": "",
         "type": "bar",
         "x": [
          "2021-week_33",
          "2021-week_34",
          "2021-week_35",
          "2021-week_36",
          "2021-week_37",
          "2021-week_38",
          "2021-week_39",
          "2021-week_40",
          "2021-week_41",
          "2021-week_42",
          "2021-week_43",
          "2021-week_44",
          "2021-week_45",
          "2021-week_46",
          "2021-week_47",
          "2021-week_48",
          "2021-week_49",
          "2021-week_50",
          "2021-week_51",
          "2022-week_01",
          "2022-week_02",
          "2022-week_03",
          "2022-week_04",
          "2022-week_05",
          "2022-week_06",
          "2022-week_52"
         ],
         "y": [
          0.009055447199777097,
          0.008141395866675945,
          0.007583663814095874,
          0.007157748436414177,
          0.006461923290717065,
          0.005854882553844009,
          0.02746947835738069,
          0.024711925586561156,
          0.026564673157162728,
          0.022746243739565943,
          0.03048653163499687,
          0.01594517099097839,
          0.006232686980609419,
          0.006480836236933798,
          0.007290654075822803,
          0.006525965009719522,
          0.006277463904582548,
          0.005762288253262983,
          0.004919953143303397,
          0.004449078901633646,
          0.003328017749427997,
          0.0034923517496682267,
          0.0027841581401823624,
          0.004108062943879683,
          0.0025714087149906178,
          0.004331450094161958
         ]
        },
        {
         "marker": {
          "color": "rgba(55, 128, 191, 0.6)",
          "line": {
           "color": "rgba(55, 128, 191, 0.7999999999999998)",
           "width": 1
          }
         },
         "name": "OpenDesks, Inc.",
         "orientation": "v",
         "text": "",
         "type": "bar",
         "x": [
          "2021-week_33",
          "2021-week_34",
          "2021-week_35",
          "2021-week_36",
          "2021-week_37",
          "2021-week_38",
          "2021-week_39",
          "2021-week_40",
          "2021-week_41",
          "2021-week_42",
          "2021-week_43",
          "2021-week_44",
          "2021-week_45",
          "2021-week_46",
          "2021-week_47",
          "2021-week_48",
          "2021-week_49",
          "2021-week_50",
          "2021-week_51",
          "2022-week_01",
          "2022-week_02",
          "2022-week_03",
          "2022-week_04",
          "2022-week_05",
          "2022-week_06",
          "2022-week_52"
         ],
         "y": [
          0.00041794371691278906,
          0.0004175074803423561,
          0.0004870242816391846,
          0.001320361362056984,
          0.0009032795997776543,
          0.0012546176901094305,
          0.00201165371809101,
          0.0023601277245592113,
          0.0018080667593880389,
          0.0019476905954368391,
          0.001113663256072945,
          0.0018882439331421778,
          0.001592797783933518,
          0.0029965156794425087,
          0.002569087626718511,
          0.0014579283532352124,
          0.0015344911766757342,
          0.0008331019161344071,
          0.002420929324482624,
          0.00145985401459854,
          0.0016640088747139985,
          0.001187399594887197,
          0.0009048513955592678,
          0.0008355382258738338,
          0.0009034679268885954,
          0.0018832391713747645
         ]
        },
        {
         "marker": {
          "color": "rgba(50, 171, 96, 0.6)",
          "line": {
           "color": "rgba(50, 171, 96, 0.7999999999999998)",
           "width": 1
          }
         },
         "name": "PageBites",
         "orientation": "v",
         "text": "",
         "type": "bar",
         "x": [
          "2021-week_33",
          "2021-week_34",
          "2021-week_35",
          "2021-week_36",
          "2021-week_37",
          "2021-week_38",
          "2021-week_39",
          "2021-week_40",
          "2021-week_41",
          "2021-week_42",
          "2021-week_43",
          "2021-week_44",
          "2021-week_45",
          "2021-week_46",
          "2021-week_47",
          "2021-week_48",
          "2021-week_49",
          "2021-week_50",
          "2021-week_51",
          "2022-week_01",
          "2022-week_02",
          "2022-week_03",
          "2022-week_04",
          "2022-week_05",
          "2022-week_06",
          "2022-week_52"
         ],
         "y": [
          0.0016021175814990248,
          0.0006958458005705936,
          0.001113198358032422,
          0.0008339124391938846,
          0.0012506948304613673,
          0.0007667108106224297,
          0.00048557158712541623,
          6.941552131056504e-05,
          0.0004867872044506259,
          0.0005564830272676684,
          0.00027841581401823624,
          0.00020980488146024197,
          "",
          "",
          "",
          "",
          "",
          "",
          "",
          "",
          0.00013866740622616653,
          0.0002095411049800936,
          0.00020881186051367718,
          0.00020888455646845844,
          0.00027799013135033706,
          ""
         ]
        },
        {
         "marker": {
          "color": "rgba(128, 0, 128, 0.6)",
          "line": {
           "color": "rgba(128, 0, 128, 0.7999999999999998)",
           "width": 1
          }
         },
         "name": "Pole Star",
         "orientation": "v",
         "text": "",
         "type": "bar",
         "x": [
          "2021-week_33",
          "2021-week_34",
          "2021-week_35",
          "2021-week_36",
          "2021-week_37",
          "2021-week_38",
          "2021-week_39",
          "2021-week_40",
          "2021-week_41",
          "2021-week_42",
          "2021-week_43",
          "2021-week_44",
          "2021-week_45",
          "2021-week_46",
          "2021-week_47",
          "2021-week_48",
          "2021-week_49",
          "2021-week_50",
          "2021-week_51",
          "2022-week_01",
          "2022-week_02",
          "2022-week_03",
          "2022-week_04",
          "2022-week_05",
          "2022-week_06",
          "2022-week_52"
         ],
         "y": [
          0.0030649205906937865,
          0.0017396145014264839,
          "",
          "",
          6.948304613674263e-05,
          6.970098278385725e-05,
          0.00013873473917869035,
          6.941552131056504e-05,
          0.0011821974965229485,
          0.00020868113522537563,
          0.00020881186051367718,
          0.0006294146443807259,
          0.0017313019390581717,
          0.0011149825783972125,
          "",
          "",
          0.0001394991978796122,
          6.942515967786726e-05,
          7.809449433814917e-05,
          0.0003475842891901286,
          0.0003466685155654163,
          0.00034923517496682265,
          0.0015312869771002993,
          0.001392563709789723,
          0.0016679407881020224,
          0.00012554927809165097
         ]
        },
        {
         "marker": {
          "color": "rgba(219, 64, 82, 0.6)",
          "line": {
           "color": "rgba(219, 64, 82, 0.7999999999999998)",
           "width": 1
          }
         },
         "name": "Puentes Company",
         "orientation": "v",
         "text": "",
         "type": "bar",
         "x": [
          "2021-week_33",
          "2021-week_34",
          "2021-week_35",
          "2021-week_36",
          "2021-week_37",
          "2021-week_38",
          "2021-week_39",
          "2021-week_40",
          "2021-week_41",
          "2021-week_42",
          "2021-week_43",
          "2021-week_44",
          "2021-week_45",
          "2021-week_46",
          "2021-week_47",
          "2021-week_48",
          "2021-week_49",
          "2021-week_50",
          "2021-week_51",
          "2022-week_01",
          "2022-week_02",
          "2022-week_03",
          "2022-week_04",
          "2022-week_05",
          "2022-week_06",
          "2022-week_52"
         ],
         "y": [
          0.09452493730844247,
          0.08197063530721592,
          0.07521046406456551,
          0.07588603196664351,
          0.07406892718176765,
          0.0683069631281801,
          0.06804938956714761,
          0.06976259891711786,
          0.08817802503477051,
          0.07206455203116305,
          0.06333959768914875,
          0.07720819637736905,
          0.10297783933518005,
          0.0932404181184669,
          0.09061241494236912,
          0.0814357123021383,
          0.09130222501220618,
          0.08497639544570952,
          0.10378758297540024,
          0.09336114007646855,
          0.09061914996879983,
          0.06635468324369631,
          0.05902415257186608,
          0.05653808661746275,
          0.0583084300507332,
          0.06936597614563716
         ]
        },
        {
         "marker": {
          "color": "rgba(0, 128, 128, 0.6)",
          "line": {
           "color": "rgba(0, 128, 128, 0.7999999999999998)",
           "width": 1
          }
         },
         "name": "PureSafe water systems",
         "orientation": "v",
         "text": "",
         "type": "bar",
         "x": [
          "2021-week_33",
          "2021-week_34",
          "2021-week_35",
          "2021-week_36",
          "2021-week_37",
          "2021-week_38",
          "2021-week_39",
          "2021-week_40",
          "2021-week_41",
          "2021-week_42",
          "2021-week_43",
          "2021-week_44",
          "2021-week_45",
          "2021-week_46",
          "2021-week_47",
          "2021-week_48",
          "2021-week_49",
          "2021-week_50",
          "2021-week_51",
          "2022-week_01",
          "2022-week_02",
          "2022-week_03",
          "2022-week_04",
          "2022-week_05",
          "2022-week_06",
          "2022-week_52"
         ],
         "y": [
          "",
          "",
          "",
          "",
          "",
          "",
          "",
          "",
          "",
          "",
          "",
          "",
          "",
          "",
          "",
          "",
          "",
          "",
          "",
          "",
          "",
          "",
          "",
          6.962818548948615e-05,
          "",
          ""
         ]
        },
        {
         "marker": {
          "color": "rgba(255, 255, 51, 0.6)",
          "line": {
           "color": "rgba(255, 255, 51, 0.7999999999999998)",
           "width": 1
          }
         },
         "name": "RelayFoods",
         "orientation": "v",
         "text": "",
         "type": "bar",
         "x": [
          "2021-week_33",
          "2021-week_34",
          "2021-week_35",
          "2021-week_36",
          "2021-week_37",
          "2021-week_38",
          "2021-week_39",
          "2021-week_40",
          "2021-week_41",
          "2021-week_42",
          "2021-week_43",
          "2021-week_44",
          "2021-week_45",
          "2021-week_46",
          "2021-week_47",
          "2021-week_48",
          "2021-week_49",
          "2021-week_50",
          "2021-week_51",
          "2022-week_01",
          "2022-week_02",
          "2022-week_03",
          "2022-week_04",
          "2022-week_05",
          "2022-week_06",
          "2022-week_52"
         ],
         "y": [
          0.10929228197269435,
          0.06297404495163872,
          0.06880957350587907,
          0.06949270326615706,
          0.06663424124513619,
          0.06754025231755768,
          0.052372364039955606,
          0.04602249062890462,
          0.05660639777468707,
          0.2598775737340011,
          0.24131690680030626,
          0.2721169312539338,
          0.3479224376731302,
          0.31679442508710803,
          0.3327315650604083,
          0.2905442932518745,
          0.32370788867964007,
          0.3126214940294363,
          0.28621632174931666,
          0.26930830726451166,
          0.2656867503293351,
          0.24760773905147726,
          0.247511658662212,
          0.22629160284082997,
          0.23650010424629925,
          0.3747018204645323
         ]
        },
        {
         "marker": {
          "color": "rgba(128, 128, 0, 0.6)",
          "line": {
           "color": "rgba(128, 128, 0, 0.7999999999999998)",
           "width": 1
          }
         },
         "name": "SOLOMO365",
         "orientation": "v",
         "text": "",
         "type": "bar",
         "x": [
          "2021-week_33",
          "2021-week_34",
          "2021-week_35",
          "2021-week_36",
          "2021-week_37",
          "2021-week_38",
          "2021-week_39",
          "2021-week_40",
          "2021-week_41",
          "2021-week_42",
          "2021-week_43",
          "2021-week_44",
          "2021-week_45",
          "2021-week_46",
          "2021-week_47",
          "2021-week_48",
          "2021-week_49",
          "2021-week_50",
          "2021-week_51",
          "2022-week_01",
          "2022-week_02",
          "2022-week_03",
          "2022-week_04",
          "2022-week_05",
          "2022-week_06",
          "2022-week_52"
         ],
         "y": [
          0.05544719977709668,
          0.06039941548952752,
          0.05976483684686565,
          0.05573314801945796,
          0.055586436909394105,
          0.05813061964173695,
          0.049944506104328525,
          0.014993752603082049,
          "",
          "",
          "",
          "",
          "",
          "",
          "",
          "",
          "",
          "",
          "",
          "",
          "",
          "",
          "",
          "",
          "",
          ""
         ]
        },
        {
         "marker": {
          "color": "rgba(128, 128, 0, 0.6)",
          "line": {
           "color": "rgba(128, 128, 0, 0.7)",
           "width": 1
          }
         },
         "name": "Search Million Culture",
         "orientation": "v",
         "text": "",
         "type": "bar",
         "x": [
          "2021-week_33",
          "2021-week_34",
          "2021-week_35",
          "2021-week_36",
          "2021-week_37",
          "2021-week_38",
          "2021-week_39",
          "2021-week_40",
          "2021-week_41",
          "2021-week_42",
          "2021-week_43",
          "2021-week_44",
          "2021-week_45",
          "2021-week_46",
          "2021-week_47",
          "2021-week_48",
          "2021-week_49",
          "2021-week_50",
          "2021-week_51",
          "2022-week_01",
          "2022-week_02",
          "2022-week_03",
          "2022-week_04",
          "2022-week_05",
          "2022-week_06",
          "2022-week_52"
         ],
         "y": [
          0.35218723878517694,
          0.39043907870016004,
          0.35030960829332775,
          0.35392633773453785,
          0.3494302390216787,
          0.33372830556910854,
          0.3140260821309656,
          0.3306261280022213,
          0.3364394993045897,
          0.25994713411240955,
          0.24110809493979257,
          0.1897335478005455,
          0.0853185595567867,
          0.09337979094076655,
          0.09665324260519373,
          0.11538461538461539,
          0.13287298598033062,
          0.12350735906692585,
          0.12526356891839124,
          0.19443865137295793,
          0.2046730915898218,
          0.23342879094782426,
          0.25440245005916334,
          0.25163626235900294,
          0.23816804503440128,
          0.0743879472693032
         ]
        },
        {
         "marker": {
          "color": "rgba(251, 128, 114, 0.6)",
          "line": {
           "color": "rgba(251, 128, 114, 0.7)",
           "width": 1
          }
         },
         "name": "Sensor Tower",
         "orientation": "v",
         "text": "",
         "type": "bar",
         "x": [
          "2021-week_33",
          "2021-week_34",
          "2021-week_35",
          "2021-week_36",
          "2021-week_37",
          "2021-week_38",
          "2021-week_39",
          "2021-week_40",
          "2021-week_41",
          "2021-week_42",
          "2021-week_43",
          "2021-week_44",
          "2021-week_45",
          "2021-week_46",
          "2021-week_47",
          "2021-week_48",
          "2021-week_49",
          "2021-week_50",
          "2021-week_51",
          "2022-week_01",
          "2022-week_02",
          "2022-week_03",
          "2022-week_04",
          "2022-week_05",
          "2022-week_06",
          "2022-week_52"
         ],
         "y": [
          0.03629144608526052,
          0.03374852132767379,
          0.031308703819661866,
          0.018763029881862403,
          0.012854363535297387,
          0.008712622847982156,
          0.0076997780244173145,
          0.006455643481882549,
          0.00674547983310153,
          0.006816917084028937,
          0.005568316280364725,
          0.005384991957479544,
          0.00574792243767313,
          0.004320557491289199,
          0.004443827246215803,
          0.005554012774229381,
          0.007463207086559252,
          0.004859761177450708,
          0.003358063256540414,
          0.003475842891901286,
          0.0029813492338625807,
          0.00447021023957533,
          0.004315445117282661,
          0.003899178387411224,
          0.004169851970255056,
          0.004205900816070308
         ]
        },
        {
         "marker": {
          "color": "rgba(128, 177, 211, 0.6)",
          "line": {
           "color": "rgba(128, 177, 211, 0.7)",
           "width": 1
          }
         },
         "name": "Tab Solutions",
         "orientation": "v",
         "text": "",
         "type": "bar",
         "x": [
          "2021-week_33",
          "2021-week_34",
          "2021-week_35",
          "2021-week_36",
          "2021-week_37",
          "2021-week_38",
          "2021-week_39",
          "2021-week_40",
          "2021-week_41",
          "2021-week_42",
          "2021-week_43",
          "2021-week_44",
          "2021-week_45",
          "2021-week_46",
          "2021-week_47",
          "2021-week_48",
          "2021-week_49",
          "2021-week_50",
          "2021-week_51",
          "2022-week_01",
          "2022-week_02",
          "2022-week_03",
          "2022-week_04",
          "2022-week_05",
          "2022-week_06",
          "2022-week_52"
         ],
         "y": [
          0.0672192811368069,
          0.054345557024563354,
          0.04981562652195088,
          0.055524669909659485,
          0.05885214007782101,
          0.04000836411793406,
          0.05292730299667037,
          0.06774954879911148,
          0.0672461752433936,
          0.047996661101836396,
          0.04719148047609104,
          0.05063291139240506,
          0.04113573407202216,
          0.014355400696864112,
          0.016594917372587142,
          0.0197167453485143,
          0.031317569923972936,
          0.02256317689530686,
          0.019992190550566186,
          0.010983663538408064,
          0.012618733966581155,
          0.01494726548858001,
          0.016565740934085055,
          0.01392563709789723,
          0.01709639307804573,
          0.013998744507219083
         ]
        },
        {
         "marker": {
          "color": "rgba(255, 153, 51, 0.6)",
          "line": {
           "color": "rgba(255, 153, 51, 0.7)",
           "width": 1
          }
         },
         "name": "VarVee",
         "orientation": "v",
         "text": "",
         "type": "bar",
         "x": [
          "2021-week_33",
          "2021-week_34",
          "2021-week_35",
          "2021-week_36",
          "2021-week_37",
          "2021-week_38",
          "2021-week_39",
          "2021-week_40",
          "2021-week_41",
          "2021-week_42",
          "2021-week_43",
          "2021-week_44",
          "2021-week_45",
          "2021-week_46",
          "2021-week_47",
          "2021-week_48",
          "2021-week_49",
          "2021-week_50",
          "2021-week_51",
          "2022-week_01",
          "2022-week_02",
          "2022-week_03",
          "2022-week_04",
          "2022-week_05",
          "2022-week_06",
          "2022-week_52"
         ],
         "y": [
          0.00229869044302034,
          0.004662166863822976,
          0.004870242816391846,
          0.006879777623349548,
          0.0074346859366314615,
          0.007179201226737297,
          0.005063817980022198,
          0.004789670970428988,
          0.005563282336578581,
          0.0023650528658875902,
          0.0029929700006960393,
          0.003217008182390377,
          0.003601108033240997,
          0.0024390243902439024,
          0.002707957228162755,
          0.0017356289919466814,
          0.0004882471925786427,
          0.0006248264371008053,
          0.00046856696602889497,
          0.00027806743135210286,
          0.0006933370311308326,
          0.0007683173849270099,
          0.0010440593025683859,
          0.0007659100403843476,
          0.0006949753283758427,
          0.0003766478342749529
         ]
        },
        {
         "marker": {
          "color": "rgba(55, 128, 191, 0.6)",
          "line": {
           "color": "rgba(55, 128, 191, 0.7)",
           "width": 1
          }
         },
         "name": "aPriori Technologies",
         "orientation": "v",
         "text": "",
         "type": "bar",
         "x": [
          "2021-week_33",
          "2021-week_34",
          "2021-week_35",
          "2021-week_36",
          "2021-week_37",
          "2021-week_38",
          "2021-week_39",
          "2021-week_40",
          "2021-week_41",
          "2021-week_42",
          "2021-week_43",
          "2021-week_44",
          "2021-week_45",
          "2021-week_46",
          "2021-week_47",
          "2021-week_48",
          "2021-week_49",
          "2021-week_50",
          "2021-week_51",
          "2022-week_01",
          "2022-week_02",
          "2022-week_03",
          "2022-week_04",
          "2022-week_05",
          "2022-week_06",
          "2022-week_52"
         ],
         "y": [
          0.002995263304541655,
          0.0029225523623964927,
          0.003965769150490503,
          0.0029881862404447534,
          0.0027098387993329627,
          0.002439534397435004,
          0.0039539400665926745,
          0.004442593363876163,
          0.0035465924895688454,
          0.002295492487479132,
          0.002853762093686921,
          0.002307853696062662,
          0.003670360110803324,
          0.005156794425087108,
          0.004999305651992779,
          0.003262982504859761,
          0.0034874799469903047,
          0.00354068314357123,
          0.004139008199921906,
          0.0032672923183872087,
          0.002010677390279415,
          0.0017461758748341133,
          0.0020881186051367718,
          0.002297730121153043,
          0.002015428452289944,
          0.0038292529817953547
         ]
        },
        {
         "marker": {
          "color": "rgba(50, 171, 96, 0.6)",
          "line": {
           "color": "rgba(50, 171, 96, 0.7)",
           "width": 1
          }
         },
         "name": "iDreamsky Technology",
         "orientation": "v",
         "text": "",
         "type": "bar",
         "x": [
          "2021-week_33",
          "2021-week_34",
          "2021-week_35",
          "2021-week_36",
          "2021-week_37",
          "2021-week_38",
          "2021-week_39",
          "2021-week_40",
          "2021-week_41",
          "2021-week_42",
          "2021-week_43",
          "2021-week_44",
          "2021-week_45",
          "2021-week_46",
          "2021-week_47",
          "2021-week_48",
          "2021-week_49",
          "2021-week_50",
          "2021-week_51",
          "2022-week_01",
          "2022-week_02",
          "2022-week_03",
          "2022-week_04",
          "2022-week_05",
          "2022-week_06",
          "2022-week_52"
         ],
         "y": [
          0.021872387851769294,
          0.021153712337346045,
          0.035761497251791556,
          0.04211257817929118,
          0.04175931072818232,
          0.05123022234613508,
          0.04557436182019978,
          0.042759961127308066,
          0.032753824756606396,
          0.018433500278241515,
          0.018932275353240064,
          0.020560878383103713,
          0.0260387811634349,
          0.04494773519163763,
          0.08734897930842939,
          0.036239933351846706,
          0.02483085722257097,
          0.02513190780338795,
          0.026395939086294416,
          0.024261383385470976,
          0.021770782777508147,
          0.01990640497310889,
          0.016356929073571377,
          0.016362623590029244,
          0.018555841267634997,
          0.02366603892027621
         ]
        }
       ],
       "layout": {
        "autosize": true,
        "barmode": "stack",
        "legend": {
         "bgcolor": "#F5F6F9",
         "font": {
          "color": "#4D5663"
         },
         "traceorder": "normal"
        },
        "paper_bgcolor": "#F5F6F9",
        "plot_bgcolor": "#F5F6F9",
        "template": {
         "data": {
          "bar": [
           {
            "error_x": {
             "color": "#2a3f5f"
            },
            "error_y": {
             "color": "#2a3f5f"
            },
            "marker": {
             "line": {
              "color": "#E5ECF6",
              "width": 0.5
             }
            },
            "type": "bar"
           }
          ],
          "barpolar": [
           {
            "marker": {
             "line": {
              "color": "#E5ECF6",
              "width": 0.5
             }
            },
            "type": "barpolar"
           }
          ],
          "carpet": [
           {
            "aaxis": {
             "endlinecolor": "#2a3f5f",
             "gridcolor": "white",
             "linecolor": "white",
             "minorgridcolor": "white",
             "startlinecolor": "#2a3f5f"
            },
            "baxis": {
             "endlinecolor": "#2a3f5f",
             "gridcolor": "white",
             "linecolor": "white",
             "minorgridcolor": "white",
             "startlinecolor": "#2a3f5f"
            },
            "type": "carpet"
           }
          ],
          "choropleth": [
           {
            "colorbar": {
             "outlinewidth": 0,
             "ticks": ""
            },
            "type": "choropleth"
           }
          ],
          "contour": [
           {
            "colorbar": {
             "outlinewidth": 0,
             "ticks": ""
            },
            "colorscale": [
             [
              0,
              "#0d0887"
             ],
             [
              0.1111111111111111,
              "#46039f"
             ],
             [
              0.2222222222222222,
              "#7201a8"
             ],
             [
              0.3333333333333333,
              "#9c179e"
             ],
             [
              0.4444444444444444,
              "#bd3786"
             ],
             [
              0.5555555555555556,
              "#d8576b"
             ],
             [
              0.6666666666666666,
              "#ed7953"
             ],
             [
              0.7777777777777778,
              "#fb9f3a"
             ],
             [
              0.8888888888888888,
              "#fdca26"
             ],
             [
              1,
              "#f0f921"
             ]
            ],
            "type": "contour"
           }
          ],
          "contourcarpet": [
           {
            "colorbar": {
             "outlinewidth": 0,
             "ticks": ""
            },
            "type": "contourcarpet"
           }
          ],
          "heatmap": [
           {
            "colorbar": {
             "outlinewidth": 0,
             "ticks": ""
            },
            "colorscale": [
             [
              0,
              "#0d0887"
             ],
             [
              0.1111111111111111,
              "#46039f"
             ],
             [
              0.2222222222222222,
              "#7201a8"
             ],
             [
              0.3333333333333333,
              "#9c179e"
             ],
             [
              0.4444444444444444,
              "#bd3786"
             ],
             [
              0.5555555555555556,
              "#d8576b"
             ],
             [
              0.6666666666666666,
              "#ed7953"
             ],
             [
              0.7777777777777778,
              "#fb9f3a"
             ],
             [
              0.8888888888888888,
              "#fdca26"
             ],
             [
              1,
              "#f0f921"
             ]
            ],
            "type": "heatmap"
           }
          ],
          "heatmapgl": [
           {
            "colorbar": {
             "outlinewidth": 0,
             "ticks": ""
            },
            "colorscale": [
             [
              0,
              "#0d0887"
             ],
             [
              0.1111111111111111,
              "#46039f"
             ],
             [
              0.2222222222222222,
              "#7201a8"
             ],
             [
              0.3333333333333333,
              "#9c179e"
             ],
             [
              0.4444444444444444,
              "#bd3786"
             ],
             [
              0.5555555555555556,
              "#d8576b"
             ],
             [
              0.6666666666666666,
              "#ed7953"
             ],
             [
              0.7777777777777778,
              "#fb9f3a"
             ],
             [
              0.8888888888888888,
              "#fdca26"
             ],
             [
              1,
              "#f0f921"
             ]
            ],
            "type": "heatmapgl"
           }
          ],
          "histogram": [
           {
            "marker": {
             "colorbar": {
              "outlinewidth": 0,
              "ticks": ""
             }
            },
            "type": "histogram"
           }
          ],
          "histogram2d": [
           {
            "colorbar": {
             "outlinewidth": 0,
             "ticks": ""
            },
            "colorscale": [
             [
              0,
              "#0d0887"
             ],
             [
              0.1111111111111111,
              "#46039f"
             ],
             [
              0.2222222222222222,
              "#7201a8"
             ],
             [
              0.3333333333333333,
              "#9c179e"
             ],
             [
              0.4444444444444444,
              "#bd3786"
             ],
             [
              0.5555555555555556,
              "#d8576b"
             ],
             [
              0.6666666666666666,
              "#ed7953"
             ],
             [
              0.7777777777777778,
              "#fb9f3a"
             ],
             [
              0.8888888888888888,
              "#fdca26"
             ],
             [
              1,
              "#f0f921"
             ]
            ],
            "type": "histogram2d"
           }
          ],
          "histogram2dcontour": [
           {
            "colorbar": {
             "outlinewidth": 0,
             "ticks": ""
            },
            "colorscale": [
             [
              0,
              "#0d0887"
             ],
             [
              0.1111111111111111,
              "#46039f"
             ],
             [
              0.2222222222222222,
              "#7201a8"
             ],
             [
              0.3333333333333333,
              "#9c179e"
             ],
             [
              0.4444444444444444,
              "#bd3786"
             ],
             [
              0.5555555555555556,
              "#d8576b"
             ],
             [
              0.6666666666666666,
              "#ed7953"
             ],
             [
              0.7777777777777778,
              "#fb9f3a"
             ],
             [
              0.8888888888888888,
              "#fdca26"
             ],
             [
              1,
              "#f0f921"
             ]
            ],
            "type": "histogram2dcontour"
           }
          ],
          "mesh3d": [
           {
            "colorbar": {
             "outlinewidth": 0,
             "ticks": ""
            },
            "type": "mesh3d"
           }
          ],
          "parcoords": [
           {
            "line": {
             "colorbar": {
              "outlinewidth": 0,
              "ticks": ""
             }
            },
            "type": "parcoords"
           }
          ],
          "pie": [
           {
            "automargin": true,
            "type": "pie"
           }
          ],
          "scatter": [
           {
            "marker": {
             "colorbar": {
              "outlinewidth": 0,
              "ticks": ""
             }
            },
            "type": "scatter"
           }
          ],
          "scatter3d": [
           {
            "line": {
             "colorbar": {
              "outlinewidth": 0,
              "ticks": ""
             }
            },
            "marker": {
             "colorbar": {
              "outlinewidth": 0,
              "ticks": ""
             }
            },
            "type": "scatter3d"
           }
          ],
          "scattercarpet": [
           {
            "marker": {
             "colorbar": {
              "outlinewidth": 0,
              "ticks": ""
             }
            },
            "type": "scattercarpet"
           }
          ],
          "scattergeo": [
           {
            "marker": {
             "colorbar": {
              "outlinewidth": 0,
              "ticks": ""
             }
            },
            "type": "scattergeo"
           }
          ],
          "scattergl": [
           {
            "marker": {
             "colorbar": {
              "outlinewidth": 0,
              "ticks": ""
             }
            },
            "type": "scattergl"
           }
          ],
          "scattermapbox": [
           {
            "marker": {
             "colorbar": {
              "outlinewidth": 0,
              "ticks": ""
             }
            },
            "type": "scattermapbox"
           }
          ],
          "scatterpolar": [
           {
            "marker": {
             "colorbar": {
              "outlinewidth": 0,
              "ticks": ""
             }
            },
            "type": "scatterpolar"
           }
          ],
          "scatterpolargl": [
           {
            "marker": {
             "colorbar": {
              "outlinewidth": 0,
              "ticks": ""
             }
            },
            "type": "scatterpolargl"
           }
          ],
          "scatterternary": [
           {
            "marker": {
             "colorbar": {
              "outlinewidth": 0,
              "ticks": ""
             }
            },
            "type": "scatterternary"
           }
          ],
          "surface": [
           {
            "colorbar": {
             "outlinewidth": 0,
             "ticks": ""
            },
            "colorscale": [
             [
              0,
              "#0d0887"
             ],
             [
              0.1111111111111111,
              "#46039f"
             ],
             [
              0.2222222222222222,
              "#7201a8"
             ],
             [
              0.3333333333333333,
              "#9c179e"
             ],
             [
              0.4444444444444444,
              "#bd3786"
             ],
             [
              0.5555555555555556,
              "#d8576b"
             ],
             [
              0.6666666666666666,
              "#ed7953"
             ],
             [
              0.7777777777777778,
              "#fb9f3a"
             ],
             [
              0.8888888888888888,
              "#fdca26"
             ],
             [
              1,
              "#f0f921"
             ]
            ],
            "type": "surface"
           }
          ],
          "table": [
           {
            "cells": {
             "fill": {
              "color": "#EBF0F8"
             },
             "line": {
              "color": "white"
             }
            },
            "header": {
             "fill": {
              "color": "#C8D4E3"
             },
             "line": {
              "color": "white"
             }
            },
            "type": "table"
           }
          ]
         },
         "layout": {
          "annotationdefaults": {
           "arrowcolor": "#2a3f5f",
           "arrowhead": 0,
           "arrowwidth": 1
          },
          "autotypenumbers": "strict",
          "coloraxis": {
           "colorbar": {
            "outlinewidth": 0,
            "ticks": ""
           }
          },
          "colorscale": {
           "diverging": [
            [
             0,
             "#8e0152"
            ],
            [
             0.1,
             "#c51b7d"
            ],
            [
             0.2,
             "#de77ae"
            ],
            [
             0.3,
             "#f1b6da"
            ],
            [
             0.4,
             "#fde0ef"
            ],
            [
             0.5,
             "#f7f7f7"
            ],
            [
             0.6,
             "#e6f5d0"
            ],
            [
             0.7,
             "#b8e186"
            ],
            [
             0.8,
             "#7fbc41"
            ],
            [
             0.9,
             "#4d9221"
            ],
            [
             1,
             "#276419"
            ]
           ],
           "sequential": [
            [
             0,
             "#0d0887"
            ],
            [
             0.1111111111111111,
             "#46039f"
            ],
            [
             0.2222222222222222,
             "#7201a8"
            ],
            [
             0.3333333333333333,
             "#9c179e"
            ],
            [
             0.4444444444444444,
             "#bd3786"
            ],
            [
             0.5555555555555556,
             "#d8576b"
            ],
            [
             0.6666666666666666,
             "#ed7953"
            ],
            [
             0.7777777777777778,
             "#fb9f3a"
            ],
            [
             0.8888888888888888,
             "#fdca26"
            ],
            [
             1,
             "#f0f921"
            ]
           ],
           "sequentialminus": [
            [
             0,
             "#0d0887"
            ],
            [
             0.1111111111111111,
             "#46039f"
            ],
            [
             0.2222222222222222,
             "#7201a8"
            ],
            [
             0.3333333333333333,
             "#9c179e"
            ],
            [
             0.4444444444444444,
             "#bd3786"
            ],
            [
             0.5555555555555556,
             "#d8576b"
            ],
            [
             0.6666666666666666,
             "#ed7953"
            ],
            [
             0.7777777777777778,
             "#fb9f3a"
            ],
            [
             0.8888888888888888,
             "#fdca26"
            ],
            [
             1,
             "#f0f921"
            ]
           ]
          },
          "colorway": [
           "#636efa",
           "#EF553B",
           "#00cc96",
           "#ab63fa",
           "#FFA15A",
           "#19d3f3",
           "#FF6692",
           "#B6E880",
           "#FF97FF",
           "#FECB52"
          ],
          "font": {
           "color": "#2a3f5f"
          },
          "geo": {
           "bgcolor": "white",
           "lakecolor": "white",
           "landcolor": "#E5ECF6",
           "showlakes": true,
           "showland": true,
           "subunitcolor": "white"
          },
          "hoverlabel": {
           "align": "left"
          },
          "hovermode": "closest",
          "mapbox": {
           "style": "light"
          },
          "paper_bgcolor": "white",
          "plot_bgcolor": "#E5ECF6",
          "polar": {
           "angularaxis": {
            "gridcolor": "white",
            "linecolor": "white",
            "ticks": ""
           },
           "bgcolor": "#E5ECF6",
           "radialaxis": {
            "gridcolor": "white",
            "linecolor": "white",
            "ticks": ""
           }
          },
          "scene": {
           "xaxis": {
            "backgroundcolor": "#E5ECF6",
            "gridcolor": "white",
            "gridwidth": 2,
            "linecolor": "white",
            "showbackground": true,
            "ticks": "",
            "zerolinecolor": "white"
           },
           "yaxis": {
            "backgroundcolor": "#E5ECF6",
            "gridcolor": "white",
            "gridwidth": 2,
            "linecolor": "white",
            "showbackground": true,
            "ticks": "",
            "zerolinecolor": "white"
           },
           "zaxis": {
            "backgroundcolor": "#E5ECF6",
            "gridcolor": "white",
            "gridwidth": 2,
            "linecolor": "white",
            "showbackground": true,
            "ticks": "",
            "zerolinecolor": "white"
           }
          },
          "shapedefaults": {
           "line": {
            "color": "#2a3f5f"
           }
          },
          "ternary": {
           "aaxis": {
            "gridcolor": "white",
            "linecolor": "white",
            "ticks": ""
           },
           "baxis": {
            "gridcolor": "white",
            "linecolor": "white",
            "ticks": ""
           },
           "bgcolor": "#E5ECF6",
           "caxis": {
            "gridcolor": "white",
            "linecolor": "white",
            "ticks": ""
           }
          },
          "title": {
           "x": 0.05
          },
          "xaxis": {
           "automargin": true,
           "gridcolor": "white",
           "linecolor": "white",
           "ticks": "",
           "title": {
            "standoff": 15
           },
           "zerolinecolor": "white",
           "zerolinewidth": 2
          },
          "yaxis": {
           "automargin": true,
           "gridcolor": "white",
           "linecolor": "white",
           "ticks": "",
           "title": {
            "standoff": 15
           },
           "zerolinecolor": "white",
           "zerolinewidth": 2
          }
         }
        },
        "title": {
         "font": {
          "color": "#4D5663"
         }
        },
        "xaxis": {
         "autorange": true,
         "gridcolor": "#E1E5ED",
         "range": [
          -0.5,
          25.5
         ],
         "showgrid": true,
         "tickfont": {
          "color": "#4D5663"
         },
         "title": {
          "font": {
           "color": "#4D5663"
          },
          "text": ""
         },
         "type": "category",
         "zerolinecolor": "#E1E5ED"
        },
        "yaxis": {
         "autorange": true,
         "gridcolor": "#E1E5ED",
         "range": [
          0,
          1.0526315789473686
         ],
         "showgrid": true,
         "tickfont": {
          "color": "#4D5663"
         },
         "title": {
          "font": {
           "color": "#4D5663"
          },
          "text": ""
         },
         "type": "linear",
         "zerolinecolor": "#E1E5ED"
        }
       }
      },
      "image/png": "[encoded data removed]",
      "text/html": [
       "<div>                            <div id=\"87e783d2-8496-4ebd-b03e-132298be48dd\" class=\"plotly-graph-div\" style=\"height:525px; width:100%;\"></div>            <script type=\"text/javascript\">                require([\"plotly\"], function(Plotly) {                    window.PLOTLYENV=window.PLOTLYENV || {};\n",
       "                    window.PLOTLYENV.BASE_URL='https://plot.ly';                                    if (document.getElementById(\"87e783d2-8496-4ebd-b03e-132298be48dd\")) {                    Plotly.newPlot(                        \"87e783d2-8496-4ebd-b03e-132298be48dd\",                        [{\"marker\": {\"color\": \"rgba(255, 153, 51, 0.6)\", \"line\": {\"color\": \"rgba(255, 153, 51, 1.0)\", \"width\": 1}}, \"name\": \"Allthetopbananas.com\", \"orientation\": \"v\", \"text\": \"\", \"type\": \"bar\", \"x\": [\"2021-week_33\", \"2021-week_34\", \"2021-week_35\", \"2021-week_36\", \"2021-week_37\", \"2021-week_38\", \"2021-week_39\", \"2021-week_40\", \"2021-week_41\", \"2021-week_42\", \"2021-week_43\", \"2021-week_44\", \"2021-week_45\", \"2021-week_46\", \"2021-week_47\", \"2021-week_48\", \"2021-week_49\", \"2021-week_50\", \"2021-week_51\", \"2022-week_01\", \"2022-week_02\", \"2022-week_03\", \"2022-week_04\", \"2022-week_05\", \"2022-week_06\", \"2022-week_52\"], \"y\": [0.0004876010030649206, 0.00020875374017117806, 0.0004870242816391846, 0.0009728978457261987, 0.000764313507504169, 0.0009758137589740016, 0.000416204217536071, 0.0009718172983479105, 0.0006954102920723226, 0.0002782415136338342, 0.00020881186051367718, 0.0006993496048674732, 0.00110803324099723, 0.0007665505226480836, 0.00034717400361060965, 0.0004859761177450708, 0.0005579967915184488, 0.0005554012774229381, 0.00046856696602889497, 0.0004171011470281543, 0.0004853359217915829, 0.0005587762799469162, 0.0005568316280364725, 0.00034814092744743074, 0.00027799013135033706, 0.0008788449466415569]}, {\"marker\": {\"color\": \"rgba(55, 128, 191, 0.6)\", \"line\": {\"color\": \"rgba(55, 128, 191, 1.0)\", \"width\": 1}}, \"name\": \"Altammune\", \"orientation\": \"v\", \"text\": \"\", \"type\": \"bar\", \"x\": [\"2021-week_33\", \"2021-week_34\", \"2021-week_35\", \"2021-week_36\", \"2021-week_37\", \"2021-week_38\", \"2021-week_39\", \"2021-week_40\", \"2021-week_41\", \"2021-week_42\", \"2021-week_43\", \"2021-week_44\", \"2021-week_45\", \"2021-week_46\", \"2021-week_47\", \"2021-week_48\", \"2021-week_49\", \"2021-week_50\", \"2021-week_51\", \"2022-week_01\", \"2022-week_02\", \"2022-week_03\", \"2022-week_04\", \"2022-week_05\", \"2022-week_06\", \"2022-week_52\"], \"y\": [\"\", \"\", 6.957489737702637e-05, \"\", \"\", 6.970098278385725e-05, \"\", 0.00013883104262113008, \"\", 6.956037840845854e-05, \"\", \"\", \"\", \"\", \"\", \"\", \"\", \"\", \"\", \"\", \"\", \"\", \"\", \"\", \"\", \"\"]}, {\"marker\": {\"color\": \"rgba(50, 171, 96, 0.6)\", \"line\": {\"color\": \"rgba(50, 171, 96, 1.0)\", \"width\": 1}}, \"name\": \"Bizanga\", \"orientation\": \"v\", \"text\": \"\", \"type\": \"bar\", \"x\": [\"2021-week_33\", \"2021-week_34\", \"2021-week_35\", \"2021-week_36\", \"2021-week_37\", \"2021-week_38\", \"2021-week_39\", \"2021-week_40\", \"2021-week_41\", \"2021-week_42\", \"2021-week_43\", \"2021-week_44\", \"2021-week_45\", \"2021-week_46\", \"2021-week_47\", \"2021-week_48\", \"2021-week_49\", \"2021-week_50\", \"2021-week_51\", \"2022-week_01\", \"2022-week_02\", \"2022-week_03\", \"2022-week_04\", \"2022-week_05\", \"2022-week_06\", \"2022-week_52\"], \"y\": [0.007174700473669545, 0.006888873425648877, 0.005705141584916162, 0.005281445448227936, 0.005350194552529183, 0.005436676657140866, 0.004786348501664817, 0.004442593363876163, 0.005980528511821975, 0.006886477462437396, 0.004941880698823693, 0.004126162668718092, 0.004224376731301939, 0.006202090592334495, 0.007082349673656437, 0.006248264371008053, 0.0076724558833786705, 0.006803665648430992, 0.006794221007418977, 0.007438303788668752, 0.006378700686403661, 0.004540057274568694, 0.003758613489246189, 0.0034117810889848213, 0.003891861838904719, 0.006089139987445072]}, {\"marker\": {\"color\": \"rgba(128, 0, 128, 0.6)\", \"line\": {\"color\": \"rgba(128, 0, 128, 1.0)\", \"width\": 1}}, \"name\": \"Crescendo Networks\", \"orientation\": \"v\", \"text\": \"\", \"type\": \"bar\", \"x\": [\"2021-week_33\", \"2021-week_34\", \"2021-week_35\", \"2021-week_36\", \"2021-week_37\", \"2021-week_38\", \"2021-week_39\", \"2021-week_40\", \"2021-week_41\", \"2021-week_42\", \"2021-week_43\", \"2021-week_44\", \"2021-week_45\", \"2021-week_46\", \"2021-week_47\", \"2021-week_48\", \"2021-week_49\", \"2021-week_50\", \"2021-week_51\", \"2022-week_01\", \"2022-week_02\", \"2022-week_03\", \"2022-week_04\", \"2022-week_05\", \"2022-week_06\", \"2022-week_52\"], \"y\": [0.0030649205906937865, 0.0057059355646788676, 0.00480066791901482, 0.007366226546212648, 0.006183991106170094, 0.006482191398898725, 0.0054106548279689234, 0.017700957934194086, 0.006397774687065368, 0.0034084585420144685, 0.004106633256768985, 0.004685642352612071, 0.0033240997229916896, 0.010871080139372822, 0.003749479238994584, 0.003748958622604832, 0.004463974332147591, 0.003957234101638433, 0.006247559547051933, 0.0026416405978449773, 0.0033973514525410804, 0.002584340294754488, 0.0030625739542005986, 0.003342152903495335, 0.002084925985127528, 0.005712492153170119]}, {\"marker\": {\"color\": \"rgba(219, 64, 82, 0.6)\", \"line\": {\"color\": \"rgba(219, 64, 82, 1.0)\", \"width\": 1}}, \"name\": \"Cue\", \"orientation\": \"v\", \"text\": \"\", \"type\": \"bar\", \"x\": [\"2021-week_33\", \"2021-week_34\", \"2021-week_35\", \"2021-week_36\", \"2021-week_37\", \"2021-week_38\", \"2021-week_39\", \"2021-week_40\", \"2021-week_41\", \"2021-week_42\", \"2021-week_43\", \"2021-week_44\", \"2021-week_45\", \"2021-week_46\", \"2021-week_47\", \"2021-week_48\", \"2021-week_49\", \"2021-week_50\", \"2021-week_51\", \"2022-week_01\", \"2022-week_02\", \"2022-week_03\", \"2022-week_04\", \"2022-week_05\", \"2022-week_06\", \"2022-week_52\"], \"y\": [\"\", 6.958458005705935e-05, \"\", \"\", \"\", 0.0001394019655677145, \"\", 6.941552131056504e-05, \"\", \"\", \"\", \"\", \"\", \"\", \"\", \"\", \"\", \"\", \"\", \"\", \"\", \"\", \"\", \"\", \"\", \"\"]}, {\"marker\": {\"color\": \"rgba(0, 128, 128, 0.6)\", \"line\": {\"color\": \"rgba(0, 128, 128, 1.0)\", \"width\": 1}}, \"name\": \"Cuiker\", \"orientation\": \"v\", \"text\": \"\", \"type\": \"bar\", \"x\": [\"2021-week_33\", \"2021-week_34\", \"2021-week_35\", \"2021-week_36\", \"2021-week_37\", \"2021-week_38\", \"2021-week_39\", \"2021-week_40\", \"2021-week_41\", \"2021-week_42\", \"2021-week_43\", \"2021-week_44\", \"2021-week_45\", \"2021-week_46\", \"2021-week_47\", \"2021-week_48\", \"2021-week_49\", \"2021-week_50\", \"2021-week_51\", \"2022-week_01\", \"2022-week_02\", \"2022-week_03\", \"2022-week_04\", \"2022-week_05\", \"2022-week_06\", \"2022-week_52\"], \"y\": [6.965728615213152e-05, 6.958458005705935e-05, 6.957489737702637e-05, 6.949270326615705e-05, \"\", \"\", \"\", \"\", 6.954102920723227e-05, 6.956037840845854e-05, 6.960395350455906e-05, \"\", 6.925207756232688e-05, 6.968641114982578e-05, 0.00013886960144424384, \"\", 0.0002092487968194183, 0.00013885031935573453, 7.809449433814917e-05, 6.951685783802571e-05, 6.933370311308327e-05, 6.984703499336453e-05, \"\", \"\", 6.949753283758427e-05, 6.277463904582549e-05]}, {\"marker\": {\"color\": \"rgba(255, 255, 51, 0.6)\", \"line\": {\"color\": \"rgba(255, 255, 51, 1.0)\", \"width\": 1}}, \"name\": \"Derceto\", \"orientation\": \"v\", \"text\": \"\", \"type\": \"bar\", \"x\": [\"2021-week_33\", \"2021-week_34\", \"2021-week_35\", \"2021-week_36\", \"2021-week_37\", \"2021-week_38\", \"2021-week_39\", \"2021-week_40\", \"2021-week_41\", \"2021-week_42\", \"2021-week_43\", \"2021-week_44\", \"2021-week_45\", \"2021-week_46\", \"2021-week_47\", \"2021-week_48\", \"2021-week_49\", \"2021-week_50\", \"2021-week_51\", \"2022-week_01\", \"2022-week_02\", \"2022-week_03\", \"2022-week_04\", \"2022-week_05\", \"2022-week_06\", \"2022-week_52\"], \"y\": [\"\", \"\", \"\", \"\", 6.948304613674263e-05, \"\", \"\", \"\", \"\", \"\", \"\", \"\", \"\", \"\", \"\", \"\", \"\", \"\", \"\", \"\", \"\", \"\", \"\", \"\", \"\", \"\"]}, {\"marker\": {\"color\": \"rgba(128, 128, 0, 0.6)\", \"line\": {\"color\": \"rgba(128, 128, 0, 1.0)\", \"width\": 1}}, \"name\": \"Doctorfun Entertainment, Ltd\", \"orientation\": \"v\", \"text\": \"\", \"type\": \"bar\", \"x\": [\"2021-week_33\", \"2021-week_34\", \"2021-week_35\", \"2021-week_36\", \"2021-week_37\", \"2021-week_38\", \"2021-week_39\", \"2021-week_40\", \"2021-week_41\", \"2021-week_42\", \"2021-week_43\", \"2021-week_44\", \"2021-week_45\", \"2021-week_46\", \"2021-week_47\", \"2021-week_48\", \"2021-week_49\", \"2021-week_50\", \"2021-week_51\", \"2022-week_01\", \"2022-week_02\", \"2022-week_03\", \"2022-week_04\", \"2022-week_05\", \"2022-week_06\", \"2022-week_52\"], \"y\": [\"\", \"\", 0.0002782995895081055, 0.00048644892286309936, 0.0009032795997776543, 0.0010455147417578587, 0.0012486126526082132, 0.0009718172983479105, 0.0012517385257301808, 0.0017390094602114635, 0.0009744553490638268, 0.0009091544863277152, 6.925207756232688e-05, 6.968641114982578e-05, \"\", 0.00013885031935573453, 0.0002092487968194183, \"\", 7.809449433814917e-05, 6.951685783802571e-05, 0.0004853359217915829, 0.0007683173849270099, 0.0008352474420547087, 0.0007659100403843476, 0.0008339703940510112, 6.277463904582549e-05]}, {\"marker\": {\"color\": \"rgba(251, 128, 114, 0.6)\", \"line\": {\"color\": \"rgba(251, 128, 114, 1.0)\", \"width\": 1}}, \"name\": \"Earth Networks\", \"orientation\": \"v\", \"text\": \"\", \"type\": \"bar\", \"x\": [\"2021-week_33\", \"2021-week_34\", \"2021-week_35\", \"2021-week_36\", \"2021-week_37\", \"2021-week_38\", \"2021-week_39\", \"2021-week_40\", \"2021-week_41\", \"2021-week_42\", \"2021-week_43\", \"2021-week_44\", \"2021-week_45\", \"2021-week_46\", \"2021-week_47\", \"2021-week_48\", \"2021-week_49\", \"2021-week_50\", \"2021-week_51\", \"2022-week_01\", \"2022-week_02\", \"2022-week_03\", \"2022-week_04\", \"2022-week_05\", \"2022-week_06\", \"2022-week_52\"], \"y\": [\"\", \"\", 6.957489737702637e-05, 0.0001389854065323141, \"\", \"\", \"\", \"\", 6.954102920723227e-05, \"\", \"\", \"\", \"\", \"\", \"\", \"\", \"\", \"\", \"\", \"\", \"\", \"\", \"\", \"\", \"\", \"\"]}, {\"marker\": {\"color\": \"rgba(128, 177, 211, 0.6)\", \"line\": {\"color\": \"rgba(128, 177, 211, 1.0)\", \"width\": 1}}, \"name\": \"Extreme DA\", \"orientation\": \"v\", \"text\": \"\", \"type\": \"bar\", \"x\": [\"2021-week_33\", \"2021-week_34\", \"2021-week_35\", \"2021-week_36\", \"2021-week_37\", \"2021-week_38\", \"2021-week_39\", \"2021-week_40\", \"2021-week_41\", \"2021-week_42\", \"2021-week_43\", \"2021-week_44\", \"2021-week_45\", \"2021-week_46\", \"2021-week_47\", \"2021-week_48\", \"2021-week_49\", \"2021-week_50\", \"2021-week_51\", \"2022-week_01\", \"2022-week_02\", \"2022-week_03\", \"2022-week_04\", \"2022-week_05\", \"2022-week_06\", \"2022-week_52\"], \"y\": [0.03517692950682642, 0.08892909331292186, 0.09601335838029638, 0.09263377345378736, 0.0883129516397999, 0.14776608350177736, 0.170019422863485, 0.1646536165486603, 0.1588317107093185, 0.14322481914301613, 0.15653929143175332, 0.16791384012868033, 0.18421052631578946, 0.19658536585365854, 0.20844327176781002, 0.18286587059150236, 0.12582827648741018, 0.13843376839766733, 0.21288559156579462, 0.20208550573514078, 0.19663038202870414, 0.17531605783334497, 0.16906800306257394, 0.17156384904609387, 0.16686357634303983, 0.16064030131826743]}, {\"marker\": {\"color\": \"rgba(128, 177, 211, 0.6)\", \"line\": {\"color\": \"rgba(128, 177, 211, 0.8999999999999999)\", \"width\": 1}}, \"name\": \"Fancy\", \"orientation\": \"v\", \"text\": \"\", \"type\": \"bar\", \"x\": [\"2021-week_33\", \"2021-week_34\", \"2021-week_35\", \"2021-week_36\", \"2021-week_37\", \"2021-week_38\", \"2021-week_39\", \"2021-week_40\", \"2021-week_41\", \"2021-week_42\", \"2021-week_43\", \"2021-week_44\", \"2021-week_45\", \"2021-week_46\", \"2021-week_47\", \"2021-week_48\", \"2021-week_49\", \"2021-week_50\", \"2021-week_51\", \"2022-week_01\", \"2022-week_02\", \"2022-week_03\", \"2022-week_04\", \"2022-week_05\", \"2022-week_06\", \"2022-week_52\"], \"y\": [0.06485093340763444, 0.05260594252313687, 0.06129548458916023, 0.0739402362751911, 0.0821289605336298, 0.08106224297762599, 0.07450055493895671, 0.08322921005136749, 0.10069541029207232, 0.07957707289927657, 0.08561286281060765, 0.0904259039093643, 0.09217451523545707, 0.0713588850174216, 0.039786140813775864, 0.07025826159400167, 0.11494733905280044, 0.11170508192168842, 0.09160484185864896, 0.06743135210288495, 0.0704430423628926, 0.09170915694628763, 0.12382543328461057, 0.13681938448684028, 0.15671693654875252, 0.08242310106716887]}, {\"marker\": {\"color\": \"rgba(255, 153, 51, 0.6)\", \"line\": {\"color\": \"rgba(255, 153, 51, 0.8999999999999999)\", \"width\": 1}}, \"name\": \"FlagTap\", \"orientation\": \"v\", \"text\": \"\", \"type\": \"bar\", \"x\": [\"2021-week_33\", \"2021-week_34\", \"2021-week_35\", \"2021-week_36\", \"2021-week_37\", \"2021-week_38\", \"2021-week_39\", \"2021-week_40\", \"2021-week_41\", \"2021-week_42\", \"2021-week_43\", \"2021-week_44\", \"2021-week_45\", \"2021-week_46\", \"2021-week_47\", \"2021-week_48\", \"2021-week_49\", \"2021-week_50\", \"2021-week_51\", \"2022-week_01\", \"2022-week_02\", \"2022-week_03\", \"2022-week_04\", \"2022-week_05\", \"2022-week_06\", \"2022-week_52\"], \"y\": [0.00013931457230426304, \"\", \"\", \"\", \"\", \"\", \"\", \"\", \"\", \"\", \"\", \"\", \"\", \"\", \"\", \"\", \"\", \"\", \"\", \"\", \"\", \"\", \"\", \"\", \"\", \"\"]}, {\"marker\": {\"color\": \"rgba(55, 128, 191, 0.6)\", \"line\": {\"color\": \"rgba(55, 128, 191, 0.8999999999999999)\", \"width\": 1}}, \"name\": \"Fry Multimedia\", \"orientation\": \"v\", \"text\": \"\", \"type\": \"bar\", \"x\": [\"2021-week_33\", \"2021-week_34\", \"2021-week_35\", \"2021-week_36\", \"2021-week_37\", \"2021-week_38\", \"2021-week_39\", \"2021-week_40\", \"2021-week_41\", \"2021-week_42\", \"2021-week_43\", \"2021-week_44\", \"2021-week_45\", \"2021-week_46\", \"2021-week_47\", \"2021-week_48\", \"2021-week_49\", \"2021-week_50\", \"2021-week_51\", \"2022-week_01\", \"2022-week_02\", \"2022-week_03\", \"2022-week_04\", \"2022-week_05\", \"2022-week_06\", \"2022-week_52\"], \"y\": [0.01567288938422959, 0.017744067914550136, 0.017950323523272804, 0.01716469770674079, 0.017857142857142856, 0.01575242210915174, 0.014567147613762486, 0.018256282104678605, 0.0196105702364395, 0.0134251530328325, 0.012111087909793277, 0.01258829288761452, 0.010110803324099723, 0.00975609756097561, 0.011803916122760728, 0.014509858372674257, 0.012624677408104903, 0.009233546237156345, 0.01101132370167903, 0.016336461591936045, 0.016501421340913817, 0.014178948103653, 0.012041483956288717, 0.009956830524996518, 0.012162068246577246, 0.006528562460765851]}, {\"marker\": {\"color\": \"rgba(50, 171, 96, 0.6)\", \"line\": {\"color\": \"rgba(50, 171, 96, 0.8999999999999999)\", \"width\": 1}}, \"name\": \"G-mode\", \"orientation\": \"v\", \"text\": \"\", \"type\": \"bar\", \"x\": [\"2021-week_33\", \"2021-week_34\", \"2021-week_35\", \"2021-week_36\", \"2021-week_37\", \"2021-week_38\", \"2021-week_39\", \"2021-week_40\", \"2021-week_41\", \"2021-week_42\", \"2021-week_43\", \"2021-week_44\", \"2021-week_45\", \"2021-week_46\", \"2021-week_47\", \"2021-week_48\", \"2021-week_49\", \"2021-week_50\", \"2021-week_51\", \"2022-week_01\", \"2022-week_02\", \"2022-week_03\", \"2022-week_04\", \"2022-week_05\", \"2022-week_06\", \"2022-week_52\"], \"y\": [0.0026469768737809973, 0.0026442140421682556, 0.0030612954845891604, 0.005628908964558721, 0.005350194552529183, 0.002997142259705862, 0.004786348501664817, 0.004928502013050118, 0.005563282336578581, 0.0025041736227045075, 0.0021577225586413306, 0.002587593538009651, 0.004293628808864266, 0.0029965156794425087, 0.002846826829606999, 0.0036101083032490976, 0.00411522633744856, 0.002360455429047487, 0.004607575165950801, 0.0022940563086548487, 0.003328017749427997, 0.002374799189774394, 0.0027841581401823624, 0.002297730121153043, 0.0014594481895892695, 0.004331450094161958]}, {\"marker\": {\"color\": \"rgba(128, 0, 128, 0.6)\", \"line\": {\"color\": \"rgba(128, 0, 128, 0.8999999999999999)\", \"width\": 1}}, \"name\": \"Glory Medical\", \"orientation\": \"v\", \"text\": \"\", \"type\": \"bar\", \"x\": [\"2021-week_33\", \"2021-week_34\", \"2021-week_35\", \"2021-week_36\", \"2021-week_37\", \"2021-week_38\", \"2021-week_39\", \"2021-week_40\", \"2021-week_41\", \"2021-week_42\", \"2021-week_43\", \"2021-week_44\", \"2021-week_45\", \"2021-week_46\", \"2021-week_47\", \"2021-week_48\", \"2021-week_49\", \"2021-week_50\", \"2021-week_51\", \"2022-week_01\", \"2022-week_02\", \"2022-week_03\", \"2022-week_04\", \"2022-week_05\", \"2022-week_06\", \"2022-week_52\"], \"y\": [0.0034132070214544443, 0.0007654303806276529, 0.00013914979475405275, 0.0006254343293954135, 0.0002084491384102279, 0.00034850491391928625, 0.0002081021087680355, 0.00020824656393169514, 6.954102920723227e-05, 6.956037840845854e-05, 6.960395350455906e-05, 0.0003496748024337366, \"\", 0.00013937282229965157, 0.00020830440216636578, 0.00027770063871146905, 0.0004184975936388366, 0.0003471257983893363, 0.00031237797735259666, 0.00013903371567605143, 0.00013866740622616653, 6.984703499336453e-05, \"\", 0.0001392563709789723, \"\", 6.277463904582549e-05]}, {\"marker\": {\"color\": \"rgba(219, 64, 82, 0.6)\", \"line\": {\"color\": \"rgba(219, 64, 82, 0.8999999999999999)\", \"width\": 1}}, \"name\": \"Joules Clothing\", \"orientation\": \"v\", \"text\": \"\", \"type\": \"bar\", \"x\": [\"2021-week_33\", \"2021-week_34\", \"2021-week_35\", \"2021-week_36\", \"2021-week_37\", \"2021-week_38\", \"2021-week_39\", \"2021-week_40\", \"2021-week_41\", \"2021-week_42\", \"2021-week_43\", \"2021-week_44\", \"2021-week_45\", \"2021-week_46\", \"2021-week_47\", \"2021-week_48\", \"2021-week_49\", \"2021-week_50\", \"2021-week_51\", \"2022-week_01\", \"2022-week_02\", \"2022-week_03\", \"2022-week_04\", \"2022-week_05\", \"2022-week_06\", \"2022-week_52\"], \"y\": [0.00027862914460852607, 6.958458005705935e-05, 0.00034787448688513185, 0.00020847810979847116, \"\", 6.970098278385725e-05, \"\", \"\", 6.954102920723227e-05, 0.0001391207568169171, \"\", 0.00020980488146024197, 6.925207756232688e-05, 0.00013937282229965157, 6.943480072212192e-05, \"\", \"\", \"\", \"\", \"\", 6.933370311308327e-05, \"\", \"\", \"\", \"\", \"\"]}, {\"marker\": {\"color\": \"rgba(0, 128, 128, 0.6)\", \"line\": {\"color\": \"rgba(0, 128, 128, 0.8999999999999999)\", \"width\": 1}}, \"name\": \"Jun Group\", \"orientation\": \"v\", \"text\": \"\", \"type\": \"bar\", \"x\": [\"2021-week_33\", \"2021-week_34\", \"2021-week_35\", \"2021-week_36\", \"2021-week_37\", \"2021-week_38\", \"2021-week_39\", \"2021-week_40\", \"2021-week_41\", \"2021-week_42\", \"2021-week_43\", \"2021-week_44\", \"2021-week_45\", \"2021-week_46\", \"2021-week_47\", \"2021-week_48\", \"2021-week_49\", \"2021-week_50\", \"2021-week_51\", \"2022-week_01\", \"2022-week_02\", \"2022-week_03\", \"2022-week_04\", \"2022-week_05\", \"2022-week_06\", \"2022-week_52\"], \"y\": [\"\", \"\", \"\", \"\", \"\", \"\", \"\", \"\", \"\", \"\", \"\", 6.993496048674733e-05, \"\", \"\", \"\", \"\", \"\", \"\", 7.809449433814917e-05, \"\", \"\", \"\", 0.00013920790700911812, \"\", \"\", \"\"]}, {\"marker\": {\"color\": \"rgba(255, 255, 51, 0.6)\", \"line\": {\"color\": \"rgba(255, 255, 51, 0.8999999999999999)\", \"width\": 1}}, \"name\": \"LocalVox Media\", \"orientation\": \"v\", \"text\": \"\", \"type\": \"bar\", \"x\": [\"2021-week_33\", \"2021-week_34\", \"2021-week_35\", \"2021-week_36\", \"2021-week_37\", \"2021-week_38\", \"2021-week_39\", \"2021-week_40\", \"2021-week_41\", \"2021-week_42\", \"2021-week_43\", \"2021-week_44\", \"2021-week_45\", \"2021-week_46\", \"2021-week_47\", \"2021-week_48\", \"2021-week_49\", \"2021-week_50\", \"2021-week_51\", \"2022-week_01\", \"2022-week_02\", \"2022-week_03\", \"2022-week_04\", \"2022-week_05\", \"2022-week_06\", \"2022-week_52\"], \"y\": [0.015254945667316801, 0.020875374017117806, 0.01551520211507688, 0.01535788742182071, 0.01764869371873263, 0.015961525057503312, 0.013665371809100999, 0.016034985422740525, 0.015716272600834493, 0.011268781302170284, 0.009396533723115472, 0.014546471781243443, 0.017243767313019392, 0.016445993031358887, 0.017914178586307457, 0.01825881699527909, 0.02218037246285834, 0.016870313801721742, 0.01663412729402577, 0.016127911018421967, 0.01504541357553907, 0.011175525598938325, 0.0119022760492796, 0.011001253307338811, 0.010146639794287303, 0.021468926553672316]}, {\"marker\": {\"color\": \"rgba(128, 128, 0, 0.6)\", \"line\": {\"color\": \"rgba(128, 128, 0, 0.8999999999999999)\", \"width\": 1}}, \"name\": \"Marketo Japan\", \"orientation\": \"v\", \"text\": \"\", \"type\": \"bar\", \"x\": [\"2021-week_33\", \"2021-week_34\", \"2021-week_35\", \"2021-week_36\", \"2021-week_37\", \"2021-week_38\", \"2021-week_39\", \"2021-week_40\", \"2021-week_41\", \"2021-week_42\", \"2021-week_43\", \"2021-week_44\", \"2021-week_45\", \"2021-week_46\", \"2021-week_47\", \"2021-week_48\", \"2021-week_49\", \"2021-week_50\", \"2021-week_51\", \"2022-week_01\", \"2022-week_02\", \"2022-week_03\", \"2022-week_04\", \"2022-week_05\", \"2022-week_06\", \"2022-week_52\"], \"y\": [\"\", \"\", \"\", \"\", 6.948304613674263e-05, \"\", \"\", \"\", \"\", \"\", \"\", \"\", \"\", \"\", \"\", \"\", \"\", \"\", \"\", \"\", \"\", \"\", \"\", \"\", \"\", \"\"]}, {\"marker\": {\"color\": \"rgba(251, 128, 114, 0.6)\", \"line\": {\"color\": \"rgba(251, 128, 114, 0.8999999999999999)\", \"width\": 1}}, \"name\": \"Metranome\", \"orientation\": \"v\", \"text\": \"\", \"type\": \"bar\", \"x\": [\"2021-week_33\", \"2021-week_34\", \"2021-week_35\", \"2021-week_36\", \"2021-week_37\", \"2021-week_38\", \"2021-week_39\", \"2021-week_40\", \"2021-week_41\", \"2021-week_42\", \"2021-week_43\", \"2021-week_44\", \"2021-week_45\", \"2021-week_46\", \"2021-week_47\", \"2021-week_48\", \"2021-week_49\", \"2021-week_50\", \"2021-week_51\", \"2022-week_01\", \"2022-week_02\", \"2022-week_03\", \"2022-week_04\", \"2022-week_05\", \"2022-week_06\", \"2022-week_52\"], \"y\": [0.00027862914460852607, 0.00020875374017117806, 0.0002782995895081055, 0.00034746351633078526, 6.948304613674263e-05, 6.970098278385725e-05, 0.00013873473917869035, 0.00013883104262113008, \"\", \"\", \"\", 6.993496048674733e-05, \"\", 6.968641114982578e-05, \"\", \"\", 0.0001394991978796122, 0.00013885031935573453, 7.809449433814917e-05, \"\", \"\", \"\", 0.00013920790700911812, 6.962818548948615e-05, 6.949753283758427e-05, 6.277463904582549e-05]}, {\"marker\": {\"color\": \"rgba(251, 128, 114, 0.6)\", \"line\": {\"color\": \"rgba(251, 128, 114, 0.7999999999999998)\", \"width\": 1}}, \"name\": \"Mission Street Manufacturing\", \"orientation\": \"v\", \"text\": \"\", \"type\": \"bar\", \"x\": [\"2021-week_33\", \"2021-week_34\", \"2021-week_35\", \"2021-week_36\", \"2021-week_37\", \"2021-week_38\", \"2021-week_39\", \"2021-week_40\", \"2021-week_41\", \"2021-week_42\", \"2021-week_43\", \"2021-week_44\", \"2021-week_45\", \"2021-week_46\", \"2021-week_47\", \"2021-week_48\", \"2021-week_49\", \"2021-week_50\", \"2021-week_51\", \"2022-week_01\", \"2022-week_02\", \"2022-week_03\", \"2022-week_04\", \"2022-week_05\", \"2022-week_06\", \"2022-week_52\"], \"y\": [0.0009752020061298412, 0.0006958458005705936, 0.0010436234606553956, 0.00034746351633078526, 0.0003474152306837132, 0.0006273088450547153, 0.000416204217536071, 0.0003470776065528252, 0.0004172461752433936, 0.00041736227045075126, 0.00041762372102735435, 0.0009091544863277152, 0.0006232686980609418, 0.0005574912891986063, 0.0005554784057769754, 0.00041655095806720355, 0.0009067447862174793, 0.00041655095806720355, 0.0003904724716907458, 0.0003475842891901286, 0.00020800110933924982, 0.0004889292449535517, 6.960395350455906e-05, 0.00020888455646845844, 0.0005559802627006741, 0.00025109855618330194]}, {\"marker\": {\"color\": \"rgba(128, 177, 211, 0.6)\", \"line\": {\"color\": \"rgba(128, 177, 211, 0.7999999999999998)\", \"width\": 1}}, \"name\": \"MoJoe Brewing Company\", \"orientation\": \"v\", \"text\": \"\", \"type\": \"bar\", \"x\": [\"2021-week_33\", \"2021-week_34\", \"2021-week_35\", \"2021-week_36\", \"2021-week_37\", \"2021-week_38\", \"2021-week_39\", \"2021-week_40\", \"2021-week_41\", \"2021-week_42\", \"2021-week_43\", \"2021-week_44\", \"2021-week_45\", \"2021-week_46\", \"2021-week_47\", \"2021-week_48\", \"2021-week_49\", \"2021-week_50\", \"2021-week_51\", \"2022-week_01\", \"2022-week_02\", \"2022-week_03\", \"2022-week_04\", \"2022-week_05\", \"2022-week_06\", \"2022-week_52\"], \"y\": [0.09424630816383393, 0.07890891378470531, 0.10387532178390037, 0.08881167477414871, 0.09672040022234575, 0.0759740712344044, 0.08011931187569367, 0.07309454394002499, 0.05744089012517385, 0.041666666666666664, 0.0680030625739542, 0.06007413105811595, 0.056509695290858725, 0.09874564459930314, 0.0611026246354673, 0.13732296584282144, 0.0823045267489712, 0.12454873646209386, 0.07169074580242094, 0.07897115050399722, 0.08028842820495043, 0.10169728295033875, 0.06507969652676272, 0.08174348976465673, 0.06393773021057753, 0.14055241682360325]}, {\"marker\": {\"color\": \"rgba(255, 153, 51, 0.6)\", \"line\": {\"color\": \"rgba(255, 153, 51, 0.7999999999999998)\", \"width\": 1}}, \"name\": \"Modanisa\", \"orientation\": \"v\", \"text\": \"\", \"type\": \"bar\", \"x\": [\"2021-week_33\", \"2021-week_34\", \"2021-week_35\", \"2021-week_36\", \"2021-week_37\", \"2021-week_38\", \"2021-week_39\", \"2021-week_40\", \"2021-week_41\", \"2021-week_42\", \"2021-week_43\", \"2021-week_44\", \"2021-week_45\", \"2021-week_46\", \"2021-week_47\", \"2021-week_48\", \"2021-week_49\", \"2021-week_50\", \"2021-week_51\", \"2022-week_01\", \"2022-week_02\", \"2022-week_03\", \"2022-week_04\", \"2022-week_05\", \"2022-week_06\", \"2022-week_52\"], \"y\": [0.009055447199777097, 0.008141395866675945, 0.007583663814095874, 0.007157748436414177, 0.006461923290717065, 0.005854882553844009, 0.02746947835738069, 0.024711925586561156, 0.026564673157162728, 0.022746243739565943, 0.03048653163499687, 0.01594517099097839, 0.006232686980609419, 0.006480836236933798, 0.007290654075822803, 0.006525965009719522, 0.006277463904582548, 0.005762288253262983, 0.004919953143303397, 0.004449078901633646, 0.003328017749427997, 0.0034923517496682267, 0.0027841581401823624, 0.004108062943879683, 0.0025714087149906178, 0.004331450094161958]}, {\"marker\": {\"color\": \"rgba(55, 128, 191, 0.6)\", \"line\": {\"color\": \"rgba(55, 128, 191, 0.7999999999999998)\", \"width\": 1}}, \"name\": \"OpenDesks, Inc.\", \"orientation\": \"v\", \"text\": \"\", \"type\": \"bar\", \"x\": [\"2021-week_33\", \"2021-week_34\", \"2021-week_35\", \"2021-week_36\", \"2021-week_37\", \"2021-week_38\", \"2021-week_39\", \"2021-week_40\", \"2021-week_41\", \"2021-week_42\", \"2021-week_43\", \"2021-week_44\", \"2021-week_45\", \"2021-week_46\", \"2021-week_47\", \"2021-week_48\", \"2021-week_49\", \"2021-week_50\", \"2021-week_51\", \"2022-week_01\", \"2022-week_02\", \"2022-week_03\", \"2022-week_04\", \"2022-week_05\", \"2022-week_06\", \"2022-week_52\"], \"y\": [0.00041794371691278906, 0.0004175074803423561, 0.0004870242816391846, 0.001320361362056984, 0.0009032795997776543, 0.0012546176901094305, 0.00201165371809101, 0.0023601277245592113, 0.0018080667593880389, 0.0019476905954368391, 0.001113663256072945, 0.0018882439331421778, 0.001592797783933518, 0.0029965156794425087, 0.002569087626718511, 0.0014579283532352124, 0.0015344911766757342, 0.0008331019161344071, 0.002420929324482624, 0.00145985401459854, 0.0016640088747139985, 0.001187399594887197, 0.0009048513955592678, 0.0008355382258738338, 0.0009034679268885954, 0.0018832391713747645]}, {\"marker\": {\"color\": \"rgba(50, 171, 96, 0.6)\", \"line\": {\"color\": \"rgba(50, 171, 96, 0.7999999999999998)\", \"width\": 1}}, \"name\": \"PageBites\", \"orientation\": \"v\", \"text\": \"\", \"type\": \"bar\", \"x\": [\"2021-week_33\", \"2021-week_34\", \"2021-week_35\", \"2021-week_36\", \"2021-week_37\", \"2021-week_38\", \"2021-week_39\", \"2021-week_40\", \"2021-week_41\", \"2021-week_42\", \"2021-week_43\", \"2021-week_44\", \"2021-week_45\", \"2021-week_46\", \"2021-week_47\", \"2021-week_48\", \"2021-week_49\", \"2021-week_50\", \"2021-week_51\", \"2022-week_01\", \"2022-week_02\", \"2022-week_03\", \"2022-week_04\", \"2022-week_05\", \"2022-week_06\", \"2022-week_52\"], \"y\": [0.0016021175814990248, 0.0006958458005705936, 0.001113198358032422, 0.0008339124391938846, 0.0012506948304613673, 0.0007667108106224297, 0.00048557158712541623, 6.941552131056504e-05, 0.0004867872044506259, 0.0005564830272676684, 0.00027841581401823624, 0.00020980488146024197, \"\", \"\", \"\", \"\", \"\", \"\", \"\", \"\", 0.00013866740622616653, 0.0002095411049800936, 0.00020881186051367718, 0.00020888455646845844, 0.00027799013135033706, \"\"]}, {\"marker\": {\"color\": \"rgba(128, 0, 128, 0.6)\", \"line\": {\"color\": \"rgba(128, 0, 128, 0.7999999999999998)\", \"width\": 1}}, \"name\": \"Pole Star\", \"orientation\": \"v\", \"text\": \"\", \"type\": \"bar\", \"x\": [\"2021-week_33\", \"2021-week_34\", \"2021-week_35\", \"2021-week_36\", \"2021-week_37\", \"2021-week_38\", \"2021-week_39\", \"2021-week_40\", \"2021-week_41\", \"2021-week_42\", \"2021-week_43\", \"2021-week_44\", \"2021-week_45\", \"2021-week_46\", \"2021-week_47\", \"2021-week_48\", \"2021-week_49\", \"2021-week_50\", \"2021-week_51\", \"2022-week_01\", \"2022-week_02\", \"2022-week_03\", \"2022-week_04\", \"2022-week_05\", \"2022-week_06\", \"2022-week_52\"], \"y\": [0.0030649205906937865, 0.0017396145014264839, \"\", \"\", 6.948304613674263e-05, 6.970098278385725e-05, 0.00013873473917869035, 6.941552131056504e-05, 0.0011821974965229485, 0.00020868113522537563, 0.00020881186051367718, 0.0006294146443807259, 0.0017313019390581717, 0.0011149825783972125, \"\", \"\", 0.0001394991978796122, 6.942515967786726e-05, 7.809449433814917e-05, 0.0003475842891901286, 0.0003466685155654163, 0.00034923517496682265, 0.0015312869771002993, 0.001392563709789723, 0.0016679407881020224, 0.00012554927809165097]}, {\"marker\": {\"color\": \"rgba(219, 64, 82, 0.6)\", \"line\": {\"color\": \"rgba(219, 64, 82, 0.7999999999999998)\", \"width\": 1}}, \"name\": \"Puentes Company\", \"orientation\": \"v\", \"text\": \"\", \"type\": \"bar\", \"x\": [\"2021-week_33\", \"2021-week_34\", \"2021-week_35\", \"2021-week_36\", \"2021-week_37\", \"2021-week_38\", \"2021-week_39\", \"2021-week_40\", \"2021-week_41\", \"2021-week_42\", \"2021-week_43\", \"2021-week_44\", \"2021-week_45\", \"2021-week_46\", \"2021-week_47\", \"2021-week_48\", \"2021-week_49\", \"2021-week_50\", \"2021-week_51\", \"2022-week_01\", \"2022-week_02\", \"2022-week_03\", \"2022-week_04\", \"2022-week_05\", \"2022-week_06\", \"2022-week_52\"], \"y\": [0.09452493730844247, 0.08197063530721592, 0.07521046406456551, 0.07588603196664351, 0.07406892718176765, 0.0683069631281801, 0.06804938956714761, 0.06976259891711786, 0.08817802503477051, 0.07206455203116305, 0.06333959768914875, 0.07720819637736905, 0.10297783933518005, 0.0932404181184669, 0.09061241494236912, 0.0814357123021383, 0.09130222501220618, 0.08497639544570952, 0.10378758297540024, 0.09336114007646855, 0.09061914996879983, 0.06635468324369631, 0.05902415257186608, 0.05653808661746275, 0.0583084300507332, 0.06936597614563716]}, {\"marker\": {\"color\": \"rgba(0, 128, 128, 0.6)\", \"line\": {\"color\": \"rgba(0, 128, 128, 0.7999999999999998)\", \"width\": 1}}, \"name\": \"PureSafe water systems\", \"orientation\": \"v\", \"text\": \"\", \"type\": \"bar\", \"x\": [\"2021-week_33\", \"2021-week_34\", \"2021-week_35\", \"2021-week_36\", \"2021-week_37\", \"2021-week_38\", \"2021-week_39\", \"2021-week_40\", \"2021-week_41\", \"2021-week_42\", \"2021-week_43\", \"2021-week_44\", \"2021-week_45\", \"2021-week_46\", \"2021-week_47\", \"2021-week_48\", \"2021-week_49\", \"2021-week_50\", \"2021-week_51\", \"2022-week_01\", \"2022-week_02\", \"2022-week_03\", \"2022-week_04\", \"2022-week_05\", \"2022-week_06\", \"2022-week_52\"], \"y\": [\"\", \"\", \"\", \"\", \"\", \"\", \"\", \"\", \"\", \"\", \"\", \"\", \"\", \"\", \"\", \"\", \"\", \"\", \"\", \"\", \"\", \"\", \"\", 6.962818548948615e-05, \"\", \"\"]}, {\"marker\": {\"color\": \"rgba(255, 255, 51, 0.6)\", \"line\": {\"color\": \"rgba(255, 255, 51, 0.7999999999999998)\", \"width\": 1}}, \"name\": \"RelayFoods\", \"orientation\": \"v\", \"text\": \"\", \"type\": \"bar\", \"x\": [\"2021-week_33\", \"2021-week_34\", \"2021-week_35\", \"2021-week_36\", \"2021-week_37\", \"2021-week_38\", \"2021-week_39\", \"2021-week_40\", \"2021-week_41\", \"2021-week_42\", \"2021-week_43\", \"2021-week_44\", \"2021-week_45\", \"2021-week_46\", \"2021-week_47\", \"2021-week_48\", \"2021-week_49\", \"2021-week_50\", \"2021-week_51\", \"2022-week_01\", \"2022-week_02\", \"2022-week_03\", \"2022-week_04\", \"2022-week_05\", \"2022-week_06\", \"2022-week_52\"], \"y\": [0.10929228197269435, 0.06297404495163872, 0.06880957350587907, 0.06949270326615706, 0.06663424124513619, 0.06754025231755768, 0.052372364039955606, 0.04602249062890462, 0.05660639777468707, 0.2598775737340011, 0.24131690680030626, 0.2721169312539338, 0.3479224376731302, 0.31679442508710803, 0.3327315650604083, 0.2905442932518745, 0.32370788867964007, 0.3126214940294363, 0.28621632174931666, 0.26930830726451166, 0.2656867503293351, 0.24760773905147726, 0.247511658662212, 0.22629160284082997, 0.23650010424629925, 0.3747018204645323]}, {\"marker\": {\"color\": \"rgba(128, 128, 0, 0.6)\", \"line\": {\"color\": \"rgba(128, 128, 0, 0.7999999999999998)\", \"width\": 1}}, \"name\": \"SOLOMO365\", \"orientation\": \"v\", \"text\": \"\", \"type\": \"bar\", \"x\": [\"2021-week_33\", \"2021-week_34\", \"2021-week_35\", \"2021-week_36\", \"2021-week_37\", \"2021-week_38\", \"2021-week_39\", \"2021-week_40\", \"2021-week_41\", \"2021-week_42\", \"2021-week_43\", \"2021-week_44\", \"2021-week_45\", \"2021-week_46\", \"2021-week_47\", \"2021-week_48\", \"2021-week_49\", \"2021-week_50\", \"2021-week_51\", \"2022-week_01\", \"2022-week_02\", \"2022-week_03\", \"2022-week_04\", \"2022-week_05\", \"2022-week_06\", \"2022-week_52\"], \"y\": [0.05544719977709668, 0.06039941548952752, 0.05976483684686565, 0.05573314801945796, 0.055586436909394105, 0.05813061964173695, 0.049944506104328525, 0.014993752603082049, \"\", \"\", \"\", \"\", \"\", \"\", \"\", \"\", \"\", \"\", \"\", \"\", \"\", \"\", \"\", \"\", \"\", \"\"]}, {\"marker\": {\"color\": \"rgba(128, 128, 0, 0.6)\", \"line\": {\"color\": \"rgba(128, 128, 0, 0.7)\", \"width\": 1}}, \"name\": \"Search Million Culture\", \"orientation\": \"v\", \"text\": \"\", \"type\": \"bar\", \"x\": [\"2021-week_33\", \"2021-week_34\", \"2021-week_35\", \"2021-week_36\", \"2021-week_37\", \"2021-week_38\", \"2021-week_39\", \"2021-week_40\", \"2021-week_41\", \"2021-week_42\", \"2021-week_43\", \"2021-week_44\", \"2021-week_45\", \"2021-week_46\", \"2021-week_47\", \"2021-week_48\", \"2021-week_49\", \"2021-week_50\", \"2021-week_51\", \"2022-week_01\", \"2022-week_02\", \"2022-week_03\", \"2022-week_04\", \"2022-week_05\", \"2022-week_06\", \"2022-week_52\"], \"y\": [0.35218723878517694, 0.39043907870016004, 0.35030960829332775, 0.35392633773453785, 0.3494302390216787, 0.33372830556910854, 0.3140260821309656, 0.3306261280022213, 0.3364394993045897, 0.25994713411240955, 0.24110809493979257, 0.1897335478005455, 0.0853185595567867, 0.09337979094076655, 0.09665324260519373, 0.11538461538461539, 0.13287298598033062, 0.12350735906692585, 0.12526356891839124, 0.19443865137295793, 0.2046730915898218, 0.23342879094782426, 0.25440245005916334, 0.25163626235900294, 0.23816804503440128, 0.0743879472693032]}, {\"marker\": {\"color\": \"rgba(251, 128, 114, 0.6)\", \"line\": {\"color\": \"rgba(251, 128, 114, 0.7)\", \"width\": 1}}, \"name\": \"Sensor Tower\", \"orientation\": \"v\", \"text\": \"\", \"type\": \"bar\", \"x\": [\"2021-week_33\", \"2021-week_34\", \"2021-week_35\", \"2021-week_36\", \"2021-week_37\", \"2021-week_38\", \"2021-week_39\", \"2021-week_40\", \"2021-week_41\", \"2021-week_42\", \"2021-week_43\", \"2021-week_44\", \"2021-week_45\", \"2021-week_46\", \"2021-week_47\", \"2021-week_48\", \"2021-week_49\", \"2021-week_50\", \"2021-week_51\", \"2022-week_01\", \"2022-week_02\", \"2022-week_03\", \"2022-week_04\", \"2022-week_05\", \"2022-week_06\", \"2022-week_52\"], \"y\": [0.03629144608526052, 0.03374852132767379, 0.031308703819661866, 0.018763029881862403, 0.012854363535297387, 0.008712622847982156, 0.0076997780244173145, 0.006455643481882549, 0.00674547983310153, 0.006816917084028937, 0.005568316280364725, 0.005384991957479544, 0.00574792243767313, 0.004320557491289199, 0.004443827246215803, 0.005554012774229381, 0.007463207086559252, 0.004859761177450708, 0.003358063256540414, 0.003475842891901286, 0.0029813492338625807, 0.00447021023957533, 0.004315445117282661, 0.003899178387411224, 0.004169851970255056, 0.004205900816070308]}, {\"marker\": {\"color\": \"rgba(128, 177, 211, 0.6)\", \"line\": {\"color\": \"rgba(128, 177, 211, 0.7)\", \"width\": 1}}, \"name\": \"Tab Solutions\", \"orientation\": \"v\", \"text\": \"\", \"type\": \"bar\", \"x\": [\"2021-week_33\", \"2021-week_34\", \"2021-week_35\", \"2021-week_36\", \"2021-week_37\", \"2021-week_38\", \"2021-week_39\", \"2021-week_40\", \"2021-week_41\", \"2021-week_42\", \"2021-week_43\", \"2021-week_44\", \"2021-week_45\", \"2021-week_46\", \"2021-week_47\", \"2021-week_48\", \"2021-week_49\", \"2021-week_50\", \"2021-week_51\", \"2022-week_01\", \"2022-week_02\", \"2022-week_03\", \"2022-week_04\", \"2022-week_05\", \"2022-week_06\", \"2022-week_52\"], \"y\": [0.0672192811368069, 0.054345557024563354, 0.04981562652195088, 0.055524669909659485, 0.05885214007782101, 0.04000836411793406, 0.05292730299667037, 0.06774954879911148, 0.0672461752433936, 0.047996661101836396, 0.04719148047609104, 0.05063291139240506, 0.04113573407202216, 0.014355400696864112, 0.016594917372587142, 0.0197167453485143, 0.031317569923972936, 0.02256317689530686, 0.019992190550566186, 0.010983663538408064, 0.012618733966581155, 0.01494726548858001, 0.016565740934085055, 0.01392563709789723, 0.01709639307804573, 0.013998744507219083]}, {\"marker\": {\"color\": \"rgba(255, 153, 51, 0.6)\", \"line\": {\"color\": \"rgba(255, 153, 51, 0.7)\", \"width\": 1}}, \"name\": \"VarVee\", \"orientation\": \"v\", \"text\": \"\", \"type\": \"bar\", \"x\": [\"2021-week_33\", \"2021-week_34\", \"2021-week_35\", \"2021-week_36\", \"2021-week_37\", \"2021-week_38\", \"2021-week_39\", \"2021-week_40\", \"2021-week_41\", \"2021-week_42\", \"2021-week_43\", \"2021-week_44\", \"2021-week_45\", \"2021-week_46\", \"2021-week_47\", \"2021-week_48\", \"2021-week_49\", \"2021-week_50\", \"2021-week_51\", \"2022-week_01\", \"2022-week_02\", \"2022-week_03\", \"2022-week_04\", \"2022-week_05\", \"2022-week_06\", \"2022-week_52\"], \"y\": [0.00229869044302034, 0.004662166863822976, 0.004870242816391846, 0.006879777623349548, 0.0074346859366314615, 0.007179201226737297, 0.005063817980022198, 0.004789670970428988, 0.005563282336578581, 0.0023650528658875902, 0.0029929700006960393, 0.003217008182390377, 0.003601108033240997, 0.0024390243902439024, 0.002707957228162755, 0.0017356289919466814, 0.0004882471925786427, 0.0006248264371008053, 0.00046856696602889497, 0.00027806743135210286, 0.0006933370311308326, 0.0007683173849270099, 0.0010440593025683859, 0.0007659100403843476, 0.0006949753283758427, 0.0003766478342749529]}, {\"marker\": {\"color\": \"rgba(55, 128, 191, 0.6)\", \"line\": {\"color\": \"rgba(55, 128, 191, 0.7)\", \"width\": 1}}, \"name\": \"aPriori Technologies\", \"orientation\": \"v\", \"text\": \"\", \"type\": \"bar\", \"x\": [\"2021-week_33\", \"2021-week_34\", \"2021-week_35\", \"2021-week_36\", \"2021-week_37\", \"2021-week_38\", \"2021-week_39\", \"2021-week_40\", \"2021-week_41\", \"2021-week_42\", \"2021-week_43\", \"2021-week_44\", \"2021-week_45\", \"2021-week_46\", \"2021-week_47\", \"2021-week_48\", \"2021-week_49\", \"2021-week_50\", \"2021-week_51\", \"2022-week_01\", \"2022-week_02\", \"2022-week_03\", \"2022-week_04\", \"2022-week_05\", \"2022-week_06\", \"2022-week_52\"], \"y\": [0.002995263304541655, 0.0029225523623964927, 0.003965769150490503, 0.0029881862404447534, 0.0027098387993329627, 0.002439534397435004, 0.0039539400665926745, 0.004442593363876163, 0.0035465924895688454, 0.002295492487479132, 0.002853762093686921, 0.002307853696062662, 0.003670360110803324, 0.005156794425087108, 0.004999305651992779, 0.003262982504859761, 0.0034874799469903047, 0.00354068314357123, 0.004139008199921906, 0.0032672923183872087, 0.002010677390279415, 0.0017461758748341133, 0.0020881186051367718, 0.002297730121153043, 0.002015428452289944, 0.0038292529817953547]}, {\"marker\": {\"color\": \"rgba(50, 171, 96, 0.6)\", \"line\": {\"color\": \"rgba(50, 171, 96, 0.7)\", \"width\": 1}}, \"name\": \"iDreamsky Technology\", \"orientation\": \"v\", \"text\": \"\", \"type\": \"bar\", \"x\": [\"2021-week_33\", \"2021-week_34\", \"2021-week_35\", \"2021-week_36\", \"2021-week_37\", \"2021-week_38\", \"2021-week_39\", \"2021-week_40\", \"2021-week_41\", \"2021-week_42\", \"2021-week_43\", \"2021-week_44\", \"2021-week_45\", \"2021-week_46\", \"2021-week_47\", \"2021-week_48\", \"2021-week_49\", \"2021-week_50\", \"2021-week_51\", \"2022-week_01\", \"2022-week_02\", \"2022-week_03\", \"2022-week_04\", \"2022-week_05\", \"2022-week_06\", \"2022-week_52\"], \"y\": [0.021872387851769294, 0.021153712337346045, 0.035761497251791556, 0.04211257817929118, 0.04175931072818232, 0.05123022234613508, 0.04557436182019978, 0.042759961127308066, 0.032753824756606396, 0.018433500278241515, 0.018932275353240064, 0.020560878383103713, 0.0260387811634349, 0.04494773519163763, 0.08734897930842939, 0.036239933351846706, 0.02483085722257097, 0.02513190780338795, 0.026395939086294416, 0.024261383385470976, 0.021770782777508147, 0.01990640497310889, 0.016356929073571377, 0.016362623590029244, 0.018555841267634997, 0.02366603892027621]}],                        {\"barmode\": \"stack\", \"legend\": {\"bgcolor\": \"#F5F6F9\", \"font\": {\"color\": \"#4D5663\"}, \"traceorder\": \"normal\"}, \"paper_bgcolor\": \"#F5F6F9\", \"plot_bgcolor\": \"#F5F6F9\", \"template\": {\"data\": {\"bar\": [{\"error_x\": {\"color\": \"#2a3f5f\"}, \"error_y\": {\"color\": \"#2a3f5f\"}, \"marker\": {\"line\": {\"color\": \"#E5ECF6\", \"width\": 0.5}}, \"type\": \"bar\"}], \"barpolar\": [{\"marker\": {\"line\": {\"color\": \"#E5ECF6\", \"width\": 0.5}}, \"type\": \"barpolar\"}], \"carpet\": [{\"aaxis\": {\"endlinecolor\": \"#2a3f5f\", \"gridcolor\": \"white\", \"linecolor\": \"white\", \"minorgridcolor\": \"white\", \"startlinecolor\": \"#2a3f5f\"}, \"baxis\": {\"endlinecolor\": \"#2a3f5f\", \"gridcolor\": \"white\", \"linecolor\": \"white\", \"minorgridcolor\": \"white\", \"startlinecolor\": \"#2a3f5f\"}, \"type\": \"carpet\"}], \"choropleth\": [{\"colorbar\": {\"outlinewidth\": 0, \"ticks\": \"\"}, \"type\": \"choropleth\"}], \"contour\": [{\"colorbar\": {\"outlinewidth\": 0, \"ticks\": \"\"}, \"colorscale\": [[0.0, \"#0d0887\"], [0.1111111111111111, \"#46039f\"], [0.2222222222222222, \"#7201a8\"], [0.3333333333333333, \"#9c179e\"], [0.4444444444444444, \"#bd3786\"], [0.5555555555555556, \"#d8576b\"], [0.6666666666666666, \"#ed7953\"], [0.7777777777777778, \"#fb9f3a\"], [0.8888888888888888, \"#fdca26\"], [1.0, \"#f0f921\"]], \"type\": \"contour\"}], \"contourcarpet\": [{\"colorbar\": {\"outlinewidth\": 0, \"ticks\": \"\"}, \"type\": \"contourcarpet\"}], \"heatmap\": [{\"colorbar\": {\"outlinewidth\": 0, \"ticks\": \"\"}, \"colorscale\": [[0.0, \"#0d0887\"], [0.1111111111111111, \"#46039f\"], [0.2222222222222222, \"#7201a8\"], [0.3333333333333333, \"#9c179e\"], [0.4444444444444444, \"#bd3786\"], [0.5555555555555556, \"#d8576b\"], [0.6666666666666666, \"#ed7953\"], [0.7777777777777778, \"#fb9f3a\"], [0.8888888888888888, \"#fdca26\"], [1.0, \"#f0f921\"]], \"type\": \"heatmap\"}], \"heatmapgl\": [{\"colorbar\": {\"outlinewidth\": 0, \"ticks\": \"\"}, \"colorscale\": [[0.0, \"#0d0887\"], [0.1111111111111111, \"#46039f\"], [0.2222222222222222, \"#7201a8\"], [0.3333333333333333, \"#9c179e\"], [0.4444444444444444, \"#bd3786\"], [0.5555555555555556, \"#d8576b\"], [0.6666666666666666, \"#ed7953\"], [0.7777777777777778, \"#fb9f3a\"], [0.8888888888888888, \"#fdca26\"], [1.0, \"#f0f921\"]], \"type\": \"heatmapgl\"}], \"histogram\": [{\"marker\": {\"colorbar\": {\"outlinewidth\": 0, \"ticks\": \"\"}}, \"type\": \"histogram\"}], \"histogram2d\": [{\"colorbar\": {\"outlinewidth\": 0, \"ticks\": \"\"}, \"colorscale\": [[0.0, \"#0d0887\"], [0.1111111111111111, \"#46039f\"], [0.2222222222222222, \"#7201a8\"], [0.3333333333333333, \"#9c179e\"], [0.4444444444444444, \"#bd3786\"], [0.5555555555555556, \"#d8576b\"], [0.6666666666666666, \"#ed7953\"], [0.7777777777777778, \"#fb9f3a\"], [0.8888888888888888, \"#fdca26\"], [1.0, \"#f0f921\"]], \"type\": \"histogram2d\"}], \"histogram2dcontour\": [{\"colorbar\": {\"outlinewidth\": 0, \"ticks\": \"\"}, \"colorscale\": [[0.0, \"#0d0887\"], [0.1111111111111111, \"#46039f\"], [0.2222222222222222, \"#7201a8\"], [0.3333333333333333, \"#9c179e\"], [0.4444444444444444, \"#bd3786\"], [0.5555555555555556, \"#d8576b\"], [0.6666666666666666, \"#ed7953\"], [0.7777777777777778, \"#fb9f3a\"], [0.8888888888888888, \"#fdca26\"], [1.0, \"#f0f921\"]], \"type\": \"histogram2dcontour\"}], \"mesh3d\": [{\"colorbar\": {\"outlinewidth\": 0, \"ticks\": \"\"}, \"type\": \"mesh3d\"}], \"parcoords\": [{\"line\": {\"colorbar\": {\"outlinewidth\": 0, \"ticks\": \"\"}}, \"type\": \"parcoords\"}], \"pie\": [{\"automargin\": true, \"type\": \"pie\"}], \"scatter\": [{\"marker\": {\"colorbar\": {\"outlinewidth\": 0, \"ticks\": \"\"}}, \"type\": \"scatter\"}], \"scatter3d\": [{\"line\": {\"colorbar\": {\"outlinewidth\": 0, \"ticks\": \"\"}}, \"marker\": {\"colorbar\": {\"outlinewidth\": 0, \"ticks\": \"\"}}, \"type\": \"scatter3d\"}], \"scattercarpet\": [{\"marker\": {\"colorbar\": {\"outlinewidth\": 0, \"ticks\": \"\"}}, \"type\": \"scattercarpet\"}], \"scattergeo\": [{\"marker\": {\"colorbar\": {\"outlinewidth\": 0, \"ticks\": \"\"}}, \"type\": \"scattergeo\"}], \"scattergl\": [{\"marker\": {\"colorbar\": {\"outlinewidth\": 0, \"ticks\": \"\"}}, \"type\": \"scattergl\"}], \"scattermapbox\": [{\"marker\": {\"colorbar\": {\"outlinewidth\": 0, \"ticks\": \"\"}}, \"type\": \"scattermapbox\"}], \"scatterpolar\": [{\"marker\": {\"colorbar\": {\"outlinewidth\": 0, \"ticks\": \"\"}}, \"type\": \"scatterpolar\"}], \"scatterpolargl\": [{\"marker\": {\"colorbar\": {\"outlinewidth\": 0, \"ticks\": \"\"}}, \"type\": \"scatterpolargl\"}], \"scatterternary\": [{\"marker\": {\"colorbar\": {\"outlinewidth\": 0, \"ticks\": \"\"}}, \"type\": \"scatterternary\"}], \"surface\": [{\"colorbar\": {\"outlinewidth\": 0, \"ticks\": \"\"}, \"colorscale\": [[0.0, \"#0d0887\"], [0.1111111111111111, \"#46039f\"], [0.2222222222222222, \"#7201a8\"], [0.3333333333333333, \"#9c179e\"], [0.4444444444444444, \"#bd3786\"], [0.5555555555555556, \"#d8576b\"], [0.6666666666666666, \"#ed7953\"], [0.7777777777777778, \"#fb9f3a\"], [0.8888888888888888, \"#fdca26\"], [1.0, \"#f0f921\"]], \"type\": \"surface\"}], \"table\": [{\"cells\": {\"fill\": {\"color\": \"#EBF0F8\"}, \"line\": {\"color\": \"white\"}}, \"header\": {\"fill\": {\"color\": \"#C8D4E3\"}, \"line\": {\"color\": \"white\"}}, \"type\": \"table\"}]}, \"layout\": {\"annotationdefaults\": {\"arrowcolor\": \"#2a3f5f\", \"arrowhead\": 0, \"arrowwidth\": 1}, \"autotypenumbers\": \"strict\", \"coloraxis\": {\"colorbar\": {\"outlinewidth\": 0, \"ticks\": \"\"}}, \"colorscale\": {\"diverging\": [[0, \"#8e0152\"], [0.1, \"#c51b7d\"], [0.2, \"#de77ae\"], [0.3, \"#f1b6da\"], [0.4, \"#fde0ef\"], [0.5, \"#f7f7f7\"], [0.6, \"#e6f5d0\"], [0.7, \"#b8e186\"], [0.8, \"#7fbc41\"], [0.9, \"#4d9221\"], [1, \"#276419\"]], \"sequential\": [[0.0, \"#0d0887\"], [0.1111111111111111, \"#46039f\"], [0.2222222222222222, \"#7201a8\"], [0.3333333333333333, \"#9c179e\"], [0.4444444444444444, \"#bd3786\"], [0.5555555555555556, \"#d8576b\"], [0.6666666666666666, \"#ed7953\"], [0.7777777777777778, \"#fb9f3a\"], [0.8888888888888888, \"#fdca26\"], [1.0, \"#f0f921\"]], \"sequentialminus\": [[0.0, \"#0d0887\"], [0.1111111111111111, \"#46039f\"], [0.2222222222222222, \"#7201a8\"], [0.3333333333333333, \"#9c179e\"], [0.4444444444444444, \"#bd3786\"], [0.5555555555555556, \"#d8576b\"], [0.6666666666666666, \"#ed7953\"], [0.7777777777777778, \"#fb9f3a\"], [0.8888888888888888, \"#fdca26\"], [1.0, \"#f0f921\"]]}, \"colorway\": [\"#636efa\", \"#EF553B\", \"#00cc96\", \"#ab63fa\", \"#FFA15A\", \"#19d3f3\", \"#FF6692\", \"#B6E880\", \"#FF97FF\", \"#FECB52\"], \"font\": {\"color\": \"#2a3f5f\"}, \"geo\": {\"bgcolor\": \"white\", \"lakecolor\": \"white\", \"landcolor\": \"#E5ECF6\", \"showlakes\": true, \"showland\": true, \"subunitcolor\": \"white\"}, \"hoverlabel\": {\"align\": \"left\"}, \"hovermode\": \"closest\", \"mapbox\": {\"style\": \"light\"}, \"paper_bgcolor\": \"white\", \"plot_bgcolor\": \"#E5ECF6\", \"polar\": {\"angularaxis\": {\"gridcolor\": \"white\", \"linecolor\": \"white\", \"ticks\": \"\"}, \"bgcolor\": \"#E5ECF6\", \"radialaxis\": {\"gridcolor\": \"white\", \"linecolor\": \"white\", \"ticks\": \"\"}}, \"scene\": {\"xaxis\": {\"backgroundcolor\": \"#E5ECF6\", \"gridcolor\": \"white\", \"gridwidth\": 2, \"linecolor\": \"white\", \"showbackground\": true, \"ticks\": \"\", \"zerolinecolor\": \"white\"}, \"yaxis\": {\"backgroundcolor\": \"#E5ECF6\", \"gridcolor\": \"white\", \"gridwidth\": 2, \"linecolor\": \"white\", \"showbackground\": true, \"ticks\": \"\", \"zerolinecolor\": \"white\"}, \"zaxis\": {\"backgroundcolor\": \"#E5ECF6\", \"gridcolor\": \"white\", \"gridwidth\": 2, \"linecolor\": \"white\", \"showbackground\": true, \"ticks\": \"\", \"zerolinecolor\": \"white\"}}, \"shapedefaults\": {\"line\": {\"color\": \"#2a3f5f\"}}, \"ternary\": {\"aaxis\": {\"gridcolor\": \"white\", \"linecolor\": \"white\", \"ticks\": \"\"}, \"baxis\": {\"gridcolor\": \"white\", \"linecolor\": \"white\", \"ticks\": \"\"}, \"bgcolor\": \"#E5ECF6\", \"caxis\": {\"gridcolor\": \"white\", \"linecolor\": \"white\", \"ticks\": \"\"}}, \"title\": {\"x\": 0.05}, \"xaxis\": {\"automargin\": true, \"gridcolor\": \"white\", \"linecolor\": \"white\", \"ticks\": \"\", \"title\": {\"standoff\": 15}, \"zerolinecolor\": \"white\", \"zerolinewidth\": 2}, \"yaxis\": {\"automargin\": true, \"gridcolor\": \"white\", \"linecolor\": \"white\", \"ticks\": \"\", \"title\": {\"standoff\": 15}, \"zerolinecolor\": \"white\", \"zerolinewidth\": 2}}}, \"title\": {\"font\": {\"color\": \"#4D5663\"}}, \"xaxis\": {\"gridcolor\": \"#E1E5ED\", \"showgrid\": true, \"tickfont\": {\"color\": \"#4D5663\"}, \"title\": {\"font\": {\"color\": \"#4D5663\"}, \"text\": \"\"}, \"zerolinecolor\": \"#E1E5ED\"}, \"yaxis\": {\"gridcolor\": \"#E1E5ED\", \"showgrid\": true, \"tickfont\": {\"color\": \"#4D5663\"}, \"title\": {\"font\": {\"color\": \"#4D5663\"}, \"text\": \"\"}, \"zerolinecolor\": \"#E1E5ED\"}},                        {\"showLink\": true, \"linkText\": \"Export to plot.ly\", \"plotlyServerURL\": \"https://plot.ly\", \"responsive\": true}                    ).then(function(){\n",
       "                            \n",
       "var gd = document.getElementById('87e783d2-8496-4ebd-b03e-132298be48dd');\n",
       "var x = new MutationObserver(function (mutations, observer) {{\n",
       "        var display = window.getComputedStyle(gd).display;\n",
       "        if (!display || display === 'none') {{\n",
       "            console.log([gd, 'removed!']);\n",
       "            Plotly.purge(gd);\n",
       "            observer.disconnect();\n",
       "        }}\n",
       "}});\n",
       "\n",
       "// Listen for the removal of the full notebook cells\n",
       "var notebookContainer = gd.closest('#notebook-container');\n",
       "if (notebookContainer) {{\n",
       "    x.observe(notebookContainer, {childList: true});\n",
       "}}\n",
       "\n",
       "// Listen for the clearing of the current output cell\n",
       "var outputEl = gd.closest('.output');\n",
       "if (outputEl) {{\n",
       "    x.observe(outputEl, {childList: true});\n",
       "}}\n",
       "\n",
       "                        })                };                });            </script>        </div>"
      ]
     },
     "metadata": {},
     "output_type": "display_data"
    }
   ],
   "source": []
  },
  {
   "cell_type": "markdown",
   "id": "a0a44ecb-56c0-4341-94f7-0642ebf71d85",
   "metadata": {},
   "source": [
    "## Appendix"
   ]
  },
  {
   "cell_type": "markdown",
   "id": "0f8d9f04-e707-42ed-b09c-8edbf46a820e",
   "metadata": {},
   "source": [
    "Code to create weekly files:"
   ]
  },
  {
   "cell_type": "code",
   "execution_count": 67,
   "id": "4d91c99c-0649-459d-ae1c-5b7cce5a6177",
   "metadata": {},
   "outputs": [],
   "source": [
    "# for l in ad_recs_annotated.region.unique():\n",
    "#     for w in ad_recs_annotated.week_id.unique():\n",
    "#         w_id = w.split('_')[1]\n",
    "#         y = w.split('-')[0]\n",
    "#         query = f'week_id == \"{w}\" and region == \"{l}\"'\n",
    "#         sample_f_name = f'{y}_{w_id}_{l}__Sample.csv'\n",
    "#         ad_recs_annotated.query(query)[['week_id','ad_id','requester','region','recommendation_type', 'rec_provider']].to_csv(f'data/weekly/{sample_f_name}', index=False)\n",
    "#         for s in ad_recs_annotated.recommendation_type.unique():\n",
    "#             ann_f_name = f'{y}_{w_id}_{l}_{s}_annotation_result.csv'\n",
    "#             query = f'week_id == \"{w}\" and region == \"{l}\" and recommendation_type == \"{s}\"'\n",
    "#             sss = ad_recs_annotated.query(query)\n",
    "#             if sss.empty:\n",
    "#                 continue            \n",
    "#             sss[['region','ad_id','is_success','is_sever']].drop_duplicates(subset=['ad_id']).to_csv(f'data/weekly/{ann_f_name}', index=False)"
   ]
  }
 ],
 "metadata": {
  "kernelspec": {
   "display_name": "Python 3 (ipykernel)",
   "language": "python",
   "name": "python3"
  },
  "language_info": {
   "codemirror_mode": {
    "name": "ipython",
    "version": 3
   },
   "file_extension": ".py",
   "mimetype": "text/x-python",
   "name": "python",
   "nbconvert_exporter": "python",
   "pygments_lexer": "ipython3",
   "version": "3.9.7"
  }
 },
 "nbformat": 4,
 "nbformat_minor": 5
}
